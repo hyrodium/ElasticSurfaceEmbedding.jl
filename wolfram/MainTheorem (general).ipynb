{
 "cells": [
  {
   "cell_type": "markdown",
   "id": "38430200",
   "metadata": {},
   "source": [
    "# Main Theorem of Elastic Surface Embedding\n",
    "In the general case\n",
    "\n",
    "## Geometry of reference state"
   ]
  },
  {
   "cell_type": "code",
   "execution_count": null,
   "id": "0132af7c",
   "metadata": {},
   "outputs": [],
   "source": [
    "(* Riemannian metric *)\n",
    "g₍₀₎₁₁[u¹_, u²_] = 1 - 2 𝜅₍₀₎[u¹] u² + (𝜅₍₀₎[u¹]^2 - 𝐾₍₀₎[u¹]) u²^2 + O[u²]^3;\n",
    "g₍₀₎₁₂[u¹_, u²_] = 0;\n",
    "g₍₀₎₂₁[u¹_, u²_] = 0;\n",
    "g₍₀₎₂₂[u¹_, u²_] = 1;\n",
    "g₍₀₎[u¹_, u²_] = {{g₍₀₎₁₁[u¹, u²],g₍₀₎₁₂[u¹, u²]},{g₍₀₎₂₁[u¹, u²],g₍₀₎₂₂[u¹, u²]}};\n",
    "\n",
    "(* Normalize *)\n",
    "g₍₀₎⁽⁰⁾₁₁[u¹_, u²_] = 1;\n",
    "g₍₀₎⁽⁰⁾₁₂[u¹_, u²_] = 0;\n",
    "g₍₀₎⁽⁰⁾₂₁[u¹_, u²_] = 0;\n",
    "g₍₀₎⁽⁰⁾₂₂[u¹_, u²_] = 1;\n",
    "g₍₀₎⁽⁰⁾[u¹_, u²_] = {{g₍₀₎⁽⁰⁾₁₁[u¹, u²],g₍₀₎⁽⁰⁾₁₂[u¹, u²]},{g₍₀₎⁽⁰⁾₂₁[u¹, u²],g₍₀₎⁽⁰⁾₂₂[u¹, u²]}};\n",
    "\n",
    "(* Volume form *)\n",
    "𝝊₍₀₎[u¹_, u²_] = Sqrt[Det[g₍₀₎[u¹, u²]]];"
   ]
  },
  {
   "cell_type": "markdown",
   "id": "e2646173",
   "metadata": {},
   "source": [
    "## Geometry of current state"
   ]
  },
  {
   "cell_type": "code",
   "execution_count": null,
   "id": "f8b98c0f",
   "metadata": {},
   "outputs": [],
   "source": [
    "(* Embedding M₍₀₎ to 2-dim Euclidean space *)\n",
    "𝒑₍ₜ₎[u¹_, u²_, β_] = 𝒄₍ₜ₎[u¹, β] + 𝜉[u¹, u², β]𝒆₁[u¹, β] + 𝜂[u¹, u², β]𝒆₂[u¹, β];\n",
    "Derivative[1,0][𝒄₍ₜ₎][𝜏_, β_] = s₍ₜ₎[𝜏, β]𝒆₁[𝜏, β];\n",
    "Derivative[1,0][𝒆₁][𝜏_, β_] = 𝜅₍ₜ₎[𝜏, β]𝒆₂[𝜏, β];\n",
    "Derivative[1,0][𝒆₂][𝜏_, β_] = -𝜅₍ₜ₎[𝜏, β]𝒆₁[𝜏, β];\n",
    "𝜉[u¹_, 0, β_] = 0;\n",
    "𝜂[u¹_, 0, β_] = 0;\n",
    "Derivative[i_,0,0][𝜉][u¹_, 0, β_] = 0;\n",
    "Derivative[i_,0,0][𝜂][u¹_, 0, β_] = 0;\n",
    "\n",
    "(* Tangent vector *)\n",
    "𝒑₍ₜ₎₁[u¹_, u²_, β_] = D[𝒑₍ₜ₎[u¹, u², β], u¹];\n",
    "𝒑₍ₜ₎₂[u¹_, u²_, β_] = D[𝒑₍ₜ₎[u¹, u², β], u²];\n",
    "\n",
    "(* Riemannian metric *)\n",
    "tmp1[u¹_, u²_, β_] = 𝒑₍ₜ₎₁[u¹, u², β]/.{𝒆₁[u¹, β] -> {1,0}, 𝒆₂[u¹, β] -> {0,1}};\n",
    "tmp2[u¹_, u²_, β_] = 𝒑₍ₜ₎₂[u¹, u², β]/.{𝒆₁[u¹, β] -> {1,0}, 𝒆₂[u¹, β] -> {0,1}};\n",
    "g₍ₜ₎₁₁[u¹_, u²_, β_] = tmp1[u¹, u², β].tmp1[u¹, u², β];\n",
    "g₍ₜ₎₁₂[u¹_, u²_, β_] = tmp1[u¹, u², β].tmp2[u¹, u², β];\n",
    "g₍ₜ₎₂₁[u¹_, u²_, β_] = tmp2[u¹, u², β].tmp1[u¹, u², β];\n",
    "g₍ₜ₎₂₂[u¹_, u²_, β_] = tmp2[u¹, u², β].tmp2[u¹, u², β];\n",
    "g₍ₜ₎[u¹_, u²_, β_] = {{g₍ₜ₎₁₁[u¹, u², β],g₍ₜ₎₁₂[u¹, u², β]},{g₍ₜ₎₂₁[u¹, u², β],g₍ₜ₎₂₂[u¹, u², β]}};\n",
    "\n",
    "(* Normalize *)\n",
    "g₍ₜ₎⁽⁰⁾₁₁[u¹_, u²_, β_] = g₍ₜ₎₁₁[u¹, u², β] / g₍₀₎₁₁[u¹, u²];\n",
    "g₍ₜ₎⁽⁰⁾₁₂[u¹_, u²_, β_] = g₍ₜ₎₁₂[u¹, u², β] / Sqrt[g₍₀₎₁₁[u¹, u²]];\n",
    "g₍ₜ₎⁽⁰⁾₂₁[u¹_, u²_, β_] = g₍ₜ₎₂₁[u¹, u², β] / Sqrt[g₍₀₎₁₁[u¹, u²]];\n",
    "g₍ₜ₎⁽⁰⁾₂₂[u¹_, u²_, β_] = g₍ₜ₎₂₂[u¹, u², β];\n",
    "g₍ₜ₎⁽⁰⁾[u¹_, u²_, β_] = {{g₍ₜ₎⁽⁰⁾₁₁[u¹, u², β],g₍ₜ₎⁽⁰⁾₁₂[u¹, u², β]},{g₍ₜ₎⁽⁰⁾₂₁[u¹, u², β],g₍ₜ₎⁽⁰⁾₂₂[u¹, u², β]}};"
   ]
  },
  {
   "cell_type": "markdown",
   "id": "3cdd3469",
   "metadata": {},
   "source": [
    "## Symbol definition"
   ]
  },
  {
   "cell_type": "code",
   "execution_count": null,
   "id": "2203ed97",
   "metadata": {},
   "outputs": [],
   "source": [
    "(* Symbol definition for simplicity *)\n",
    "symbols={\n",
    "    (* For Gaussian Curvature *)\n",
    "    Derivative[i_,j_,0][𝜉][u,v,β] :> Symbol[\"𝜉\"<>ToString[i]<>ToString[j]],\n",
    "    Derivative[i_,j_,0][𝜂][u,v,β] :> Symbol[\"𝜂\"<>ToString[i]<>ToString[j]],\n",
    "    Derivative[i_,0][𝜅₍ₜ₎][u,β] :> Symbol[\"𝜅\"<>ToString[i]],\n",
    "    Derivative[i_,0][s₍ₜ₎][u,β] :> Symbol[\"s\"<>ToString[i]],\n",
    "    𝜂[u,v,β] :> 𝜂00,\n",
    "    𝜉[u,v,β] :> 𝜉00,\n",
    "    𝜅₍ₜ₎[u,β] :> 𝜅0,\n",
    "    s₍ₜ₎[u,β] :> s0,\n",
    "    \n",
    "    (* For Energy Minimization *)\n",
    "    Derivative[i_,j_,k_][𝜉][s,0,0] :> Symbol[\"𝜉\"<>ToString[i]<>ToString[j]<>ToString[k]],\n",
    "    Derivative[i_,j_,k_][𝜂][s,0,0] :> Symbol[\"𝜂\"<>ToString[i]<>ToString[j]<>ToString[k]],\n",
    "    Derivative[i_,j_][𝜅₍ₜ₎][s,0] :> Symbol[\"𝜅\"<>ToString[i]<>ToString[j]],\n",
    "    Derivative[i_,j_][s₍ₜ₎][s,0] :> Symbol[\"s\"<>ToString[i]<>ToString[j]],\n",
    "    𝜅₍ₜ₎[s,0] :> 𝜅00,\n",
    "    s₍ₜ₎[s,0] :> s00\n",
    "};\n",
    "\n",
    "(* Symbol definition for latex generation *)\n",
    "xi = Table[\n",
    "    \"\\\\text{$\"<>ToString[TeXForm[𝜉]]<>\"$\"<>ToString[i]<>ToString[j]<>ToString[k]<>\"}\" -> \"{\\\\xi^{(\"<>ToString[i]<>\",\"<>ToString[j]<>\",\"<>ToString[k]<>\")}}\",\n",
    "    {i,0,5},{j,0,5},{k,0,5}\n",
    "];\n",
    "eta = Table[\n",
    "    \"\\\\text{$\"<>ToString[TeXForm[𝜂]]<>\"$\"<>ToString[i]<>ToString[j]<>ToString[k]<>\"}\" -> \"{\\\\eta^{(\"<>ToString[i]<>\",\"<>ToString[j]<>\",\"<>ToString[k]<>\")}}\",\n",
    "    {i,0,5},{j,0,5},{k,0,5}\n",
    "];\n",
    "kappat = Table[\n",
    "    \"\\\\text{$\"<>ToString[TeXForm[𝜅]]<>\"$\"<>ToString[i]<>ToString[j]<>\"}\" -> \"{\\\\kappa_{[t]}^{(\"<>ToString[i]<>\",\"<>ToString[j]<>\")}}\",\n",
    "    {i,0,5},{j,0,5}\n",
    "];\n",
    "kappa0 = {ToString[TeXForm[𝜅₍₀₎]] -> \"\\\\kappa_{[0]]}\"};\n",
    "gaussian0 = {ToString[TeXForm[𝐾₍₀₎]] -> \"K_{[0]]}\"};\n",
    "velocity = Table[\n",
    "    \"\\\\text{s\"<>ToString[i]<>ToString[j]<>\"}\" -> \"{s_{[t]}^{(\"<>ToString[i]<>\",\"<>ToString[j]<>\")}}\",\n",
    "    {i,0,5},{j,0,5}\n",
    "];\n",
    "nu = {ToString[TeXForm[𝜈]] -> \"{\\\\nu}\"};\n",
    "orig = {\n",
    "    ToString[TeXForm[𝒆₁[u¹, β]]] -> \"\\\\bm{e}_{1}\",\n",
    "    ToString[TeXForm[𝒆₂[u¹, β]]] -> \"\\\\bm{e}_{2}\",\n",
    "    ToString[TeXForm[𝜉[u¹, u², β]]] -> \"\\\\xi\",\n",
    "    ToString[TeXForm[𝜂[u¹, u², β]]] -> \"\\\\eta\",\n",
    "    ToString[TeXForm[D[𝜉[u¹, u², β],u¹]]] -> \"\\\\xi_1\",\n",
    "    ToString[TeXForm[D[𝜂[u¹, u², β],u¹]]] -> \"\\\\eta_1\",\n",
    "    ToString[TeXForm[D[𝜉[u¹, u², β],u²]]] -> \"\\\\xi_2\",\n",
    "    ToString[TeXForm[D[𝜂[u¹, u², β],u²]]] -> \"\\\\eta_2\",\n",
    "    ToString[TeXForm[𝜅₍ₜ₎[u¹, β]]] -> \"\\\\kappa_{[t]}\",\n",
    "    ToString[TeXForm[s₍ₜ₎[u¹, β]]] -> \"\\\\s_{[t]}\"\n",
    "    };\n",
    "latexsymbols = {xi, eta, kappa0, kappat, gaussian0, nu, velocity, orig}//Flatten;\n",
    "\n",
    "GenerateTeX[a_] := StringReplace[ToString[TeXForm[a]],latexsymbols]"
   ]
  },
  {
   "cell_type": "markdown",
   "id": "fec9b1cf",
   "metadata": {},
   "source": [
    "## Check Gaussian curvature of current state embedding is equals to zero"
   ]
  },
  {
   "cell_type": "code",
   "execution_count": null,
   "id": "f81b0a53",
   "metadata": {},
   "outputs": [],
   "source": [
    "(* Brioschi Formula *)\n",
    "𝐸 = g₍ₜ₎₁₁[u, v, β];\n",
    "𝐹 = g₍ₜ₎₁₂[u, v, β];\n",
    "𝐺 = g₍ₜ₎₂₂[u, v, β];\n",
    "𝐸u = D[𝐸, {u,1}];\n",
    "𝐸v = D[𝐸, {v,1}];\n",
    "𝐹u = D[𝐹, {u,1}];\n",
    "𝐹v = D[𝐹, {v,1}];\n",
    "𝐺u = D[𝐺, {u,1}];\n",
    "𝐺v = D[𝐺, {v,1}];\n",
    "𝐸vv = D[𝐸, {v,2}];\n",
    "𝐹uv = D[𝐹, {u,1}, {v,1}];\n",
    "𝐺uu = D[𝐺, {u,2}];\n",
    "𝐾₍ₜ₎ = (Det[{{𝐹uv-(𝐸vv+𝐺uu)/2, 𝐸u/2, 𝐹u-𝐸v/2}, {𝐹v-𝐺u/2, 𝐸, 𝐹}, {𝐺v/2, 𝐹, 𝐺}}]-Det[{{0, 𝐸v/2, 𝐺u/2}, {𝐸v/2, 𝐸, 𝐹}, {𝐺u/2, 𝐹, 𝐺}}]) / (𝐸 𝐺-𝐹^2)^2;\n",
    "rand = {𝜉00->RandomReal[],𝜉10->RandomReal[],𝜉01->RandomReal[],𝜉20->RandomReal[],𝜉11->RandomReal[],𝜉02->RandomReal[],𝜉30->RandomReal[],𝜉21->RandomReal[],𝜉12->RandomReal[],𝜉03->RandomReal[],𝜂00->RandomReal[],𝜂10->RandomReal[],𝜂01->RandomReal[],𝜂20->RandomReal[],𝜂11->RandomReal[],𝜂02->RandomReal[],𝜂30->RandomReal[],𝜂21->RandomReal[],𝜂12->RandomReal[],𝜂03->RandomReal[],𝜅0->RandomReal[],𝜅1->RandomReal[],𝜅2->RandomReal[],s0->RandomReal[],s1->RandomReal[],s2->RandomReal[]};\n",
    "Print[\"Gaussian curvature: \", 𝐾₍ₜ₎/.symbols/.rand]"
   ]
  },
  {
   "cell_type": "markdown",
   "id": "282d3ae9",
   "metadata": {},
   "source": [
    "## Strain tensor, strain energy density"
   ]
  },
  {
   "cell_type": "code",
   "execution_count": null,
   "id": "5cc14890",
   "metadata": {},
   "outputs": [],
   "source": [
    "(* Strain tensor *)\n",
    "E⁽⁰⁾₁₁[u¹_, u²_, β_] = (g₍ₜ₎⁽⁰⁾₁₁[u¹, u², β] - g₍₀₎⁽⁰⁾₁₁[u¹, u²])/2;\n",
    "E⁽⁰⁾₁₂[u¹_, u²_, β_] = (g₍ₜ₎⁽⁰⁾₁₂[u¹, u², β] - g₍₀₎⁽⁰⁾₁₂[u¹, u²])/2;\n",
    "E⁽⁰⁾₂₁[u¹_, u²_, β_] = (g₍ₜ₎⁽⁰⁾₂₁[u¹, u², β] - g₍₀₎⁽⁰⁾₂₁[u¹, u²])/2;\n",
    "E⁽⁰⁾₂₂[u¹_, u²_, β_] = (g₍ₜ₎⁽⁰⁾₂₂[u¹, u², β] - g₍₀₎⁽⁰⁾₂₂[u¹, u²])/2;\n",
    "E⁽⁰⁾[u¹_, u²_, β_] = {{E⁽⁰⁾₁₁[u¹, u², β],E⁽⁰⁾₁₂[u¹, u², β]},{E⁽⁰⁾₂₁[u¹, u², β],E⁽⁰⁾₂₂[u¹, u², β]}}; (* + O[β]^3 *)\n",
    "\n",
    "(* Lamé constant *)\n",
    "d = 2;\n",
    "𝜆 = 𝜈*Y/((1+𝜈)(1-(d-1)𝜈));\n",
    "𝜇 = Y/(2(1+𝜈));\n",
    "𝛿 = KroneckerDelta;\n",
    "C⁽⁰⁾ = Table[𝜆 𝛿[i,j] 𝛿[k,l] + 𝜇(𝛿[i,k] 𝛿[j,l] + 𝛿[i,l] 𝛿[j,k]), {i,1,d}, {j,1,d}, {k,1,d}, {l,1,d}];\n",
    "\n",
    "(* Strain energy density *)\n",
    "𝝊₍₀₎ᵦ[s_, r_] = ((Normal[𝝊₍₀₎[u¹, u²]]/.{u¹->s, u²->β B[s] r}) + O[β]^3) β B[s];\n",
    "𝒲ᵦ[s_, r_, E⁽⁰⁾ᵦ_] := (1/2)*Sum[C⁽⁰⁾[[i,j,k,l]]*E⁽⁰⁾ᵦ[s, r][[i,j]]*E⁽⁰⁾ᵦ[s, r][[k,l]], {i,1,d}, {j,1,d}, {k,1,d}, {l,1,d}] 𝝊₍₀₎ᵦ[s, r];\n",
    "(* 𝒲[u¹_, u²_, β_] = (1/2)*Sum[C⁽⁰⁾[[i,j,k,l]]*E⁽⁰⁾[u¹, u², β][[i,j]]*E⁽⁰⁾[u¹, u², β][[k,l]], {i,1,d}, {j,1,d}, {k,1,d}, {l,1,d}]*𝝊₍₀₎[u¹, u²]; *)"
   ]
  },
  {
   "cell_type": "markdown",
   "id": "70b8b0f4",
   "metadata": {},
   "source": [
    "## Minimization of strain energy\n",
    "\n",
    "```\n",
    "W = Integrate[𝒲[u¹, u², β], {u¹, I_min, I_max}, {u², -β B[u¹], β B[u¹]}]\n",
    "  = Integrate[𝒲ᵦ[s, r], {r, -1, 1}, {s, I_min, I_max}]\n",
    "  = Integrate[𝒲ᵦ[s], {s, I_min, I_max}]\n",
    "  = Integrate[a0 + a1 β^1 + ... + an β^n / n!, {s, I_min, I_max}]\n",
    "```"
   ]
  },
  {
   "cell_type": "code",
   "execution_count": null,
   "id": "24cfeff7",
   "metadata": {},
   "outputs": [],
   "source": [
    "𝒲ᵦ[s_, E⁽⁰⁾ᵦ_] := Integrate[Normal[𝒲ᵦ[s, r, E⁽⁰⁾ᵦ]], {r, -1, 1}];"
   ]
  },
  {
   "cell_type": "markdown",
   "id": "56c0c6fa",
   "metadata": {},
   "source": [
    "### 0th differential coefficient\n",
    "#### Solution"
   ]
  },
  {
   "cell_type": "code",
   "execution_count": null,
   "id": "f6f507a8",
   "metadata": {},
   "outputs": [],
   "source": [
    "E⁽⁰⁾ᵦ[s_, r_] = (Normal[E⁽⁰⁾[u¹, u², β]]/.{u¹->s, u²->β B[s] r}) + O[β]^3;\n",
    "E0[s_, r_] = E⁽⁰⁾ᵦ[s, r]/.symbols;\n",
    "a0 = D[𝒲ᵦ[s,E0],{β,0}]/.{β->0};\n",
    "GenerateTeX[a0]"
   ]
  },
  {
   "cell_type": "code",
   "execution_count": null,
   "id": "de807a2c",
   "metadata": {},
   "outputs": [],
   "source": [
    "solution0 = {};\n",
    "a0/.solution0"
   ]
  },
  {
   "cell_type": "markdown",
   "id": "4e584777",
   "metadata": {},
   "source": [
    "### 1st differential coefficient\n",
    "#### Solution"
   ]
  },
  {
   "cell_type": "code",
   "execution_count": null,
   "id": "414981cf",
   "metadata": {},
   "outputs": [],
   "source": [
    "E1[s_, r_] = E0[s, r]/.solution0//FullSimplify;\n",
    "a1 = D[𝒲ᵦ[s,E1],{β,1}]/.{β->0};\n",
    "a1/.solution0\n",
    "CopyToClipboard[GenerateTeX[a1/.solution0]]"
   ]
  },
  {
   "cell_type": "markdown",
   "id": "4ac9bf54",
   "metadata": {},
   "source": [
    "$$\n",
    "-\\frac{Y B(s) \\left(-2 {\\nu} \\left({\\eta^{(0,1,0)}}^2+{\\xi^{(0,1,0)}}^2-1\\right)+2 {\\nu} \\left({\\eta^{(0,1,0)}}^2-1\\right) {s_{[t]}^{(0,0)}}^2+{\\eta^{(0,1,0)}}^4+2 {\\eta^{(0,1,0)}}^2 \\left({\\xi^{(0,1,0)}}^2-1\\right)+\\left({\\xi^{(0,1,0)}}^2+{s_{[t]}^{(0,0)}}^2\\right)^2-2 \\left({\\xi^{(0,1,0)}}^2+{s_{[t]}^{(0,0)}}^2-1\\right)\\right)}{4 \\left({\\nu}^2-1\\right)}\n",
    "$$"
   ]
  },
  {
   "cell_type": "code",
   "execution_count": null,
   "id": "46b21205",
   "metadata": {},
   "outputs": [],
   "source": [
    "solution1 = {𝜉010->0, 𝜂010->1, s00->1};\n",
    "a1/.solution1"
   ]
  },
  {
   "cell_type": "markdown",
   "id": "49b0c462",
   "metadata": {},
   "source": [
    "#### Calculation note (can be skipped)"
   ]
  },
  {
   "cell_type": "code",
   "execution_count": null,
   "id": "506fbf4e",
   "metadata": {},
   "outputs": [],
   "source": [
    "(* Simplify *)\n",
    "A1 = a1*4*(1-𝜈^2)/Y/B[s]/.symbols/.solution0//FullSimplify;\n",
    "\n",
    "(* Replace variable *)\n",
    "Α1 = y^2+x^2+s^2+2x(s-1-𝜈)+2(1+𝜈)-2s(1+𝜈)+2y(-1+x+(s-1)𝜈);\n",
    "A1symbols = {x -> 𝜉010^2, y -> 𝜂010^2, s -> s00^2};\n",
    "Print[\"Replacement check: \", A1 == Α1/.A1symbols//FullSimplify]\n",
    "\n",
    "(* TODO: Calcurate grad *)\n",
    "(* TODO: Calcurate Hesse matrix *)\n",
    "(* TODO: Get the solution *)"
   ]
  },
  {
   "cell_type": "markdown",
   "id": "26cf74c9",
   "metadata": {},
   "source": [
    "### 2nd differential coefficient\n",
    "#### Solution"
   ]
  },
  {
   "cell_type": "code",
   "execution_count": null,
   "id": "cb46c510",
   "metadata": {},
   "outputs": [],
   "source": [
    "E2[s_, r_] = E1[s, r]/.solution1//FullSimplify;\n",
    "a2 = D[𝒲ᵦ[s,E2],{β,2}]/.{β->0};\n",
    "a2/.solution0/.solution1"
   ]
  },
  {
   "cell_type": "code",
   "execution_count": null,
   "id": "440bbe40",
   "metadata": {},
   "outputs": [],
   "source": [
    "solution2 = {};\n",
    "a2/.solution2"
   ]
  },
  {
   "cell_type": "markdown",
   "id": "c80ab59f",
   "metadata": {},
   "source": [
    "### 3rd differential coefficient\n",
    "#### Solution"
   ]
  },
  {
   "cell_type": "code",
   "execution_count": null,
   "id": "d590ecdb",
   "metadata": {},
   "outputs": [],
   "source": [
    "E3[s_, r_] = E2[s, r]/.solution2//FullSimplify;\n",
    "a3 = D[𝒲ᵦ[s,E3],{β,3}]/.{β->0};\n",
    "a3/.solution0/.solution1/.solution2/.{𝜉110->0, 𝜂110->0}\n",
    "CopyToClipboard[GenerateTeX[a3/.solution0/.solution1/.solution2/.{𝜉110->0, 𝜂110->0}]]"
   ]
  },
  {
   "cell_type": "markdown",
   "id": "3c2de187",
   "metadata": {},
   "source": [
    "$$\n",
    "\\frac{Y B(s) \\left(4 {\\nu} \\left({\\eta^{(0,2,0)}} B(s)^2 (\\kappa_{[0]]}(s)-{\\kappa_{[t]}^{(0,0)}})+3 {\\eta^{(0,1,1)}} \\text{v01}\\right)-({\\nu}-1) \\left(3 {\\xi^{(0,1,1)}}^2+{\\xi^{(0,2,0)}}^2 B(s)^2\\right)+2 \\left(B(s)^2 (\\kappa_{[0]]}(s)-{\\kappa_{[t]}^{(0,0)}})^2+3 \\text{v01}^2\\right)+6 {\\eta^{(0,1,1)}}^2+2 {\\eta^{(0,2,0)}}^2 B(s)^2\\right)}{1-{\\nu}^2}\n",
    "$$"
   ]
  },
  {
   "cell_type": "code",
   "execution_count": null,
   "id": "640ede16",
   "metadata": {},
   "outputs": [],
   "source": [
    "solution3 = {𝜉110->0, 𝜂110->0, 𝜉011->0, 𝜉020->0, 𝜂011->0, 𝜂020->0, 𝜅00->𝜅₍₀₎[s], s01->0};\n",
    "a3/.solution3"
   ]
  },
  {
   "cell_type": "markdown",
   "id": "4176d5f2",
   "metadata": {},
   "source": [
    "#### Calculation note (can be skipped)"
   ]
  },
  {
   "cell_type": "code",
   "execution_count": null,
   "id": "801f5c8d",
   "metadata": {},
   "outputs": [],
   "source": [
    "(* Simplify *)\n",
    "A3 = a3*(1-𝜈^2)/Y/B[s]/.symbols/.solution0/.solution1/.solution2/.{𝜉110->0, 𝜂110->0}//FullSimplify;\n",
    "\n",
    "(* Check its Hesse matrix is positive-definite *)\n",
    "variables3 = {𝜉011, 𝜉020, 𝜂011, 𝜂020, 𝜅00, s01};\n",
    "gradA3 = Grad[A3, variables3]//Simplify;\n",
    "hesseA3 = Grad[gradA3, variables3]//Simplify;\n",
    "Eigenvalues[hesseA3];\n",
    "Solve[gradA3 == {0,0,0,0,0,0}, variables3]"
   ]
  },
  {
   "cell_type": "markdown",
   "id": "970915bd",
   "metadata": {},
   "source": [
    "### 4th differential coefficient\n",
    "#### Solution"
   ]
  },
  {
   "cell_type": "code",
   "execution_count": null,
   "id": "b91ca44b",
   "metadata": {},
   "outputs": [],
   "source": [
    "E4[s_, r_] = E3[s, r]/.solution3//FullSimplify;\n",
    "a4 = D[𝒲ᵦ[s,E4],{β,4}]/.{β->0};\n",
    "GenerateTeX[a3/.solution0/.solution1/.solution2/.solution3]"
   ]
  },
  {
   "cell_type": "code",
   "execution_count": null,
   "id": "cc65783a",
   "metadata": {},
   "outputs": [],
   "source": [
    "solution4 = {};\n",
    "a4/.solution4"
   ]
  },
  {
   "cell_type": "markdown",
   "id": "83f2ffc6",
   "metadata": {},
   "source": [
    "### 5th differential coefficient\n",
    "#### Solution"
   ]
  },
  {
   "cell_type": "code",
   "execution_count": null,
   "id": "6a67ec93",
   "metadata": {},
   "outputs": [],
   "source": [
    "E5[s_, r_] = E4[s, r]/.solution4//FullSimplify;\n",
    "a5 = D[𝒲ᵦ[s,E5],{β,5}]/.{β->0};\n",
    "CopyToClipboard[GenerateTeX[a5/.solution0/.solution1/.solution2/.solution3/.solution4/.{𝜉111->0, 𝜉120->0, 𝜂111->0, 𝜂120->0}//FullSimplify]]"
   ]
  },
  {
   "cell_type": "markdown",
   "id": "e3e037f8",
   "metadata": {},
   "source": [
    "$$\n",
    "\\frac{Y B(s) \\left(-10 B(s)^2 \\left(2 K_{[0]]}(s) ({\\nu} {\\eta^{(0,1,2)}}+{s_{[t]}^{(0,2)}})-8 {\\nu} {\\kappa_{[t]}^{(0,1)}} {\\eta^{(0,2,1)}}+2 {\\eta^{(0,3,0)}} ({\\nu} {s_{[t]}^{(0,2)}}+{\\eta^{(0,1,2)}})-({\\nu}-1) {\\xi^{(0,1,2)}} {\\xi^{(0,3,0)}}-2 ({\\nu}-1) {\\xi^{(0,2,1)}}^2+4 {\\kappa_{[t]}^{(0,1)}}^2+4 {\\eta^{(0,2,1)}}^2\\right)-3 B(s)^4 \\left(2 K_{[0]]}(s) (2 {\\nu} {\\eta^{(0,3,0)}}+K_{[0]]}(s))-({\\nu}-1) {\\xi^{(0,3,0)}}^2+2 {\\eta^{(0,3,0)}}^2\\right)-30 \\left(2 {\\nu} {\\eta^{(0,1,2)}} {s_{[t]}^{(0,2)}}+{\\eta^{(0,1,2)}}^2+{s_{[t]}^{(0,2)}}^2\\right)+15 ({\\nu}-1) {\\xi^{(0,1,2)}}^2\\right)}{{\\nu}^2-1}\n",
    "$$"
   ]
  },
  {
   "cell_type": "code",
   "execution_count": null,
   "id": "55b479c7",
   "metadata": {},
   "outputs": [],
   "source": [
    "solution5 = {𝜉111->0, 𝜉120->0, 𝜂111->0, 𝜂120->0, 𝜉012->0, 𝜉021->0, 𝜉030->0, 𝜂012->𝜈 B[s]^2 𝐾₍₀₎[s]/3, 𝜂021->0, 𝜂030->-𝜈 𝐾₍₀₎[s], 𝜅01->0, s02->-B[s]^2 𝐾₍₀₎[s]/3};\n",
    "a5/.solution5//Simplify"
   ]
  },
  {
   "cell_type": "markdown",
   "id": "d402a701",
   "metadata": {},
   "source": [
    "#### Calculation note (can be skipped)"
   ]
  },
  {
   "cell_type": "code",
   "execution_count": null,
   "id": "86d482bb",
   "metadata": {},
   "outputs": [],
   "source": [
    "(* Simplify *)\n",
    "A5 = a5*2*(1-𝜈^2)/Y/B[s]/15/.{𝜉111->0, 𝜉120->0, 𝜂111->0, 𝜂120->0}//FullSimplify;\n",
    "\n",
    "(* Check its Hesse matrix is positive-definite *)\n",
    "variables5 = {𝜉012, 𝜉021, 𝜉030, 𝜂012, 𝜂021, 𝜂030, 𝜅01, s02};\n",
    "gradA5 = Grad[A5, variables5]//Simplify;\n",
    "hesseA5 = Grad[gradA5, variables5]//Simplify;\n",
    "Eigenvalues[hesseA5]\n",
    "\n",
    "(* Check its Hesse matrix is positive-definite *)\n",
    "Solve[gradA5 == {0,0,0,0,0,0,0,0}, variables5]"
   ]
  },
  {
   "cell_type": "markdown",
   "id": "12851929",
   "metadata": {},
   "source": [
    "## Result"
   ]
  },
  {
   "cell_type": "code",
   "execution_count": null,
   "id": "2e22479a",
   "metadata": {},
   "outputs": [],
   "source": [
    "(* Solution *)\n",
    "solution = Join[solution0,solution1,solution2,solution3,solution4,solution5];\n",
    "\n",
    "(* Geometry of embedding *)\n",
    "𝜅₍ₜ₎ᵦ[𝜏_] = (𝜅₍ₜ₎[𝜏,β]+O[β]^2)/.{𝜏->s}/.symbols/.solution//Simplify\n",
    "s₍ₜ₎ᵦ[𝜏_] = (s₍ₜ₎[𝜏,β]+O[β]^3)/.{𝜏->s}/.symbols/.solution//Simplify\n",
    "g₍ₜ₎⁽⁰⁾ᵦ[s_, r_] = (Normal[g₍ₜ₎⁽⁰⁾[u¹, u², β]]/.{u¹->s, u²->β B[s] r}) + O[β]^2/.symbols/.solution//Simplify//Normal\n",
    "g₍₀₎⁽⁰⁾ᵦ[s_, r_] = (Normal[g₍₀₎⁽⁰⁾[u¹, u²]]/.{u¹->s, u²->β B[s] r}) + O[β]^2/.symbols/.solution//Simplify//Normal\n",
    "\n",
    "(* Strain *)\n",
    "E⁽⁰⁾₁₁ᵦ[s_,r_] = E⁽⁰⁾ᵦ[s, r][[1,1]]/.symbols/.solution//Simplify\n",
    "E⁽⁰⁾₁₂ᵦ[s_,r_] = E⁽⁰⁾ᵦ[s, r][[1,2]]/.symbols/.solution//Simplify\n",
    "E⁽⁰⁾₂₁ᵦ[s_,r_] = E⁽⁰⁾ᵦ[s, r][[2,1]]/.symbols/.solution//Simplify\n",
    "E⁽⁰⁾₂₂ᵦ[s_,r_] = E⁽⁰⁾ᵦ[s, r][[2,2]]/.symbols/.solution//Simplify\n",
    "\n",
    "(* Stress *)\n",
    "S⁽⁰⁾¹¹ᵦ[s_,r_] = Sum[C⁽⁰⁾[[1,1,i,j]]E⁽⁰⁾ᵦ[s, r][[i,j]], {i,1,d}, {j,1,d}]/.symbols/.solution//Simplify\n",
    "S⁽⁰⁾¹²ᵦ[s_,r_] = Sum[C⁽⁰⁾[[1,2,i,j]]E⁽⁰⁾ᵦ[s, r][[i,j]], {i,1,d}, {j,1,d}]/.symbols/.solution//Simplify\n",
    "S⁽⁰⁾²¹ᵦ[s_,r_] = Sum[C⁽⁰⁾[[2,1,i,j]]E⁽⁰⁾ᵦ[s, r][[i,j]], {i,1,d}, {j,1,d}]/.symbols/.solution//Simplify\n",
    "S⁽⁰⁾²²ᵦ[s_,r_] = Sum[C⁽⁰⁾[[2,2,i,j]]E⁽⁰⁾ᵦ[s, r][[i,j]], {i,1,d}, {j,1,d}]/.symbols/.solution//Simplify"
   ]
  },
  {
   "cell_type": "code",
   "execution_count": null,
   "id": "c246a262",
   "metadata": {},
   "outputs": [],
   "source": []
  }
 ],
 "metadata": {
  "kernelspec": {
   "display_name": "Wolfram Language 13",
   "language": "Wolfram Language",
   "name": "wolframlanguage13"
  },
  "language_info": {
   "codemirror_mode": "mathematica",
   "file_extension": ".m",
   "mimetype": "application/vnd.wolfram.m",
   "name": "Wolfram Language",
   "pygments_lexer": "mathematica",
   "version": "12.0"
  }
 },
 "nbformat": 4,
 "nbformat_minor": 5
}
