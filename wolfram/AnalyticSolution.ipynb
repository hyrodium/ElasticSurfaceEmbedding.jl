{
 "cells": [
  {
   "cell_type": "code",
   "execution_count": null,
   "id": "dbd036c4",
   "metadata": {},
   "outputs": [],
   "source": [
    "(* Utilities *)\n",
    "GenerateTeX[expr_, texrules_] := Block[\n",
    "    {n, symbols, texts, rules1, rules2},\n",
    "    n=Length[texrules];\n",
    "    symbols = Table[Symbol[\"$generatetex\"<>ToString[i]], {i,1,n}];\n",
    "    texts = Table[\"\\\\text{$\\\\$$generatetex\"<>ToString[i]<>\"}\", {i,1,n}];\n",
    "    rules1 = Table[Rule[texrules[[i]][[1]], symbols[[i]]], {i,n}];\n",
    "    rules2 = Table[Rule[texts[[i]], \"{\"<>texrules[[i]][[2]]<>\"}\"], {i,n}];\n",
    "    StringReplace[ToString[TeXForm[expr /. rules1]], rules2]\n",
    "]"
   ]
  },
  {
   "cell_type": "code",
   "execution_count": null,
   "id": "5cf843b4",
   "metadata": {},
   "outputs": [],
   "source": [
    "(* Reference state: Sphere *)\n",
    "𝒑₍₀₎[u¹_,u²_] = R*{Cos[u¹/R]Cos[u²/R],Sin[u¹/R]Cos[u²/R],Sin[u²/R]};\n",
    "\n",
    "(* Tangent vector *)\n",
    "𝒑₍₀₎₁[u¹_,u²_] = D[𝒑₍₀₎[u¹,u²],u¹];\n",
    "𝒑₍₀₎₂[u¹_,u²_] = D[𝒑₍₀₎[u¹,u²],u²];\n",
    "(* Riemanninan metric *)\n",
    "g₍₀₎₁₁[u¹_,u²_] = 𝒑₍₀₎₁[u¹,u²].𝒑₍₀₎₁[u¹,u²] // Simplify;\n",
    "g₍₀₎₁₂[u¹_,u²_] = 𝒑₍₀₎₁[u¹,u²].𝒑₍₀₎₂[u¹,u²] // Simplify;\n",
    "g₍₀₎₂₁[u¹_,u²_] = 𝒑₍₀₎₂[u¹,u²].𝒑₍₀₎₁[u¹,u²] // Simplify;\n",
    "g₍₀₎₂₂[u¹_,u²_] = 𝒑₍₀₎₂[u¹,u²].𝒑₍₀₎₂[u¹,u²] // Simplify;\n",
    "g₍₀₎[u¹_,u²_] = {{g₍₀₎₁₁[u¹,u²],g₍₀₎₁₂[u¹,u²]},{g₍₀₎₂₁[u¹,u²],g₍₀₎₂₂[u¹,u²]}};\n",
    "g₍₀₎⁽⁰⁾₁₁ = 1;\n",
    "g₍₀₎⁽⁰⁾₁₂ = 0;\n",
    "g₍₀₎⁽⁰⁾₂₁ = 0;\n",
    "g₍₀₎⁽⁰⁾₂₂ = 1;\n",
    "g₍₀₎⁽⁰⁾ = {{g₍₀₎⁽⁰⁾₁₁,g₍₀₎⁽⁰⁾₁₂},{g₍₀₎⁽⁰⁾₂₁,g₍₀₎⁽⁰⁾₂₂}};\n",
    "(* Volume form *)\n",
    "𝝊₍₀₎[u¹_,u²_] = Sqrt[Det[g₍₀₎[u¹,u²]]];"
   ]
  },
  {
   "cell_type": "code",
   "execution_count": null,
   "id": "2c20df97",
   "metadata": {},
   "outputs": [],
   "source": [
    "(* Current state *)\n",
    "𝒄₍ₜ₎ᵦ[u¹_,β_] = {s₍ₜ₎ᵦ[β] u¹,0};\n",
    "𝒆₁₍ₜ₎ᵦ[u¹_,β_] = {1,0};\n",
    "𝒆₂₍ₜ₎ᵦ[u¹_,β_] = {0,1};\n",
    "𝜉ᵦ[u¹_,u²_,β_] = 0;\n",
    "Derivative[i_,0,0][𝜂ᵦ][u¹_,u²_,β_] = 0;\n",
    "Derivative[0,1,0][𝜂ᵦ][u¹_,u²_,β_] = 𝜂ᵦ₂[u¹,u²,β];\n",
    "𝒑₍ₜ₎ᵦ[u¹_,u²_,β_] = 𝒄₍ₜ₎ᵦ[u¹,β] + 𝜉ᵦ[u¹,u²,β]𝒆₁₍ₜ₎ᵦ[u¹,β] + 𝜂ᵦ[u¹,u²,β]𝒆₂₍ₜ₎ᵦ[u¹,β];\n",
    "\n",
    "(* Tangent vector *)\n",
    "𝒑₍ₜ₎ᵦ₁[u¹_,u²_,β_] = D[𝒑₍ₜ₎ᵦ[u¹,u²,β],u¹];\n",
    "𝒑₍ₜ₎ᵦ₂[u¹_,u²_,β_] = D[𝒑₍ₜ₎ᵦ[u¹,u²,β],u²];\n",
    "(* Riemannian metric *)\n",
    "g₍ₜ₎ᵦ₁₁[u¹_,u²_,β_] = 𝒑₍ₜ₎ᵦ₁[u¹,u²,β].𝒑₍ₜ₎ᵦ₁[u¹,u²,β] // Simplify;\n",
    "g₍ₜ₎ᵦ₁₂[u¹_,u²_,β_] = 𝒑₍ₜ₎ᵦ₁[u¹,u²,β].𝒑₍ₜ₎ᵦ₂[u¹,u²,β] // Simplify;\n",
    "g₍ₜ₎ᵦ₂₁[u¹_,u²_,β_] = 𝒑₍ₜ₎ᵦ₂[u¹,u²,β].𝒑₍ₜ₎ᵦ₁[u¹,u²,β] // Simplify;\n",
    "g₍ₜ₎ᵦ₂₂[u¹_,u²_,β_] = 𝒑₍ₜ₎ᵦ₂[u¹,u²,β].𝒑₍ₜ₎ᵦ₂[u¹,u²,β] // Simplify;\n",
    "g₍ₜ₎ᵦ[u¹_,u²_,β_] = {{g₍ₜ₎ᵦ₁₁[u¹,u²,β],g₍ₜ₎ᵦ₁₂[u¹,u²,β]},{g₍ₜ₎ᵦ₂₁[u¹,u²,β],g₍ₜ₎ᵦ₂₂[u¹,u²,β]}};\n",
    "g₍ₜ₎ᵦ⁽⁰⁾₁₁[u¹_,u²_,β_] = g₍ₜ₎ᵦ₁₁[u¹,u²,β] / g₍₀₎₁₁[u¹,u²];\n",
    "g₍ₜ₎ᵦ⁽⁰⁾₁₂[u¹_,u²_,β_] = g₍ₜ₎ᵦ₁₂[u¹,u²,β] / Sqrt[g₍₀₎₁₁[u¹,u²]];\n",
    "g₍ₜ₎ᵦ⁽⁰⁾₂₁[u¹_,u²_,β_] = g₍ₜ₎ᵦ₂₁[u¹,u²,β] / Sqrt[g₍₀₎₁₁[u¹,u²]];\n",
    "g₍ₜ₎ᵦ⁽⁰⁾₂₂[u¹_,u²_,β_] = g₍ₜ₎ᵦ₂₂[u¹,u²,β];\n",
    "g₍ₜ₎ᵦ⁽⁰⁾[u¹_,u²_,β_] = {{g₍ₜ₎ᵦ⁽⁰⁾₁₁[u¹,u²,β],g₍ₜ₎ᵦ⁽⁰⁾₁₂[u¹,u²,β]},{g₍ₜ₎ᵦ⁽⁰⁾₂₁[u¹,u²,β],g₍ₜ₎ᵦ⁽⁰⁾₂₂[u¹,u²,β]}};"
   ]
  },
  {
   "cell_type": "code",
   "execution_count": null,
   "id": "29b64909",
   "metadata": {},
   "outputs": [],
   "source": [
    "(* Strain tensor *)\n",
    "E⁽⁰⁾ᵦ[u¹_,u²_,β_] = (g₍ₜ₎ᵦ⁽⁰⁾[u¹,u²,β] - g₍₀₎⁽⁰⁾)/2;\n",
    "\n",
    "d = 2;\n",
    "𝜆 = 𝜈*Y/((1+𝜈)(1-(d-1)𝜈));\n",
    "𝜇 = Y/(2(1+𝜈));\n",
    "𝛿 = KroneckerDelta;\n",
    "C⁽⁰⁾ = Table[𝜆 𝛿[i,j] 𝛿[k,l] + 𝜇(𝛿[i,k] 𝛿[j,l] + 𝛿[i,l] 𝛿[j,k]),{i,1,d},{j,1,d},{k,1,d},{l,1,d}];\n",
    "\n",
    "𝒲ᵦ[u¹_,u²_,β_,E⁽⁰⁾ᵦ_] := Simplify[Sum[C⁽⁰⁾[[i,j,k,l]]*E⁽⁰⁾ᵦ[[i,j]]*E⁽⁰⁾ᵦ[[k,l]],{i,1,d},{j,1,d},{k,1,d},{l,1,d}]*𝝊₍₀₎[u¹,u²]/2, Assumptions -> Cos[u²/R]>0];\n",
    "𝒲ᵦ[u¹_,u²_,β_,E⁽⁰⁾ᵦ_Symbol] := 𝒲ᵦ[u¹,u²,β,E⁽⁰⁾ᵦ[u¹,u²,β]]\n",
    "𝒲ᵦ[u¹_,u²_,β_] = 𝒲ᵦ[u¹,u²,β,E⁽⁰⁾ᵦ];"
   ]
  },
  {
   "cell_type": "markdown",
   "id": "78695002",
   "metadata": {},
   "source": [
    "この`𝒲ᵦ`をもとに次の2通りの方法で`s₍ₜ₎ᵦ`や`𝜂ᵦ`を求めていく.\n",
    "* 解析解\n",
    "* βによる辞書式最小化"
   ]
  },
  {
   "cell_type": "code",
   "execution_count": null,
   "id": "35751036",
   "metadata": {},
   "outputs": [],
   "source": [
    "(* Simplify the strain energy *)\n",
    "(* S = (s₍ₜ₎ᵦ[β]/Cos[u²/R])^2 *)\n",
    "(* H = 𝜂ᵦ₂[u¹,u²,β]^2-1 *)\n",
    "𝒲ᵦa[u¹,u²,β] = 𝒲ᵦ[u¹,u²,β] /.\n",
    "    {s₍ₜ₎ᵦ[β] -> Cos[u²/R]*Sqrt[S], 𝜂ᵦ₂[u¹,u²,β]->Sqrt[H+1]} //\n",
    "    Simplify;\n",
    "\n",
    "texrules = {s₍ₜ₎ᵦ[β]->\"s_{[t]\\\\beta}\",\n",
    "    Derivative[0,1,0][𝜂ᵦ][u¹,u²,β] -> \"\\\\eta_{\\\\beta 2}\",\n",
    "    u¹->\"u^1\",\n",
    "    u²->\"u^2\",\n",
    "    β -> \"\\\\beta\", 𝜈->\"\\\\nu\"};\n",
    "CopyToClipboard[\n",
    "    \"$$\\n\" <>\n",
    "    \"\\\\begin{aligned}\\n\" <>\n",
    "    \"\\\\mathcal{W}_\\\\beta &= \" <>\n",
    "    GenerateTeX[𝒲ᵦ[u¹,u²,β],texrules] <>\n",
    "    \"du^1\\\\wedge du^2 \\\\\\\\\\n &=\" <>\n",
    "    GenerateTeX[𝒲ᵦa[u¹,u²,β],texrules] <>\n",
    "    \"du^1\\\\wedge du^2\\n\" <>\n",
    "    \"\\\\end{aligned}\\n\" <>\n",
    "    \"$$\"\n",
    "    ];"
   ]
  },
  {
   "cell_type": "markdown",
   "id": "13b775e7",
   "metadata": {},
   "source": [
    "$$\n",
    "\\begin{aligned}\n",
    "\\mathcal{W}_\\beta &= -\\frac{Y {s_{[t]\\beta}}^4 \\sec ^3\\left(\\frac{{u^2}}{R}\\right)-Y {\\eta_{\\beta 2}}^2 \\sec \\left(\\frac{{u^2}}{R}\\right) \\left(2 ({\\nu}+1) \\cos ^2\\left(\\frac{{u^2}}{R}\\right)-2 {s_{[t]\\beta}}^2 {\\nu}\\right)-2 Y {s_{[t]\\beta}}^2 ({\\nu}+1) \\sec \\left(\\frac{{u^2}}{R}\\right)+Y {\\eta_{\\beta 2}}^4 \\cos \\left(\\frac{{u^2}}{R}\\right)+2 Y ({\\nu}+1) \\cos \\left(\\frac{{u^2}}{R}\\right)}{8 \\left({\\nu}^2-1\\right)}du^1\\wedge du^2 \\\\\n",
    " &=-\\frac{Y \\left(H^2+2 H (S-1) {\\nu}+(S-1)^2\\right) \\cos \\left(\\frac{{u^2}}{R}\\right)}{8 \\left({\\nu}^2-1\\right)}du^1\\wedge du^2\n",
    "\\end{aligned}\n",
    "$$"
   ]
  },
  {
   "cell_type": "code",
   "execution_count": null,
   "id": "63dca8a7",
   "metadata": {},
   "outputs": [],
   "source": [
    "(* Check equality *)\n",
    "(𝒲ᵦ[u¹,u²,β] - 𝒲ᵦa[u¹,u²,β]) /. {S->(s₍ₜ₎ᵦ[β]/Cos[u²/R])^2, H -> 𝜂ᵦ₂[u¹,u²,β]^2-1} // Simplify"
   ]
  },
  {
   "cell_type": "code",
   "execution_count": null,
   "id": "b292745d",
   "metadata": {},
   "outputs": [],
   "source": [
    "(* Solve H with variational method *)\n",
    "δ𝒲ᵦ = D[𝒲ᵦa[u¹,u²,β] /. {H->H+α*δH},α] /. {α -> 0};\n",
    "solH = Solve[δ𝒲ᵦ == 0, H][[1]];\n",
    "𝒲ᵦb[u¹_,u²_,β_] = 𝒲ᵦa[u¹,u²,β] /. solH // Simplify;\n",
    "CopyToClipboard[\n",
    "    \"$$\\n\" <>\n",
    "    \"\\\\begin{aligned}\\n\" <>\n",
    "    \"\\\\mathcal{W}_\\\\beta &= \" <>\n",
    "    GenerateTeX[𝒲ᵦb[u¹,u²,β],texrules] <>\n",
    "    \"du^1\\\\wedge du^2\\n\" <>\n",
    "    \"\\\\end{aligned}\\n\" <>\n",
    "    \"$$\"\n",
    "    ];"
   ]
  },
  {
   "cell_type": "markdown",
   "id": "41230ca2",
   "metadata": {},
   "source": [
    "$$\n",
    "\\begin{aligned}\n",
    "\\mathcal{W}_\\beta &= \\frac{1}{8} (S-1)^2 Y \\cos \\left(\\frac{{u^2}}{R}\\right)du^1\\wedge du^2\n",
    "\\end{aligned}\n",
    "$$"
   ]
  },
  {
   "cell_type": "code",
   "execution_count": null,
   "id": "e93100b0",
   "metadata": {},
   "outputs": [],
   "source": [
    "(* Integrate with u² *)\n",
    "𝒲ᵦc[u¹_,u²_,β_] = 𝒲ᵦb[u¹,u²,β] /. {S -> (s₍ₜ₎ᵦ[β]/Cos[u²/R])^2};\n",
    "wᵦa[u¹_,β_] = Integrate[𝒲ᵦc[u¹,u²,β], {u², -β*B, β*B}];\n",
    "CopyToClipboard[\n",
    "    \"$$\\n\" <>\n",
    "    \"\\\\begin{aligned}\\n\" <>\n",
    "    \"W(\\\\beta)\\n\" <>\n",
    "    \"&= \\\\int_{M_\\\\beta}\\\\mathcal{W}_\\\\beta \\\\\\\\\\n\" <>\n",
    "    \"&= \\\\int_{M_\\\\beta}\" <>\n",
    "    GenerateTeX[𝒲ᵦc[u¹,u²,β],texrules] <>\n",
    "    \"du^1\\\\wedge du^2 \\\\\\\\\\n\" <>\n",
    "    \"&= \\\\int_{I} w_{\\\\beta} du^1 \\\\\\\\\\n\" <>\n",
    "    \"&= \\\\int_{I}\" <>\n",
    "    GenerateTeX[wᵦa[u¹,β],texrules] <>\n",
    "    \"du^1\\n\" <>\n",
    "    \"\\\\end{aligned}\\n\" <>\n",
    "    \"$$\"\n",
    "    ];"
   ]
  },
  {
   "cell_type": "markdown",
   "id": "8ab66b1a",
   "metadata": {},
   "source": [
    "$$\n",
    "\\begin{aligned}\n",
    "W(\\beta)\n",
    "&= \\int_{M_\\beta}\\mathcal{W}_\\beta \\\\\n",
    "&= \\int_{M_\\beta}\\frac{1}{8} Y \\cos \\left(\\frac{{u^2}}{R}\\right) \\left({s_{[t]\\beta}}^2 \\sec ^2\\left(\\frac{{u^2}}{R}\\right)-1\\right)^2du^1\\wedge du^2 \\\\\n",
    "&= \\int_{I} w_{\\beta} du^1 \\\\\n",
    "&= \\int_{I}\\frac{1}{8} R Y \\left({s_{[t]\\beta}}^4 \\tan \\left(\\frac{B {\\beta}}{R}\\right) \\sec \\left(\\frac{B {\\beta}}{R}\\right)+\\left({s_{[t]\\beta}}^2-4\\right) {s_{[t]\\beta}}^2 \\tanh ^{-1}\\left(\\sin \\left(\\frac{B {\\beta}}{R}\\right)\\right)+2 \\sin \\left(\\frac{B {\\beta}}{R}\\right)\\right)du^1\n",
    "\\end{aligned}\n",
    "$$"
   ]
  },
  {
   "cell_type": "code",
   "execution_count": null,
   "id": "92eaa00f",
   "metadata": {},
   "outputs": [],
   "source": [
    "(* Solve s₍ₜ₎ᵦ with dwᵦ/s₍ₜ₎ᵦ = 0 *)\n",
    "dwᵦ = D[wᵦa[u¹,β], s₍ₜ₎ᵦ[β]];\n",
    "sols₍ₜ₎ᵦ = Solve[dwᵦ==0, s₍ₜ₎ᵦ[β]][[3]];\n",
    "𝒲ᵦd[u¹_,u²_,β_] = 𝒲ᵦc[u¹,u²,β] /. sols₍ₜ₎ᵦ // Simplify;\n",
    "wᵦb[u¹_,β_] = wᵦa[u¹,β] /. sols₍ₜ₎ᵦ // Simplify;\n",
    "CopyToClipboard[\n",
    "    \"$$\\n\" <>\n",
    "    \"\\\\begin{aligned}\\n\" <>\n",
    "    \"W(\\\\beta)\\n\" <>\n",
    "    \"&= \\\\int_{M_\\\\beta}\\\\mathcal{W}_\\\\beta \\\\\\\\\\n\" <>\n",
    "    \"&= \\\\int_{M_\\\\beta}\" <>\n",
    "    GenerateTeX[𝒲ᵦd[u¹,u²,β],texrules] <>\n",
    "    \"du^1\\\\wedge du^2 \\\\\\\\\\n\" <>\n",
    "    \"&= \\\\int_{I} w_{\\\\beta} du^1 \\\\\\\\\\n\" <>\n",
    "    \"&= \\\\int_{I}\" <>\n",
    "    GenerateTeX[wᵦb[u¹,β],texrules] <>\n",
    "    \"du^1\\n\" <>\n",
    "    \"\\\\end{aligned}\\n\" <>\n",
    "    \"$$\"\n",
    "    ];"
   ]
  },
  {
   "cell_type": "markdown",
   "id": "311d60b6",
   "metadata": {},
   "source": [
    "$$\n",
    "\\begin{aligned}\n",
    "W(\\beta)\n",
    "&= \\int_{M_\\beta}\\mathcal{W}_\\beta \\\\\n",
    "&= \\int_{M_\\beta}\\frac{1}{8} Y \\cos \\left(\\frac{{u^2}}{R}\\right) \\left(1-\\frac{2 \\sec ^2\\left(\\frac{{u^2}}{R}\\right) \\tanh ^{-1}\\left(\\sin \\left(\\frac{B {\\beta}}{R}\\right)\\right)}{\\tanh ^{-1}\\left(\\sin \\left(\\frac{B {\\beta}}{R}\\right)\\right)+\\tan \\left(\\frac{B {\\beta}}{R}\\right) \\sec \\left(\\frac{B {\\beta}}{R}\\right)}\\right)^2du^1\\wedge du^2 \\\\\n",
    "&= \\int_{I} w_{\\beta} du^1 \\\\\n",
    "&= \\int_{I}\\frac{R Y \\left(\\tan ^2\\left(\\frac{B {\\beta}}{R}\\right)-2 \\tanh ^{-1}\\left(\\sin \\left(\\frac{B {\\beta}}{R}\\right)\\right)^2+\\sin \\left(\\frac{B {\\beta}}{R}\\right) \\tanh ^{-1}\\left(\\sin \\left(\\frac{B {\\beta}}{R}\\right)\\right)\\right)}{4 \\left(\\tanh ^{-1}\\left(\\sin \\left(\\frac{B {\\beta}}{R}\\right)\\right)+\\tan \\left(\\frac{B {\\beta}}{R}\\right) \\sec \\left(\\frac{B {\\beta}}{R}\\right)\\right)}du^1\n",
    "\\end{aligned}\n",
    "$$"
   ]
  },
  {
   "cell_type": "code",
   "execution_count": null,
   "id": "347ef37b",
   "metadata": {},
   "outputs": [],
   "source": [
    "wᵦb[u¹,β]+O[β]^5"
   ]
  },
  {
   "cell_type": "code",
   "execution_count": null,
   "id": "215ad1f5",
   "metadata": {},
   "outputs": [],
   "source": [
    "wᵦb[u¹,β]+O[β]^6"
   ]
  },
  {
   "cell_type": "code",
   "execution_count": null,
   "id": "e0119206",
   "metadata": {},
   "outputs": [],
   "source": [
    "D[wᵦb[u¹,β],{β,5}] + O[β]"
   ]
  },
  {
   "cell_type": "code",
   "execution_count": null,
   "id": "d5754ce2",
   "metadata": {},
   "outputs": [],
   "source": []
  },
  {
   "cell_type": "code",
   "execution_count": null,
   "id": "e42330e1",
   "metadata": {},
   "outputs": [],
   "source": []
  },
  {
   "cell_type": "code",
   "execution_count": null,
   "id": "5a1ffba0",
   "metadata": {},
   "outputs": [],
   "source": []
  },
  {
   "cell_type": "code",
   "execution_count": null,
   "id": "e9b8584b",
   "metadata": {},
   "outputs": [],
   "source": []
  },
  {
   "cell_type": "code",
   "execution_count": null,
   "id": "960bc042",
   "metadata": {},
   "outputs": [],
   "source": []
  },
  {
   "cell_type": "code",
   "execution_count": null,
   "id": "65803178",
   "metadata": {},
   "outputs": [],
   "source": [
    "symbols={\n",
    "    (* For Energy Minimization *)\n",
    "    Derivative[i_,j_,k_][𝜉][s,0,0] :> Symbol[\"𝜉\"<>ToString[i]<>ToString[j]<>ToString[k]],\n",
    "    Derivative[i_,j_,k_][𝜂][s,0,0] :> Symbol[\"𝜂\"<>ToString[i]<>ToString[j]<>ToString[k]],\n",
    "    Derivative[i_,j_][𝜅₍ₜ₎][s,0] :> Symbol[\"𝜅\"<>ToString[i]<>ToString[j]],\n",
    "    Derivative[i_,j_][s₍ₜ₎][s,0] :> Symbol[\"s\"<>ToString[i]<>ToString[j]],\n",
    "    𝜅₍ₜ₎[s,0] :> 𝜅00,\n",
    "    s₍ₜ₎[s,0] :> s00\n",
    "};"
   ]
  },
  {
   "cell_type": "code",
   "execution_count": null,
   "id": "667dd3c0",
   "metadata": {},
   "outputs": [],
   "source": [
    "(* Coefficient *)\n",
    "a[m_,E⁽⁰⁾ᵦ_] := Block[\n",
    "    {\n",
    "        integrand,\n",
    "        normal,\n",
    "        landau,\n",
    "        W\n",
    "    },\n",
    "(*     integrand = 𝒲ᵦ[u¹,u²,β,E⁽⁰⁾ᵦ]; *)\n",
    "    integrand = 𝒲ᵦ[s,β*B*r,β,E⁽⁰⁾ᵦ];\n",
    "    normal = Normal[integrand];\n",
    "    landau = integrand - normal;\n",
    "    W = β*B*(Integrate[normal, {r,-1,1}]+landau);\n",
    "    Normal[D[W,{β,m}]] /. {β->0}\n",
    "]"
   ]
  },
  {
   "cell_type": "code",
   "execution_count": null,
   "id": "56fd75e5",
   "metadata": {},
   "outputs": [],
   "source": [
    "𝒲ᵦ[s,β*B*r,β,E⁽⁰⁾ᵦ]"
   ]
  },
  {
   "cell_type": "code",
   "execution_count": null,
   "id": "ab5c2969",
   "metadata": {},
   "outputs": [],
   "source": [
    "a0 = a[0, E⁽⁰⁾ᵦ[u¹,u²,β] /. symbols]"
   ]
  },
  {
   "cell_type": "code",
   "execution_count": null,
   "id": "59aeeb29",
   "metadata": {},
   "outputs": [],
   "source": [
    "a1 = a[1, E⁽⁰⁾ᵦ[u¹,u²,β] /. symbols /. {u¹->s,u²->β*B*r}]"
   ]
  },
  {
   "cell_type": "code",
   "execution_count": null,
   "id": "316da273",
   "metadata": {},
   "outputs": [],
   "source": [
    "b1 = a1 /. {s₍ₜ₎ᵦ[0] -> Sqrt[S], 𝜂ᵦ₂[s,0,0] -> Sqrt[V]};"
   ]
  },
  {
   "cell_type": "code",
   "execution_count": null,
   "id": "a30c720e",
   "metadata": {},
   "outputs": [],
   "source": [
    "Minimize[{b1, -1<𝜈<1, Y>0, B>0}, {S,V}]"
   ]
  },
  {
   "cell_type": "code",
   "execution_count": null,
   "id": "e48e03e1",
   "metadata": {},
   "outputs": [],
   "source": [
    "solution1 = {s₍ₜ₎ᵦ[0] -> 1, 𝜂ᵦ₂[s,0,0] -> 1}"
   ]
  },
  {
   "cell_type": "code",
   "execution_count": null,
   "id": "38106f14",
   "metadata": {},
   "outputs": [],
   "source": [
    "a1 /. solution1 // Simplify"
   ]
  },
  {
   "cell_type": "code",
   "execution_count": null,
   "id": "a095900d",
   "metadata": {},
   "outputs": [],
   "source": [
    "a2 = a[2, E⁽⁰⁾ᵦ[u¹,u²,β] /. symbols /. {u¹->s,u²->β*B*r}] /. solution1"
   ]
  },
  {
   "cell_type": "code",
   "execution_count": null,
   "id": "e5a860b9",
   "metadata": {},
   "outputs": [],
   "source": [
    "a3 = a[3, E⁽⁰⁾ᵦ[u¹,u²,β] /. symbols /. {u¹->s,u²->β*B*r}] /. solution1"
   ]
  },
  {
   "cell_type": "code",
   "execution_count": null,
   "id": "d168d483",
   "metadata": {},
   "outputs": [],
   "source": [
    "Minimize[{a3, -1<𝜈<1, Y>0, B>0}, {S,V}]"
   ]
  }
 ],
 "metadata": {
  "kernelspec": {
   "display_name": "Wolfram Language 13",
   "language": "Wolfram Language",
   "name": "wolframlanguage13"
  },
  "language_info": {
   "codemirror_mode": "mathematica",
   "file_extension": ".m",
   "mimetype": "application/vnd.wolfram.m",
   "name": "Wolfram Language",
   "pygments_lexer": "mathematica",
   "version": "12.0"
  }
 },
 "nbformat": 4,
 "nbformat_minor": 5
}
