{
 "cells": [
  {
   "cell_type": "code",
   "execution_count": null,
   "metadata": {},
   "outputs": [
    {
     "name": "stderr",
     "output_type": "stream",
     "text": [
      "┌ Info: Recompiling stale cache file /home/horikawa/.julia/compiled/v1.0/I4SM.ji for I4SM [top-level]\n",
      "└ @ Base loading.jl:1187\n"
     ]
    }
   ],
   "source": [
    "# Distributed下でのパッケージ初回読込ではprecompilingとかrecompilingがコケるので初めにここで馴らす\n",
    "push!(LOAD_PATH, \".\")\n",
    "using I4SM\n",
    "exit()"
   ]
  },
  {
   "cell_type": "code",
   "execution_count": 1,
   "metadata": {},
   "outputs": [],
   "source": [
    "using Distributed\n",
    "addprocs(3);\n",
    "@everywhere push!(LOAD_PATH, \".\")\n",
    "using IntervalSets\n",
    "using Bspline\n",
    "using I4SM"
   ]
  },
  {
   "cell_type": "code",
   "execution_count": null,
   "metadata": {},
   "outputs": [],
   "source": []
  },
  {
   "cell_type": "code",
   "execution_count": null,
   "metadata": {},
   "outputs": [],
   "source": [
    "#Clock\n",
    "@everywhere using LinearAlgebra\n",
    "@everywhere Cf(t)=(t>0 ? exp(-1/t) : 0.0)\n",
    "@everywhere Cg(t)=Cf(2t/sqrt(3))/(Cf(2t/sqrt(3))+Cf(2(1-t)/sqrt(3)))\n",
    "@everywhere 𝒑₍₀₎(u)=[u[1],u[2],1.6*Cg((norm(u)-7.33/2)/(9.0-7.33/2))]\n",
    "D=(-12.0..12.0,-5.0..(-4.0))\n",
    "Settings(\"Clock5d\",up=15,down=-15,right=15,left=-15,mesh=(24,1),unit=50,slack=true)"
   ]
  },
  {
   "cell_type": "code",
   "execution_count": null,
   "metadata": {},
   "outputs": [],
   "source": [
    "InitialConfiguration(𝒑₍₀₎,D)"
   ]
  },
  {
   "cell_type": "code",
   "execution_count": null,
   "metadata": {},
   "outputs": [],
   "source": [
    "NewtonMethodIteration(𝒑₍₀₎,nip=35)"
   ]
  },
  {
   "cell_type": "code",
   "execution_count": null,
   "metadata": {},
   "outputs": [],
   "source": [
    "p_Refinement(𝒑₍₀₎,[0,1])"
   ]
  },
  {
   "cell_type": "code",
   "execution_count": null,
   "metadata": {},
   "outputs": [],
   "source": [
    "h_Refinement(𝒑₍₀₎,[Float64[],[-4.5]])"
   ]
  },
  {
   "cell_type": "code",
   "execution_count": null,
   "metadata": {},
   "outputs": [],
   "source": [
    "fixed(n₁,n₂)=[[1,(n₂+1)÷2,1],[1,(n₂+1)÷2,2],[n₁,(n₂+1)÷2,1],[n₁,(n₂+1)÷2,2],[(n₁+1)÷2,(n₂+1)÷2,1],[(n₁+1)÷2,(n₂+1)÷2,2],[(n₁+1)÷2,(n₂+1)÷2-1,1]]\n",
    "NewtonMethodIteration(𝒑₍₀₎,nip=35,fixed=fixed)"
   ]
  },
  {
   "cell_type": "code",
   "execution_count": null,
   "metadata": {},
   "outputs": [],
   "source": [
    "ShowKnots()"
   ]
  },
  {
   "cell_type": "code",
   "execution_count": null,
   "metadata": {},
   "outputs": [],
   "source": [
    "# k₁₊=collect(range(-11.0,stop=11,step=2))\n",
    "# k₁₊=collect(range(-11.5,stop=11.5,step=1.0))\n",
    "# h_Refinement(𝒑₍₀₎,[[-7.0,-5.0,5.0,7.0],Float64[]])\n",
    "# h_Refinement(𝒑₍₀₎,[[-9.0,-3.0,3.0,9.0,5.5,6.5,7.5,-5.5,-6.5,-7.5],Float64[]])\n",
    "# h_Refinement(𝒑₍₀₎,[[-1.0,1.0,-7.25, -6.75, -6.25, -5.75,5.75, 6.25, 6.75, 7.25],Float64[]])\n",
    "h_Refinement(𝒑₍₀₎,[[-4.5, -3.5, -2.5, -1.5, -0.5, 0.5, 1.5, 2.5, 3.5, 4.5],Float64[]])"
   ]
  },
  {
   "cell_type": "code",
   "execution_count": null,
   "metadata": {},
   "outputs": [],
   "source": [
    "FinalOutput(unitlength=(10,\"mm\"),cutout=(0.2,5))"
   ]
  },
  {
   "cell_type": "code",
   "execution_count": null,
   "metadata": {},
   "outputs": [],
   "source": [
    "Settings(\"Clock5a\",up=15,down=-15,right=15,left=-15,mesh=(24,1),unit=50,maximumstrain=0.003)"
   ]
  },
  {
   "cell_type": "code",
   "execution_count": null,
   "metadata": {},
   "outputs": [],
   "source": []
  },
  {
   "cell_type": "code",
   "execution_count": 2,
   "metadata": {},
   "outputs": [],
   "source": [
    "#Catenoid\n",
    "@everywhere 𝒑₍₀₎(u)=[cos(u[2])*cosh(u[1]),sin(u[2])*cosh(u[1]),u[1]]\n",
    "D=(-π/2..π/2,-π/36..π/36)\n",
    "Settings(\"Catenoid-a\",up=3,down=-3,right=3,left=-3,mesh=(18,1),unit=150,slack=true)"
   ]
  },
  {
   "cell_type": "code",
   "execution_count": 3,
   "metadata": {},
   "outputs": [
    {
     "name": "stdout",
     "output_type": "stream",
     "text": [
      "1: Initial Configuration\n",
      "\n",
      "      From worker 2:\t/home/horikawa/I4SM-Result/Catenoid-a/slack/Catenoid-a-1-Bspline.png PNG 1125x1125 1125x1125+0+0 8-bit sRGB 27106B 0.040u 0:00.019\n",
      "      From worker 2:\t/home/horikawa/I4SM-Result/Catenoid-a/slack/Catenoid-a-1-Bspline.png PNG 1125x1125=>900x900 900x900+0+0 8-bit sRGB 26166B 0.400u 0:00.119\n",
      "      From worker 2:\t/home/horikawa/I4SM-Result/Catenoid-a/slack/Catenoid-a-1-strain.png PNG 4500x4500 4500x4500+0+0 8-bit sRGB 170551B 0.600u 0:00.310\n",
      "      From worker 2:\t/home/horikawa/I4SM-Result/Catenoid-a/slack/Catenoid-a-1-strain.png PNG 4500x4500=>900x900 900x900+0+0 8-bit sRGB 17894B 0.320u 0:00.119\n",
      "      From worker 2:\tfoo\n",
      "      From worker 2:\t  % Total    % Received % Xferd  Average Speed   Time    Time     Time  Current\n",
      "      From worker 2:\t                                 Dload  Upload   Total   Spent    Left  Speed\n",
      "100    38    0     2  100    36      8    144 --:--:-- --:--:-- --:--:--   151\n",
      "      From worker 2:\tok  % Total    % Received % Xferd  Average Speed   Time    Time     Time  Current\n",
      "      From worker 2:\t                                 Dload  Upload   Total   Spent    Left  Speed\n",
      "100 49949    0  2331  100 47618    435   8887  0:00:05  0:00:05 --:--:--   561\n"
     ]
    }
   ],
   "source": [
    "InitialConfiguration(𝒑₍₀₎,D)"
   ]
  },
  {
   "cell_type": "code",
   "execution_count": 4,
   "metadata": {},
   "outputs": [
    {
     "name": "stdout",
     "output_type": "stream",
     "text": [
      "1: Initial Configuration\n",
      "  2: Newton Iteration - Residual norm: 0.045006103019130654, Δa norm: 0.03374754893658351\n",
      "\n",
      "      From worker 3:\t/home/horikawa/I4SM-Result/Catenoid-a/slack/Catenoid-a-2-Bspline.png PNG 1125x1125 1125x1125+0+0 8-bit sRGB 33056B 0.030u 0:00.019\n",
      "      From worker 3:\t/home/horikawa/I4SM-Result/Catenoid-a/slack/Catenoid-a-2-Bspline.png PNG 1125x1125=>900x900 900x900+0+0 8-bit sRGB 31538B 0.390u 0:00.119\n",
      "      From worker 3:\t/home/horikawa/I4SM-Result/Catenoid-a/slack/Catenoid-a-2-strain.png PNG 4500x4500 4500x4500+0+0 8-bit sRGB 153077B 0.660u 0:00.280\n",
      "      From worker 3:\t/home/horikawa/I4SM-Result/Catenoid-a/slack/Catenoid-a-2-strain.png PNG 4500x4500=>900x900 900x900+0+0 8-bit sRGB 17254B 0.310u 0:00.099\n",
      "      From worker 3:\tfoo\n",
      "      From worker 3:\t  % Total    % Received % Xferd  Average Speed   Time    Time     Time  Current\n",
      "      From worker 3:\t                                 Dload  Upload   Total   Spent    Left  Speed\n",
      "100   129    0     2  100   127      8    518 --:--:-- --:--:-- --:--:--   526\n",
      "      From worker 3:\tok  % Total    % Received % Xferd  Average Speed   Time    Time     Time  Current\n",
      "      From worker 3:\t                                 Dload  Upload   Total   Spent    Left  Speed\n",
      "100 54932    0  2331  100 52601    369   8334  0:00:06  0:00:06 --:--:--   568\n"
     ]
    }
   ],
   "source": [
    "NewtonMethodIteration(𝒑₍₀₎,nip=9)"
   ]
  },
  {
   "cell_type": "code",
   "execution_count": null,
   "metadata": {},
   "outputs": [],
   "source": [
    "p_Refinement(𝒑₍₀₎,[0,1])"
   ]
  },
  {
   "cell_type": "code",
   "execution_count": null,
   "metadata": {},
   "outputs": [],
   "source": [
    "h_Refinement(𝒑₍₀₎,[Float64[],[0.0]])"
   ]
  },
  {
   "cell_type": "code",
   "execution_count": null,
   "metadata": {},
   "outputs": [],
   "source": [
    "FinalOutput(index=2,unitlength=(50,\"mm\"))"
   ]
  },
  {
   "cell_type": "code",
   "execution_count": null,
   "metadata": {},
   "outputs": [],
   "source": [
    "ShowKnots()"
   ]
  },
  {
   "cell_type": "code",
   "execution_count": null,
   "metadata": {},
   "outputs": [],
   "source": []
  },
  {
   "cell_type": "code",
   "execution_count": 2,
   "metadata": {},
   "outputs": [],
   "source": [
    "#Catenoid\n",
    "@everywhere 𝒑₍₀₎(u)=[cos(u[1])*cosh(u[2]),sin(u[1])*cosh(u[2]),u[2]]\n",
    "D=(-π..π,6π/18..7π/18) #横方向\n",
    "Settings(\"Catenoid-b6\",up=1,down=-5,right=3,left=-3,mesh=(18,1),unit=100)"
   ]
  },
  {
   "cell_type": "code",
   "execution_count": 3,
   "metadata": {},
   "outputs": [
    {
     "name": "stdout",
     "output_type": "stream",
     "text": [
      "1: Initial Configuration\n",
      "\n",
      "      From worker 2:\t/home/horikawa/I4SM-Result/Catenoid-b6/slack/Catenoid-b6-1-Bspline.png PNG 750x750 750x750+0+0 8-bit sRGB 72353B 0.010u 0:00.009\n",
      "      From worker 2:\t/home/horikawa/I4SM-Result/Catenoid-b6/slack/Catenoid-b6-1-Bspline.png PNG 750x750=>600x600 600x600+0+0 8-bit sRGB 69900B 0.250u 0:00.070\n",
      "      From worker 2:\t/home/horikawa/I4SM-Result/Catenoid-b6/slack/Catenoid-b6-1-strain.png PNG 3000x3000 3000x3000+0+0 8-bit sRGB 253808B 0.340u 0:00.120\n",
      "      From worker 2:\t/home/horikawa/I4SM-Result/Catenoid-b6/slack/Catenoid-b6-1-strain.png PNG 3000x3000=>600x600 600x600+0+0 8-bit sRGB 35793B 0.530u 0:00.129\n",
      "      From worker 2:\tfoo\n",
      "      From worker 2:\t  % Total    % Received % Xferd  Average Speed   Time    Time     Time  Current\n",
      "      From worker 2:\t                                 Dload  Upload   Total   Spent    Left  Speed\n",
      "100    38    0     2  100    36      8    149 --:--:-- --:--:-- --:--:--   157\n",
      "      From worker 2:\tok  % Total    % Received % Xferd  Average Speed   Time    Time     Time  Current\n",
      "      From worker 2:\t                                 Dload  Upload   Total   Spent    Left  Speed\n",
      "100  112k    0  2346  100  110k    408  19664  0:00:05  0:00:05 --:--:--   518\n"
     ]
    }
   ],
   "source": [
    "InitialConfiguration(𝒑₍₀₎,D)"
   ]
  },
  {
   "cell_type": "code",
   "execution_count": null,
   "metadata": {},
   "outputs": [],
   "source": [
    "Newt(𝒑₍₀₎,nip=15)"
   ]
  },
  {
   "cell_type": "code",
   "execution_count": null,
   "metadata": {},
   "outputs": [],
   "source": [
    "pRef(𝒑₍₀₎,[0,1])"
   ]
  },
  {
   "cell_type": "code",
   "execution_count": null,
   "metadata": {},
   "outputs": [],
   "source": [
    "hRef(𝒑₍₀₎,[Float64[],[13π/36]])"
   ]
  },
  {
   "cell_type": "code",
   "execution_count": null,
   "metadata": {},
   "outputs": [],
   "source": [
    "Newt(𝒑₍₀₎,nip=35)"
   ]
  },
  {
   "cell_type": "code",
   "execution_count": null,
   "metadata": {},
   "outputs": [],
   "source": []
  }
 ],
 "metadata": {
  "kernelspec": {
   "display_name": "Julia 1.0.1",
   "language": "julia",
   "name": "julia-1.0"
  },
  "language_info": {
   "file_extension": ".jl",
   "mimetype": "application/julia",
   "name": "julia",
   "version": "1.0.1"
  }
 },
 "nbformat": 4,
 "nbformat_minor": 2
}
