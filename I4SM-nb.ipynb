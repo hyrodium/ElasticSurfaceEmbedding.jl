{
 "cells": [
  {
   "cell_type": "code",
   "execution_count": null,
   "metadata": {},
   "outputs": [],
   "source": [
    "# Distributed下でのパッケージ初回読込ではprecompilingとかrecompilingがコケるので初めにここで馴らす\n",
    "push!(LOAD_PATH, \".\")\n",
    "using I4SM\n",
    "exit()"
   ]
  },
  {
   "cell_type": "code",
   "execution_count": null,
   "metadata": {},
   "outputs": [],
   "source": [
    "using Distributed\n",
    "addprocs(7);\n",
    "@everywhere push!(LOAD_PATH, \".\")\n",
    "using IntervalSets\n",
    "using Printf\n",
    "using Bspline\n",
    "using I4SM"
   ]
  },
  {
   "cell_type": "code",
   "execution_count": null,
   "metadata": {},
   "outputs": [],
   "source": [
    "#Paraboloid\n",
    "@DefineShape 𝒑₍₀₎(u)=[u...,u'*u]\n",
    "# D=((-1.0)..1.0,0.0..0.1)\n",
    "# Settings(\"Paraboloid-1b\",up=3,down=-3,right=3,left=-3,mesh=(20,1),unit=200,slack=true)\n",
    "# D=((-1.0)..1.0,0.1..0.2)\n",
    "# Settings(\"Paraboloid-2b\",up=3,down=-3,right=3,left=-3,mesh=(20,1),unit=200,slack=true)\n",
    "# D=((-1.0)..1.0,0.2..0.3)\n",
    "# Settings(\"Paraboloid-3b\",up=3,down=-3,right=3,left=-3,mesh=(20,1),unit=200,slack=true)\n",
    "# D=((-1.0)..1.0,0.3..0.4)\n",
    "# Settings(\"Paraboloid-4b\",up=3,down=-3,right=3,left=-3,mesh=(20,1),unit=200,slack=true)\n",
    "# D=((-1.0)..1.0,0.4..0.5)\n",
    "# Settings(\"Paraboloid-5b\",up=3,down=-3,right=3,left=-3,mesh=(20,1),unit=200,slack=true)\n",
    "# D=((-1.0)..1.0,0.5..0.6)\n",
    "# Settings(\"Paraboloid-6b\",up=3,down=-3,right=3,left=-3,mesh=(20,1),unit=200,slack=true)\n",
    "# D=((-1.0)..1.0,0.6..0.7)\n",
    "# Settings(\"Paraboloid-7b\",up=3,down=-3,right=3,left=-3,mesh=(20,1),unit=200,slack=true)\n",
    "# D=((-1.0)..1.0,0.7..0.8)\n",
    "# Settings(\"Paraboloid-8b\",up=3,down=-3,right=3,left=-3,mesh=(20,1),unit=200,slack=true)\n",
    "# D=((-1.0)..1.0,0.8..0.9)\n",
    "# Settings(\"Paraboloid-9b\",up=3,down=-3,right=3,left=-3,mesh=(20,1),unit=200,slack=true)\n",
    "D=((-1.0)..1.0,0.9..1.0)\n",
    "Settings(\"Paraboloid-10b\",up=3,down=-3,right=3,left=-3,mesh=(20,1),unit=200,slack=true)"
   ]
  },
  {
   "cell_type": "code",
   "execution_count": null,
   "metadata": {},
   "outputs": [],
   "source": [
    "InitialConfiguration(D)"
   ]
  },
  {
   "cell_type": "code",
   "execution_count": null,
   "metadata": {},
   "outputs": [],
   "source": [
    "fixed(n₁,n₂)=[[1,(n₂+1)÷2,1],[1,(n₂+1)÷2,2],[n₁,(n₂+1)÷2,1],[n₁,(n₂+1)÷2,2],[(n₁+1)÷2,(n₂+1)÷2,1],[(n₁+1)÷2,(n₂+1)÷2,2],[(n₁+1)÷2,(n₂+1)÷2-1,1]]\n",
    "NewtonMethodIteration(nip=25,fixed=fixed)"
   ]
  },
  {
   "cell_type": "code",
   "execution_count": null,
   "metadata": {},
   "outputs": [],
   "source": [
    "NewtonMethodIteration(nip=45)"
   ]
  },
  {
   "cell_type": "code",
   "execution_count": null,
   "metadata": {},
   "outputs": [],
   "source": [
    "p_Refinement([0,1])"
   ]
  },
  {
   "cell_type": "code",
   "execution_count": null,
   "metadata": {},
   "outputs": [],
   "source": [
    "h_Refinement([Float64[],[0.95]])"
   ]
  },
  {
   "cell_type": "code",
   "execution_count": null,
   "metadata": {},
   "outputs": [],
   "source": [
    "Settings(\"Parabolic-10b\",up=3,down=-3,right=3,left=-3,mesh=(20,1),unit=200,slack=true)\n",
    "Restoration()\n",
    "FinalOutput(unitlength=(50,\"mm\"),cutout=(0.2,5))"
   ]
  },
  {
   "cell_type": "code",
   "execution_count": null,
   "metadata": {},
   "outputs": [],
   "source": []
  },
  {
   "cell_type": "code",
   "execution_count": null,
   "metadata": {},
   "outputs": [],
   "source": []
  },
  {
   "cell_type": "code",
   "execution_count": null,
   "metadata": {},
   "outputs": [],
   "source": [
    "nf=30\n",
    "id=19\n",
    "@DefineShape 𝒑₍₀₎(u)=5.0*[((1+sqrt(2))*sinpi((u[1]+u[2])))/(-2-sqrt(2)+(1+sqrt(2))*sinpi((u[1]-u[2]))),-(((1+sqrt(2))*cospi((u[1]+u[2])))/(-2-sqrt(2)+(1+sqrt(2))*sinpi((u[1]-u[2])))),(2*(1+sqrt(2))*cot(1/4*π*(3-2u[1]+2u[2])))/(1+(3+2*sqrt(2))*cot(1/4*π*(3-2u[1]+2u[2]))^2)]\n",
    "D=(0.0..1.0,(id-1)/nf..id/nf)\n",
    "# Settings(\"torus-b\"*(@sprintf \"%02d\" id),up=20,down=-20,right=20,left=-20,mesh=(nf,1),unit=20,slack=true)\n",
    "Settings(\"torus-b\"*(@sprintf \"%02d\" id),up=25,down=-15,right=25,left=-15,mesh=(nf,1),unit=20,slack=true)\n",
    "InitialConfiguration(D,n₁=33)"
   ]
  },
  {
   "cell_type": "code",
   "execution_count": null,
   "metadata": {},
   "outputs": [],
   "source": [
    "fixed(n₁,n₂)=[[1,(n₂+1)÷2,1],[1,(n₂+1)÷2,2],[n₁,(n₂+1)÷2,1],[n₁,(n₂+1)÷2,2],[(n₁+1)÷2,(n₂+1)÷2,1],[(n₁+1)÷2,(n₂+1)÷2,2],[(n₁+1)÷2,(n₂+1)÷2-1,1]]\n",
    "NewtonMethodIteration(nip=25,fixed=fixed)\n",
    "NewtonMethodIteration(nip=25,fixed=fixed)\n",
    "NewtonMethodIteration(nip=25)\n",
    "NewtonMethodIteration(nip=25)\n",
    "NewtonMethodIteration(nip=45)\n",
    "NewtonMethodIteration(nip=45)\n",
    "p_Refinement([0,1])\n",
    "h_Refinement([Float64[],[(id-1/2)/nf]])\n",
    "NewtonMethodIteration(nip=45)\n",
    "NewtonMethodIteration(nip=45)\n",
    "NewtonMethodIteration(nip=45)\n",
    "NewtonMethodIteration(nip=45)\n",
    "NewtonMethodIteration(nip=45)\n",
    "NewtonMethodIteration(nip=45)"
   ]
  },
  {
   "cell_type": "code",
   "execution_count": null,
   "metadata": {},
   "outputs": [],
   "source": [
    "NewtonMethodIteration(nip=45)\n",
    "NewtonMethodIteration(nip=45)"
   ]
  },
  {
   "cell_type": "code",
   "execution_count": null,
   "metadata": {},
   "outputs": [],
   "source": []
  },
  {
   "cell_type": "code",
   "execution_count": null,
   "metadata": {},
   "outputs": [],
   "source": []
  },
  {
   "cell_type": "code",
   "execution_count": null,
   "metadata": {},
   "outputs": [],
   "source": [
    "#Clock\n",
    "@everywhere using LinearAlgebra\n",
    "@everywhere function 𝒑₍₀₎(u)\n",
    "    s=(norm(u)-7.33/2)/(9.0-7.33/2)\n",
    "    Cf1=ifelse(s>0.0,exp(-sqrt(3/4)/s),0.0)\n",
    "    Cf2=ifelse(1-s>0.0,exp(-sqrt(3/4)/(1-s)),0.0)\n",
    "    Cg=Cf1/(Cf1+Cf2)\n",
    "    return [u[1],u[2],1.6*Cg]\n",
    "end\n",
    "D=(-12.0..12.0,-5.0..(-4.0))\n",
    "Settings(\"Clock5c\",up=15,down=-15,right=15,left=-15,mesh=(24,1),unit=50,slack=true)"
   ]
  },
  {
   "cell_type": "code",
   "execution_count": null,
   "metadata": {},
   "outputs": [],
   "source": [
    "InitialConfiguration(D)"
   ]
  },
  {
   "cell_type": "code",
   "execution_count": null,
   "metadata": {},
   "outputs": [],
   "source": [
    "NewtonMethodIteration(nip=35)"
   ]
  },
  {
   "cell_type": "code",
   "execution_count": null,
   "metadata": {},
   "outputs": [],
   "source": [
    "p_Refinement([0,1])"
   ]
  },
  {
   "cell_type": "code",
   "execution_count": null,
   "metadata": {},
   "outputs": [],
   "source": [
    "h_Refinement([Float64[],[-4.5]])"
   ]
  },
  {
   "cell_type": "code",
   "execution_count": null,
   "metadata": {},
   "outputs": [],
   "source": [
    "fixed(n₁,n₂)=[[1,(n₂+1)÷2,1],[1,(n₂+1)÷2,2],[n₁,(n₂+1)÷2,1],[n₁,(n₂+1)÷2,2],[(n₁+1)÷2,(n₂+1)÷2,1],[(n₁+1)÷2,(n₂+1)÷2,2],[(n₁+1)÷2,(n₂+1)÷2-1,1]]\n",
    "NewtonMethodIteration(nip=35,fixed=fixed)"
   ]
  },
  {
   "cell_type": "code",
   "execution_count": null,
   "metadata": {},
   "outputs": [],
   "source": [
    "ShowKnots()"
   ]
  },
  {
   "cell_type": "code",
   "execution_count": null,
   "metadata": {},
   "outputs": [],
   "source": [
    "# k₁₊=collect(range(-11.0,stop=11,step=2))\n",
    "# k₁₊=collect(range(-11.5,stop=11.5,step=1.0))\n",
    "# h_Refinement([[-7.0,-5.0,5.0,7.0],Float64[]])\n",
    "# h_Refinement([[-9.0,-3.0,3.0,9.0,5.5,6.5,7.5,-5.5,-6.5,-7.5],Float64[]])\n",
    "# h_Refinement([[-1.0,1.0,-7.25, -6.75, -6.25, -5.75,5.75, 6.25, 6.75, 7.25],Float64[]])\n",
    "h_Refinement([[-4.5, -3.5, -2.5, -1.5, -0.5, 0.5, 1.5, 2.5, 3.5, 4.5],Float64[]])"
   ]
  },
  {
   "cell_type": "code",
   "execution_count": null,
   "metadata": {},
   "outputs": [],
   "source": [
    "FinalOutput(unitlength=(10,\"mm\"),cutout=(0.2,5))"
   ]
  },
  {
   "cell_type": "code",
   "execution_count": null,
   "metadata": {},
   "outputs": [],
   "source": [
    "Settings(\"Clock5a\",up=15,down=-15,right=15,left=-15,mesh=(24,1),unit=50,maximumstrain=0.003)"
   ]
  },
  {
   "cell_type": "code",
   "execution_count": null,
   "metadata": {},
   "outputs": [],
   "source": []
  },
  {
   "cell_type": "code",
   "execution_count": null,
   "metadata": {},
   "outputs": [],
   "source": [
    "#Catenoid\n",
    "@DefineShape 𝒑₍₀₎(u)=[cos(u[2])*cosh(u[1]),sin(u[2])*cosh(u[1]),u[1]]\n",
    "D=(-π/2..π/2,-π/36..π/36)\n",
    "Settings(\"Catenoid-a\",up=3,down=-3,right=3,left=-3,mesh=(18,1),unit=150,slack=true)"
   ]
  },
  {
   "cell_type": "code",
   "execution_count": null,
   "metadata": {},
   "outputs": [],
   "source": [
    "InitialConfiguration(D)"
   ]
  },
  {
   "cell_type": "code",
   "execution_count": null,
   "metadata": {
    "scrolled": true
   },
   "outputs": [],
   "source": [
    "NewtonMethodIteration(nip=9)"
   ]
  },
  {
   "cell_type": "code",
   "execution_count": null,
   "metadata": {},
   "outputs": [],
   "source": [
    "p_Refinement([0,1])"
   ]
  },
  {
   "cell_type": "code",
   "execution_count": null,
   "metadata": {},
   "outputs": [],
   "source": [
    "h_Refinement([Float64[],[0.0]])"
   ]
  },
  {
   "cell_type": "code",
   "execution_count": null,
   "metadata": {},
   "outputs": [],
   "source": [
    "FinalOutput(index=2,unitlength=(50,\"mm\"))"
   ]
  },
  {
   "cell_type": "code",
   "execution_count": null,
   "metadata": {},
   "outputs": [],
   "source": [
    "ShowKnots()"
   ]
  },
  {
   "cell_type": "code",
   "execution_count": null,
   "metadata": {},
   "outputs": [],
   "source": [
    "𝒑₍₀₎"
   ]
  },
  {
   "cell_type": "code",
   "execution_count": null,
   "metadata": {},
   "outputs": [],
   "source": [
    "Settings(\"Catenoid-h\",up=3,down=-3,right=3,left=-3,mesh=(18,1),unit=150,slack=true)"
   ]
  },
  {
   "cell_type": "code",
   "execution_count": null,
   "metadata": {},
   "outputs": [],
   "source": [
    "Restoration()"
   ]
  },
  {
   "cell_type": "code",
   "execution_count": null,
   "metadata": {},
   "outputs": [],
   "source": [
    "𝒑₍₀₎"
   ]
  },
  {
   "cell_type": "code",
   "execution_count": null,
   "metadata": {},
   "outputs": [],
   "source": [
    "Settings(\"Catenoid-h\",up=3,down=-3,right=3,left=-3,mesh=(18,1),unit=150,slack=true)"
   ]
  },
  {
   "cell_type": "code",
   "execution_count": null,
   "metadata": {},
   "outputs": [],
   "source": []
  },
  {
   "cell_type": "code",
   "execution_count": null,
   "metadata": {},
   "outputs": [],
   "source": []
  },
  {
   "cell_type": "code",
   "execution_count": null,
   "metadata": {},
   "outputs": [],
   "source": []
  },
  {
   "cell_type": "code",
   "execution_count": null,
   "metadata": {},
   "outputs": [],
   "source": [
    "#Catenoid\n",
    "@everywhere 𝒑₍₀₎(u)=[cos(u[1])*cosh(u[2]),sin(u[1])*cosh(u[2]),u[2]]\n",
    "D=(-π..π,6π/18..7π/18) #横方向\n",
    "Settings(\"Catenoid-b6\",up=1,down=-5,right=3,left=-3,mesh=(18,1),unit=100)"
   ]
  },
  {
   "cell_type": "code",
   "execution_count": null,
   "metadata": {},
   "outputs": [],
   "source": [
    "InitialConfiguration(D)"
   ]
  },
  {
   "cell_type": "code",
   "execution_count": null,
   "metadata": {},
   "outputs": [],
   "source": [
    "Newt(nip=15)"
   ]
  },
  {
   "cell_type": "code",
   "execution_count": null,
   "metadata": {},
   "outputs": [],
   "source": [
    "pRef([0,1])"
   ]
  },
  {
   "cell_type": "code",
   "execution_count": null,
   "metadata": {},
   "outputs": [],
   "source": [
    "hRef([Float64[],[13π/36]])"
   ]
  },
  {
   "cell_type": "code",
   "execution_count": null,
   "metadata": {},
   "outputs": [],
   "source": [
    "Newt(nip=35)"
   ]
  },
  {
   "cell_type": "code",
   "execution_count": null,
   "metadata": {},
   "outputs": [],
   "source": []
  },
  {
   "cell_type": "code",
   "execution_count": null,
   "metadata": {},
   "outputs": [],
   "source": [
    "while isfile(\"hogeA.svg\")\n",
    "end"
   ]
  },
  {
   "cell_type": "code",
   "execution_count": null,
   "metadata": {},
   "outputs": [],
   "source": []
  },
  {
   "cell_type": "code",
   "execution_count": null,
   "metadata": {},
   "outputs": [],
   "source": []
  }
 ],
 "metadata": {
  "@webio": {
   "lastCommId": "a1b383b197304ecc811cdfcf973e8219",
   "lastKernelId": "fe71f6c3-5571-4cb0-9136-864c472aa99f"
  },
  "kernelspec": {
   "display_name": "Julia 1.1.0",
   "language": "julia",
   "name": "julia-1.1"
  },
  "language_info": {
   "file_extension": ".jl",
   "mimetype": "application/julia",
   "name": "julia",
   "version": "1.1.0"
  }
 },
 "nbformat": 4,
 "nbformat_minor": 2
}
