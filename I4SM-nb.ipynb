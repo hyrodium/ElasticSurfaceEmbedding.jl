{
 "cells": [
  {
   "cell_type": "code",
   "execution_count": null,
   "metadata": {},
   "outputs": [],
   "source": [
    "# Distributed下でのパッケージ初回読込ではprecompilingとかrecompilingがコケるので初めにここで馴らす\n",
    "push!(LOAD_PATH, \".\")\n",
    "using I4SM\n",
    "exit()"
   ]
  },
  {
   "cell_type": "code",
   "execution_count": null,
   "metadata": {},
   "outputs": [],
   "source": [
    "using Distributed\n",
    "addprocs(3);\n",
    "@everywhere push!(LOAD_PATH, \".\")\n",
    "using IntervalSets\n",
    "using Bspline\n",
    "using I4SM"
   ]
  },
  {
   "cell_type": "code",
   "execution_count": null,
   "metadata": {},
   "outputs": [],
   "source": []
  },
  {
   "cell_type": "code",
   "execution_count": null,
   "metadata": {},
   "outputs": [],
   "source": [
    "#Clock\n",
    "@everywhere using LinearAlgebra\n",
    "@everywhere Cf(t)=(t>0 ? exp(-1/t) : 0.0)\n",
    "@everywhere Cg(t)=Cf(2t/sqrt(3))/(Cf(2t/sqrt(3))+Cf(2(1-t)/sqrt(3)))\n",
    "@everywhere 𝒑₍₀₎(u)=[u[1],u[2],1.6*Cg((norm(u)-7.33/2)/(9.0-7.33/2))]\n",
    "D=(-12.0..12.0,-5.0..(-4.0))\n",
    "Settings(\"Clock5d\",up=15,down=-15,right=15,left=-15,mesh=(24,1),unit=50,slack=true)"
   ]
  },
  {
   "cell_type": "code",
   "execution_count": null,
   "metadata": {},
   "outputs": [],
   "source": [
    "InitialConfiguration(𝒑₍₀₎,D)"
   ]
  },
  {
   "cell_type": "code",
   "execution_count": null,
   "metadata": {},
   "outputs": [],
   "source": [
    "NewtonMethodIteration(𝒑₍₀₎,nip=35)"
   ]
  },
  {
   "cell_type": "code",
   "execution_count": null,
   "metadata": {},
   "outputs": [],
   "source": [
    "p_Refinement(𝒑₍₀₎,[0,1])"
   ]
  },
  {
   "cell_type": "code",
   "execution_count": null,
   "metadata": {},
   "outputs": [],
   "source": [
    "h_Refinement(𝒑₍₀₎,[Float64[],[-4.5]])"
   ]
  },
  {
   "cell_type": "code",
   "execution_count": null,
   "metadata": {},
   "outputs": [],
   "source": [
    "fixed(n₁,n₂)=[[1,(n₂+1)÷2,1],[1,(n₂+1)÷2,2],[n₁,(n₂+1)÷2,1],[n₁,(n₂+1)÷2,2],[(n₁+1)÷2,(n₂+1)÷2,1],[(n₁+1)÷2,(n₂+1)÷2,2],[(n₁+1)÷2,(n₂+1)÷2-1,1]]\n",
    "NewtonMethodIteration(𝒑₍₀₎,nip=35,fixed=fixed)"
   ]
  },
  {
   "cell_type": "code",
   "execution_count": null,
   "metadata": {},
   "outputs": [],
   "source": [
    "ShowKnots()"
   ]
  },
  {
   "cell_type": "code",
   "execution_count": null,
   "metadata": {},
   "outputs": [],
   "source": [
    "# k₁₊=collect(range(-11.0,stop=11,step=2))\n",
    "# k₁₊=collect(range(-11.5,stop=11.5,step=1.0))\n",
    "# h_Refinement(𝒑₍₀₎,[[-7.0,-5.0,5.0,7.0],Float64[]])\n",
    "# h_Refinement(𝒑₍₀₎,[[-9.0,-3.0,3.0,9.0,5.5,6.5,7.5,-5.5,-6.5,-7.5],Float64[]])\n",
    "# h_Refinement(𝒑₍₀₎,[[-1.0,1.0,-7.25, -6.75, -6.25, -5.75,5.75, 6.25, 6.75, 7.25],Float64[]])\n",
    "h_Refinement(𝒑₍₀₎,[[-4.5, -3.5, -2.5, -1.5, -0.5, 0.5, 1.5, 2.5, 3.5, 4.5],Float64[]])"
   ]
  },
  {
   "cell_type": "code",
   "execution_count": null,
   "metadata": {},
   "outputs": [],
   "source": [
    "FinalOutput(unitlength=(10,\"mm\"),cutout=(0.2,5))"
   ]
  },
  {
   "cell_type": "code",
   "execution_count": null,
   "metadata": {},
   "outputs": [],
   "source": [
    "Settings(\"Clock5a\",up=15,down=-15,right=15,left=-15,mesh=(24,1),unit=50,maximumstrain=0.003)"
   ]
  },
  {
   "cell_type": "code",
   "execution_count": null,
   "metadata": {},
   "outputs": [],
   "source": []
  },
  {
   "cell_type": "code",
   "execution_count": null,
   "metadata": {},
   "outputs": [],
   "source": [
    "#Catenoid\n",
    "@everywhere 𝒑₍₀₎(u)=[cos(u[2])*cosh(u[1]),sin(u[2])*cosh(u[1]),u[1]]\n",
    "D=(-π/2..π/2,-π/36..π/36)\n",
    "Settings(\"Catenoid-a\",up=3,down=-3,right=3,left=-3,mesh=(18,1),unit=150,slack=true)"
   ]
  },
  {
   "cell_type": "code",
   "execution_count": null,
   "metadata": {},
   "outputs": [],
   "source": [
    "InitialConfiguration(𝒑₍₀₎,D)"
   ]
  },
  {
   "cell_type": "code",
   "execution_count": null,
   "metadata": {},
   "outputs": [],
   "source": [
    "NewtonMethodIteration(𝒑₍₀₎,nip=9)"
   ]
  },
  {
   "cell_type": "code",
   "execution_count": null,
   "metadata": {},
   "outputs": [],
   "source": [
    "p_Refinement(𝒑₍₀₎,[0,1])"
   ]
  },
  {
   "cell_type": "code",
   "execution_count": null,
   "metadata": {},
   "outputs": [],
   "source": [
    "h_Refinement(𝒑₍₀₎,[Float64[],[0.0]])"
   ]
  },
  {
   "cell_type": "code",
   "execution_count": null,
   "metadata": {},
   "outputs": [],
   "source": [
    "FinalOutput(index=2,unitlength=(50,\"mm\"))"
   ]
  },
  {
   "cell_type": "code",
   "execution_count": null,
   "metadata": {},
   "outputs": [],
   "source": [
    "ShowKnots()"
   ]
  },
  {
   "cell_type": "code",
   "execution_count": null,
   "metadata": {},
   "outputs": [],
   "source": []
  },
  {
   "cell_type": "code",
   "execution_count": null,
   "metadata": {},
   "outputs": [],
   "source": [
    "#Catenoid\n",
    "@everywhere 𝒑₍₀₎(u)=[cos(u[1])*cosh(u[2]),sin(u[1])*cosh(u[2]),u[2]]\n",
    "D=(-π..π,6π/18..7π/18) #横方向\n",
    "Settings(\"Catenoid-b6\",up=1,down=-5,right=3,left=-3,mesh=(18,1),unit=100)"
   ]
  },
  {
   "cell_type": "code",
   "execution_count": null,
   "metadata": {},
   "outputs": [],
   "source": [
    "InitialConfiguration(𝒑₍₀₎,D)"
   ]
  },
  {
   "cell_type": "code",
   "execution_count": null,
   "metadata": {},
   "outputs": [],
   "source": [
    "Newt(𝒑₍₀₎,nip=15)"
   ]
  },
  {
   "cell_type": "code",
   "execution_count": null,
   "metadata": {},
   "outputs": [],
   "source": [
    "pRef(𝒑₍₀₎,[0,1])"
   ]
  },
  {
   "cell_type": "code",
   "execution_count": null,
   "metadata": {},
   "outputs": [],
   "source": [
    "hRef(𝒑₍₀₎,[Float64[],[13π/36]])"
   ]
  },
  {
   "cell_type": "code",
   "execution_count": null,
   "metadata": {},
   "outputs": [],
   "source": [
    "Newt(𝒑₍₀₎,nip=35)"
   ]
  },
  {
   "cell_type": "code",
   "execution_count": null,
   "metadata": {},
   "outputs": [],
   "source": []
  }
 ],
 "metadata": {
  "kernelspec": {
   "display_name": "Julia 1.0.1",
   "language": "julia",
   "name": "julia-1.0"
  },
  "language_info": {
   "file_extension": ".jl",
   "mimetype": "application/julia",
   "name": "julia",
   "version": "1.0.1"
  }
 },
 "nbformat": 4,
 "nbformat_minor": 2
}
