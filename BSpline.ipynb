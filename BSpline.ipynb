{
 "cells": [
  {
   "cell_type": "code",
   "execution_count": 1,
   "metadata": {},
   "outputs": [],
   "source": [
    "push!(LOAD_PATH, \".\")\n",
    "using BenchmarkTools\n",
    "using IntervalSets"
   ]
  },
  {
   "cell_type": "code",
   "execution_count": 2,
   "metadata": {},
   "outputs": [],
   "source": [
    "# Knots\n",
    "struct Knots\n",
    "    vector :: Array{Float64,1}\n",
    "    function Knots(vector)\n",
    "        new(sort(vector))\n",
    "    end\n",
    "end\n",
    "\n",
    "Base.:+(k₁::Knots, k₂::Knots) = Knots(sort([k₁.vector...,k₂.vector...]))\n",
    "Base.:*(p₊::Int, k::Knots) = if (p₊==0)\n",
    "        Knots([])\n",
    "    elseif (p₊>0)\n",
    "        sum(k for _ ∈ 1:p₊)\n",
    "    else\n",
    "        error(\"p₊ must be non-negative\")\n",
    "    end\n",
    "    \n",
    "Base.in(r::Real, k::Knots) = in(r,k.vector)\n",
    "Base.getindex(k::Knots, i::Int) = k.vector[i]\n",
    "Base.getindex(k::Knots, v::AbstractArray{Int64,1}) = Knots(k.vector[v])\n",
    "Base.length(k::Knots) = length(k.vector)\n",
    "♯(k::Knots) = length(k::Knots)\n",
    "Base.firstindex(k) = 1\n",
    "Base.lastindex(k) = length(k)\n",
    "Base.unique(k::Knots) = Knots(unique(k.vector))\n",
    "\n",
    "function Base.:⊆(k::Knots, k′::Knots)\n",
    "    K′=copy(k′.vector)\n",
    "    for kᵢ ∈ k.vector\n",
    "        i=findfirst(x->x==kᵢ,K′)\n",
    "        if(i isa Nothing)\n",
    "            return false\n",
    "        end\n",
    "        deleteat!(K′,i)\n",
    "    end\n",
    "    return true\n",
    "end"
   ]
  },
  {
   "cell_type": "code",
   "execution_count": 3,
   "metadata": {},
   "outputs": [],
   "source": [
    "# B-Spline Space\n",
    "struct BSplineSpace\n",
    "    degree::Int\n",
    "    knots::Knots\n",
    "    function BSplineSpace(degree::Int, knots::Knots)\n",
    "        if (degree < 0)\n",
    "            error(\"degree of polynominal must be non-negative\")\n",
    "        else\n",
    "            new(degree,knots)\n",
    "        end\n",
    "    end\n",
    "end\n",
    "\n",
    "const 𝒫 = BSplineSpace\n",
    "\n",
    "function dim(bsplinespace::BSplineSpace)\n",
    "    p=bsplinespace.degree\n",
    "    k=bsplinespace.knots\n",
    "    return length(k)-p-1\n",
    "end\n",
    "\n",
    "function Base.:⊆(P::BSplineSpace, P′::BSplineSpace)\n",
    "    p=P.degree\n",
    "    k=P.knots\n",
    "    p′=P′.degree\n",
    "    k′=P′.knots\n",
    "    p₊=p′-p\n",
    "    \n",
    "    return (k+p₊*unique(k) ⊆ k′) && p₊ ≥ 0\n",
    "end\n",
    "\n",
    "function Base.iszero(P::BSplineSpace)\n",
    "    p=P.degree\n",
    "    k=P.knots\n",
    "    n=dim(P)\n",
    "    return [k[i]==k[i+p+1] for i ∈ 1:n]\n",
    "end"
   ]
  },
  {
   "cell_type": "code",
   "execution_count": 4,
   "metadata": {},
   "outputs": [
    {
     "data": {
      "text/plain": [
       "BSplineCoefficient (generic function with 1 method)"
      ]
     },
     "execution_count": 4,
     "metadata": {},
     "output_type": "execute_result"
    }
   ],
   "source": [
    "# B-Spline functions\n",
    "function BSplineBasis₊₀(P::BSplineSpace, t)::Array{Float64,1}\n",
    "    p=P.degree\n",
    "    k=P.knots\n",
    "    \n",
    "    n=length(k)-p-1\n",
    "    if(p==0)\n",
    "        @inbounds return [k[i] ≤ t < k[i+1] for i ∈ 1:n]\n",
    "        # @inbounds return [k[i] ≤ t < k[i+1] || (k[i] ≠ k[i+1] == k[end] == t) for i ∈ 1:n]\n",
    "    else\n",
    "        @inbounds K=[ifelse(k[i+p]==k[i],0,(t-k[i])/(k[i+p]-k[i])) for i ∈ 1:n+1]\n",
    "        @inbounds B=BSplineBasis₊₀(𝒫(p-1,k),t)\n",
    "        @inbounds return [K[i]*B[i]+(1-K[i+1])*B[i+1] for i ∈ 1:n]\n",
    "    end\n",
    "end\n",
    "\n",
    "function BSplineBasis₋₀(P::BSplineSpace, t)::Array{Float64,1}\n",
    "    p=P.degree\n",
    "    k=P.knots\n",
    "    \n",
    "    n=length(k)-p-1\n",
    "    if(p==0)\n",
    "        @inbounds return [k[i] < t ≤ k[i+1] for i ∈ 1:n]\n",
    "        # @inbounds return [k[i] < t ≤ k[i+1] || (k[i] ≠ k[i+1] == k[1] == t) for i ∈ 1:n]\n",
    "    else\n",
    "        @inbounds K=[ifelse(k[i+p]==k[i],0,(t-k[i])/(k[i+p]-k[i])) for i ∈ 1:n+1]\n",
    "        @inbounds B=BSplineBasis₋₀(𝒫(p-1,k),t)\n",
    "        @inbounds return [K[i]*B[i]+(1-K[i+1])*B[i+1] for i ∈ 1:n]\n",
    "    end\n",
    "end\n",
    "\n",
    "BSplineBasis = BSplineBasis₊₀\n",
    "\n",
    "function BSplineBasis′₊₀(P::BSplineSpace, t)::Array{Float64,1}\n",
    "    p=P.degree\n",
    "    k=P.knots\n",
    "\n",
    "    n=length(k)-p-1\n",
    "    if(p==0)\n",
    "        return [0.0 for _ ∈ 1:n]\n",
    "    else\n",
    "        @inbounds K=[ifelse(k[i+p]==k[i],0,p/(k[i+p]-k[i])) for i ∈ 1:n+1]\n",
    "        B=BSplineBasis₊₀(𝒫(p-1,k),t)\n",
    "        @inbounds return [K[i]*B[i]-K[i+1]*B[i+1] for i ∈ 1:n]\n",
    "    end\n",
    "end\n",
    "\n",
    "function BSplineBasis′₋₀(P::BSplineSpace, t)::Array{Float64,1}\n",
    "    p=P.degree\n",
    "    k=P.knots\n",
    "\n",
    "    n=length(k)-p-1\n",
    "    if(p==0)\n",
    "        return [0.0 for _ ∈ 1:n]\n",
    "    else\n",
    "        @inbounds K=[ifelse(k[i+p]==k[i],0,p/(k[i+p]-k[i])) for i ∈ 1:n+1]\n",
    "        B=BSplineBasis₋₀(𝒫(p-1,k),t)\n",
    "        @inbounds return [K[i]*B[i]-K[i+1]*B[i+1] for i ∈ 1:n]\n",
    "    end\n",
    "end\n",
    "\n",
    "BSplineBasis′ = BSplineBasis₊₀′\n",
    "\n",
    "function BSplineSupport(i::Int64, P::BSplineSpace)::ClosedInterval\n",
    "    p=P.degree\n",
    "    k=P.knots\n",
    "\n",
    "    return k[i]..k[i+p+1]\n",
    "end\n",
    "\n",
    "function BSplineCoefficient(P::BSplineSpace, P′::BSplineSpace)::Array{Float64,2}\n",
    "    p=P.degree\n",
    "    k=P.knots\n",
    "    p′=P′.degree\n",
    "    k′=P′.knots\n",
    "\n",
    "    p₊=p′-p\n",
    "    if(P ⊆ P′)\n",
    "        if(p == 0)\n",
    "            n=length(k)-1\n",
    "            n′=length(k′)-p₊-1\n",
    "            A⁰=Float64[BSplineSupport(j,𝒫(p₊,k′)) ⊆ BSplineSupport(i,𝒫(0,k)) for i ∈ 1:n, j ∈ 1:n′]\n",
    "            A⁰[:,findall(iszero(P′))].=NaN\n",
    "            return A⁰\n",
    "        else\n",
    "            Aᵖ⁻¹=BSplineCoefficient(𝒫(p-1, k), 𝒫(p′-1, k′))\n",
    "            n=dim(P)\n",
    "            n′=dim(P′)\n",
    "            \n",
    "            Z=iszero(𝒫(p′-1,k′))\n",
    "            W=findall(Z)\n",
    "\n",
    "            K′=[k′[i+p′]-k′[i] for i ∈ 1:n′+1]\n",
    "            K=[ifelse(k[i+p]≠k[i], 1/(k[i+p]-k[i]), 0.0) for i ∈ 1:n+1]\n",
    "            global Δ=(p/p′)*[K′[j]*(K[i]*Aᵖ⁻¹[i,j]-K[i+1]*Aᵖ⁻¹[i+1,j]) for i ∈ 1:n, j ∈ 1:n′+1]\n",
    "            Aᵖ=zeros(n,n′)\n",
    "            Aᵖ[:,1]=Δ[:,1]\n",
    "            Aᵖ[:,n′]=-Δ[:,n′+1]\n",
    "            \n",
    "            if(length(W)==0)\n",
    "                Q=[1:n′]\n",
    "            else\n",
    "                Q=[1:W[1]-1,[W[i]:W[i+1]-1 for i ∈ 1:length(W)-1]...,W[end]:n′]\n",
    "            end\n",
    "            l=length(Q)\n",
    "            L=length.(Q)\n",
    "            Ãᵖ=[Aᵖ[:,q] for q ∈ Q]\n",
    "            \n",
    "            for ȷ ∈ 2:l-1\n",
    "                if(L[ȷ]==1)\n",
    "                    Ãᵖ[ȷ] .= NaN\n",
    "                end\n",
    "            end\n",
    "            for ȷ ∈ 1:l-1\n",
    "                if(L[ȷ] ≥ 2)\n",
    "                    t=k′[W[ȷ]]\n",
    "                    Ãᵖ[ȷ][:,end]=BSplineBasis₋₀(𝒫(p,k),t)\n",
    "                end\n",
    "            end\n",
    "            for ȷ ∈ 2:l\n",
    "                if(L[ȷ] ≥ 2)\n",
    "                    t=k′[W[ȷ-1]+p]\n",
    "                    Ãᵖ[ȷ][:,1]=BSplineBasis₊₀(𝒫(p,k),t)\n",
    "                end\n",
    "            end\n",
    "            for ȷ ∈ 1:l\n",
    "                if(L[ȷ] ≥ 3)\n",
    "                    r=Q[ȷ]\n",
    "                    A₊=copy(Ãᵖ[ȷ])\n",
    "                    A₋=copy(Ãᵖ[ȷ])\n",
    "                    for j ∈ 1:L[ȷ]-2\n",
    "                        A₊[:,j+1]=A₊[:,j]+Δ[:,j+r[1]]\n",
    "                        A₋[:,L[ȷ]-j]=A₋[:,L[ȷ]-j+1]-Δ[:,L[ȷ]-j+r[1]]\n",
    "                    end\n",
    "                    Ãᵖ[ȷ]=(A₊+A₋)/2\n",
    "                end\n",
    "            end\n",
    "            \n",
    "            Aᵖ=hcat(Ãᵖ...)\n",
    "            return Aᵖ .* Float64[BSplineSupport(j,P′) ⊆ BSplineSupport(i,P) for i ∈ 1:n, j ∈ 1:n′]\n",
    "        end\n",
    "    else\n",
    "        error(\"𝒫[p,k] ⊄ 𝒫[p′,k′]\")\n",
    "    end\n",
    "end"
   ]
  },
  {
   "cell_type": "code",
   "execution_count": 26,
   "metadata": {},
   "outputs": [
    {
     "data": {
      "text/plain": [
       "BSplineSpace(50, Knots([0.0, 0.0, 0.0, 0.0, 0.0, 0.0, 0.0, 0.0, 0.0, 0.0  …  2.0, 2.0, 2.0, 2.0, 2.0, 2.0, 2.0, 2.0, 2.0, 2.0]))"
      ]
     },
     "execution_count": 26,
     "metadata": {},
     "output_type": "execute_result"
    }
   ],
   "source": [
    "p=3\n",
    "p′=50\n",
    "p₊=p′-p\n",
    "k=Knots([0,0,0,0])+Knots(2*rand(3))+Knots([2,2,2,2])+Knots([1.1,1.1,1.1,1.1])\n",
    "k′=k+(p₊)*unique(k)+Knots(rand(4).*(k[end]-k[1]).+k[1])\n",
    "\n",
    "P=𝒫(p,k)\n",
    "P′=𝒫(p′,k′)"
   ]
  },
  {
   "cell_type": "code",
   "execution_count": 27,
   "metadata": {},
   "outputs": [
    {
     "data": {
      "text/plain": [
       "11-element Array{Float64,1}:\n",
       "  0.0                   \n",
       "  1.0547118733938987e-15\n",
       "  1.2212453270876722e-15\n",
       "  6.38378239159465e-16  \n",
       " -2.688821387764051e-16 \n",
       "  0.0                   \n",
       "  0.0                   \n",
       "  0.0                   \n",
       "  0.0                   \n",
       "  0.0                   \n",
       "  0.0                   "
      ]
     },
     "execution_count": 27,
     "metadata": {},
     "output_type": "execute_result"
    }
   ],
   "source": [
    "t=2*rand()\n",
    "BSplineBasis(𝒫(p,k),t)-BSplineCoefficient(𝒫(p,k),𝒫(p′,k′))*BSplineBasis(𝒫(p′,k′),t)"
   ]
  },
  {
   "cell_type": "code",
   "execution_count": 44,
   "metadata": {},
   "outputs": [
    {
     "data": {
      "text/plain": [
       "tensorprod (generic function with 1 method)"
      ]
     },
     "execution_count": 44,
     "metadata": {},
     "output_type": "execute_result"
    }
   ],
   "source": [
    "function ⊗(X::Array{Float64},Y::Array{Float64})::Array{Float64}\n",
    "    m=size(X)\n",
    "    n=size(Y)\n",
    "    reshape(reshape(X,length(X)) * reshape(Y,length(Y))', m..., n...)\n",
    "end\n",
    "\n",
    "function tensorprod(X::Array{T,1}) where T <: Array{Float64}\n",
    "    n=length(X)\n",
    "    # X[1] ⊗ … ⊗ X[n]\n",
    "    @inbounds Y=X[1]\n",
    "    for i ∈ 2:n\n",
    "        @inbounds Y = Y ⊗ X[i]\n",
    "    end\n",
    "    return Y\n",
    "end"
   ]
  },
  {
   "cell_type": "code",
   "execution_count": 30,
   "metadata": {},
   "outputs": [
    {
     "data": {
      "text/plain": [
       "Mapping (generic function with 1 method)"
      ]
     },
     "execution_count": 30,
     "metadata": {},
     "output_type": "execute_result"
    }
   ],
   "source": [
    "struct BSplineManifold\n",
    "    bsplinespaces::Array{BSplineSpace,1}\n",
    "    controlpoints::Array{Float64}\n",
    "    function BSplineManifold(bsplinespaces::Array{BSplineSpace,1}, controlpoints::Array{Float64})\n",
    "        if (collect(size(controlpoints)[1:end-1]) ≠ dim.(bsplinespaces))\n",
    "            error(\"dimension does not match\")\n",
    "        else\n",
    "            new(bsplinespaces, controlpoints)\n",
    "        end\n",
    "    end\n",
    "end\n",
    "\n",
    "function BSplineBasis(𝒫s::Array{BSplineSpace,1},t)\n",
    "    if(length(𝒫s)==length(t)==1)\n",
    "        return BSplineBasis(𝒫s[1],t[1])\n",
    "    elseif(length(𝒫s)==length(t)==2)\n",
    "        return BSplineBasis(𝒫s[1],t[1])*BSplineBasis(𝒫s[2],t[2])'\n",
    "    else\n",
    "        error(\"dimension does not match\")\n",
    "    end\n",
    "end\n",
    "\n",
    "function Mapping(M::BSplineManifold, t::Array{Float64,1})\n",
    "    𝒫s = M.bsplinespaces\n",
    "    𝒂 = M.controlpoints\n",
    "    d=length(𝒫s)\n",
    "    d̂=size(𝒂)[end]\n",
    "    return [sum(BSplineBasis(𝒫s,t).*𝒂[:,:,i]) for i ∈ 1:d̂]\n",
    "end"
   ]
  },
  {
   "cell_type": "code",
   "execution_count": 45,
   "metadata": {},
   "outputs": [
    {
     "data": {
      "text/plain": [
       "BSplineBasis (generic function with 2 methods)"
      ]
     },
     "execution_count": 45,
     "metadata": {},
     "output_type": "execute_result"
    }
   ],
   "source": [
    "function BSplineBasis(𝒫s::Array{BSplineSpace,1},t)\n",
    "    d=length(t)\n",
    "    Bs=[BSplineBasis(𝒫s[i],t[i]) for i ∈ 1:d]\n",
    "    return tensorprod(Bs)\n",
    "end"
   ]
  },
  {
   "cell_type": "code",
   "execution_count": null,
   "metadata": {},
   "outputs": [],
   "source": []
  },
  {
   "cell_type": "code",
   "execution_count": 43,
   "metadata": {},
   "outputs": [
    {
     "data": {
      "text/plain": [
       "2-element Array{Int64,1}:\n",
       " 1\n",
       " 3"
      ]
     },
     "execution_count": 43,
     "metadata": {},
     "output_type": "execute_result"
    }
   ],
   "source": [
    "[(i) for (i,j) ∈ (1:8, 3:90)]"
   ]
  },
  {
   "cell_type": "code",
   "execution_count": null,
   "metadata": {},
   "outputs": [],
   "source": []
  },
  {
   "cell_type": "code",
   "execution_count": null,
   "metadata": {},
   "outputs": [],
   "source": []
  },
  {
   "cell_type": "code",
   "execution_count": 38,
   "metadata": {},
   "outputs": [
    {
     "ename": "LoadError",
     "evalue": "syntax: invalid iteration specification",
     "output_type": "error",
     "traceback": [
      "syntax: invalid iteration specification",
      ""
     ]
    }
   ],
   "source": [
    "[i for i ⊆ [1,2,4]]"
   ]
  },
  {
   "cell_type": "code",
   "execution_count": null,
   "metadata": {},
   "outputs": [],
   "source": []
  },
  {
   "cell_type": "code",
   "execution_count": null,
   "metadata": {},
   "outputs": [],
   "source": []
  },
  {
   "cell_type": "code",
   "execution_count": null,
   "metadata": {},
   "outputs": [],
   "source": []
  },
  {
   "cell_type": "code",
   "execution_count": null,
   "metadata": {},
   "outputs": [],
   "source": []
  },
  {
   "cell_type": "code",
   "execution_count": 46,
   "metadata": {},
   "outputs": [
    {
     "data": {
      "text/plain": [
       "Refinement (generic function with 1 method)"
      ]
     },
     "execution_count": 46,
     "metadata": {},
     "output_type": "execute_result"
    }
   ],
   "source": [
    "function Refinement(M::BSplineManifold, 𝒫s′::Array{BSplineSpace,1})\n",
    "    𝒫s = M.bsplinespaces\n",
    "    𝒂 = M.controlpoints\n",
    "    d̂ = size(𝒂)[end]\n",
    "    n = dim.(𝒫s)\n",
    "    n′ = dim.(𝒫s′)\n",
    "    if(prod(𝒫s .⊆ 𝒫s′))\n",
    "        A = BSplineCoefficient.(𝒫s,𝒫s′)\n",
    "        𝒂′ = [sum(A[1][I₁,J₁]*A[2][I₂,J₂]*𝒂[I₁,I₂,i] for I₁ ∈ 1:n[1], I₂ ∈ 1:n[2]) for J₁ ∈ 1:n′[1], J₂ ∈ 1:n′[2], i ∈ 1:d̂]\n",
    "        return BSplineManifold(𝒫s′, 𝒂′)\n",
    "    else\n",
    "        error(\"𝒫[p,k] ⊄ 𝒫[p′,k′]\")\n",
    "    end\n",
    "end"
   ]
  },
  {
   "cell_type": "code",
   "execution_count": null,
   "metadata": {},
   "outputs": [],
   "source": []
  },
  {
   "cell_type": "code",
   "execution_count": 55,
   "metadata": {},
   "outputs": [
    {
     "data": {
      "text/plain": [
       "false"
      ]
     },
     "execution_count": 55,
     "metadata": {},
     "output_type": "execute_result"
    }
   ],
   "source": [
    "Knots([1,2,3]) ⊈ Knots([1,2,3])"
   ]
  },
  {
   "cell_type": "code",
   "execution_count": 58,
   "metadata": {},
   "outputs": [
    {
     "name": "stdout",
     "output_type": "stream",
     "text": [
      "\"\u001b[36m⊈\u001b[39m\" can be typed by \u001b[36m\\nsubseteq<tab>\u001b[39m\n",
      "\n",
      "search: \u001b[0m\u001b[1m⊈\u001b[22m\n",
      "\n"
     ]
    },
    {
     "data": {
      "text/latex": [
       "\\begin{verbatim}\n",
       "⊈(a, b) -> Bool\n",
       "⊉(b, a) -> Bool\n",
       "\\end{verbatim}\n",
       "Negation of \\texttt{⊆} and \\texttt{⊇}, i.e. checks that \\texttt{a} is not a subset of \\texttt{b}.\n",
       "\n",
       "\\section{Examples}\n",
       "\\begin{verbatim}\n",
       "julia> (1, 2) ⊈ (2, 3)\n",
       "true\n",
       "\n",
       "julia> (1, 2) ⊈ (1, 2, 3)\n",
       "false\n",
       "\\end{verbatim}\n"
      ],
      "text/markdown": [
       "```\n",
       "⊈(a, b) -> Bool\n",
       "⊉(b, a) -> Bool\n",
       "```\n",
       "\n",
       "Negation of `⊆` and `⊇`, i.e. checks that `a` is not a subset of `b`.\n",
       "\n",
       "# Examples\n",
       "\n",
       "```jldoctest\n",
       "julia> (1, 2) ⊈ (2, 3)\n",
       "true\n",
       "\n",
       "julia> (1, 2) ⊈ (1, 2, 3)\n",
       "false\n",
       "```\n"
      ],
      "text/plain": [
       "\u001b[36m  ⊈(a, b) -> Bool\u001b[39m\n",
       "\u001b[36m  ⊉(b, a) -> Bool\u001b[39m\n",
       "\n",
       "  Negation of \u001b[36m⊆\u001b[39m and \u001b[36m⊇\u001b[39m, i.e. checks that \u001b[36ma\u001b[39m is not a subset of \u001b[36mb\u001b[39m.\n",
       "\n",
       "\u001b[1m  Examples\u001b[22m\n",
       "\u001b[1m  ≡≡≡≡≡≡≡≡≡≡\u001b[22m\n",
       "\n",
       "\u001b[36m  julia> (1, 2) ⊈ (2, 3)\u001b[39m\n",
       "\u001b[36m  true\u001b[39m\n",
       "\u001b[36m  \u001b[39m\n",
       "\u001b[36m  julia> (1, 2) ⊈ (1, 2, 3)\u001b[39m\n",
       "\u001b[36m  false\u001b[39m"
      ]
     },
     "execution_count": 58,
     "metadata": {},
     "output_type": "execute_result"
    }
   ],
   "source": [
    "?⊈"
   ]
  },
  {
   "cell_type": "code",
   "execution_count": 59,
   "metadata": {},
   "outputs": [
    {
     "name": "stdout",
     "output_type": "stream",
     "text": [
      "# This file is a part of Julia. License is MIT: https://julialang.org/license\n",
      "\n",
      "eltype(::Type{<:AbstractSet{T}}) where {T} = @isdefined(T) ? T : Any\n",
      "sizehint!(s::AbstractSet, n) = nothing\n",
      "\n",
      "copy!(dst::AbstractSet, src::AbstractSet) = union!(empty!(dst), src)\n",
      "\n",
      "## set operations (union, intersection, symmetric difference)\n",
      "\n",
      "\"\"\"\n",
      "    union(s, itrs...)\n",
      "    ∪(s, itrs...)\n",
      "\n",
      "Construct the union of sets. Maintain order with arrays.\n",
      "\n",
      "# Examples\n",
      "```jldoctest\n",
      "julia> union([1, 2], [3, 4])\n",
      "4-element Array{Int64,1}:\n",
      " 1\n",
      " 2\n",
      " 3\n",
      " 4\n",
      "\n",
      "julia> union([1, 2], [2, 4])\n",
      "3-element Array{Int64,1}:\n",
      " 1\n",
      " 2\n",
      " 4\n",
      "\n",
      "julia> union([4, 2], 1:2)\n",
      "3-element Array{Int64,1}:\n",
      " 4\n",
      " 2\n",
      " 1\n",
      "\n",
      "julia> union(Set([1, 2]), 2:3)\n",
      "Set([2, 3, 1])\n",
      "```\n",
      "\"\"\"\n",
      "function union end\n",
      "\n",
      "_in(itr) = x -> x in itr\n",
      "\n",
      "union(s, sets...) = union!(emptymutable(s, promote_eltype(s, sets...)), s, sets...)\n",
      "union(s::AbstractSet) = copy(s)\n",
      "\n",
      "const ∪ = union\n",
      "\n",
      "\"\"\"\n",
      "    union!(s::Union{AbstractSet,AbstractVector}, itrs...)\n",
      "\n",
      "Construct the union of passed in sets and overwrite `s` with the result.\n",
      "Maintain order with arrays.\n",
      "\n",
      "# Examples\n",
      "```jldoctest\n",
      "julia> a = Set([1, 3, 4, 5]);\n",
      "\n",
      "julia> union!(a, 1:2:8);\n",
      "\n",
      "julia> a\n",
      "Set([7, 4, 3, 5, 1])\n",
      "```\n",
      "\"\"\"\n",
      "function union!(s::AbstractSet, sets...)\n",
      "    for x in sets\n",
      "        union!(s, x)\n",
      "    end\n",
      "    return s\n",
      "end\n",
      "\n",
      "max_values(::Type) = typemax(Int)\n",
      "max_values(T::Union{map(X -> Type{X}, BitIntegerSmall_types)...}) = 1 << (8*sizeof(T))\n",
      "# saturated addition to prevent overflow with typemax(Int)\n",
      "max_values(T::Union) = max(max_values(T.a), max_values(T.b), max_values(T.a) + max_values(T.b))\n",
      "max_values(::Type{Bool}) = 2\n",
      "max_values(::Type{Nothing}) = 1\n",
      "\n",
      "function union!(s::AbstractSet{T}, itr) where T\n",
      "    haslength(itr) && sizehint!(s, length(s) + length(itr))\n",
      "    for x in itr\n",
      "        push!(s, x)\n",
      "        length(s) == max_values(T) && break\n",
      "    end\n",
      "    return s\n",
      "end\n",
      "\n",
      "\"\"\"\n",
      "    intersect(s, itrs...)\n",
      "    ∩(s, itrs...)\n",
      "\n",
      "Construct the intersection of sets.\n",
      "Maintain order with arrays.\n",
      "\n",
      "# Examples\n",
      "```jldoctest\n",
      "julia> intersect([1, 2, 3], [3, 4, 5])\n",
      "1-element Array{Int64,1}:\n",
      " 3\n",
      "\n",
      "julia> intersect([1, 4, 4, 5, 6], [4, 6, 6, 7, 8])\n",
      "2-element Array{Int64,1}:\n",
      " 4\n",
      " 6\n",
      "\n",
      "julia> intersect(Set([1, 2]), BitSet([2, 3]))\n",
      "Set([2])\n",
      "```\n",
      "\"\"\"\n",
      "intersect(s::AbstractSet, itr, itrs...) = intersect!(intersect(s, itr), itrs...)\n",
      "intersect(s) = union(s)\n",
      "intersect(s::AbstractSet, itr) = mapfilter(_in(s), push!, itr, emptymutable(s))\n",
      "\n",
      "const ∩ = intersect\n",
      "\n",
      "\"\"\"\n",
      "    intersect!(s::Union{AbstractSet,AbstractVector}, itrs...)\n",
      "\n",
      "Intersect all passed in sets and overwrite `s` with the result.\n",
      "Maintain order with arrays.\n",
      "\"\"\"\n",
      "function intersect!(s::AbstractSet, itrs...)\n",
      "    for x in itrs\n",
      "        intersect!(s, x)\n",
      "    end\n",
      "    return s\n",
      "end\n",
      "intersect!(s::AbstractSet, s2::AbstractSet) = filter!(_in(s2), s)\n",
      "intersect!(s::AbstractSet, itr) =\n",
      "    intersect!(s, union!(emptymutable(s, eltype(itr)), itr))\n",
      "\n",
      "\"\"\"\n",
      "    setdiff(s, itrs...)\n",
      "\n",
      "Construct the set of elements in `s` but not in any of the iterables in `itrs`.\n",
      "Maintain order with arrays.\n",
      "\n",
      "# Examples\n",
      "```jldoctest\n",
      "julia> setdiff([1,2,3], [3,4,5])\n",
      "2-element Array{Int64,1}:\n",
      " 1\n",
      " 2\n",
      "```\n",
      "\"\"\"\n",
      "setdiff(s::AbstractSet, itrs...) = setdiff!(copymutable(s), itrs...)\n",
      "setdiff(s) = union(s)\n",
      "\n",
      "\"\"\"\n",
      "    setdiff!(s, itrs...)\n",
      "\n",
      "Remove from set `s` (in-place) each element of each iterable from `itrs`.\n",
      "Maintain order with arrays.\n",
      "\n",
      "# Examples\n",
      "```jldoctest\n",
      "julia> a = Set([1, 3, 4, 5]);\n",
      "\n",
      "julia> setdiff!(a, 1:2:6);\n",
      "\n",
      "julia> a\n",
      "Set([4])\n",
      "```\n",
      "\"\"\"\n",
      "function setdiff!(s::AbstractSet, itrs...)\n",
      "    for x in itrs\n",
      "        setdiff!(s, x)\n",
      "    end\n",
      "    return s\n",
      "end\n",
      "function setdiff!(s::AbstractSet, itr)\n",
      "    for x in itr\n",
      "        delete!(s, x)\n",
      "    end\n",
      "    return s\n",
      "end\n",
      "\n",
      "\n",
      "\"\"\"\n",
      "    symdiff(s, itrs...)\n",
      "\n",
      "Construct the symmetric difference of elements in the passed in sets.\n",
      "When `s` is not an `AbstractSet`, the order is maintained.\n",
      "Note that in this case the multiplicity of elements matters.\n",
      "\n",
      "# Examples\n",
      "```jldoctest\n",
      "julia> symdiff([1,2,3], [3,4,5], [4,5,6])\n",
      "3-element Array{Int64,1}:\n",
      " 1\n",
      " 2\n",
      " 6\n",
      "\n",
      "julia> symdiff([1,2,1], [2, 1, 2])\n",
      "2-element Array{Int64,1}:\n",
      " 1\n",
      " 2\n",
      "\n",
      "julia> symdiff(unique([1,2,1]), unique([2, 1, 2]))\n",
      "0-element Array{Int64,1}\n",
      "```\n",
      "\"\"\"\n",
      "symdiff(s, sets...) = symdiff!(emptymutable(s, promote_eltype(s, sets...)), s, sets...)\n",
      "symdiff(s) = symdiff!(copy(s))\n",
      "\n",
      "\"\"\"\n",
      "    symdiff!(s::Union{AbstractSet,AbstractVector}, itrs...)\n",
      "\n",
      "Construct the symmetric difference of the passed in sets, and overwrite `s` with the result.\n",
      "When `s` is an array, the order is maintained.\n",
      "Note that in this case the multiplicity of elements matters.\n",
      "\"\"\"\n",
      "function symdiff!(s::AbstractSet, itrs...)\n",
      "    for x in itrs\n",
      "        symdiff!(s, x)\n",
      "    end\n",
      "    return s\n",
      "end\n",
      "\n",
      "function symdiff!(s::AbstractSet, itr)\n",
      "    for x in itr\n",
      "        x in s ? delete!(s, x) : push!(s, x)\n",
      "    end\n",
      "    return s\n",
      "end\n",
      "\n",
      "## non-strict subset comparison\n",
      "\n",
      "const ⊆ = issubset\n",
      "function ⊇ end\n",
      "\"\"\"\n",
      "    issubset(a, b) -> Bool\n",
      "    ⊆(a, b) -> Bool\n",
      "    ⊇(b, a) -> Bool\n",
      "\n",
      "Determine whether every element of `a` is also in `b`, using [`in`](@ref).\n",
      "\n",
      "# Examples\n",
      "```jldoctest\n",
      "julia> issubset([1, 2], [1, 2, 3])\n",
      "true\n",
      "\n",
      "julia> [1, 2, 3] ⊆ [1, 2]\n",
      "false\n",
      "\n",
      "julia> [1, 2, 3] ⊇ [1, 2]\n",
      "true\n",
      "```\n",
      "\"\"\"\n",
      "issubset, ⊆, ⊇\n",
      "\n",
      "function issubset(l, r)\n",
      "    if haslength(r)\n",
      "        rlen = length(r)\n",
      "        if isa(l, AbstractSet)\n",
      "            # check l for too many unique elements\n",
      "            length(l) > rlen && return false\n",
      "        end\n",
      "        # if r is big enough, convert it to a Set\n",
      "        # threshold empirically determined by repeatedly\n",
      "        # sampling using these two methods (see #26198)\n",
      "        if rlen > 70 && !isa(r, AbstractSet)\n",
      "            return issubset(l, Set(r))\n",
      "        end\n",
      "    end\n",
      "    for elt in l\n",
      "        elt in r || return false\n",
      "    end\n",
      "    return true\n",
      "end\n",
      "\n",
      "⊇(l, r) = r ⊆ l\n",
      "\n",
      "## strict subset comparison\n",
      "\n",
      "function ⊊ end\n",
      "function ⊋ end\n",
      "\"\"\"\n",
      "    ⊊(a, b) -> Bool\n",
      "    ⊋(b, a) -> Bool\n",
      "\n",
      "Determines if `a` is a subset of, but not equal to, `b`.\n",
      "\n",
      "# Examples\n",
      "```jldoctest\n",
      "julia> (1, 2) ⊊ (1, 2, 3)\n",
      "true\n",
      "\n",
      "julia> (1, 2) ⊊ (1, 2)\n",
      "false\n",
      "```\n",
      "\"\"\"\n",
      "⊊, ⊋\n",
      "\n",
      "⊊(l::AbstractSet, r) = length(l) < length(r) && l ⊆ r\n",
      "⊊(l, r) = Set(l) ⊊ r\n",
      "⊋(l, r) = r ⊊ l\n",
      "\n",
      "function ⊈ end\n",
      "function ⊉ end\n",
      "\"\"\"\n",
      "    ⊈(a, b) -> Bool\n",
      "    ⊉(b, a) -> Bool\n",
      "\n",
      "Negation of `⊆` and `⊇`, i.e. checks that `a` is not a subset of `b`.\n",
      "\n",
      "# Examples\n",
      "```jldoctest\n",
      "julia> (1, 2) ⊈ (2, 3)\n",
      "true\n",
      "\n",
      "julia> (1, 2) ⊈ (1, 2, 3)\n",
      "false\n",
      "```\n",
      "\"\"\"\n",
      "⊈, ⊉\n",
      "\n",
      "⊈(l, r) = !⊆(l, r)\n",
      "⊉(l, r) = r ⊈ l\n",
      "\n",
      "## set equality comparison\n",
      "\n",
      "\"\"\"\n",
      "    issetequal(a, b) -> Bool\n",
      "\n",
      "Determine whether `a` and `b` have the same elements. Equivalent\n",
      "to `a ⊆ b && b ⊆ a` but more efficient when possible.\n",
      "\n",
      "# Examples\n",
      "```jldoctest\n",
      "julia> issetequal([1, 2], [1, 2, 3])\n",
      "false\n",
      "\n",
      "julia> issetequal([1, 2], [2, 1])\n",
      "true\n",
      "```\n",
      "\"\"\"\n",
      "issetequal(l::AbstractSet, r::AbstractSet) = l == r\n",
      "issetequal(l::AbstractSet, r) = issetequal(l, Set(r))\n",
      "\n",
      "function issetequal(l, r::AbstractSet)\n",
      "    if haslength(l)\n",
      "        # check r for too many unique elements\n",
      "        length(l) < length(r) && return false\n",
      "    end\n",
      "    return issetequal(Set(l), r)\n",
      "end\n",
      "\n",
      "function issetequal(l, r)\n",
      "    haslength(l) && return issetequal(l, Set(r))\n",
      "    haslength(r) && return issetequal(r, Set(l))\n",
      "    return issetequal(Set(l), Set(r))\n",
      "end\n",
      "\n",
      "## partial ordering of sets by containment\n",
      "\n",
      "==(l::AbstractSet, r::AbstractSet) = length(l) == length(r) && l ⊆ r\n",
      "# convenience functions for AbstractSet\n",
      "# (if needed, only their synonyms ⊊ and ⊆ must be specialized)\n",
      "<( l::AbstractSet, r::AbstractSet) = l ⊊ r\n",
      "<=(l::AbstractSet, r::AbstractSet) = l ⊆ r\n",
      "\n",
      "## filtering sets\n",
      "\n",
      "filter(pred, s::AbstractSet) = mapfilter(pred, push!, s, emptymutable(s))\n",
      "\n",
      "# it must be safe to delete the current element while iterating over s:\n",
      "unsafe_filter!(pred, s::AbstractSet) = mapfilter(!pred, delete!, s, s)\n",
      "\n",
      "# TODO: delete mapfilter in favor of comprehensions/foldl/filter when competitive\n",
      "function mapfilter(pred, f, itr, res)\n",
      "    for x in itr\n",
      "        pred(x) && f(res, x)\n",
      "    end\n",
      "    res\n",
      "end\n"
     ]
    }
   ],
   "source": [
    "@less ⊈([1,2],[2,3])"
   ]
  },
  {
   "cell_type": "code",
   "execution_count": null,
   "metadata": {},
   "outputs": [],
   "source": []
  },
  {
   "cell_type": "code",
   "execution_count": null,
   "metadata": {},
   "outputs": [],
   "source": []
  },
  {
   "cell_type": "code",
   "execution_count": null,
   "metadata": {},
   "outputs": [],
   "source": []
  },
  {
   "cell_type": "code",
   "execution_count": 51,
   "metadata": {},
   "outputs": [
    {
     "ename": "UndefVarError",
     "evalue": "UndefVarError: ⊄ not defined",
     "output_type": "error",
     "traceback": [
      "UndefVarError: ⊄ not defined",
      "",
      "Stacktrace:",
      " [1] top-level scope at In[51]:1"
     ]
    }
   ],
   "source": [
    "⊄"
   ]
  },
  {
   "cell_type": "code",
   "execution_count": null,
   "metadata": {},
   "outputs": [],
   "source": []
  },
  {
   "cell_type": "code",
   "execution_count": 47,
   "metadata": {},
   "outputs": [
    {
     "data": {
      "text/plain": [
       "2-element Array{Float64,1}:\n",
       " 0.39999999999999997\n",
       " 0.8999999999999999 "
      ]
     },
     "execution_count": 47,
     "metadata": {},
     "output_type": "execute_result"
    }
   ],
   "source": [
    "k₁=k₂=Knots([-0.1,0,1,1.1])\n",
    "p₁=p₂=1\n",
    "\n",
    "𝒂=Float64[ifelse(i==1, 2*I₁, 3*I₂) for I₁ ∈ 0:1,  I₂ ∈ 0:1, i ∈ 1:2]\n",
    "𝒫s=[𝒫(p₁,k₁), 𝒫(p₂,k₂)]\n",
    "M=BSplineManifold(𝒫s,𝒂)\n",
    "\n",
    "t=[0.2,0.3]\n",
    "Mapping(M,t)"
   ]
  },
  {
   "cell_type": "code",
   "execution_count": 48,
   "metadata": {},
   "outputs": [
    {
     "data": {
      "text/plain": [
       "BSplineManifold(BSplineSpace[BSplineSpace(3, Knots([-0.1, -0.1, -0.1, 0.0, 0.0, 0.0, 0.005139389503538094, 0.008904766112976636, 0.01225753306945876, 0.015636762284422234  …  0.9912895675478157, 0.9943770426597411, 0.9949696421537422, 0.9960480681084651, 1.0, 1.0, 1.0, 1.1, 1.1, 1.1])), BSplineSpace(3, Knots([-0.1, -0.1, -0.1, 0.0, 0.0, 0.0, 0.001873070211117156, 0.00215299582708961, 0.00420073372994878, 0.010156852030194008  …  0.9945144778033306, 0.9967341930586378, 0.9993673657017237, 0.9999345968753, 1.0, 1.0, 1.0, 1.1, 1.1, 1.1]))], [0.0 0.0 … 0.0 0.0; 0.0 0.0 … 0.0 0.0; … ; 0.4444444444444445 0.8888888888888888 … 0.8888888888888888 0.4444444444444445; 0.2222222222222222 0.4444444444444443 … 0.4444444444444443 0.2222222222222222]\n",
       "\n",
       "[0.0 0.0 … 0.6666666666666665 0.3333333333333333; 0.0 0.0 … 1.3333333333333333 0.6666666666666667; … ; 0.0 0.0 … 1.3333333333333333 0.6666666666666667; 0.0 0.0 … 0.6666666666666665 0.3333333333333333])"
      ]
     },
     "execution_count": 48,
     "metadata": {},
     "output_type": "execute_result"
    }
   ],
   "source": [
    "p′₁=p′₂=3\n",
    "k′₁=k₁+2unique(k₁)+Knots(rand(300))\n",
    "k′₂=k₂+2unique(k₂)+Knots(rand(300))\n",
    "M′=Refinement(M, [𝒫(p′₁,k′₁), 𝒫(p′₂,k′₂)])"
   ]
  },
  {
   "cell_type": "code",
   "execution_count": 50,
   "metadata": {},
   "outputs": [
    {
     "data": {
      "text/plain": [
       "2×2 Array{Float64,2}:\n",
       " 0.35  0.35\n",
       " 0.15  0.15"
      ]
     },
     "execution_count": 50,
     "metadata": {},
     "output_type": "execute_result"
    }
   ],
   "source": [
    "@benchmark BSplineBasis(𝒫s,[0.3,0.5])"
   ]
  },
  {
   "cell_type": "code",
   "execution_count": null,
   "metadata": {},
   "outputs": [],
   "source": []
  },
  {
   "cell_type": "code",
   "execution_count": null,
   "metadata": {},
   "outputs": [],
   "source": []
  },
  {
   "cell_type": "code",
   "execution_count": 11,
   "metadata": {},
   "outputs": [
    {
     "data": {
      "text/plain": [
       "BenchmarkTools.Trial: \n",
       "  memory estimate:  4.66 MiB\n",
       "  allocs estimate:  14979\n",
       "  --------------\n",
       "  minimum time:     645.087 μs (0.00% GC)\n",
       "  median time:      723.404 μs (0.00% GC)\n",
       "  mean time:        891.210 μs (12.82% GC)\n",
       "  maximum time:     4.528 ms (31.89% GC)\n",
       "  --------------\n",
       "  samples:          5562\n",
       "  evals/sample:     1"
      ]
     },
     "execution_count": 11,
     "metadata": {},
     "output_type": "execute_result"
    }
   ],
   "source": [
    "t=rand(2)\n",
    "@benchmark Mapping(M′,t)"
   ]
  },
  {
   "cell_type": "code",
   "execution_count": 66,
   "metadata": {},
   "outputs": [
    {
     "data": {
      "text/plain": [
       "BenchmarkTools.Trial: \n",
       "  memory estimate:  5.00 KiB\n",
       "  allocs estimate:  121\n",
       "  --------------\n",
       "  minimum time:     5.430 μs (0.00% GC)\n",
       "  median time:      5.808 μs (0.00% GC)\n",
       "  mean time:        6.537 μs (8.41% GC)\n",
       "  maximum time:     946.530 μs (98.35% GC)\n",
       "  --------------\n",
       "  samples:          10000\n",
       "  evals/sample:     6"
      ]
     },
     "execution_count": 66,
     "metadata": {},
     "output_type": "execute_result"
    }
   ],
   "source": [
    "@benchmark Mapping(M,t)"
   ]
  },
  {
   "cell_type": "code",
   "execution_count": 13,
   "metadata": {},
   "outputs": [
    {
     "data": {
      "text/plain": [
       "Knots([3.3196085066852397, 3.3196085066852397, 3.3196085066852397, 3.3196085066852397, 3.3196085066852397, 3.3196085066852397, 3.3196085066852397, 3.3196085066852397, 3.3196085066852397, 3.3196085066852397  …  11.976017802056171, 11.976017802056171, 11.976017802056171, 11.976017802056171, 11.976017802056171, 11.976017802056171, 11.976017802056171, 11.976017802056171, 11.976017802056171, 11.976017802056171])"
      ]
     },
     "execution_count": 13,
     "metadata": {},
     "output_type": "execute_result"
    }
   ],
   "source": [
    "p=4\n",
    "p′=17\n",
    "p₊=p′-p\n",
    "k=Knots((9*rand(20)).+3)\n",
    "k₊=Knots(((k[end]-k[1])*rand(13)).+k[1])\n",
    "k′=k+p₊*unique(k)+k₊"
   ]
  },
  {
   "cell_type": "code",
   "execution_count": 14,
   "metadata": {},
   "outputs": [
    {
     "data": {
      "text/plain": [
       "BenchmarkTools.Trial: \n",
       "  memory estimate:  3.03 KiB\n",
       "  allocs estimate:  41\n",
       "  --------------\n",
       "  minimum time:     2.005 μs (0.00% GC)\n",
       "  median time:      2.148 μs (0.00% GC)\n",
       "  mean time:        2.508 μs (8.17% GC)\n",
       "  maximum time:     509.071 μs (98.40% GC)\n",
       "  --------------\n",
       "  samples:          10000\n",
       "  evals/sample:     9"
      ]
     },
     "execution_count": 14,
     "metadata": {},
     "output_type": "execute_result"
    }
   ],
   "source": [
    "@benchmark BSplineBasis(𝒫(p,k),6.3)  # ちょっと遅いのはノット列とかを毎度型検査(?)してるから?"
   ]
  },
  {
   "cell_type": "code",
   "execution_count": 15,
   "metadata": {},
   "outputs": [
    {
     "data": {
      "text/plain": [
       "BSplineSpace(3, Knots([1.0, 2.0, 3.0]))"
      ]
     },
     "execution_count": 15,
     "metadata": {},
     "output_type": "execute_result"
    }
   ],
   "source": [
    "BSplineSpace(3,Knots([1,2,3]))"
   ]
  },
  {
   "cell_type": "code",
   "execution_count": 16,
   "metadata": {},
   "outputs": [
    {
     "data": {
      "text/plain": [
       "15×275 Array{Float64,2}:\n",
       "  1.81166e-5   0.000160061   0.000701802  …  -0.0          -0.0       \n",
       " -0.0         -0.0          -0.0              0.0           0.0       \n",
       "  0.0          0.0           0.0              0.0           0.0       \n",
       "  0.0          0.0           0.0             -0.0          -0.0       \n",
       " -0.0         -0.0          -0.0              0.0           0.0       \n",
       " -0.0         -0.0          -0.0          …   0.0           0.0       \n",
       "  0.0          0.0           0.0             -0.0          -0.0       \n",
       " -0.0         -0.0          -0.0              0.0           0.0       \n",
       "  0.0          0.0           0.0             -0.0          -0.0       \n",
       " -0.0         -0.0          -0.0              0.0           0.0       \n",
       "  0.0          0.0           0.0          …  -0.0          -0.0       \n",
       " -0.0         -0.0          -0.0              0.0           0.0       \n",
       "  0.0          0.0           0.0             -0.0          -0.0       \n",
       "  0.0          0.0           0.0             -0.0          -0.0       \n",
       " -0.0         -0.0          -0.0              0.000188239   3.76478e-5"
      ]
     },
     "execution_count": 16,
     "metadata": {},
     "output_type": "execute_result"
    }
   ],
   "source": [
    "A=BSplineCoefficient(𝒫(p,k), 𝒫(p′,k′))"
   ]
  },
  {
   "cell_type": "code",
   "execution_count": 17,
   "metadata": {},
   "outputs": [
    {
     "data": {
      "text/plain": [
       "true"
      ]
     },
     "execution_count": 17,
     "metadata": {},
     "output_type": "execute_result"
    }
   ],
   "source": [
    "𝒫(p,k) ⊆ 𝒫(p′,k′)"
   ]
  },
  {
   "cell_type": "code",
   "execution_count": 21,
   "metadata": {},
   "outputs": [
    {
     "data": {
      "text/plain": [
       "true"
      ]
     },
     "execution_count": 21,
     "metadata": {},
     "output_type": "execute_result"
    }
   ],
   "source": [
    "1.0 ∈ Knots([1])"
   ]
  },
  {
   "cell_type": "code",
   "execution_count": 20,
   "metadata": {},
   "outputs": [],
   "source": [
    "Base.in(r::Real, k::Knots) = in(r,k.vector)"
   ]
  },
  {
   "cell_type": "code",
   "execution_count": 22,
   "metadata": {},
   "outputs": [
    {
     "data": {
      "text/plain": [
       "missing"
      ]
     },
     "execution_count": 22,
     "metadata": {},
     "output_type": "execute_result"
    }
   ],
   "source": [
    "missing"
   ]
  },
  {
   "cell_type": "code",
   "execution_count": 24,
   "metadata": {},
   "outputs": [
    {
     "ename": "UndefVarError",
     "evalue": "UndefVarError: null not defined",
     "output_type": "error",
     "traceback": [
      "UndefVarError: null not defined",
      "",
      "Stacktrace:",
      " [1] top-level scope at In[24]:1"
     ]
    }
   ],
   "source": [
    "null"
   ]
  },
  {
   "cell_type": "code",
   "execution_count": 23,
   "metadata": {},
   "outputs": [
    {
     "data": {
      "text/plain": [
       "array initializer with undefined values"
      ]
     },
     "execution_count": 23,
     "metadata": {},
     "output_type": "execute_result"
    }
   ],
   "source": [
    "Araryaundef"
   ]
  },
  {
   "cell_type": "code",
   "execution_count": 32,
   "metadata": {},
   "outputs": [
    {
     "data": {
      "text/plain": [
       "3×3 Array{Float64,2}:\n",
       " 3.8382e151   4.50622e-144  1.41529e161\n",
       " 1.47722e179  3.80985e180   6.00737e-67\n",
       " 8.37404e242  1.06396e224   3.88664e97 "
      ]
     },
     "execution_count": 32,
     "metadata": {},
     "output_type": "execute_result"
    }
   ],
   "source": [
    "hoge=Array{Float64}(undef, 3,3)"
   ]
  },
  {
   "cell_type": "code",
   "execution_count": 34,
   "metadata": {},
   "outputs": [
    {
     "ename": "MethodError",
     "evalue": "MethodError: Cannot `convert` an object of type Nothing to an object of type Float64\nClosest candidates are:\n  convert(::Type{T}, !Matched::T) where T<:Number at number.jl:6\n  convert(::Type{T}, !Matched::Number) where T<:Number at number.jl:7\n  convert(::Type{T}, !Matched::Base.TwicePrecision) where T<:Number at twiceprecision.jl:250\n  ...",
     "output_type": "error",
     "traceback": [
      "MethodError: Cannot `convert` an object of type Nothing to an object of type Float64\nClosest candidates are:\n  convert(::Type{T}, !Matched::T) where T<:Number at number.jl:6\n  convert(::Type{T}, !Matched::Number) where T<:Number at number.jl:7\n  convert(::Type{T}, !Matched::Base.TwicePrecision) where T<:Number at twiceprecision.jl:250\n  ...",
      "",
      "Stacktrace:",
      " [1] setindex!(::Array{Float64,2}, ::Nothing, ::Int64, ::Int64) at ./array.jl:784",
      " [2] top-level scope at In[34]:1"
     ]
    }
   ],
   "source": [
    "hoge[1,1]=nothing"
   ]
  },
  {
   "cell_type": "code",
   "execution_count": 31,
   "metadata": {},
   "outputs": [],
   "source": [
    "nothing"
   ]
  },
  {
   "cell_type": "code",
   "execution_count": 36,
   "metadata": {},
   "outputs": [
    {
     "name": "stdout",
     "output_type": "stream",
     "text": [
      "search: \u001b[0m\u001b[1me\u001b[22m\u001b[0m\u001b[1mm\u001b[22m\u001b[0m\u001b[1mp\u001b[22m\u001b[0m\u001b[1mt\u001b[22m\u001b[0m\u001b[1my\u001b[22m \u001b[0m\u001b[1me\u001b[22m\u001b[0m\u001b[1mm\u001b[22m\u001b[0m\u001b[1mp\u001b[22m\u001b[0m\u001b[1mt\u001b[22m\u001b[0m\u001b[1my\u001b[22m! is\u001b[0m\u001b[1me\u001b[22m\u001b[0m\u001b[1mm\u001b[22m\u001b[0m\u001b[1mp\u001b[22m\u001b[0m\u001b[1mt\u001b[22m\u001b[0m\u001b[1my\u001b[22m\n",
      "\n"
     ]
    },
    {
     "data": {
      "text/latex": [
       "\\begin{verbatim}\n",
       "empty(x::Tuple)\n",
       "\\end{verbatim}\n",
       "Returns an empty tuple, \\texttt{()}.\n",
       "\n",
       "\\rule{\\textwidth}{1pt}\n",
       "\\begin{verbatim}\n",
       "empty(v::AbstractVector, [eltype])\n",
       "\\end{verbatim}\n",
       "Create an empty vector similar to \\texttt{v}, optionally changing the \\texttt{eltype}.\n",
       "\n",
       "\\section{Examples}\n",
       "\\begin{verbatim}\n",
       "julia> empty([1.0, 2.0, 3.0])\n",
       "0-element Array{Float64,1}\n",
       "\n",
       "julia> empty([1.0, 2.0, 3.0], String)\n",
       "0-element Array{String,1}\n",
       "\\end{verbatim}\n",
       "\\rule{\\textwidth}{1pt}\n",
       "\\begin{verbatim}\n",
       "empty(a::AbstractDict, [index_type=keytype(a)], [value_type=valtype(a)])\n",
       "\\end{verbatim}\n",
       "Create an empty \\texttt{AbstractDict} container which can accept indices of type \\texttt{index\\_type} and values of type \\texttt{value\\_type}. The second and third arguments are optional and default to the input's \\texttt{keytype} and \\texttt{valtype}, respectively. (If only one of the two types is specified, it is assumed to be the \\texttt{value\\_type}, and the \\texttt{index\\_type} we default to \\texttt{keytype(a)}).\n",
       "\n",
       "Custom \\texttt{AbstractDict} subtypes may choose which specific dictionary type is best suited to return for the given index and value types, by specializing on the three-argument signature. The default is to return an empty \\texttt{Dict}.\n",
       "\n"
      ],
      "text/markdown": [
       "```\n",
       "empty(x::Tuple)\n",
       "```\n",
       "\n",
       "Returns an empty tuple, `()`.\n",
       "\n",
       "---\n",
       "\n",
       "```\n",
       "empty(v::AbstractVector, [eltype])\n",
       "```\n",
       "\n",
       "Create an empty vector similar to `v`, optionally changing the `eltype`.\n",
       "\n",
       "# Examples\n",
       "\n",
       "```jldoctest\n",
       "julia> empty([1.0, 2.0, 3.0])\n",
       "0-element Array{Float64,1}\n",
       "\n",
       "julia> empty([1.0, 2.0, 3.0], String)\n",
       "0-element Array{String,1}\n",
       "```\n",
       "\n",
       "---\n",
       "\n",
       "```\n",
       "empty(a::AbstractDict, [index_type=keytype(a)], [value_type=valtype(a)])\n",
       "```\n",
       "\n",
       "Create an empty `AbstractDict` container which can accept indices of type `index_type` and values of type `value_type`. The second and third arguments are optional and default to the input's `keytype` and `valtype`, respectively. (If only one of the two types is specified, it is assumed to be the `value_type`, and the `index_type` we default to `keytype(a)`).\n",
       "\n",
       "Custom `AbstractDict` subtypes may choose which specific dictionary type is best suited to return for the given index and value types, by specializing on the three-argument signature. The default is to return an empty `Dict`.\n"
      ],
      "text/plain": [
       "\u001b[36m  empty(x::Tuple)\u001b[39m\n",
       "\n",
       "  Returns an empty tuple, \u001b[36m()\u001b[39m.\n",
       "\n",
       "  ────────────────────────────────────────────────────────────────────────────\n",
       "\n",
       "\u001b[36m  empty(v::AbstractVector, [eltype])\u001b[39m\n",
       "\n",
       "  Create an empty vector similar to \u001b[36mv\u001b[39m, optionally changing the \u001b[36meltype\u001b[39m.\n",
       "\n",
       "\u001b[1m  Examples\u001b[22m\n",
       "\u001b[1m  ≡≡≡≡≡≡≡≡≡≡\u001b[22m\n",
       "\n",
       "\u001b[36m  julia> empty([1.0, 2.0, 3.0])\u001b[39m\n",
       "\u001b[36m  0-element Array{Float64,1}\u001b[39m\n",
       "\u001b[36m  \u001b[39m\n",
       "\u001b[36m  julia> empty([1.0, 2.0, 3.0], String)\u001b[39m\n",
       "\u001b[36m  0-element Array{String,1}\u001b[39m\n",
       "\n",
       "  ────────────────────────────────────────────────────────────────────────────\n",
       "\n",
       "\u001b[36m  empty(a::AbstractDict, [index_type=keytype(a)], [value_type=valtype(a)])\u001b[39m\n",
       "\n",
       "  Create an empty \u001b[36mAbstractDict\u001b[39m container which can accept indices of type\n",
       "  \u001b[36mindex_type\u001b[39m and values of type \u001b[36mvalue_type\u001b[39m. The second and third arguments are\n",
       "  optional and default to the input's \u001b[36mkeytype\u001b[39m and \u001b[36mvaltype\u001b[39m, respectively. (If\n",
       "  only one of the two types is specified, it is assumed to be the \u001b[36mvalue_type\u001b[39m,\n",
       "  and the \u001b[36mindex_type\u001b[39m we default to \u001b[36mkeytype(a)\u001b[39m).\n",
       "\n",
       "  Custom \u001b[36mAbstractDict\u001b[39m subtypes may choose which specific dictionary type is\n",
       "  best suited to return for the given index and value types, by specializing\n",
       "  on the three-argument signature. The default is to return an empty \u001b[36mDict\u001b[39m."
      ]
     },
     "execution_count": 36,
     "metadata": {},
     "output_type": "execute_result"
    }
   ],
   "source": [
    "?empty"
   ]
  },
  {
   "cell_type": "code",
   "execution_count": 39,
   "metadata": {},
   "outputs": [
    {
     "ename": "UndefVarError",
     "evalue": "UndefVarError: EmptySet not defined",
     "output_type": "error",
     "traceback": [
      "UndefVarError: EmptySet not defined",
      "",
      "Stacktrace:",
      " [1] top-level scope at In[39]:1"
     ]
    }
   ],
   "source": [
    "EmptySet"
   ]
  },
  {
   "cell_type": "code",
   "execution_count": 38,
   "metadata": {},
   "outputs": [
    {
     "ename": "UndefVarError",
     "evalue": "UndefVarError: emptyset not defined",
     "output_type": "error",
     "traceback": [
      "UndefVarError: emptyset not defined",
      "",
      "Stacktrace:",
      " [1] top-level scope at In[38]:1"
     ]
    }
   ],
   "source": [
    "emptyset"
   ]
  },
  {
   "cell_type": "code",
   "execution_count": 41,
   "metadata": {},
   "outputs": [
    {
     "data": {
      "text/plain": [
       "true"
      ]
     },
     "execution_count": 41,
     "metadata": {},
     "output_type": "execute_result"
    }
   ],
   "source": [
    "1 ∈ Set([1,2,3])"
   ]
  },
  {
   "cell_type": "code",
   "execution_count": 43,
   "metadata": {},
   "outputs": [
    {
     "data": {
      "text/plain": [
       "Set([2, 3, 1])"
      ]
     },
     "execution_count": 43,
     "metadata": {},
     "output_type": "execute_result"
    }
   ],
   "source": [
    "Set([1,2,3,1])"
   ]
  },
  {
   "cell_type": "code",
   "execution_count": 1,
   "metadata": {},
   "outputs": [
    {
     "data": {
      "text/plain": [
       "Set([2, 3, 1])"
      ]
     },
     "execution_count": 1,
     "metadata": {},
     "output_type": "execute_result"
    }
   ],
   "source": [
    "Set([1,2,3])"
   ]
  },
  {
   "cell_type": "code",
   "execution_count": null,
   "metadata": {},
   "outputs": [],
   "source": []
  }
 ],
 "metadata": {
  "@webio": {
   "lastCommId": null,
   "lastKernelId": null
  },
  "kernelspec": {
   "display_name": "Julia 1.3.1",
   "language": "julia",
   "name": "julia-1.3"
  },
  "language_info": {
   "file_extension": ".jl",
   "mimetype": "application/julia",
   "name": "julia",
   "version": "1.3.1"
  }
 },
 "nbformat": 4,
 "nbformat_minor": 2
}
