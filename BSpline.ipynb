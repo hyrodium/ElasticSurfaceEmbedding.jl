{
 "cells": [
  {
   "cell_type": "code",
   "execution_count": 1,
   "metadata": {},
   "outputs": [],
   "source": [
    "push!(LOAD_PATH, \".\")\n",
    "using BenchmarkTools\n",
    "using IntervalSets"
   ]
  },
  {
   "cell_type": "code",
   "execution_count": 21,
   "metadata": {},
   "outputs": [],
   "source": [
    "# Knots\n",
    "struct Knots\n",
    "    vector :: Array{Float64,1}\n",
    "    function Knots(vector)\n",
    "        new(sort(vector))\n",
    "    end\n",
    "end\n",
    "\n",
    "Base.:+(k₁::Knots, k₂::Knots) = Knots(sort([k₁.vector...,k₂.vector...]))\n",
    "Base.:*(p₊::Int, k::Knots) = if (p₊==0)\n",
    "        Knots([])\n",
    "    elseif (p₊>0)\n",
    "        sum(k for _ ∈ 1:p₊)\n",
    "    else\n",
    "        error(\"p₊ must be non-negative\")\n",
    "    end\n",
    "    \n",
    "Base.in(r::Real, k::Knots) = in(r,k.vector)\n",
    "Base.getindex(k::Knots, i::Int) = k.vector[i]\n",
    "Base.getindex(k::Knots, v::AbstractArray{Int64,1}) = Knots(k.vector[v])\n",
    "Base.length(k::Knots) = length(k.vector)\n",
    "Base.firstindex(k) = 1\n",
    "Base.lastindex(k) = length(k)\n",
    "Base.unique(k::Knots) = Knots(unique(k.vector))\n",
    "\n",
    "function Base.:⊆(k::Knots, k′::Knots)\n",
    "    K′=copy(k′.vector)\n",
    "    for kᵢ ∈ k.vector\n",
    "        i=findfirst(x->x==kᵢ,K′)\n",
    "        if(i isa Nothing)\n",
    "            return false\n",
    "        end\n",
    "        deleteat!(K′,i)\n",
    "    end\n",
    "    return true\n",
    "end"
   ]
  },
  {
   "cell_type": "code",
   "execution_count": 16,
   "metadata": {},
   "outputs": [],
   "source": [
    "# B-Spline Space\n",
    "struct BSplineSpace\n",
    "    degree::Int\n",
    "    knots::Knots\n",
    "    function BSplineSpace(degree::Int, knots::Knots)\n",
    "        if (degree < 0)\n",
    "            error(\"degree of polynominal must be non-negative\")\n",
    "        else\n",
    "            new(degree,knots)\n",
    "        end\n",
    "    end\n",
    "end\n",
    "\n",
    "const 𝒫 = BSplineSpace\n",
    "\n",
    "function dim(bsplinespace::BSplineSpace)\n",
    "    p=bsplinespace.degree\n",
    "    k=bsplinespace.knots\n",
    "    return length(k)-p-1\n",
    "end\n",
    "\n",
    "function Base.:⊆(P::BSplineSpace, P′::BSplineSpace)\n",
    "    p=P.degree\n",
    "    k=P.knots\n",
    "    p′=P′.degree\n",
    "    k′=P′.knots\n",
    "    p₊=p′-p\n",
    "    \n",
    "    return (k+p₊*unique(k) ⊆ k′) && p₊ ≥ 0\n",
    "end\n",
    "\n",
    "function Base.iszero(P::BSplineSpace)\n",
    "    p=P.degree\n",
    "    k=P.knots\n",
    "    n=dim(P)\n",
    "    return [k[i]==k[i+p+1] for i ∈ 1:n]\n",
    "end"
   ]
  },
  {
   "cell_type": "code",
   "execution_count": 22,
   "metadata": {},
   "outputs": [
    {
     "data": {
      "text/plain": [
       "BSplineCoefficient (generic function with 1 method)"
      ]
     },
     "execution_count": 22,
     "metadata": {},
     "output_type": "execute_result"
    }
   ],
   "source": [
    "# B-Spline functions\n",
    "function BSplineBasis(P::BSplineSpace, t)::Array{Float64,1}\n",
    "    p=P.degree\n",
    "    k=P.knots\n",
    "    \n",
    "    n=length(k)-p-1\n",
    "    if(p==0)\n",
    "        @inbounds return [k[i]≤t<k[i+1]||(k[i]≠k[i+1]==k[end]==t) for i ∈ 1:n]\n",
    "    else\n",
    "        @inbounds K=[ifelse(k[i+p]==k[i],0,(t-k[i])/(k[i+p]-k[i])) for i ∈ 1:n+1]\n",
    "        @inbounds B=BSplineBasis(𝒫(p-1,k),t)\n",
    "        @inbounds return [K[i]*B[i]+(1-K[i+1])*B[i+1] for i ∈ 1:n]\n",
    "    end\n",
    "end\n",
    "\n",
    "function BSplineBasis′(P::BSplineSpace, t)::Array{Float64,1}\n",
    "    p=P.degree\n",
    "    k=P.knots\n",
    "\n",
    "    n=length(k)-p-1\n",
    "    if(p==0)\n",
    "        return [0.0 for _ ∈ 1:n]\n",
    "    else\n",
    "        @inbounds K=[ifelse(k[i+p]==k[i],0,p/(k[i+p]-k[i])) for i ∈ 1:n+1]\n",
    "        B=BSplineBasis(𝒫(p-1,k),t)\n",
    "        @inbounds return [K[i]*B[i]-K[i+1]*B[i+1] for i ∈ 1:n]\n",
    "    end\n",
    "end\n",
    "\n",
    "function BSplineSupport(i::Int64, P::BSplineSpace)::ClosedInterval\n",
    "    p=P.degree\n",
    "    k=P.knots\n",
    "\n",
    "    return k[i]..k[i+p+1]\n",
    "end\n",
    "\n",
    "function BSplineCoefficient(P::BSplineSpace, P′::BSplineSpace)::Array{Float64,2}\n",
    "    p=P.degree\n",
    "    k=P.knots\n",
    "    p′=P′.degree\n",
    "    k′=P′.knots\n",
    "\n",
    "    p₊=p′-p\n",
    "    if(P ⊆ P′)\n",
    "        if(p == 0 && p' ≥ 0)\n",
    "            n=length(k)-1\n",
    "            n′=length(k′)-p₊-1\n",
    "            A⁰=Float64[BSplineSupport(j,𝒫(p₊,k′)) ⊆ BSplineSupport(i,𝒫(0,k)) for i ∈ 1:n, j ∈ 1:n′]\n",
    "            return A⁰\n",
    "        else\n",
    "            Aᵖ⁻¹=BSplineCoefficient(𝒫(p-1, k), 𝒫(p′-1, k′))\n",
    "            n=length(k)-p-1\n",
    "            n′=length(k′)-p′-1\n",
    "            K′=[k′[i+p′]-k′[i] for i ∈ 1:n′+1]\n",
    "            K=[1/(k[i+p]-k[i]) for i ∈ 1:n+1]\n",
    "            LS=(p/p′)*[K′[j]*(K[i]*Aᵖ⁻¹[i,j]-K[i+1]*Aᵖ⁻¹[i+1,j]) for i ∈ 1:n, j ∈ 1:n′+1]\n",
    "            Aᵖ₊, Aᵖ₋=zeros(n,n′), zeros(n,n′)\n",
    "            Aᵖ₊[:,1]=LS[:,1]\n",
    "            Aᵖ₋[:,n′]=-LS[:,n′+1]\n",
    "            for j ∈ 2:n′\n",
    "                Aᵖ₊[:,j]+=Aᵖ₊[:,j-1]+LS[:,j]\n",
    "                Aᵖ₋[:,(n′-j+2)-1]+=Aᵖ₋[:,(n′-j+2)]-LS[:,(n′-j+2)]\n",
    "            end\n",
    "            return (Aᵖ₊+Aᵖ₋).*Float64[BSplineSupport(j,𝒫(p′,k′)) ⊆ BSplineSupport(i,𝒫(p,k)) for i ∈ 1:n, j ∈ 1:n′]/2\n",
    "        end\n",
    "    else\n",
    "        error(\"𝒫[p,k] ⊄ 𝒫[p′,k′]\")\n",
    "    end\n",
    "end"
   ]
  },
  {
   "cell_type": "code",
   "execution_count": 41,
   "metadata": {},
   "outputs": [
    {
     "data": {
      "text/plain": [
       "BSplineCoefficient5 (generic function with 1 method)"
      ]
     },
     "execution_count": 41,
     "metadata": {},
     "output_type": "execute_result"
    }
   ],
   "source": [
    "function BSplineCoefficient5(P::BSplineSpace, P′::BSplineSpace)::Array{Float64,2}\n",
    "    p=P.degree\n",
    "    k=P.knots\n",
    "    p′=P′.degree\n",
    "    k′=P′.knots\n",
    "\n",
    "    p₊=p′-p\n",
    "    if(P ⊆ P′)\n",
    "        if(p == 0 && p' ≥ 0)\n",
    "            n=length(k)-1\n",
    "            n′=length(k′)-p₊-1\n",
    "            A⁰=Float64[BSplineSupport(j,𝒫(p₊,k′)) ⊆ BSplineSupport(i,𝒫(0,k)) for i ∈ 1:n, j ∈ 1:n′]\n",
    "            A⁰[:,findall(iszero(P′))].=NaN\n",
    "            return A⁰\n",
    "        else\n",
    "            Aᵖ⁻¹=BSplineCoefficient5(𝒫(p-1, k), 𝒫(p′-1, k′))\n",
    "            n=length(k)-p-1\n",
    "            n′=length(k′)-p′-1\n",
    "            K′=[k′[i+p′]-k′[i] for i ∈ 1:n′+1]\n",
    "            K=[1/(k[i+p]-k[i]) for i ∈ 1:n+1]\n",
    "            LS=(p/p′)*[K′[j]*(K[i]*Aᵖ⁻¹[i,j]-K[i+1]*Aᵖ⁻¹[i+1,j]) for i ∈ 1:n, j ∈ 1:n′+1]\n",
    "            Aᵖ₊, Aᵖ₋=zeros(n,n′), zeros(n,n′)\n",
    "            Aᵖ₊[:,1]=LS[:,1]\n",
    "            Aᵖ₋[:,n′]=-LS[:,n′+1]\n",
    "            for j ∈ 2:n′\n",
    "                Aᵖ₊[:,j]+=Aᵖ₊[:,j-1]+LS[:,j]\n",
    "                Aᵖ₋[:,(n′-j+2)-1]+=Aᵖ₋[:,(n′-j+2)]-LS[:,(n′-j+2)]\n",
    "            end\n",
    "            return (Aᵖ₊+Aᵖ₋).*Float64[BSplineSupport(j,𝒫(p′,k′)) ⊆ BSplineSupport(i,𝒫(p,k)) for i ∈ 1:n, j ∈ 1:n′]/2\n",
    "        end\n",
    "    else\n",
    "        error(\"𝒫[p,k] ⊄ 𝒫[p′,k′]\")\n",
    "    end\n",
    "end"
   ]
  },
  {
   "cell_type": "code",
   "execution_count": null,
   "metadata": {},
   "outputs": [],
   "source": [
    "zeros()"
   ]
  },
  {
   "cell_type": "code",
   "execution_count": null,
   "metadata": {},
   "outputs": [],
   "source": []
  },
  {
   "cell_type": "code",
   "execution_count": 49,
   "metadata": {},
   "outputs": [
    {
     "data": {
      "text/plain": [
       "3×7 Array{Float64,2}:\n",
       " 0.5  1.0  0.5  0.0  0.0  0.0  0.0\n",
       " 0.0  0.0  0.5  1.0  0.5  0.0  0.0\n",
       " 0.0  0.0  0.0  0.0  0.5  1.0  0.5"
      ]
     },
     "execution_count": 49,
     "metadata": {},
     "output_type": "execute_result"
    }
   ],
   "source": [
    "P=𝒫(1,Knots([1,2,3,4,5]))\n",
    "P′=𝒫(2,2Knots([1,2,3,4,5]))\n",
    "BSplineCoefficient5(P,P′)"
   ]
  },
  {
   "cell_type": "code",
   "execution_count": null,
   "metadata": {},
   "outputs": [],
   "source": []
  },
  {
   "cell_type": "code",
   "execution_count": null,
   "metadata": {},
   "outputs": [],
   "source": []
  },
  {
   "cell_type": "code",
   "execution_count": null,
   "metadata": {},
   "outputs": [],
   "source": []
  },
  {
   "cell_type": "code",
   "execution_count": null,
   "metadata": {},
   "outputs": [],
   "source": []
  },
  {
   "cell_type": "code",
   "execution_count": 35,
   "metadata": {},
   "outputs": [
    {
     "data": {
      "text/plain": [
       "3×5 Array{Float64,2}:\n",
       " 0.0  0.0  0.0  0.0  0.0\n",
       " 0.0  0.0  0.0  0.0  0.0\n",
       " 0.0  0.0  0.0  0.0  0.0"
      ]
     },
     "execution_count": 35,
     "metadata": {},
     "output_type": "execute_result"
    }
   ],
   "source": [
    "A=zeros(3,5)"
   ]
  },
  {
   "cell_type": "code",
   "execution_count": 292,
   "metadata": {},
   "outputs": [
    {
     "data": {
      "text/plain": [
       "Float64"
      ]
     },
     "execution_count": 292,
     "metadata": {},
     "output_type": "execute_result"
    }
   ],
   "source": [
    "typeof(NaN)"
   ]
  },
  {
   "cell_type": "code",
   "execution_count": null,
   "metadata": {},
   "outputs": [],
   "source": []
  },
  {
   "cell_type": "code",
   "execution_count": 378,
   "metadata": {},
   "outputs": [
    {
     "name": "stdout",
     "output_type": "stream",
     "text": [
      "𝒫[p,k] ⊆ 𝒫[p′,k′]\n"
     ]
    },
    {
     "data": {
      "text/plain": [
       "4×7 Array{Float64,2}:\n",
       " -1.0  -3.0  1.0  NaN  -1.0  -3.0  5.0\n",
       " -1.0  -3.0  1.0  NaN  -1.0  -3.0  5.0\n",
       " -1.0  -3.0  1.0  NaN  -1.0  -3.0  5.0\n",
       " -1.0  -3.0  1.0  NaN  -1.0  -3.0  5.0"
      ]
     },
     "execution_count": 378,
     "metadata": {},
     "output_type": "execute_result"
    }
   ],
   "source": [
    "p=1\n",
    "k=Knots([1,4,5,5,8,10])\n",
    "p′=1\n",
    "k′=k+Knots(rand(1:10,3))\n",
    "\n",
    "P=𝒫(p,k)\n",
    "P′=𝒫(p′,k′)\n",
    "\n",
    "if(P ⊆ P′)\n",
    "    println(\"𝒫[p,k] ⊆ 𝒫[p′,k′]\")\n",
    "    \n",
    "    n=dim(𝒫(p,k))\n",
    "    n′=dim(𝒫(p′,k′))\n",
    "    \n",
    "    Z′ᵖ⁻¹=iszero(𝒫(p′-1,k′))\n",
    "    W=findall(Z′ᵖ⁻¹)\n",
    "    Aᵖ⁻¹=rand(n+1,n′+1)\n",
    "    Aᵖ⁻¹[:,W].=NaN\n",
    "\n",
    "    Aᵖ=zeros(n,n′)\n",
    "    Aᵖ[:,1].=5\n",
    "    Aᵖ[:,end].=5\n",
    "    Z′ᵖ=iszero(𝒫(p′,k′))\n",
    "    \n",
    "    Q=[1:W[1]-1,[W[i]:W[i+1]-1 for i ∈ 1:length(W)-1]...,W[end]:n′]\n",
    "    l=length(Q)\n",
    "    L=length.(Q)\n",
    "    Ãᵖ=[Aᵖ[:,q] for q ∈ Q]\n",
    "    for i ∈ 2:l-1\n",
    "        if(L[i]==1)\n",
    "            Ãᵖ[i].=NaN\n",
    "        end\n",
    "    end\n",
    "    for i ∈ 1:l-1\n",
    "        if(L[i] ≥ 2)\n",
    "            Ãᵖ[i][:,end].=1.0\n",
    "        end\n",
    "    end\n",
    "    for i ∈ 2:l\n",
    "        if(L[i] ≥ 2)\n",
    "            Ãᵖ[i][:,1].=-1.0\n",
    "        end\n",
    "    end\n",
    "    for i ∈ 1:l\n",
    "        if(L[i] ≥ 3)\n",
    "            A₊=copy(Ãᵖ[i])\n",
    "            A₋=copy(Ãᵖ[i])\n",
    "            for j ∈ 2:L[i]-1\n",
    "                Ãᵖ[i][:,j].=-3\n",
    "            end\n",
    "        end\n",
    "    end\n",
    "    Aᵖ=hcat(Ãᵖ...)\n",
    "end"
   ]
  },
  {
   "cell_type": "code",
   "execution_count": 379,
   "metadata": {},
   "outputs": [
    {
     "data": {
      "text/plain": [
       "5×8 Array{Float64,2}:\n",
       " NaN  0.0465132  0.911305   NaN  NaN  0.122476   0.353256  0.843464 \n",
       " NaN  0.545535   0.0961825  NaN  NaN  0.651643   0.539679  0.811087 \n",
       " NaN  0.0956857  0.0164693  NaN  NaN  0.378976   0.885324  0.0228238\n",
       " NaN  0.994331   0.713917   NaN  NaN  0.973353   0.439295  0.709257 \n",
       " NaN  0.203944   0.435752   NaN  NaN  0.0369813  0.627456  0.0547634"
      ]
     },
     "execution_count": 379,
     "metadata": {},
     "output_type": "execute_result"
    }
   ],
   "source": [
    "Aᵖ⁻¹"
   ]
  },
  {
   "cell_type": "code",
   "execution_count": 369,
   "metadata": {},
   "outputs": [
    {
     "data": {
      "text/plain": [
       "4×7 Array{Float64,2}:\n",
       " -1.0  -3.0  1.0  NaN  NaN  -1.0  5.0\n",
       " -1.0  -3.0  1.0  NaN  NaN  -1.0  5.0\n",
       " -1.0  -3.0  1.0  NaN  NaN  -1.0  5.0\n",
       " -1.0  -3.0  1.0  NaN  NaN  -1.0  5.0"
      ]
     },
     "execution_count": 369,
     "metadata": {},
     "output_type": "execute_result"
    }
   ],
   "source": [
    "Aᵖ"
   ]
  },
  {
   "cell_type": "code",
   "execution_count": 358,
   "metadata": {},
   "outputs": [
    {
     "data": {
      "text/plain": [
       "3-element Array{Float64,1}:\n",
       " 0.4750840893066895 \n",
       " 2.7137575731077015 \n",
       " 0.13764435351378468"
      ]
     },
     "execution_count": 358,
     "metadata": {},
     "output_type": "execute_result"
    }
   ],
   "source": [
    "rand(3)"
   ]
  },
  {
   "cell_type": "code",
   "execution_count": 360,
   "metadata": {},
   "outputs": [
    {
     "data": {
      "text/plain": [
       "3-element Array{Int64,1}:\n",
       " 7\n",
       " 6\n",
       " 7"
      ]
     },
     "execution_count": 360,
     "metadata": {},
     "output_type": "execute_result"
    }
   ],
   "source": [
    "rand(1:10,3)"
   ]
  },
  {
   "cell_type": "code",
   "execution_count": 381,
   "metadata": {},
   "outputs": [
    {
     "data": {
      "text/plain": [
       "5-element Array{Int64,1}:\n",
       " 1\n",
       " 2\n",
       " 3\n",
       " 4\n",
       " 5"
      ]
     },
     "execution_count": 381,
     "metadata": {},
     "output_type": "execute_result"
    }
   ],
   "source": [
    "[1:5;]"
   ]
  },
  {
   "cell_type": "code",
   "execution_count": 384,
   "metadata": {},
   "outputs": [
    {
     "data": {
      "text/plain": [
       "1:5"
      ]
     },
     "execution_count": 384,
     "metadata": {},
     "output_type": "execute_result"
    }
   ],
   "source": [
    "(1:5)"
   ]
  },
  {
   "cell_type": "code",
   "execution_count": 388,
   "metadata": {},
   "outputs": [
    {
     "ename": "ArgumentError",
     "evalue": "ArgumentError: no cmd to execute",
     "output_type": "error",
     "traceback": [
      "ArgumentError: no cmd to execute",
      "",
      "Stacktrace:",
      " [1] repl_cmd(::Cmd, ::IJulia.IJuliaStdio{Base.PipeEndpoint}) at ./client.jl:41",
      " [2] top-level scope at In[388]:1"
     ]
    }
   ],
   "source": [
    ";"
   ]
  },
  {
   "cell_type": "code",
   "execution_count": null,
   "metadata": {},
   "outputs": [],
   "source": []
  },
  {
   "cell_type": "code",
   "execution_count": 387,
   "metadata": {},
   "outputs": [
    {
     "ename": "UndefVarError",
     "evalue": "UndefVarError: hogea not defined",
     "output_type": "error",
     "traceback": [
      "UndefVarError: hogea not defined",
      "",
      "Stacktrace:",
      " [1] top-level scope at In[387]:1"
     ]
    }
   ],
   "source": [
    "(hogea;)"
   ]
  },
  {
   "cell_type": "code",
   "execution_count": null,
   "metadata": {},
   "outputs": [],
   "source": []
  },
  {
   "cell_type": "code",
   "execution_count": 299,
   "metadata": {},
   "outputs": [
    {
     "data": {
      "text/plain": [
       "4-element Array{Int64,1}:\n",
       " 4\n",
       " 1\n",
       " 2\n",
       " 0"
      ]
     },
     "execution_count": 299,
     "metadata": {},
     "output_type": "execute_result"
    }
   ],
   "source": [
    "length.(Q)"
   ]
  },
  {
   "cell_type": "code",
   "execution_count": null,
   "metadata": {},
   "outputs": [],
   "source": []
  },
  {
   "cell_type": "code",
   "execution_count": null,
   "metadata": {},
   "outputs": [],
   "source": []
  },
  {
   "cell_type": "code",
   "execution_count": null,
   "metadata": {},
   "outputs": [],
   "source": []
  },
  {
   "cell_type": "code",
   "execution_count": null,
   "metadata": {},
   "outputs": [],
   "source": []
  },
  {
   "cell_type": "code",
   "execution_count": null,
   "metadata": {},
   "outputs": [],
   "source": []
  },
  {
   "cell_type": "code",
   "execution_count": null,
   "metadata": {},
   "outputs": [],
   "source": []
  },
  {
   "cell_type": "code",
   "execution_count": 163,
   "metadata": {},
   "outputs": [
    {
     "data": {
      "text/plain": [
       "3-element Array{Int64,1}:\n",
       " 3\n",
       " 5\n",
       " 6"
      ]
     },
     "execution_count": 163,
     "metadata": {},
     "output_type": "execute_result"
    }
   ],
   "source": [
    "m=5\n",
    "Z′ᵖ=[3,5,6]"
   ]
  },
  {
   "cell_type": "code",
   "execution_count": 164,
   "metadata": {},
   "outputs": [
    {
     "data": {
      "text/plain": [
       "4-element Array{UnitRange{Int64},1}:\n",
       " 1:2\n",
       " 3:4\n",
       " 5:5\n",
       " 6:5"
      ]
     },
     "execution_count": 164,
     "metadata": {},
     "output_type": "execute_result"
    }
   ],
   "source": []
  },
  {
   "cell_type": "code",
   "execution_count": 165,
   "metadata": {},
   "outputs": [
    {
     "data": {
      "text/plain": [
       "4-element Array{Array{Float64,2},1}:\n",
       " [5.0 0.0; 5.0 0.0; 5.0 0.0]\n",
       " [0.0 0.0; 0.0 0.0; 0.0 0.0]\n",
       " [0.0; 0.0; 0.0]            \n",
       " Array{Float64}(undef,3,0)  "
      ]
     },
     "execution_count": 165,
     "metadata": {},
     "output_type": "execute_result"
    }
   ],
   "source": []
  },
  {
   "cell_type": "code",
   "execution_count": 160,
   "metadata": {},
   "outputs": [
    {
     "data": {
      "text/plain": [
       "2×1 Array{Float64,2}:\n",
       " 0.12717542888207234\n",
       " 0.02708144613825647"
      ]
     },
     "execution_count": 160,
     "metadata": {},
     "output_type": "execute_result"
    }
   ],
   "source": [
    "hoge[3]"
   ]
  },
  {
   "cell_type": "code",
   "execution_count": null,
   "metadata": {},
   "outputs": [],
   "source": []
  },
  {
   "cell_type": "code",
   "execution_count": null,
   "metadata": {},
   "outputs": [],
   "source": []
  },
  {
   "cell_type": "code",
   "execution_count": null,
   "metadata": {},
   "outputs": [],
   "source": []
  },
  {
   "cell_type": "code",
   "execution_count": null,
   "metadata": {},
   "outputs": [],
   "source": []
  },
  {
   "cell_type": "code",
   "execution_count": 146,
   "metadata": {},
   "outputs": [
    {
     "data": {
      "text/plain": [
       "0-element Array{Int64,1}"
      ]
     },
     "execution_count": 146,
     "metadata": {},
     "output_type": "execute_result"
    }
   ],
   "source": [
    "[2,3,4][1:0]"
   ]
  },
  {
   "cell_type": "code",
   "execution_count": null,
   "metadata": {},
   "outputs": [],
   "source": []
  },
  {
   "cell_type": "code",
   "execution_count": null,
   "metadata": {},
   "outputs": [],
   "source": []
  },
  {
   "cell_type": "code",
   "execution_count": null,
   "metadata": {},
   "outputs": [],
   "source": []
  },
  {
   "cell_type": "code",
   "execution_count": null,
   "metadata": {},
   "outputs": [],
   "source": []
  },
  {
   "cell_type": "code",
   "execution_count": null,
   "metadata": {},
   "outputs": [],
   "source": []
  },
  {
   "cell_type": "code",
   "execution_count": 67,
   "metadata": {},
   "outputs": [
    {
     "ename": "UndefVarError",
     "evalue": "UndefVarError: showarray not defined",
     "output_type": "error",
     "traceback": [
      "UndefVarError: showarray not defined",
      "",
      "Stacktrace:",
      " [1] getproperty(::Module, ::Symbol) at ./Base.jl:13",
      " [2] top-level scope at In[67]:1"
     ]
    }
   ],
   "source": [
    "Base.showarray(STDOUT,rand(3,3),false)"
   ]
  },
  {
   "cell_type": "code",
   "execution_count": null,
   "metadata": {},
   "outputs": [],
   "source": []
  },
  {
   "cell_type": "code",
   "execution_count": 34,
   "metadata": {},
   "outputs": [
    {
     "data": {
      "text/plain": [
       "3×5 Array{Float64,2}:\n",
       " 0.0  NaN  NaN  0.0  0.0\n",
       " 0.0  NaN  NaN  0.0  0.0\n",
       " 0.0  NaN  NaN  0.0  0.0"
      ]
     },
     "execution_count": 34,
     "metadata": {},
     "output_type": "execute_result"
    }
   ],
   "source": [
    "A"
   ]
  },
  {
   "cell_type": "code",
   "execution_count": 28,
   "metadata": {},
   "outputs": [
    {
     "data": {
      "text/plain": [
       "3×5 Array{Float64,2}:\n",
       " 0.0  3.0  0.0  0.0  0.0\n",
       " 0.0  3.0  0.0  0.0  0.0\n",
       " 0.0  3.0  0.0  0.0  0.0"
      ]
     },
     "execution_count": 28,
     "metadata": {},
     "output_type": "execute_result"
    }
   ],
   "source": [
    "A"
   ]
  },
  {
   "cell_type": "code",
   "execution_count": 32,
   "metadata": {},
   "outputs": [
    {
     "data": {
      "text/plain": [
       "2-element Array{Int64,1}:\n",
       " 1\n",
       " 3"
      ]
     },
     "execution_count": 32,
     "metadata": {},
     "output_type": "execute_result"
    }
   ],
   "source": [
    "findall([true, false,true])"
   ]
  },
  {
   "cell_type": "code",
   "execution_count": null,
   "metadata": {},
   "outputs": [],
   "source": []
  },
  {
   "cell_type": "code",
   "execution_count": null,
   "metadata": {},
   "outputs": [],
   "source": []
  },
  {
   "cell_type": "code",
   "execution_count": null,
   "metadata": {},
   "outputs": [],
   "source": []
  },
  {
   "cell_type": "code",
   "execution_count": 18,
   "metadata": {},
   "outputs": [
    {
     "data": {
      "text/plain": [
       "Mapping (generic function with 1 method)"
      ]
     },
     "execution_count": 18,
     "metadata": {},
     "output_type": "execute_result"
    }
   ],
   "source": [
    "struct BSplineManifold\n",
    "    bsplinespaces::Array{BSplineSpace,1}\n",
    "    controlpoints::Array{Float64}\n",
    "    function BSplineManifold(bsplinespaces::Array{BSplineSpace,1}, controlpoints::Array{Float64})\n",
    "        if (collect(size(controlpoints)[1:end-1]) ≠ dim.(bsplinespaces))\n",
    "            error(\"dimension does not match\")\n",
    "        else\n",
    "            new(bsplinespaces, controlpoints)\n",
    "        end\n",
    "    end\n",
    "end\n",
    "\n",
    "function BSplineBasis(𝒫s::Array{BSplineSpace,1},t)\n",
    "    if(length(𝒫s)==length(t)==1)\n",
    "        return BSplineBasis(𝒫s[1],t[1])\n",
    "    elseif(length(𝒫s)==length(t)==2)\n",
    "        return BSplineBasis(𝒫s[1],t[1])*BSplineBasis(𝒫s[2],t[2])'\n",
    "    else\n",
    "        error(\"dimension does not match\")\n",
    "    end\n",
    "end\n",
    "\n",
    "function Mapping(M::BSplineManifold, t::Array{Float64,1})\n",
    "    𝒫s = M.bsplinespaces\n",
    "    𝒂 = M.controlpoints\n",
    "    d=length(𝒫s)\n",
    "    d̂=size(𝒂)[end]\n",
    "    return [sum(BSplineBasis(𝒫s,t).*𝒂[:,:,i]) for i ∈ 1:d̂]\n",
    "end"
   ]
  },
  {
   "cell_type": "code",
   "execution_count": 19,
   "metadata": {},
   "outputs": [
    {
     "data": {
      "text/plain": [
       "Refinement (generic function with 1 method)"
      ]
     },
     "execution_count": 19,
     "metadata": {},
     "output_type": "execute_result"
    }
   ],
   "source": [
    "function Refinement(M::BSplineManifold, 𝒫s′::Array{BSplineSpace,1})\n",
    "    𝒫s = M.bsplinespaces\n",
    "    𝒂 = M.controlpoints\n",
    "    d̂ = size(𝒂)[end]\n",
    "    n = dim.(𝒫s)\n",
    "    n′ = dim.(𝒫s′)\n",
    "    if(prod(𝒫s .⊆ 𝒫s′))\n",
    "        A = BSplineCoefficient.(𝒫s,𝒫s′)\n",
    "        global XX=A\n",
    "        𝒂′ = [sum(A[1][I₁,J₁]*A[2][I₂,J₂]*𝒂[I₁,I₂,i] for I₁ ∈ 1:n[1], I₂ ∈ 1:n[2]) for J₁ ∈ 1:n′[1], J₂ ∈ 1:n′[2], i ∈ 1:d̂]\n",
    "        return BSplineManifold(𝒫s′, 𝒂′)\n",
    "    else\n",
    "        error(\"𝒫[p,k] ⊄ 𝒫[p′,k′]\")\n",
    "    end\n",
    "end"
   ]
  },
  {
   "cell_type": "code",
   "execution_count": null,
   "metadata": {},
   "outputs": [],
   "source": []
  },
  {
   "cell_type": "code",
   "execution_count": null,
   "metadata": {},
   "outputs": [],
   "source": []
  },
  {
   "cell_type": "code",
   "execution_count": null,
   "metadata": {},
   "outputs": [],
   "source": []
  },
  {
   "cell_type": "code",
   "execution_count": null,
   "metadata": {},
   "outputs": [],
   "source": []
  },
  {
   "cell_type": "code",
   "execution_count": 9,
   "metadata": {},
   "outputs": [
    {
     "data": {
      "text/plain": [
       "2-element Array{Float64,1}:\n",
       " 0.39999999999999997\n",
       " 0.8999999999999999 "
      ]
     },
     "execution_count": 9,
     "metadata": {},
     "output_type": "execute_result"
    }
   ],
   "source": [
    "k₁=k₂=Knots([-0.1,0,1,1.1])\n",
    "p₁=p₂=1\n",
    "\n",
    "𝒂=Float64[ifelse(i==1, 2*I₁, 3*I₂) for I₁ ∈ 0:1,  I₂ ∈ 0:1, i ∈ 1:2]\n",
    "𝒫s=[𝒫(p₁,k₁), 𝒫(p₂,k₂)]\n",
    "M=BSplineManifold(𝒫s,𝒂)\n",
    "\n",
    "t=[0.2,0.3]\n",
    "Mapping(M,t)"
   ]
  },
  {
   "cell_type": "code",
   "execution_count": 10,
   "metadata": {},
   "outputs": [
    {
     "data": {
      "text/plain": [
       "BSplineManifold(BSplineSpace[BSplineSpace(3, Knots([-0.1, -0.1, -0.1, 0.0, 0.0, 0.0, 0.00018114447440020776, 0.005682147262958459, 0.007519778511360542, 0.013767617807010302  …  0.9771439698090276, 0.9807708833570186, 0.9952747181171913, 0.9989982156591961, 1.0, 1.0, 1.0, 1.1, 1.1, 1.1])), BSplineSpace(3, Knots([-0.1, -0.1, -0.1, 0.0, 0.0, 0.0, 0.0029830994029973468, 0.005230329096788777, 0.008620617906021089, 0.010137138243494714  …  0.9810409562255265, 0.9886151016816482, 0.9947090267408802, 0.998880124916182, 1.0, 1.0, 1.0, 1.1, 1.1, 1.1]))], [0.0 0.0 … 0.0 0.0; 0.0 0.0 … 0.0 0.0; … ; 0.444444444444445 0.8888888888888897 … 0.8888888888888891 0.4444444444444444; 0.22222222222222257 0.444444444444445 … 0.4444444444444447 0.22222222222222227]\n",
       "\n",
       "[0.0 0.0 … 0.6666666666666671 0.33333333333333337; 0.0 0.0 … 1.3333333333333335 0.6666666666666666; … ; 0.0 0.0 … 1.3333333333333335 0.6666666666666666; 0.0 0.0 … 0.6666666666666671 0.33333333333333337])"
      ]
     },
     "execution_count": 10,
     "metadata": {},
     "output_type": "execute_result"
    }
   ],
   "source": [
    "p′₁=p′₂=3\n",
    "k′₁=k₁+2unique(k₁)+Knots(rand(300))\n",
    "k′₂=k₂+2unique(k₂)+Knots(rand(300))\n",
    "M′=Refinement(M, [𝒫(p′₁,k′₁), 𝒫(p′₂,k′₂)])"
   ]
  },
  {
   "cell_type": "code",
   "execution_count": 11,
   "metadata": {},
   "outputs": [
    {
     "data": {
      "text/plain": [
       "BenchmarkTools.Trial: \n",
       "  memory estimate:  4.66 MiB\n",
       "  allocs estimate:  14979\n",
       "  --------------\n",
       "  minimum time:     645.087 μs (0.00% GC)\n",
       "  median time:      723.404 μs (0.00% GC)\n",
       "  mean time:        891.210 μs (12.82% GC)\n",
       "  maximum time:     4.528 ms (31.89% GC)\n",
       "  --------------\n",
       "  samples:          5562\n",
       "  evals/sample:     1"
      ]
     },
     "execution_count": 11,
     "metadata": {},
     "output_type": "execute_result"
    }
   ],
   "source": [
    "t=rand(2)\n",
    "@benchmark Mapping(M′,t)"
   ]
  },
  {
   "cell_type": "code",
   "execution_count": 66,
   "metadata": {},
   "outputs": [
    {
     "data": {
      "text/plain": [
       "BenchmarkTools.Trial: \n",
       "  memory estimate:  5.00 KiB\n",
       "  allocs estimate:  121\n",
       "  --------------\n",
       "  minimum time:     5.430 μs (0.00% GC)\n",
       "  median time:      5.808 μs (0.00% GC)\n",
       "  mean time:        6.537 μs (8.41% GC)\n",
       "  maximum time:     946.530 μs (98.35% GC)\n",
       "  --------------\n",
       "  samples:          10000\n",
       "  evals/sample:     6"
      ]
     },
     "execution_count": 66,
     "metadata": {},
     "output_type": "execute_result"
    }
   ],
   "source": [
    "@benchmark Mapping(M,t)"
   ]
  },
  {
   "cell_type": "code",
   "execution_count": 13,
   "metadata": {},
   "outputs": [
    {
     "data": {
      "text/plain": [
       "Knots([3.3196085066852397, 3.3196085066852397, 3.3196085066852397, 3.3196085066852397, 3.3196085066852397, 3.3196085066852397, 3.3196085066852397, 3.3196085066852397, 3.3196085066852397, 3.3196085066852397  …  11.976017802056171, 11.976017802056171, 11.976017802056171, 11.976017802056171, 11.976017802056171, 11.976017802056171, 11.976017802056171, 11.976017802056171, 11.976017802056171, 11.976017802056171])"
      ]
     },
     "execution_count": 13,
     "metadata": {},
     "output_type": "execute_result"
    }
   ],
   "source": [
    "p=4\n",
    "p′=17\n",
    "p₊=p′-p\n",
    "k=Knots((9*rand(20)).+3)\n",
    "k₊=Knots(((k[end]-k[1])*rand(13)).+k[1])\n",
    "k′=k+p₊*unique(k)+k₊"
   ]
  },
  {
   "cell_type": "code",
   "execution_count": 14,
   "metadata": {},
   "outputs": [
    {
     "data": {
      "text/plain": [
       "BenchmarkTools.Trial: \n",
       "  memory estimate:  3.03 KiB\n",
       "  allocs estimate:  41\n",
       "  --------------\n",
       "  minimum time:     2.005 μs (0.00% GC)\n",
       "  median time:      2.148 μs (0.00% GC)\n",
       "  mean time:        2.508 μs (8.17% GC)\n",
       "  maximum time:     509.071 μs (98.40% GC)\n",
       "  --------------\n",
       "  samples:          10000\n",
       "  evals/sample:     9"
      ]
     },
     "execution_count": 14,
     "metadata": {},
     "output_type": "execute_result"
    }
   ],
   "source": [
    "@benchmark BSplineBasis(𝒫(p,k),6.3)  # ちょっと遅いのはノット列とかを毎度型検査(?)してるから?"
   ]
  },
  {
   "cell_type": "code",
   "execution_count": 15,
   "metadata": {},
   "outputs": [
    {
     "data": {
      "text/plain": [
       "BSplineSpace(3, Knots([1.0, 2.0, 3.0]))"
      ]
     },
     "execution_count": 15,
     "metadata": {},
     "output_type": "execute_result"
    }
   ],
   "source": [
    "BSplineSpace(3,Knots([1,2,3]))"
   ]
  },
  {
   "cell_type": "code",
   "execution_count": 16,
   "metadata": {},
   "outputs": [
    {
     "data": {
      "text/plain": [
       "15×275 Array{Float64,2}:\n",
       "  1.81166e-5   0.000160061   0.000701802  …  -0.0          -0.0       \n",
       " -0.0         -0.0          -0.0              0.0           0.0       \n",
       "  0.0          0.0           0.0              0.0           0.0       \n",
       "  0.0          0.0           0.0             -0.0          -0.0       \n",
       " -0.0         -0.0          -0.0              0.0           0.0       \n",
       " -0.0         -0.0          -0.0          …   0.0           0.0       \n",
       "  0.0          0.0           0.0             -0.0          -0.0       \n",
       " -0.0         -0.0          -0.0              0.0           0.0       \n",
       "  0.0          0.0           0.0             -0.0          -0.0       \n",
       " -0.0         -0.0          -0.0              0.0           0.0       \n",
       "  0.0          0.0           0.0          …  -0.0          -0.0       \n",
       " -0.0         -0.0          -0.0              0.0           0.0       \n",
       "  0.0          0.0           0.0             -0.0          -0.0       \n",
       "  0.0          0.0           0.0             -0.0          -0.0       \n",
       " -0.0         -0.0          -0.0              0.000188239   3.76478e-5"
      ]
     },
     "execution_count": 16,
     "metadata": {},
     "output_type": "execute_result"
    }
   ],
   "source": [
    "A=BSplineCoefficient(𝒫(p,k), 𝒫(p′,k′))"
   ]
  },
  {
   "cell_type": "code",
   "execution_count": 17,
   "metadata": {},
   "outputs": [
    {
     "data": {
      "text/plain": [
       "true"
      ]
     },
     "execution_count": 17,
     "metadata": {},
     "output_type": "execute_result"
    }
   ],
   "source": [
    "𝒫(p,k) ⊆ 𝒫(p′,k′)"
   ]
  },
  {
   "cell_type": "code",
   "execution_count": 21,
   "metadata": {},
   "outputs": [
    {
     "data": {
      "text/plain": [
       "true"
      ]
     },
     "execution_count": 21,
     "metadata": {},
     "output_type": "execute_result"
    }
   ],
   "source": [
    "1.0 ∈ Knots([1])"
   ]
  },
  {
   "cell_type": "code",
   "execution_count": 20,
   "metadata": {},
   "outputs": [],
   "source": [
    "Base.in(r::Real, k::Knots) = in(r,k.vector)"
   ]
  },
  {
   "cell_type": "code",
   "execution_count": 22,
   "metadata": {},
   "outputs": [
    {
     "data": {
      "text/plain": [
       "missing"
      ]
     },
     "execution_count": 22,
     "metadata": {},
     "output_type": "execute_result"
    }
   ],
   "source": [
    "missing"
   ]
  },
  {
   "cell_type": "code",
   "execution_count": 24,
   "metadata": {},
   "outputs": [
    {
     "ename": "UndefVarError",
     "evalue": "UndefVarError: null not defined",
     "output_type": "error",
     "traceback": [
      "UndefVarError: null not defined",
      "",
      "Stacktrace:",
      " [1] top-level scope at In[24]:1"
     ]
    }
   ],
   "source": [
    "null"
   ]
  },
  {
   "cell_type": "code",
   "execution_count": 23,
   "metadata": {},
   "outputs": [
    {
     "data": {
      "text/plain": [
       "array initializer with undefined values"
      ]
     },
     "execution_count": 23,
     "metadata": {},
     "output_type": "execute_result"
    }
   ],
   "source": [
    "Araryaundef"
   ]
  },
  {
   "cell_type": "code",
   "execution_count": 32,
   "metadata": {},
   "outputs": [
    {
     "data": {
      "text/plain": [
       "3×3 Array{Float64,2}:\n",
       " 3.8382e151   4.50622e-144  1.41529e161\n",
       " 1.47722e179  3.80985e180   6.00737e-67\n",
       " 8.37404e242  1.06396e224   3.88664e97 "
      ]
     },
     "execution_count": 32,
     "metadata": {},
     "output_type": "execute_result"
    }
   ],
   "source": [
    "hoge=Array{Float64}(undef, 3,3)"
   ]
  },
  {
   "cell_type": "code",
   "execution_count": 34,
   "metadata": {},
   "outputs": [
    {
     "ename": "MethodError",
     "evalue": "MethodError: Cannot `convert` an object of type Nothing to an object of type Float64\nClosest candidates are:\n  convert(::Type{T}, !Matched::T) where T<:Number at number.jl:6\n  convert(::Type{T}, !Matched::Number) where T<:Number at number.jl:7\n  convert(::Type{T}, !Matched::Base.TwicePrecision) where T<:Number at twiceprecision.jl:250\n  ...",
     "output_type": "error",
     "traceback": [
      "MethodError: Cannot `convert` an object of type Nothing to an object of type Float64\nClosest candidates are:\n  convert(::Type{T}, !Matched::T) where T<:Number at number.jl:6\n  convert(::Type{T}, !Matched::Number) where T<:Number at number.jl:7\n  convert(::Type{T}, !Matched::Base.TwicePrecision) where T<:Number at twiceprecision.jl:250\n  ...",
      "",
      "Stacktrace:",
      " [1] setindex!(::Array{Float64,2}, ::Nothing, ::Int64, ::Int64) at ./array.jl:784",
      " [2] top-level scope at In[34]:1"
     ]
    }
   ],
   "source": [
    "hoge[1,1]=nothing"
   ]
  },
  {
   "cell_type": "code",
   "execution_count": 31,
   "metadata": {},
   "outputs": [],
   "source": [
    "nothing"
   ]
  },
  {
   "cell_type": "code",
   "execution_count": 36,
   "metadata": {},
   "outputs": [
    {
     "name": "stdout",
     "output_type": "stream",
     "text": [
      "search: \u001b[0m\u001b[1me\u001b[22m\u001b[0m\u001b[1mm\u001b[22m\u001b[0m\u001b[1mp\u001b[22m\u001b[0m\u001b[1mt\u001b[22m\u001b[0m\u001b[1my\u001b[22m \u001b[0m\u001b[1me\u001b[22m\u001b[0m\u001b[1mm\u001b[22m\u001b[0m\u001b[1mp\u001b[22m\u001b[0m\u001b[1mt\u001b[22m\u001b[0m\u001b[1my\u001b[22m! is\u001b[0m\u001b[1me\u001b[22m\u001b[0m\u001b[1mm\u001b[22m\u001b[0m\u001b[1mp\u001b[22m\u001b[0m\u001b[1mt\u001b[22m\u001b[0m\u001b[1my\u001b[22m\n",
      "\n"
     ]
    },
    {
     "data": {
      "text/latex": [
       "\\begin{verbatim}\n",
       "empty(x::Tuple)\n",
       "\\end{verbatim}\n",
       "Returns an empty tuple, \\texttt{()}.\n",
       "\n",
       "\\rule{\\textwidth}{1pt}\n",
       "\\begin{verbatim}\n",
       "empty(v::AbstractVector, [eltype])\n",
       "\\end{verbatim}\n",
       "Create an empty vector similar to \\texttt{v}, optionally changing the \\texttt{eltype}.\n",
       "\n",
       "\\section{Examples}\n",
       "\\begin{verbatim}\n",
       "julia> empty([1.0, 2.0, 3.0])\n",
       "0-element Array{Float64,1}\n",
       "\n",
       "julia> empty([1.0, 2.0, 3.0], String)\n",
       "0-element Array{String,1}\n",
       "\\end{verbatim}\n",
       "\\rule{\\textwidth}{1pt}\n",
       "\\begin{verbatim}\n",
       "empty(a::AbstractDict, [index_type=keytype(a)], [value_type=valtype(a)])\n",
       "\\end{verbatim}\n",
       "Create an empty \\texttt{AbstractDict} container which can accept indices of type \\texttt{index\\_type} and values of type \\texttt{value\\_type}. The second and third arguments are optional and default to the input's \\texttt{keytype} and \\texttt{valtype}, respectively. (If only one of the two types is specified, it is assumed to be the \\texttt{value\\_type}, and the \\texttt{index\\_type} we default to \\texttt{keytype(a)}).\n",
       "\n",
       "Custom \\texttt{AbstractDict} subtypes may choose which specific dictionary type is best suited to return for the given index and value types, by specializing on the three-argument signature. The default is to return an empty \\texttt{Dict}.\n",
       "\n"
      ],
      "text/markdown": [
       "```\n",
       "empty(x::Tuple)\n",
       "```\n",
       "\n",
       "Returns an empty tuple, `()`.\n",
       "\n",
       "---\n",
       "\n",
       "```\n",
       "empty(v::AbstractVector, [eltype])\n",
       "```\n",
       "\n",
       "Create an empty vector similar to `v`, optionally changing the `eltype`.\n",
       "\n",
       "# Examples\n",
       "\n",
       "```jldoctest\n",
       "julia> empty([1.0, 2.0, 3.0])\n",
       "0-element Array{Float64,1}\n",
       "\n",
       "julia> empty([1.0, 2.0, 3.0], String)\n",
       "0-element Array{String,1}\n",
       "```\n",
       "\n",
       "---\n",
       "\n",
       "```\n",
       "empty(a::AbstractDict, [index_type=keytype(a)], [value_type=valtype(a)])\n",
       "```\n",
       "\n",
       "Create an empty `AbstractDict` container which can accept indices of type `index_type` and values of type `value_type`. The second and third arguments are optional and default to the input's `keytype` and `valtype`, respectively. (If only one of the two types is specified, it is assumed to be the `value_type`, and the `index_type` we default to `keytype(a)`).\n",
       "\n",
       "Custom `AbstractDict` subtypes may choose which specific dictionary type is best suited to return for the given index and value types, by specializing on the three-argument signature. The default is to return an empty `Dict`.\n"
      ],
      "text/plain": [
       "\u001b[36m  empty(x::Tuple)\u001b[39m\n",
       "\n",
       "  Returns an empty tuple, \u001b[36m()\u001b[39m.\n",
       "\n",
       "  ────────────────────────────────────────────────────────────────────────────\n",
       "\n",
       "\u001b[36m  empty(v::AbstractVector, [eltype])\u001b[39m\n",
       "\n",
       "  Create an empty vector similar to \u001b[36mv\u001b[39m, optionally changing the \u001b[36meltype\u001b[39m.\n",
       "\n",
       "\u001b[1m  Examples\u001b[22m\n",
       "\u001b[1m  ≡≡≡≡≡≡≡≡≡≡\u001b[22m\n",
       "\n",
       "\u001b[36m  julia> empty([1.0, 2.0, 3.0])\u001b[39m\n",
       "\u001b[36m  0-element Array{Float64,1}\u001b[39m\n",
       "\u001b[36m  \u001b[39m\n",
       "\u001b[36m  julia> empty([1.0, 2.0, 3.0], String)\u001b[39m\n",
       "\u001b[36m  0-element Array{String,1}\u001b[39m\n",
       "\n",
       "  ────────────────────────────────────────────────────────────────────────────\n",
       "\n",
       "\u001b[36m  empty(a::AbstractDict, [index_type=keytype(a)], [value_type=valtype(a)])\u001b[39m\n",
       "\n",
       "  Create an empty \u001b[36mAbstractDict\u001b[39m container which can accept indices of type\n",
       "  \u001b[36mindex_type\u001b[39m and values of type \u001b[36mvalue_type\u001b[39m. The second and third arguments are\n",
       "  optional and default to the input's \u001b[36mkeytype\u001b[39m and \u001b[36mvaltype\u001b[39m, respectively. (If\n",
       "  only one of the two types is specified, it is assumed to be the \u001b[36mvalue_type\u001b[39m,\n",
       "  and the \u001b[36mindex_type\u001b[39m we default to \u001b[36mkeytype(a)\u001b[39m).\n",
       "\n",
       "  Custom \u001b[36mAbstractDict\u001b[39m subtypes may choose which specific dictionary type is\n",
       "  best suited to return for the given index and value types, by specializing\n",
       "  on the three-argument signature. The default is to return an empty \u001b[36mDict\u001b[39m."
      ]
     },
     "execution_count": 36,
     "metadata": {},
     "output_type": "execute_result"
    }
   ],
   "source": [
    "?empty"
   ]
  },
  {
   "cell_type": "code",
   "execution_count": 39,
   "metadata": {},
   "outputs": [
    {
     "ename": "UndefVarError",
     "evalue": "UndefVarError: EmptySet not defined",
     "output_type": "error",
     "traceback": [
      "UndefVarError: EmptySet not defined",
      "",
      "Stacktrace:",
      " [1] top-level scope at In[39]:1"
     ]
    }
   ],
   "source": [
    "EmptySet"
   ]
  },
  {
   "cell_type": "code",
   "execution_count": 38,
   "metadata": {},
   "outputs": [
    {
     "ename": "UndefVarError",
     "evalue": "UndefVarError: emptyset not defined",
     "output_type": "error",
     "traceback": [
      "UndefVarError: emptyset not defined",
      "",
      "Stacktrace:",
      " [1] top-level scope at In[38]:1"
     ]
    }
   ],
   "source": [
    "emptyset"
   ]
  },
  {
   "cell_type": "code",
   "execution_count": 41,
   "metadata": {},
   "outputs": [
    {
     "data": {
      "text/plain": [
       "true"
      ]
     },
     "execution_count": 41,
     "metadata": {},
     "output_type": "execute_result"
    }
   ],
   "source": [
    "1 ∈ Set([1,2,3])"
   ]
  },
  {
   "cell_type": "code",
   "execution_count": 43,
   "metadata": {},
   "outputs": [
    {
     "data": {
      "text/plain": [
       "Set([2, 3, 1])"
      ]
     },
     "execution_count": 43,
     "metadata": {},
     "output_type": "execute_result"
    }
   ],
   "source": [
    "Set([1,2,3,1])"
   ]
  },
  {
   "cell_type": "code",
   "execution_count": 1,
   "metadata": {},
   "outputs": [
    {
     "data": {
      "text/plain": [
       "Set([2, 3, 1])"
      ]
     },
     "execution_count": 1,
     "metadata": {},
     "output_type": "execute_result"
    }
   ],
   "source": [
    "Set([1,2,3])"
   ]
  },
  {
   "cell_type": "code",
   "execution_count": null,
   "metadata": {},
   "outputs": [],
   "source": []
  }
 ],
 "metadata": {
  "@webio": {
   "lastCommId": null,
   "lastKernelId": null
  },
  "kernelspec": {
   "display_name": "Julia 1.3.1",
   "language": "julia",
   "name": "julia-1.3"
  },
  "language_info": {
   "file_extension": ".jl",
   "mimetype": "application/julia",
   "name": "julia",
   "version": "1.3.1"
  }
 },
 "nbformat": 4,
 "nbformat_minor": 2
}
