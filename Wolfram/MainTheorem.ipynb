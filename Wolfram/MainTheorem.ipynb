{
 "cells": [
  {
   "cell_type": "markdown",
   "metadata": {},
   "source": [
    "# Main Theorem of Elastic Surface Embedding\n",
    "\n",
    "## Geometry of reference state"
   ]
  },
  {
   "cell_type": "code",
   "execution_count": null,
   "metadata": {},
   "outputs": [],
   "source": [
    "(* Riemannian metric *)\n",
    "g₍₀₎₁₁[u¹_, u²_] = 1 - 2 κ₍₀₎[u¹] u² + (κ₍₀₎[u¹]^2 - Κ₍₀₎[u¹]) u²^2 + O[u²]^3;\n",
    "g₍₀₎₁₂[u¹_, u²_] = 0;\n",
    "g₍₀₎₂₁[u¹_, u²_] = 0;\n",
    "g₍₀₎₂₂[u¹_, u²_] = 1;\n",
    "g₍₀₎[u¹_, u²_] = {{g₍₀₎₁₁[u¹, u²],g₍₀₎₁₂[u¹, u²]},{g₍₀₎₂₁[u¹, u²],g₍₀₎₂₂[u¹, u²]}};\n",
    "\n",
    "(* Normalize *)\n",
    "g₍₀₎⁽⁰⁾₁₁[u¹_, u²_] = 1;\n",
    "g₍₀₎⁽⁰⁾₁₂[u¹_, u²_] = 0;\n",
    "g₍₀₎⁽⁰⁾₂₁[u¹_, u²_] = 0;\n",
    "g₍₀₎⁽⁰⁾₂₂[u¹_, u²_] = 1;\n",
    "g₍₀₎⁽⁰⁾[u¹_, u²_] = {{g₍₀₎⁽⁰⁾₁₁[u¹, u²],g₍₀₎⁽⁰⁾₁₂[u¹, u²]},{g₍₀₎⁽⁰⁾₂₁[u¹, u²],g₍₀₎⁽⁰⁾₂₂[u¹, u²]}};\n",
    "\n",
    "(* Volume form *)\n",
    "𝝊₍₀₎[u¹_, u²_] = Sqrt[Det[g₍₀₎[u¹, u²]]];"
   ]
  },
  {
   "cell_type": "markdown",
   "metadata": {},
   "source": [
    "## Geometry of current state"
   ]
  },
  {
   "cell_type": "code",
   "execution_count": null,
   "metadata": {},
   "outputs": [],
   "source": [
    "(* Embedding to 2-dim Euclidean space *)\n",
    "𝒑₍ₜ₎[u¹_, u²_, β_] = 𝒄₍ₜ₎[u¹, β] + ξ[u¹, u², β]𝒆₁₍ₜ₎[u¹, β] + η[u¹, u², β]𝒆₂₍ₜ₎[u¹, β];\n",
    "Derivative[1,0][𝒄₍ₜ₎][t_, β_] = ṡ₍ₜ₎[t, β]𝒆₁₍ₜ₎[t, β];\n",
    "Derivative[1,0][𝒆₁₍ₜ₎][t_, β_] = κ₍ₜ₎[t, β]𝒆₂₍ₜ₎[t, β];\n",
    "Derivative[1,0][𝒆₂₍ₜ₎][t_, β_] = -κ₍ₜ₎[t, β]𝒆₁₍ₜ₎[t, β];\n",
    "ξ[u¹_, 0, β_] = 0;\n",
    "η[u¹_, 0, β_] = 0;\n",
    "Derivative[i_,0,0][ξ][u¹_, 0, β_] = 0;\n",
    "Derivative[i_,0,0][η][u¹_, 0, β_] = 0;\n",
    "\n",
    "(* Tangent vector *)\n",
    "𝒑₍ₜ₎₁[u¹_, u²_, β_] = D[𝒑₍ₜ₎[u¹, u², β], u¹];\n",
    "𝒑₍ₜ₎₂[u¹_, u²_, β_] = D[𝒑₍ₜ₎[u¹, u², β], u²];\n",
    "\n",
    "(* Riemannian metric *)\n",
    "tmp1[u¹_, u²_, β_] = 𝒑₍ₜ₎₁[u¹, u², β]/.{𝒆₁₍ₜ₎[u¹, β] -> {1,0}, 𝒆₂₍ₜ₎[u¹, β] -> {0,1}};\n",
    "tmp2[u¹_, u²_, β_] = 𝒑₍ₜ₎₂[u¹, u², β]/.{𝒆₁₍ₜ₎[u¹, β] -> {1,0}, 𝒆₂₍ₜ₎[u¹, β] -> {0,1}};\n",
    "g₍ₜ₎₁₁[u¹_, u²_, β_] = tmp1[u¹, u², β].tmp1[u¹, u², β];\n",
    "g₍ₜ₎₁₂[u¹_, u²_, β_] = tmp1[u¹, u², β].tmp2[u¹, u², β];\n",
    "g₍ₜ₎₂₁[u¹_, u²_, β_] = tmp2[u¹, u², β].tmp1[u¹, u², β];\n",
    "g₍ₜ₎₂₂[u¹_, u²_, β_] = tmp2[u¹, u², β].tmp2[u¹, u², β];\n",
    "g₍ₜ₎[u¹_, u²_, β_] = {{g₍ₜ₎₁₁[u¹, u², β],g₍ₜ₎₁₂[u¹, u², β]},{g₍ₜ₎₂₁[u¹, u², β],g₍ₜ₎₂₂[u¹, u², β]}};\n",
    "\n",
    "(* Normalize *)\n",
    "g₍ₜ₎⁽⁰⁾₁₁[u¹_, u²_, β_] = g₍ₜ₎₁₁[u¹, u², β] / g₍₀₎₁₁[u¹, u²];\n",
    "g₍ₜ₎⁽⁰⁾₁₂[u¹_, u²_, β_] = g₍ₜ₎₁₂[u¹, u², β] / Sqrt[g₍₀₎₁₁[u¹, u²]];\n",
    "g₍ₜ₎⁽⁰⁾₂₁[u¹_, u²_, β_] = g₍ₜ₎₂₁[u¹, u², β] / Sqrt[g₍₀₎₁₁[u¹, u²]];\n",
    "g₍ₜ₎⁽⁰⁾₂₂[u¹_, u²_, β_] = g₍ₜ₎₂₂[u¹, u², β];\n",
    "g₍ₜ₎⁽⁰⁾[u¹_, u²_, β_] = {{g₍ₜ₎⁽⁰⁾₁₁[u¹, u², β],g₍ₜ₎⁽⁰⁾₁₂[u¹, u², β]},{g₍ₜ₎⁽⁰⁾₂₁[u¹, u², β],g₍ₜ₎⁽⁰⁾₂₂[u¹, u², β]}};"
   ]
  },
  {
   "cell_type": "markdown",
   "metadata": {},
   "source": [
    "## Symbol definition for simplicity"
   ]
  },
  {
   "cell_type": "code",
   "execution_count": null,
   "metadata": {},
   "outputs": [],
   "source": [
    "symbols={\n",
    "    (* For Gaussian Curvature *)\n",
    "    Derivative[i_,j_,0][ξ][u,v,β] :> Symbol[\"𝜉\"<>ToString[i]<>ToString[j]],\n",
    "    Derivative[i_,j_,0][η][u,v,β] :> Symbol[\"𝜂\"<>ToString[i]<>ToString[j]],\n",
    "    Derivative[i_,0][κ₍ₜ₎][u,β] :> Symbol[\"𝜅\"<>ToString[i]],\n",
    "    Derivative[i_,0][ṡ₍ₜ₎][u,β] :> Symbol[\"𝜎\"<>ToString[i]],\n",
    "    η[u,v,β] :> 𝜂00,\n",
    "    ξ[u,v,β] :> 𝜉00,\n",
    "    κ₍ₜ₎[u,β] :> 𝜅0,\n",
    "    ṡ₍ₜ₎[u,β] :> 𝜎0,\n",
    "    \n",
    "    (* For Minimization *)\n",
    "    Derivative[i_,j_,k_][ξ][s,0,0] :> Symbol[\"𝜉\"<>ToString[i]<>ToString[j]<>ToString[k]],\n",
    "    Derivative[i_,j_,k_][η][s,0,0] :> Symbol[\"𝜂\"<>ToString[i]<>ToString[j]<>ToString[k]],\n",
    "    Derivative[i_,j_][κ₍ₜ₎][s,0] :> Symbol[\"𝜅\"<>ToString[i]<>ToString[j]],\n",
    "    Derivative[i_,j_][ṡ₍ₜ₎][s,0] :> Symbol[\"S\"<>ToString[i]<>ToString[j]],\n",
    "    κ₍ₜ₎[s,0] :> 𝜅00,\n",
    "    ṡ₍ₜ₎[s,0] :> S00\n",
    "};"
   ]
  },
  {
   "cell_type": "markdown",
   "metadata": {},
   "source": [
    "## Check Gaussian curvature of current state embedding is equals to zero"
   ]
  },
  {
   "cell_type": "code",
   "execution_count": null,
   "metadata": {},
   "outputs": [],
   "source": [
    "(* Brioschi Formula *)\n",
    "𝐸 = g₍ₜ₎₁₁[u, v, β];\n",
    "𝐹 = g₍ₜ₎₁₂[u, v, β];\n",
    "𝐺 = g₍ₜ₎₂₂[u, v, β];\n",
    "𝐸u = D[𝐸, {u,1}];\n",
    "𝐸v = D[𝐸, {v,1}];\n",
    "𝐹u = D[𝐹, {u,1}];\n",
    "𝐹v = D[𝐹, {v,1}];\n",
    "𝐺u = D[𝐺, {u,1}];\n",
    "𝐺v = D[𝐺, {v,1}];\n",
    "𝐸vv = D[𝐸, {v,2}];\n",
    "𝐹uv = D[𝐹, {u,1}, {v,1}];\n",
    "𝐺uu = D[𝐺, {u,2}];\n",
    "Κ₍ₜ₎ = (Det[{{𝐹uv-(𝐸vv+𝐺uu)/2, 𝐸u/2, 𝐹u-𝐸v/2}, {𝐹v-𝐺u/2, 𝐸, 𝐹}, {𝐺v/2, 𝐹, 𝐺}}]-Det[{{0, 𝐸v/2, 𝐺u/2}, {𝐸v/2, 𝐸, 𝐹}, {𝐺u/2, 𝐹, 𝐺}}]) / (𝐸 𝐺-𝐹^2)^2;\n",
    "rand = {𝜉00->RandomReal[],𝜉10->RandomReal[],𝜉01->RandomReal[],𝜉20->RandomReal[],𝜉11->RandomReal[],𝜉02->RandomReal[],𝜉30->RandomReal[],𝜉21->RandomReal[],𝜉12->RandomReal[],𝜉03->RandomReal[],𝜂00->RandomReal[],𝜂10->RandomReal[],𝜂01->RandomReal[],𝜂20->RandomReal[],𝜂11->RandomReal[],𝜂02->RandomReal[],𝜂30->RandomReal[],𝜂21->RandomReal[],𝜂12->RandomReal[],𝜂03->RandomReal[],𝜅0->RandomReal[],𝜅1->RandomReal[],𝜅2->RandomReal[],𝜎0->RandomReal[],𝜎1->RandomReal[],𝜎2->RandomReal[]};\n",
    "Print[\"Gaussian curvature: \", Κ₍ₜ₎/.symbols/.rand]"
   ]
  },
  {
   "cell_type": "markdown",
   "metadata": {},
   "source": [
    "## Strain tensor, strain energy density"
   ]
  },
  {
   "cell_type": "code",
   "execution_count": null,
   "metadata": {},
   "outputs": [],
   "source": [
    "(* Strain tensor *)\n",
    "E⁽⁰⁾₁₁[u¹_, u²_, β_] = (g₍ₜ₎⁽⁰⁾₁₁[u¹, u², β] - g₍₀₎⁽⁰⁾₁₁[u¹, u²])/2;\n",
    "E⁽⁰⁾₁₂[u¹_, u²_, β_] = (g₍ₜ₎⁽⁰⁾₁₂[u¹, u², β] - g₍₀₎⁽⁰⁾₁₂[u¹, u²])/2;\n",
    "E⁽⁰⁾₂₁[u¹_, u²_, β_] = (g₍ₜ₎⁽⁰⁾₂₁[u¹, u², β] - g₍₀₎⁽⁰⁾₂₁[u¹, u²])/2;\n",
    "E⁽⁰⁾₂₂[u¹_, u²_, β_] = (g₍ₜ₎⁽⁰⁾₂₂[u¹, u², β] - g₍₀₎⁽⁰⁾₂₂[u¹, u²])/2;\n",
    "E⁽⁰⁾[u¹_, u²_, β_] = {{E⁽⁰⁾₁₁[u¹, u², β],E⁽⁰⁾₁₂[u¹, u², β]},{E⁽⁰⁾₂₁[u¹, u², β],E⁽⁰⁾₂₂[u¹, u², β]}}; (* + O[β]^3 *)\n",
    "\n",
    "(* Lamé constant *)\n",
    "d = 2;\n",
    "𝜆 = 𝜈*Y/((1+𝜈)(1-(d-1)𝜈));\n",
    "𝜇 = Y/(2(1+𝜈));\n",
    "𝛿 = KroneckerDelta;\n",
    "C⁽⁰⁾ = Table[𝜆 𝛿[i,j] 𝛿[k,l] + 𝜇(𝛿[i,k] 𝛿[j,l] + 𝛿[i,l] 𝛿[j,k]), {i,1,d}, {j,1,d}, {k,1,d}, {l,1,d}];\n",
    "\n",
    "(* Strain energy density *)\n",
    "𝝊₍₀₎ᵦ[s_, r_] = ((Normal[𝝊₍₀₎[u¹, u²]]/.{u¹->s, u²->β B[s] r}) + O[β]^3) β B[s];\n",
    "𝒲ᵦ[s_, r_, E⁽⁰⁾ᵦ_] := (1/2)*Sum[C⁽⁰⁾[[i,j,k,l]]*E⁽⁰⁾ᵦ[s, r][[i,j]]*E⁽⁰⁾ᵦ[s, r][[k,l]], {i,1,d}, {j,1,d}, {k,1,d}, {l,1,d}] 𝝊₍₀₎ᵦ[s, r];\n",
    "(* 𝒲[u¹_, u²_, β_] = (1/2)*Sum[C⁽⁰⁾[[i,j,k,l]]*E⁽⁰⁾[u¹, u², β][[i,j]]*E⁽⁰⁾[u¹, u², β][[k,l]], {i,1,d}, {j,1,d}, {k,1,d}, {l,1,d}]*𝝊₍₀₎[u¹, u²]; *)"
   ]
  },
  {
   "cell_type": "markdown",
   "metadata": {},
   "source": [
    "## Minimization of strain energy\n",
    "\n",
    "```\n",
    "W = Integrate[𝒲[u¹, u², β], {u¹, min_u¹, max_u¹}, {u², -β B[u¹], β B[u¹]}]\n",
    "  = Integrate[𝒲ᵦ[s, r], {r, -1, 1}, {s, min_u¹, max_u¹}]\n",
    "  = Integrate[𝒲ᵦ[s], {s, min_u¹, max_u¹}]\n",
    "  = Integrate[a0 + a1 β^1 + ... + an β^n / n!, {s, min_u¹, max_u¹}]\n",
    "```"
   ]
  },
  {
   "cell_type": "code",
   "execution_count": null,
   "metadata": {},
   "outputs": [],
   "source": [
    "𝒲ᵦ[s_, E⁽⁰⁾ᵦ_] := Integrate[Normal[𝒲ᵦ[s, r, E⁽⁰⁾ᵦ]], {r, -1, 1}];"
   ]
  },
  {
   "cell_type": "markdown",
   "metadata": {},
   "source": [
    "### 0th differential coefficient\n",
    "#### Solution"
   ]
  },
  {
   "cell_type": "code",
   "execution_count": null,
   "metadata": {},
   "outputs": [],
   "source": [
    "E⁽⁰⁾ᵦ[s_, r_] = (Normal[E⁽⁰⁾[u¹, u², β]]/.{u¹->s, u²->β B[s] r}) + O[β]^3;\n",
    "E0[s_, r_] = E⁽⁰⁾ᵦ[s, r]/.symbols;\n",
    "a0 = D[𝒲ᵦ[s,E0],{β,0}]/.{β->0};\n",
    "solution0 = {};\n",
    "a0/.solution0"
   ]
  },
  {
   "cell_type": "markdown",
   "metadata": {},
   "source": [
    "### 1st differential coefficient\n",
    "#### Solution"
   ]
  },
  {
   "cell_type": "code",
   "execution_count": null,
   "metadata": {},
   "outputs": [],
   "source": [
    "E1[s_, r_] = E0[s, r]/.solution0//FullSimplify;\n",
    "a1 = D[𝒲ᵦ[s,E1],{β,1}]/.{β->0};\n",
    "solution1 = {𝜉010->0, 𝜂010->1, S00->1};\n",
    "a1/.solution1"
   ]
  },
  {
   "cell_type": "markdown",
   "metadata": {},
   "source": [
    "#### Calculation note (can be skipped)"
   ]
  },
  {
   "cell_type": "code",
   "execution_count": null,
   "metadata": {},
   "outputs": [],
   "source": [
    "(* Simplify *)\n",
    "A1 = a1*4*(1-𝜈^2)/Y/B[s]/.symbols/.solution0//FullSimplify;\n",
    "\n",
    "(* Replace variable *)\n",
    "Α1 = y^2+x^2+s^2+2x(s-1-𝜈)+2(1+𝜈)-2s(1+𝜈)+2y(-1+x+(s-1)𝜈);\n",
    "A1symbols = {x -> 𝜉010^2, y -> 𝜂010^2, s -> S00^2};\n",
    "Print[\"Replacement check: \", A1 == Α1/.A1symbols//FullSimplify]\n",
    "\n",
    "(* TODO: Calcurate grad *)\n",
    "(* TODO: Calcurate Hesse matrix *)\n",
    "(* TODO: Get the solution *)"
   ]
  },
  {
   "cell_type": "code",
   "execution_count": null,
   "metadata": {},
   "outputs": [],
   "source": [
    "(E⁽⁰⁾ᵦ[s, r]+O[β])/.symbols\n",
    "(E⁽⁰⁾ᵦ[s, r]+O[β])/.symbols/.solution0/.solution1"
   ]
  },
  {
   "cell_type": "markdown",
   "metadata": {},
   "source": [
    "### 2nd differential coefficient\n",
    "#### Solution"
   ]
  },
  {
   "cell_type": "code",
   "execution_count": null,
   "metadata": {},
   "outputs": [],
   "source": [
    "E2[s_, r_] = E1[s, r]/.solution1//FullSimplify;\n",
    "a2 = D[𝒲ᵦ[s,E2],{β,2}]/.{β->0};\n",
    "solution2 = {};\n",
    "a2/.solution2"
   ]
  },
  {
   "cell_type": "markdown",
   "metadata": {},
   "source": [
    "### 3rd differential coefficient\n",
    "#### Solution"
   ]
  },
  {
   "cell_type": "code",
   "execution_count": null,
   "metadata": {},
   "outputs": [],
   "source": [
    "E3[s_, r_] = E2[s, r]/.solution2//FullSimplify;\n",
    "a3 = D[𝒲ᵦ[s,E3],{β,3}]/.{β->0};\n",
    "solution3 = {𝜉110->0, 𝜂110->0, 𝜉011->0, 𝜉020->0, 𝜂011->0, 𝜂020->0, 𝜅00->κ₍₀₎[s], S01->0};\n",
    "a3/.solution3"
   ]
  },
  {
   "cell_type": "markdown",
   "metadata": {},
   "source": [
    "#### Calculation note (can be skipped)"
   ]
  },
  {
   "cell_type": "code",
   "execution_count": null,
   "metadata": {},
   "outputs": [],
   "source": [
    "(* Simplify *)\n",
    "A3 = a3*(1-𝜈^2)/Y/B[s]/.symbols/.solution0/.solution1/.solution2/.{𝜉110->0, 𝜂110->0}//FullSimplify;\n",
    "\n",
    "(* Check its Hesse matrix is positive-definite *)\n",
    "variables3 = {𝜉011, 𝜉020, 𝜂011, 𝜂020, 𝜅00, S01};\n",
    "gradA3 = Grad[A3, variables3]//Simplify;\n",
    "hesseA3 = Grad[gradA3, variables3]//Simplify;\n",
    "Eigenvalues[hesseA3];\n",
    "Solve[gradA3 == {0,0,0,0,0,0}, variables3]"
   ]
  },
  {
   "cell_type": "markdown",
   "metadata": {},
   "source": [
    "### 4th differential coefficient\n",
    "#### Solution"
   ]
  },
  {
   "cell_type": "code",
   "execution_count": null,
   "metadata": {},
   "outputs": [],
   "source": [
    "E4[s_, r_] = E3[s, r]/.solution3//FullSimplify;\n",
    "a4 = D[𝒲ᵦ[s,E4],{β,4}]/.{β->0};\n",
    "solution4 = {};\n",
    "a4/.solution4"
   ]
  },
  {
   "cell_type": "markdown",
   "metadata": {},
   "source": [
    "### 5th differential coefficient\n",
    "#### Solution"
   ]
  },
  {
   "cell_type": "code",
   "execution_count": null,
   "metadata": {},
   "outputs": [],
   "source": [
    "E5[s_, r_] = E4[s, r]/.solution4//FullSimplify;\n",
    "a5 = D[𝒲ᵦ[s,E5],{β,5}]/.{β->0};\n",
    "solution5 = {𝜉111->0, 𝜉120->0, 𝜂111->0, 𝜂120->0, 𝜉012->0, 𝜉021->0, 𝜉030->0, 𝜂012->𝜈 B[s]^2 Κ₍₀₎[s]/3, 𝜂021->0, 𝜂030->-𝜈 Κ₍₀₎[s], 𝜅01->0, S02->-B[s]^2 Κ₍₀₎[s]/3};\n",
    "a5/.solution5//Simplify"
   ]
  },
  {
   "cell_type": "markdown",
   "metadata": {},
   "source": [
    "#### Calculation note (can be skipped)"
   ]
  },
  {
   "cell_type": "code",
   "execution_count": null,
   "metadata": {},
   "outputs": [],
   "source": [
    "(* Simplify *)\n",
    "A5 = a5*2*(1-𝜈^2)/Y/B[s]/15/.{𝜉111->0, 𝜉120->0, 𝜂111->0, 𝜂120->0}//FullSimplify;\n",
    "\n",
    "(* Check its Hesse matrix is positive-definite *)\n",
    "variables5 = {𝜉012, 𝜉021, 𝜉030, 𝜂012, 𝜂021, 𝜂030, 𝜅01, S02};\n",
    "gradA5 = Grad[A5, variables5]//Simplify;\n",
    "hesseA5 = Grad[gradA5, variables5]//Simplify;\n",
    "Eigenvalues[hesseA5]\n",
    "\n",
    "(* Check its Hesse matrix is positive-definite *)\n",
    "Solve[gradA5 == {0,0,0,0,0,0,0,0}, variables5]"
   ]
  },
  {
   "cell_type": "markdown",
   "metadata": {},
   "source": [
    "## Result"
   ]
  },
  {
   "cell_type": "code",
   "execution_count": null,
   "metadata": {},
   "outputs": [],
   "source": [
    "solution = Join[solution0,solution1,solution2,solution3,solution4,solution5];\n",
    "κ₍ₜ₎ᵦ[s_] = (κ₍ₜ₎[s,β]+O[β]^2)/.symbols/.solution//Simplify\n",
    "ṡ₍ₜ₎ᵦ[s_] = (ṡ₍ₜ₎[s,β]+O[β]^3)/.symbols/.solution//Simplify\n",
    "E⁽⁰⁾₁₁ᵦ[s_,r_] = E⁽⁰⁾ᵦ[s, r][[1,1]]/.symbols/.solution//Simplify\n",
    "E⁽⁰⁾₁₂ᵦ[s_,r_] = E⁽⁰⁾ᵦ[s, r][[1,2]]/.symbols/.solution//Simplify\n",
    "E⁽⁰⁾₂₁ᵦ[s_,r_] = E⁽⁰⁾ᵦ[s, r][[2,1]]/.symbols/.solution//Simplify\n",
    "E⁽⁰⁾₂₂ᵦ[s_,r_] = E⁽⁰⁾ᵦ[s, r][[2,2]]/.symbols/.solution//Simplify"
   ]
  }
 ],
 "metadata": {
  "kernelspec": {
   "display_name": "Wolfram Language 12",
   "language": "Wolfram Language",
   "name": "wolframlanguage12"
  },
  "language_info": {
   "codemirror_mode": "mathematica",
   "file_extension": ".m",
   "mimetype": "application/vnd.wolfram.m",
   "name": "Wolfram Language",
   "pygments_lexer": "mathematica",
   "version": "12.0"
  }
 },
 "nbformat": 4,
 "nbformat_minor": 2
}
