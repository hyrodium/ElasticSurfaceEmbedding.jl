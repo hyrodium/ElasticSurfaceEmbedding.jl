{
 "cells": [
  {
   "cell_type": "markdown",
   "metadata": {},
   "source": [
    "# Main Theorem of Elastic Surface Embedding\n",
    "\n",
    "## Geometry of reference state"
   ]
  },
  {
   "cell_type": "code",
   "execution_count": null,
   "metadata": {},
   "outputs": [],
   "source": [
    "(* Riemannian metric *)\n",
    "g₍₀₎₁₁[u¹_, u²_] = 1 - 2 κ₍₀₎[u¹] u² + (κ₍₀₎[u¹]^2 - Κ₍₀₎[u¹]) u²^2 + O[u²]^3;\n",
    "g₍₀₎₁₂[u¹_, u²_] = 0;\n",
    "g₍₀₎₂₁[u¹_, u²_] = 0;\n",
    "g₍₀₎₂₂[u¹_, u²_] = 1;\n",
    "g₍₀₎[u¹_, u²_] = {{g₍₀₎₁₁[u¹, u²],g₍₀₎₁₂[u¹, u²]},{g₍₀₎₂₁[u¹, u²],g₍₀₎₂₂[u¹, u²]}};\n",
    "\n",
    "(* Normalize *)\n",
    "g₍₀₎⁽⁰⁾₁₁[u¹_, u²_] = 1;\n",
    "g₍₀₎⁽⁰⁾₁₂[u¹_, u²_] = 0;\n",
    "g₍₀₎⁽⁰⁾₂₁[u¹_, u²_] = 0;\n",
    "g₍₀₎⁽⁰⁾₂₂[u¹_, u²_] = 1;\n",
    "g₍₀₎⁽⁰⁾[u¹_, u²_] = {{g₍₀₎⁽⁰⁾₁₁[u¹, u²],g₍₀₎⁽⁰⁾₁₂[u¹, u²]},{g₍₀₎⁽⁰⁾₂₁[u¹, u²],g₍₀₎⁽⁰⁾₂₂[u¹, u²]}};\n",
    "\n",
    "(* Volume form *)\n",
    "𝝊₍₀₎[u¹_, u²_] = Sqrt[Det[g₍₀₎[u¹, u²]]];"
   ]
  },
  {
   "cell_type": "markdown",
   "metadata": {},
   "source": [
    "## Geometry of current state"
   ]
  },
  {
   "cell_type": "code",
   "execution_count": null,
   "metadata": {},
   "outputs": [],
   "source": [
    "(* Embedding to 2-dim Euclidean space *)\n",
    "𝒑₍ₜ₎[u¹_, u²_, β_] = 𝒄[u¹, β] + ξ[u¹, u², β]𝒆₁₍ₜ₎[u¹, β] + η[u¹, u², β]𝒆₂₍ₜ₎[u¹, β];\n",
    "Derivative[1,0][𝒆₁₍ₜ₎][t_, β_] = κ₍ₜ₎[t, β]𝒆₂₍ₜ₎[t, β];\n",
    "Derivative[1,0][𝒆₂₍ₜ₎][t_, β_] = -κ₍ₜ₎[t, β]𝒆₁₍ₜ₎[t, β];\n",
    "Derivative[1,0][𝒄][t_, β_] = ṡ₍ₜ₎[t, β]𝒆₁₍ₜ₎[t, β];\n",
    "ξ[u¹_, 0, β_] = 0;\n",
    "η[u¹_, 0, β_] = 0;\n",
    "Derivative[i_,0,0][ξ][u¹_, 0, β_] = 0;\n",
    "Derivative[i_,0,0][η][u¹_, 0, β_] = 0;\n",
    "\n",
    "(* Tangent vector *)\n",
    "𝒑₍ₜ₎₁[u¹_, u²_, β_] = D[𝒑₍ₜ₎[u¹, u², β], u¹];\n",
    "𝒑₍ₜ₎₂[u¹_, u²_, β_] = D[𝒑₍ₜ₎[u¹, u², β], u²];\n",
    "\n",
    "(* Riemannian metric *)\n",
    "tmp1[u¹_, u²_, β_] = 𝒑₍ₜ₎₁[u¹, u², β]/.{𝒆₁₍ₜ₎[u¹, β] -> {1,0}, 𝒆₂₍ₜ₎[u¹, β] -> {0,1}};\n",
    "tmp2[u¹_, u²_, β_] = 𝒑₍ₜ₎₂[u¹, u², β]/.{𝒆₁₍ₜ₎[u¹, β] -> {1,0}, 𝒆₂₍ₜ₎[u¹, β] -> {0,1}};\n",
    "g₍ₜ₎₁₁[u¹_, u²_, β_] = tmp1[u¹, u², β].tmp1[u¹, u², β];\n",
    "g₍ₜ₎₁₂[u¹_, u²_, β_] = tmp1[u¹, u², β].tmp2[u¹, u², β];\n",
    "g₍ₜ₎₂₁[u¹_, u²_, β_] = tmp2[u¹, u², β].tmp1[u¹, u², β];\n",
    "g₍ₜ₎₂₂[u¹_, u²_, β_] = tmp2[u¹, u², β].tmp2[u¹, u², β];\n",
    "g₍ₜ₎[u¹_, u²_, β_] = {{g₍ₜ₎₁₁[u¹, u², β],g₍ₜ₎₁₂[u¹, u², β]},{g₍ₜ₎₂₁[u¹, u², β],g₍ₜ₎₂₂[u¹, u², β]}};\n",
    "\n",
    "(* Normalize *)\n",
    "g₍ₜ₎⁽⁰⁾₁₁[u¹_, u²_, β_] = g₍ₜ₎₁₁[u¹, u², β] / g₍₀₎₁₁[u¹, u²];\n",
    "g₍ₜ₎⁽⁰⁾₁₂[u¹_, u²_, β_] = g₍ₜ₎₁₂[u¹, u², β] / Sqrt[g₍₀₎₁₁[u¹, u²]];\n",
    "g₍ₜ₎⁽⁰⁾₂₁[u¹_, u²_, β_] = g₍ₜ₎₂₁[u¹, u², β] / Sqrt[g₍₀₎₁₁[u¹, u²]];\n",
    "g₍ₜ₎⁽⁰⁾₂₂[u¹_, u²_, β_] = g₍ₜ₎₂₂[u¹, u², β];\n",
    "g₍ₜ₎⁽⁰⁾[u¹_, u²_, β_] = {{g₍ₜ₎⁽⁰⁾₁₁[u¹, u², β],g₍ₜ₎⁽⁰⁾₁₂[u¹, u², β]},{g₍ₜ₎⁽⁰⁾₂₁[u¹, u², β],g₍ₜ₎⁽⁰⁾₂₂[u¹, u², β]}};"
   ]
  },
  {
   "cell_type": "markdown",
   "metadata": {},
   "source": [
    "## Symbol definition for simplicity"
   ]
  },
  {
   "cell_type": "code",
   "execution_count": null,
   "metadata": {},
   "outputs": [],
   "source": [
    "symbols={\n",
    "    (* For Gaussian Curvature *)\n",
    "    Derivative[0,0,0][ξ][u,v,β] -> 𝜉00,\n",
    "    Derivative[1,0,0][ξ][u,v,β] -> 𝜉10,\n",
    "    Derivative[0,1,0][ξ][u,v,β] -> 𝜉01,\n",
    "    Derivative[2,0,0][ξ][u,v,β] -> 𝜉20,\n",
    "    Derivative[1,1,0][ξ][u,v,β] -> 𝜉11,\n",
    "    Derivative[0,2,0][ξ][u,v,β] -> 𝜉02,\n",
    "    Derivative[3,0,0][ξ][u,v,β] -> 𝜉30,\n",
    "    Derivative[2,1,0][ξ][u,v,β] -> 𝜉21,\n",
    "    Derivative[1,2,0][ξ][u,v,β] -> 𝜉12,\n",
    "    Derivative[0,3,0][ξ][u,v,β] -> 𝜉03,\n",
    "    Derivative[0,0,0][η][u,v,β] -> 𝜂00,\n",
    "    Derivative[1,0,0][η][u,v,β] -> 𝜂10,\n",
    "    Derivative[0,1,0][η][u,v,β] -> 𝜂01,\n",
    "    Derivative[2,0,0][η][u,v,β] -> 𝜂20,\n",
    "    Derivative[1,1,0][η][u,v,β] -> 𝜂11,\n",
    "    Derivative[0,2,0][η][u,v,β] -> 𝜂02,\n",
    "    Derivative[3,0,0][η][u,v,β] -> 𝜂30,\n",
    "    Derivative[2,1,0][η][u,v,β] -> 𝜂21,\n",
    "    Derivative[1,2,0][η][u,v,β] -> 𝜂12,\n",
    "    Derivative[0,3,0][η][u,v,β] -> 𝜂03,\n",
    "    Derivative[0,0][κ₍ₜ₎][u,β] -> 𝜅0,\n",
    "    Derivative[1,0][κ₍ₜ₎][u,β] -> 𝜅1,\n",
    "    Derivative[2,0][κ₍ₜ₎][u,β] -> 𝜅2,\n",
    "    Derivative[0,0][ṡ₍ₜ₎][u,β] -> 𝜎0,\n",
    "    Derivative[1,0][ṡ₍ₜ₎][u,β] -> 𝜎1,\n",
    "    Derivative[2,0][ṡ₍ₜ₎][u,β] -> 𝜎2,\n",
    "    \n",
    "    (* For Minimization *)\n",
    "    Derivative[0,1,0][ξ][s,0,0] -> 𝜉010,\n",
    "    Derivative[1,1,0][ξ][s,0,0] -> 𝜉110,\n",
    "    Derivative[0,2,0][ξ][s,0,0] -> 𝜉020,\n",
    "    Derivative[2,1,0][ξ][s,0,0] -> 𝜉210,\n",
    "    Derivative[1,2,0][ξ][s,0,0] -> 𝜉120,\n",
    "    Derivative[0,3,0][ξ][s,0,0] -> 𝜉030,\n",
    "    Derivative[0,1,0][η][s,0,0] -> 𝜂010,\n",
    "    Derivative[1,1,0][η][s,0,0] -> 𝜂110,\n",
    "    Derivative[0,2,0][η][s,0,0] -> 𝜂020,\n",
    "    Derivative[2,1,0][η][s,0,0] -> 𝜂210,\n",
    "    Derivative[1,2,0][η][s,0,0] -> 𝜂120,\n",
    "    Derivative[0,3,0][η][s,0,0] -> 𝜂030,\n",
    "    Derivative[0,0][κ₍ₜ₎][s,0] -> 𝜅00,\n",
    "    Derivative[1,0][κ₍ₜ₎][s,0] -> 𝜅10,\n",
    "    Derivative[2,0][κ₍ₜ₎][s,0] -> 𝜅20,\n",
    "    Derivative[0,0][ṡ₍ₜ₎][s,0] -> S00,\n",
    "    Derivative[1,0][ṡ₍ₜ₎][s,0] -> S10,\n",
    "    Derivative[2,0][ṡ₍ₜ₎][s,0] -> S20,\n",
    "    Derivative[0,1,1][ξ][s,0,0] -> 𝜉011,\n",
    "    Derivative[1,1,1][ξ][s,0,0] -> 𝜉111,\n",
    "    Derivative[0,2,1][ξ][s,0,0] -> 𝜉021,\n",
    "    Derivative[2,1,1][ξ][s,0,0] -> 𝜉211,\n",
    "    Derivative[1,2,1][ξ][s,0,0] -> 𝜉121,\n",
    "    Derivative[0,3,1][ξ][s,0,0] -> 𝜉031,\n",
    "    Derivative[0,1,1][η][s,0,0] -> 𝜂011,\n",
    "    Derivative[1,1,1][η][s,0,0] -> 𝜂111,\n",
    "    Derivative[0,2,1][η][s,0,0] -> 𝜂021,\n",
    "    Derivative[2,1,1][η][s,0,0] -> 𝜂211,\n",
    "    Derivative[1,2,1][η][s,0,0] -> 𝜂121,\n",
    "    Derivative[0,3,1][η][s,0,0] -> 𝜂031,\n",
    "    Derivative[0,1][κ₍ₜ₎][s,0] -> 𝜅01,\n",
    "    Derivative[1,1][κ₍ₜ₎][s,0] -> 𝜅11,\n",
    "    Derivative[2,1][κ₍ₜ₎][s,0] -> 𝜅21,\n",
    "    Derivative[0,1][ṡ₍ₜ₎][s,0] -> S01,\n",
    "    Derivative[1,1][ṡ₍ₜ₎][s,0] -> S11,\n",
    "    Derivative[2,1][ṡ₍ₜ₎][s,0] -> S21,\n",
    "    Derivative[0,1,2][ξ][s,0,0] -> 𝜉012,\n",
    "    Derivative[1,1,2][ξ][s,0,0] -> 𝜉112,\n",
    "    Derivative[0,2,2][ξ][s,0,0] -> 𝜉022,\n",
    "    Derivative[2,1,2][ξ][s,0,0] -> 𝜉212,\n",
    "    Derivative[1,2,2][ξ][s,0,0] -> 𝜉122,\n",
    "    Derivative[0,3,2][ξ][s,0,0] -> 𝜉032,\n",
    "    Derivative[0,1,2][η][s,0,0] -> 𝜂012,\n",
    "    Derivative[1,1,2][η][s,0,0] -> 𝜂112,\n",
    "    Derivative[0,2,2][η][s,0,0] -> 𝜂022,\n",
    "    Derivative[2,1,2][η][s,0,0] -> 𝜂212,\n",
    "    Derivative[1,2,2][η][s,0,0] -> 𝜂122,\n",
    "    Derivative[0,3,2][η][s,0,0] -> 𝜂032,\n",
    "    Derivative[0,2][κ₍ₜ₎][s,0] -> 𝜅02,\n",
    "    Derivative[1,2][κ₍ₜ₎][s,0] -> 𝜅12,\n",
    "    Derivative[2,2][κ₍ₜ₎][s,0] -> 𝜅22,\n",
    "    Derivative[0,2][ṡ₍ₜ₎][s,0] -> S02,\n",
    "    Derivative[1,2][ṡ₍ₜ₎][s,0] -> S12,\n",
    "    Derivative[2,2][ṡ₍ₜ₎][s,0] -> S22\n",
    "};"
   ]
  },
  {
   "cell_type": "markdown",
   "metadata": {},
   "source": [
    "## Check if Gaussian curvature of current state embedding is zero"
   ]
  },
  {
   "cell_type": "code",
   "execution_count": null,
   "metadata": {},
   "outputs": [],
   "source": [
    "(* Brioschi Formula *)\n",
    "Unprotect[E];\n",
    "Clear[E];\n",
    "E = g₍ₜ₎₁₁[u, v, β];\n",
    "F = g₍ₜ₎₁₂[u, v, β];\n",
    "G = g₍ₜ₎₂₂[u, v, β];\n",
    "Eu = D[E, {u,1}];\n",
    "Ev = D[E, {v,1}];\n",
    "Fu = D[F, {u,1}];\n",
    "Fv = D[F, {v,1}];\n",
    "Gu = D[G, {u,1}];\n",
    "Gv = D[G, {v,1}];\n",
    "Evv = D[E, {v,2}];\n",
    "Fuv = D[F, {u,1}, {v,1}];\n",
    "Guu = D[G, {u,2}];\n",
    "K = (Det[{{Fuv-(Evv+Guu)/2, Eu/2, Fu-Ev/2}, {Fv-Gu/2, E, F}, {Gv/2, F, G}}]-Det[{{0, Ev/2, Gu/2}, {Ev/2, E, F}, {Gu/2, F, G}}]) / (E G-F^2)^2;\n",
    "rand = {𝜉00->RandomReal[],𝜉10->RandomReal[],𝜉01->RandomReal[],𝜉20->RandomReal[],𝜉11->RandomReal[],𝜉02->RandomReal[],𝜉30->RandomReal[],𝜉21->RandomReal[],𝜉12->RandomReal[],𝜉03->RandomReal[],𝜂00->RandomReal[],𝜂10->RandomReal[],𝜂01->RandomReal[],𝜂20->RandomReal[],𝜂11->RandomReal[],𝜂02->RandomReal[],𝜂30->RandomReal[],𝜂21->RandomReal[],𝜂12->RandomReal[],𝜂03->RandomReal[],𝜅0->RandomReal[],𝜅1->RandomReal[],𝜅2->RandomReal[],𝜎0->RandomReal[],𝜎1->RandomReal[],𝜎2->RandomReal[]};\n",
    "Print[K/.symbols/.rand]"
   ]
  },
  {
   "cell_type": "markdown",
   "metadata": {},
   "source": [
    "## Strain tensor, strain energy density"
   ]
  },
  {
   "cell_type": "code",
   "execution_count": null,
   "metadata": {},
   "outputs": [],
   "source": [
    "(* Strain tensor *)\n",
    "E⁽⁰⁾₁₁[u¹_, u²_, β_] = (g₍ₜ₎⁽⁰⁾₁₁[u¹, u², β] - g₍₀₎⁽⁰⁾₁₁[u¹, u²])/2;\n",
    "E⁽⁰⁾₁₂[u¹_, u²_, β_] = (g₍ₜ₎⁽⁰⁾₁₂[u¹, u², β] - g₍₀₎⁽⁰⁾₁₂[u¹, u²])/2;\n",
    "E⁽⁰⁾₂₁[u¹_, u²_, β_] = (g₍ₜ₎⁽⁰⁾₂₁[u¹, u², β] - g₍₀₎⁽⁰⁾₂₁[u¹, u²])/2;\n",
    "E⁽⁰⁾₂₂[u¹_, u²_, β_] = (g₍ₜ₎⁽⁰⁾₂₂[u¹, u², β] - g₍₀₎⁽⁰⁾₂₂[u¹, u²])/2;\n",
    "E⁽⁰⁾[u¹_, u²_, β_] = {{E⁽⁰⁾₁₁[u¹, u², β],E⁽⁰⁾₁₂[u¹, u², β]},{E⁽⁰⁾₂₁[u¹, u², β],E⁽⁰⁾₂₂[u¹, u², β]}};\n",
    "\n",
    "(* Lamé constant *)\n",
    "d = 2;\n",
    "𝜆 = 𝜈*Y/((1+𝜈)(1-(d-1)𝜈));\n",
    "𝜇 = Y/(2(1+𝜈));\n",
    "𝛿 = KroneckerDelta;\n",
    "C⁽⁰⁾ = Table[𝜆 𝛿[i,j] 𝛿[k,l] + 𝜇(𝛿[i,k] 𝛿[j,l] + 𝛿[i,l] 𝛿[j,k]), {i,1,d}, {j,1,d}, {k,1,d}, {l,1,d}];\n",
    "\n",
    "(* Strain energy density *)\n",
    "𝒲[u¹_, u²_, β_] = (1/2)*Sum[C⁽⁰⁾[[i,j,k,l]]*E⁽⁰⁾[u¹, u², β][[i,j]]*E⁽⁰⁾[u¹, u², β][[k,l]], {i,1,d}, {j,1,d}, {k,1,d}, {l,1,d}]*𝝊₍₀₎[u¹, u²];\n",
    "𝒲[s_, r_] = (Normal[𝒲[s, b, β]]/.{b -> β B[s] r}); (* + O[β]^3 *) (* TOOD: could be more accurate??? *)"
   ]
  },
  {
   "cell_type": "markdown",
   "metadata": {},
   "source": [
    "## Minimization of strain energy\n",
    "\n",
    "```\n",
    "W = Integrate[𝒲[u¹, u², β], {u¹, min_u¹, max_u¹}, {u², -β B[u¹], β B[u¹]}]\n",
    "  = Integrate[Integrate[𝒲[u¹, u², β], {u², -β B[u¹], β B[u¹]}], {u¹, min_u¹, max_u¹}]\n",
    "  = Integrate[Integrate[𝒲[s, β B[s] r, β], {r, -1, 1}] β B[s], {s, min_u¹, max_u¹}]\n",
    "  = Integrate[Integrate[𝒲[s, r], {r, -1, 1}] β B[s], {s, min_u¹, max_u¹}]\n",
    "  = Integrate[𝒲[s] β B[s], {s, min_u¹, max_u¹}]\n",
    "  = Integrate[(a0 + a1 β^1 + ... + an β^n) β B[s], {s, min_u¹, max_u¹}]\n",
    "   (* TOOD: could be more accurate??? *)\n",
    "```"
   ]
  },
  {
   "cell_type": "code",
   "execution_count": null,
   "metadata": {},
   "outputs": [],
   "source": [
    "𝒲[s_] = Integrate[𝒲[s, r], {r, -1, 1}];"
   ]
  },
  {
   "cell_type": "markdown",
   "metadata": {},
   "source": [
    "### Remainder term: O[β]\n",
    "#### Solution"
   ]
  },
  {
   "cell_type": "code",
   "execution_count": null,
   "metadata": {},
   "outputs": [],
   "source": [
    "(* Original objective function *)\n",
    "a0 = Normal[𝒲[s] + O[β]^2]/β^0;\n",
    "solution0 = {𝜉010->0, 𝜂010->1, S00->1};\n",
    "a0/.symbols/.solution0"
   ]
  },
  {
   "cell_type": "markdown",
   "metadata": {},
   "source": [
    "#### Memo"
   ]
  },
  {
   "cell_type": "code",
   "execution_count": null,
   "metadata": {},
   "outputs": [],
   "source": [
    "(* Simplify *)\n",
    "A0 = (Normal[a0]/.symbols)/Y*(1-𝜈^2)*4//FullSimplify"
   ]
  },
  {
   "cell_type": "code",
   "execution_count": null,
   "metadata": {},
   "outputs": [],
   "source": [
    "(* Replace symbols *)\n",
    "Α0 = y^2+x^2+s^2+2x(s-1-𝜈)+2(1+𝜈)-2s(1+𝜈)+2y(-1+x+(s-1)𝜈);\n",
    "A0symbols = {x -> 𝜉010^2, y -> 𝜂010^2, s -> S00^2};\n",
    "(Α0/.A0symbols) - A0 //Simplify"
   ]
  },
  {
   "cell_type": "code",
   "execution_count": null,
   "metadata": {},
   "outputs": [],
   "source": [
    "(* Check .. *)\n",
    "gradA[x_, y_, s_] = Grad[Α0, {x,y,s}]//Simplify;\n",
    "hessA[x_, y_, s_] = Grad[gradA[x,y,s], {x,y,s}]//Simplify\n",
    "gradA[0,1,1]"
   ]
  },
  {
   "cell_type": "code",
   "execution_count": null,
   "metadata": {},
   "outputs": [],
   "source": [
    "gradA[x,y,s]"
   ]
  },
  {
   "cell_type": "code",
   "execution_count": null,
   "metadata": {},
   "outputs": [],
   "source": [
    "λ = Eigenvalues[hessA[x,y,s]] (* [+, -, +] *)"
   ]
  },
  {
   "cell_type": "code",
   "execution_count": null,
   "metadata": {},
   "outputs": [],
   "source": [
    "λ[[2]]"
   ]
  },
  {
   "cell_type": "code",
   "execution_count": null,
   "metadata": {},
   "outputs": [],
   "source": [
    "aae = hessA[x, y, s] - λ[[2]]IdentityMatrix[3]//FullSimplify"
   ]
  },
  {
   "cell_type": "code",
   "execution_count": null,
   "metadata": {},
   "outputs": [],
   "source": [
    "v1 = 1"
   ]
  },
  {
   "cell_type": "code",
   "execution_count": null,
   "metadata": {},
   "outputs": [],
   "source": [
    "Solve[aae.{v1, v2, v3} == {0,0,0}, {v2, v3}]"
   ]
  },
  {
   "cell_type": "code",
   "execution_count": null,
   "metadata": {},
   "outputs": [],
   "source": [
    "sl = Solve[{(aae.{v1, v2, v3})[[2]] == 0 , (aae.{v1, v2, v3})[[3]] == 0}, {v2, v3}]"
   ]
  },
  {
   "cell_type": "code",
   "execution_count": null,
   "metadata": {},
   "outputs": [],
   "source": [
    "vvv = {v1, sl[[1]][[1]][[2]], sl[[1]][[2]][[2]]}//FullSimplify"
   ]
  },
  {
   "cell_type": "code",
   "execution_count": null,
   "metadata": {},
   "outputs": [],
   "source": []
  },
  {
   "cell_type": "code",
   "execution_count": null,
   "metadata": {},
   "outputs": [],
   "source": [
    "v = v1 = 1"
   ]
  },
  {
   "cell_type": "code",
   "execution_count": null,
   "metadata": {},
   "outputs": [],
   "source": []
  },
  {
   "cell_type": "code",
   "execution_count": null,
   "metadata": {},
   "outputs": [],
   "source": [
    "answer1 = {x->0,y->1,s->1}"
   ]
  },
  {
   "cell_type": "code",
   "execution_count": null,
   "metadata": {},
   "outputs": [],
   "source": [
    "answer1 = {x->0,y->1,s->1}"
   ]
  },
  {
   "cell_type": "code",
   "execution_count": null,
   "metadata": {},
   "outputs": [],
   "source": []
  },
  {
   "cell_type": "code",
   "execution_count": null,
   "metadata": {},
   "outputs": [],
   "source": [
    "k=0.1\n",
    "answer1 = {x->k*vvv,y->1,s->1}"
   ]
  },
  {
   "cell_type": "code",
   "execution_count": null,
   "metadata": {},
   "outputs": [],
   "source": [
    "answer0 = {𝜉010->0, 𝜂010->1, S00->1}"
   ]
  },
  {
   "cell_type": "code",
   "execution_count": null,
   "metadata": {},
   "outputs": [],
   "source": [
    "Normal[a0]/.symbols/.answer0"
   ]
  },
  {
   "cell_type": "markdown",
   "metadata": {},
   "source": [
    "### Remainder term: O[β^2]\n",
    "#### Solution"
   ]
  },
  {
   "cell_type": "code",
   "execution_count": null,
   "metadata": {},
   "outputs": [],
   "source": [
    "(* Original objective function *)\n",
    "a1 = Normal[𝒲[s] + O[β]^2]/β^1;\n",
    "solution1 = {};\n",
    "a1/.symbols/.solution0/.solution1"
   ]
  },
  {
   "cell_type": "markdown",
   "metadata": {},
   "source": [
    "### Remainder term: O[β^3]\n",
    "#### Solution"
   ]
  },
  {
   "cell_type": "code",
   "execution_count": null,
   "metadata": {},
   "outputs": [],
   "source": [
    "(* Original objective function *)\n",
    "a2 = Normal[𝒲[s] + O[β]^3]/β^2;\n",
    "solution2 = {𝜉011->0, 𝜉110->C1, 𝜉020->C2, 𝜂011->0, 𝜂110->-C2, 𝜂020->0, 𝜅00->κ₍₀₎[s]+C1, S01->0};\n",
    "a2/.symbols/.solution0/.solution1/.solution2"
   ]
  },
  {
   "cell_type": "markdown",
   "metadata": {},
   "source": [
    "#### Memo"
   ]
  },
  {
   "cell_type": "code",
   "execution_count": null,
   "metadata": {},
   "outputs": [],
   "source": [
    "a2/.symbols/.solution0"
   ]
  },
  {
   "cell_type": "code",
   "execution_count": null,
   "metadata": {},
   "outputs": [],
   "source": [
    "(* Simplify *)\n",
    "A2 = (Normal[a2]/.symbols/.answer0)/Y*(1-𝜈^2)*6/β^2//FullSimplify"
   ]
  },
  {
   "cell_type": "code",
   "execution_count": null,
   "metadata": {},
   "outputs": [],
   "source": [
    "variables2 = {𝜉011, 𝜉110, 𝜉020, 𝜂011, 𝜂110, 𝜂020, 𝜅00, S01}"
   ]
  },
  {
   "cell_type": "code",
   "execution_count": null,
   "metadata": {},
   "outputs": [],
   "source": [
    "(* Check .. *)\n",
    "gradA2[x_, y_, s_] = Grad[A2, {x,y,s}]//Simplify;\n",
    "hessA2[x_, y_, s_] = Grad[gradA2[x,y,s], {x,y,s}]//Simplify\n",
    "(* gradA[0,1,1] *)"
   ]
  },
  {
   "cell_type": "code",
   "execution_count": null,
   "metadata": {},
   "outputs": [],
   "source": [
    "grad = Grad[A2, variables2]//Simplify"
   ]
  },
  {
   "cell_type": "code",
   "execution_count": null,
   "metadata": {},
   "outputs": [],
   "source": [
    "hess = Grad[grad, variables2]//Simplify"
   ]
  },
  {
   "cell_type": "code",
   "execution_count": null,
   "metadata": {},
   "outputs": [],
   "source": [
    "Det[hess]"
   ]
  },
  {
   "cell_type": "code",
   "execution_count": null,
   "metadata": {},
   "outputs": [],
   "source": [
    "Eigenvalues[hess]"
   ]
  },
  {
   "cell_type": "code",
   "execution_count": null,
   "metadata": {},
   "outputs": [],
   "source": [
    "Eigenvectors[hess]"
   ]
  },
  {
   "cell_type": "code",
   "execution_count": null,
   "metadata": {},
   "outputs": [],
   "source": [
    "A2/.{𝜉011->0, 𝜉110->C1, 𝜉020->C2, 𝜂011->0, 𝜂110->-C2, 𝜂020->0, 𝜅00->κ₍₀₎[s]+C1, S01->0}//FullSimplify"
   ]
  },
  {
   "cell_type": "markdown",
   "metadata": {},
   "source": [
    "### Remainder term: O[β^4]\n",
    "#### Solution"
   ]
  },
  {
   "cell_type": "code",
   "execution_count": null,
   "metadata": {},
   "outputs": [],
   "source": [
    "(* Original objective function *)\n",
    "a3 = Normal[𝒲[s] + O[β]^4]/β^3;\n",
    "solution3 = {};\n",
    "a3/.symbols/.solution0/.solution1/.solution2/.solution3"
   ]
  },
  {
   "cell_type": "markdown",
   "metadata": {},
   "source": [
    "### Remainder term: O[β^5]\n",
    "#### Solution"
   ]
  },
  {
   "cell_type": "code",
   "execution_count": null,
   "metadata": {},
   "outputs": [],
   "source": [
    "(* Original objective function *)\n",
    "a4 = Normal[𝒲[s] + O[β]^5]/β^4;\n",
    "solution4 = {𝜉111->0, 𝜉021->0, 𝜉012->0, 𝜉120->0, 𝜉030->0, 𝜂120->0, 𝜂012->0, 𝜂111->0, 𝜂021->0, 𝜂030->0, 𝜅01->0, S02->0};\n",
    "a4/.symbols/.solution0/.solution1/.solution2/.solution3/.solution4"
   ]
  },
  {
   "cell_type": "markdown",
   "metadata": {},
   "source": [
    "#### Memo"
   ]
  },
  {
   "cell_type": "code",
   "execution_count": null,
   "metadata": {},
   "outputs": [],
   "source": [
    "hoge = Normal[a4]/.symbols/.solution0/.solution1/.solution2/.solution3"
   ]
  },
  {
   "cell_type": "code",
   "execution_count": null,
   "metadata": {},
   "outputs": [],
   "source": [
    "D[hoge, Κ₍₀₎[s]]"
   ]
  },
  {
   "cell_type": "code",
   "execution_count": null,
   "metadata": {},
   "outputs": [],
   "source": []
  },
  {
   "cell_type": "code",
   "execution_count": null,
   "metadata": {},
   "outputs": [],
   "source": []
  },
  {
   "cell_type": "code",
   "execution_count": null,
   "metadata": {},
   "outputs": [],
   "source": [
    "D[𝒲[s],Κ₍₀₎[s]]"
   ]
  },
  {
   "cell_type": "code",
   "execution_count": null,
   "metadata": {},
   "outputs": [],
   "source": []
  },
  {
   "cell_type": "code",
   "execution_count": null,
   "metadata": {},
   "outputs": [],
   "source": []
  },
  {
   "cell_type": "code",
   "execution_count": null,
   "metadata": {},
   "outputs": [],
   "source": [
    "{𝜉011->0, 𝜉110->C1, 𝜉020->C2, 𝜂011->0, 𝜂110->-C2, 𝜂020->0, 𝜅00->κ₍₀₎[s]+C1, S01->0}"
   ]
  },
  {
   "cell_type": "code",
   "execution_count": null,
   "metadata": {},
   "outputs": [],
   "source": []
  },
  {
   "cell_type": "code",
   "execution_count": null,
   "metadata": {},
   "outputs": [],
   "source": [
    "a0/.symbols"
   ]
  },
  {
   "cell_type": "code",
   "execution_count": null,
   "metadata": {},
   "outputs": [],
   "source": []
  },
  {
   "cell_type": "code",
   "execution_count": null,
   "metadata": {},
   "outputs": [],
   "source": []
  },
  {
   "cell_type": "code",
   "execution_count": null,
   "metadata": {},
   "outputs": [],
   "source": []
  },
  {
   "cell_type": "code",
   "execution_count": null,
   "metadata": {},
   "outputs": [],
   "source": []
  }
 ],
 "metadata": {
  "kernelspec": {
   "display_name": "Wolfram Language 12",
   "language": "Wolfram Language",
   "name": "wolframlanguage12"
  },
  "language_info": {
   "codemirror_mode": "mathematica",
   "file_extension": ".m",
   "mimetype": "application/vnd.wolfram.m",
   "name": "Wolfram Language",
   "pygments_lexer": "mathematica",
   "version": "12.0"
  }
 },
 "nbformat": 4,
 "nbformat_minor": 2
}
