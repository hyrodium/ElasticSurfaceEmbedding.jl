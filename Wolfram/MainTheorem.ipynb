{
 "cells": [
  {
   "cell_type": "markdown",
   "metadata": {},
   "source": [
    "## Riemannian metric"
   ]
  },
  {
   "cell_type": "code",
   "execution_count": null,
   "metadata": {},
   "outputs": [],
   "source": [
    "(*Riemann metric*)\n",
    "g11[0] = 1;\n",
    "g11'[0] = -2 \\[Kappa]0;\n",
    "g11''[0] = 2 (\\[Kappa]0^2 - K0);\n",
    "g11'''[0] = 2 (4 \\[Kappa]0 K0 - KK);\n",
    "g11[b] + O[b]^5\n",
    "Simplify[Sqrt[g11[b] + O[b]^5]]"
   ]
  },
  {
   "cell_type": "markdown",
   "metadata": {},
   "source": [
    "## Coefficient"
   ]
  },
  {
   "cell_type": "code",
   "execution_count": null,
   "metadata": {},
   "outputs": [],
   "source": [
    "h[0] = 0;\n",
    "h'[0] = h1[B];\n",
    "h''[0] = h2[B];\n",
    "h'''[0] = h3[B];\n",
    "h''''[0] = h4[B];\n",
    "h'''''[0] = h5[B];\n",
    "E11[b_] = 1/2 ((S[B] (1 - \\[Kappa]t[B] h[b])^2)/g11[b] - 1);\n",
    "E22[b_] = 1/2 ((h'[b])^2 - 1);\n",
    "w[b_] = 1/2 (E11[b])^2*Sqrt[g11[b]];\n",
    "Cof11 = CoefficientList[E11[b] + O[b]^5, b];\n",
    "Cof22 = CoefficientList[E22[b] + O[b]^5, b];"
   ]
  },
  {
   "cell_type": "code",
   "execution_count": null,
   "metadata": {},
   "outputs": [],
   "source": [
    "For[i = 1, i <= 5, i++,\n",
    " Symbol[\"h\" <> ToString[i]][B] =\n",
    "  Simplify[\n",
    "   Solve[-\\[Nu] Cof11[[i]] == Cof22[[i]], \n",
    "       Symbol[\"h\" <> ToString[i]][B]][[-1]][[1]][[2]]]\n",
    " ]\n",
    "W\\[CapitalGamma][i_] := \n",
    " Simplify[Integrate[Normal[w[b] + O[b]^i], {b, -B, B}] + O[B]^(i + 1)]"
   ]
  },
  {
   "cell_type": "code",
   "execution_count": null,
   "metadata": {},
   "outputs": [],
   "source": [
    "W\\[CapitalGamma][1]"
   ]
  },
  {
   "cell_type": "code",
   "execution_count": null,
   "metadata": {},
   "outputs": [],
   "source": [
    "S[0] = 1;\n",
    "W\\[CapitalGamma][2]"
   ]
  },
  {
   "cell_type": "code",
   "execution_count": null,
   "metadata": {},
   "outputs": [],
   "source": [
    "S[0] = 1;\n",
    "W\\[CapitalGamma][3]"
   ]
  },
  {
   "cell_type": "code",
   "execution_count": null,
   "metadata": {},
   "outputs": [],
   "source": [
    "S[0] = 1;\n",
    "S'[0] = 0;\n",
    "\\[Kappa]t[0] = \\[Kappa]0;\n",
    "W\\[CapitalGamma][4]"
   ]
  },
  {
   "cell_type": "code",
   "execution_count": null,
   "metadata": {},
   "outputs": [],
   "source": [
    "S[0] = 1;\n",
    "S'[0] = 0;\n",
    "\\[Kappa]t[0] = \\[Kappa]0;\n",
    "W\\[CapitalGamma][5]"
   ]
  },
  {
   "cell_type": "code",
   "execution_count": null,
   "metadata": {},
   "outputs": [],
   "source": [
    "Simplify[1/\n",
    "   240 (12 K0^2 + 80 Derivative[1][\\[Kappa]t][0]^2 + \n",
    "     20 K0 (S^\\[Prime]\\[Prime])[0] + \n",
    "     15 (S^\\[Prime]\\[Prime])[0]^2) - (1/\n",
    "     3 Derivative[1][\\[Kappa]t][0]^2 + \n",
    "    1/16 ((S^\\[Prime]\\[Prime])[0] + 2/3 K0)^2 + 1/45 K0^2)]"
   ]
  },
  {
   "cell_type": "code",
   "execution_count": null,
   "metadata": {},
   "outputs": [],
   "source": [
    "S[0] = 1;\n",
    "S'[0] = 0;\n",
    "S''[0] = -2/3 K0;\n",
    "\\[Kappa]t[0] = \\[Kappa]0;\n",
    "\\[Kappa]t'[0] = 0;\n",
    "W\\[CapitalGamma][5]"
   ]
  },
  {
   "cell_type": "code",
   "execution_count": null,
   "metadata": {},
   "outputs": [],
   "source": []
  }
 ],
 "metadata": {
  "kernelspec": {
   "display_name": "Wolfram Language 12",
   "language": "Wolfram Language",
   "name": "wolframlanguage12"
  },
  "language_info": {
   "codemirror_mode": "mathematica",
   "file_extension": ".m",
   "mimetype": "application/vnd.wolfram.m",
   "name": "Wolfram Language",
   "pygments_lexer": "mathematica",
   "version": "12.0"
  }
 },
 "nbformat": 4,
 "nbformat_minor": 2
}
