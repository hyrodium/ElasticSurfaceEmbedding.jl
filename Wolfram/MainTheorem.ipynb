{
 "cells": [
  {
   "cell_type": "code",
   "execution_count": null,
   "metadata": {},
   "outputs": [],
   "source": [
    "(* Reference State *)\n",
    "g₍₀₎₁₁[u¹_, u²_] = 1 - 2 κ₍₀₎[u¹] u² + (κ₍₀₎[u¹]^2 - Κ₍₀₎[u¹]) u²^2;\n",
    "g₍₀₎₁₂[u¹_, u²_] = 0;\n",
    "g₍₀₎₂₁[u¹_, u²_] = 0;\n",
    "g₍₀₎₂₂[u¹_, u²_] = 1;\n",
    "g₍₀₎[u¹_, u²_] = {{g₍₀₎₁₁[u¹, u²],g₍₀₎₁₂[u¹, u²]},{g₍₀₎₂₁[u¹, u²],g₍₀₎₂₂[u¹, u²]}};\n",
    "\n",
    "g₍₀₎⁽⁰⁾₁₁[u¹_, u²_] = 1;\n",
    "g₍₀₎⁽⁰⁾₁₂[u¹_, u²_] = 0;\n",
    "g₍₀₎⁽⁰⁾₂₁[u¹_, u²_] = 0;\n",
    "g₍₀₎⁽⁰⁾₂₂[u¹_, u²_] = 1;\n",
    "g₍₀₎⁽⁰⁾[u¹_, u²_] = {{g₍₀₎⁽⁰⁾₁₁[u¹, u²],g₍₀₎⁽⁰⁾₁₂[u¹, u²]},{g₍₀₎⁽⁰⁾₂₁[u¹, u²],g₍₀₎⁽⁰⁾₂₂[u¹, u²]}};\n",
    "\n",
    "𝝊₍₀₎[u¹_, u²_] = Sqrt[Det[g₍₀₎[u¹, u²]]];"
   ]
  },
  {
   "cell_type": "code",
   "execution_count": null,
   "metadata": {},
   "outputs": [],
   "source": [
    "(* Current State *)\n",
    "𝒑₍ₜ₎[u¹_, u²_, β_] = 𝒄[u¹, β] + ξ[u¹, u², β]𝒆₁₍ₜ₎[u¹, β] + η[u¹, u², β]𝒆₂₍ₜ₎[u¹, β];\n",
    "Derivative[1,0][𝒆₁₍ₜ₎][t_, β_] = κ₍ₜ₎[t]𝒆₂₍ₜ₎[t, β];\n",
    "Derivative[1,0][𝒆₂₍ₜ₎][t_, β_] = -κ₍ₜ₎[t]𝒆₁₍ₜ₎[t, β];\n",
    "Derivative[1,0][𝒄][t_, β_] = ṡ₍ₜ₎[t, β]𝒆₁₍ₜ₎[t, β];\n",
    "ξ[u¹_, 0, β_] = 0;\n",
    "η[u¹_, 0, β_] = 0;\n",
    "Derivative[i_,0,0][ξ][u¹_, 0, β_] = 0;\n",
    "Derivative[i_,0,0][η][u¹_, 0, β_] = 0;\n",
    "\n",
    "𝒑₍ₜ₎₁[u¹_, u²_, β_] = D[𝒑₍ₜ₎[u¹, u², β], u¹];\n",
    "𝒑₍ₜ₎₂[u¹_, u²_, β_] = D[𝒑₍ₜ₎[u¹, u², β], u²];\n",
    "\n",
    "tmp1[u¹_, u²_, β_] = 𝒑₍ₜ₎₁[u¹, u², β]/.{𝒆₁₍ₜ₎[u¹, β] -> {1,0}, 𝒆₂₍ₜ₎[u¹, β] -> {0,1}};\n",
    "tmp2[u¹_, u²_, β_] = 𝒑₍ₜ₎₂[u¹, u², β]/.{𝒆₁₍ₜ₎[u¹, β] -> {1,0}, 𝒆₂₍ₜ₎[u¹, β] -> {0,1}};\n",
    "\n",
    "g₍ₜ₎₁₁[u¹_, u²_, β_] = tmp1[u¹, u², β].tmp1[u¹, u², β];\n",
    "g₍ₜ₎₁₂[u¹_, u²_, β_] = tmp1[u¹, u², β].tmp2[u¹, u², β];\n",
    "g₍ₜ₎₂₁[u¹_, u²_, β_] = tmp2[u¹, u², β].tmp1[u¹, u², β];\n",
    "g₍ₜ₎₂₂[u¹_, u²_, β_] = tmp2[u¹, u², β].tmp2[u¹, u², β];\n",
    "g₍ₜ₎[u¹_, u²_, β_] = {{g₍ₜ₎₁₁[u¹, u², β],g₍ₜ₎₁₂[u¹, u², β]},{g₍ₜ₎₂₁[u¹, u², β],g₍ₜ₎₂₂[u¹, u², β]}};\n",
    "\n",
    "g₍ₜ₎⁽⁰⁾₁₁[u¹_, u²_, β_] = g₍ₜ₎₁₁[u¹, u², β] / g₍₀₎₁₁[u¹, u²];\n",
    "g₍ₜ₎⁽⁰⁾₁₂[u¹_, u²_, β_] = g₍ₜ₎₁₂[u¹, u², β] / Sqrt[g₍₀₎₁₁[u¹, u²]];\n",
    "g₍ₜ₎⁽⁰⁾₂₁[u¹_, u²_, β_] = g₍ₜ₎₂₁[u¹, u², β] / Sqrt[g₍₀₎₁₁[u¹, u²]];\n",
    "g₍ₜ₎⁽⁰⁾₂₂[u¹_, u²_, β_] = g₍ₜ₎₂₂[u¹, u², β];\n",
    "g₍ₜ₎⁽⁰⁾[u¹_, u²_, β_] = {{g₍ₜ₎⁽⁰⁾₁₁[u¹, u², β],g₍ₜ₎⁽⁰⁾₁₂[u¹, u², β]},{g₍ₜ₎⁽⁰⁾₂₁[u¹, u², β],g₍ₜ₎⁽⁰⁾₂₂[u¹, u², β]}};"
   ]
  },
  {
   "cell_type": "code",
   "execution_count": null,
   "metadata": {},
   "outputs": [],
   "source": [
    "(* Strain *)\n",
    "E⁽⁰⁾₁₁[u¹_, u²_, β_] = g₍ₜ₎⁽⁰⁾₁₁[u¹, u², β] - g₍₀₎⁽⁰⁾₁₁[u¹, u²];\n",
    "E⁽⁰⁾₁₂[u¹_, u²_, β_] = g₍ₜ₎⁽⁰⁾₁₂[u¹, u², β] - g₍₀₎⁽⁰⁾₁₂[u¹, u²];\n",
    "E⁽⁰⁾₂₁[u¹_, u²_, β_] = g₍ₜ₎⁽⁰⁾₂₁[u¹, u², β] - g₍₀₎⁽⁰⁾₂₁[u¹, u²];\n",
    "E⁽⁰⁾₂₂[u¹_, u²_, β_] = g₍ₜ₎⁽⁰⁾₂₂[u¹, u², β] - g₍₀₎⁽⁰⁾₂₂[u¹, u²];\n",
    "E⁽⁰⁾[u¹_, u²_, β_] = {{E⁽⁰⁾₁₁[u¹, u², β],E⁽⁰⁾₁₂[u¹, u², β]},{E⁽⁰⁾₂₁[u¹, u², β],E⁽⁰⁾₂₂[u¹, u², β]}};"
   ]
  },
  {
   "cell_type": "code",
   "execution_count": null,
   "metadata": {},
   "outputs": [],
   "source": [
    "(* Lame Constant *)\n",
    "d = 2;\n",
    "Y = 1;\n",
    "λ = ν*Y/((1+ν)(1-(d-1)ν));\n",
    "μ = Y/(2(1+ν));\n",
    "𝜹 = KroneckerDelta;\n",
    "C⁽⁰⁾ = Table[λ 𝜹[i,j] 𝜹[k,l] + μ(𝜹[i,k] 𝜹[j,l] + 𝜹[i,l] 𝜹[j,k]), {i,1,d}, {j,1,d}, {k,1,d}, {l,1,d}];"
   ]
  },
  {
   "cell_type": "code",
   "execution_count": null,
   "metadata": {},
   "outputs": [],
   "source": [
    "(* Strain Energy *)\n",
    "𝒲[u¹_, u²_, β_] = (1/2)*Sum[C⁽⁰⁾[[i,j,k,l]]*E⁽⁰⁾[u¹, u², β][[i,j]]*E⁽⁰⁾[u¹, u², β][[k,l]], {i,1,d}, {j,1,d}, {k,1,d}, {l,1,d}]*𝝊₍₀₎[u¹, u²];"
   ]
  },
  {
   "cell_type": "code",
   "execution_count": null,
   "metadata": {},
   "outputs": [],
   "source": [
    "𝒲[s_, r_] = 𝒲[s, β B[s] r, β] + O[r]^10//Normal;"
   ]
  },
  {
   "cell_type": "code",
   "execution_count": null,
   "metadata": {},
   "outputs": [],
   "source": [
    "Integrate[Normal[𝒲[s, r]], {r, -1, 1}] + O[β]//Simplify"
   ]
  },
  {
   "cell_type": "code",
   "execution_count": null,
   "metadata": {},
   "outputs": [],
   "source": [
    "ṡ₍ₜ₎[s_, 0] = 1"
   ]
  },
  {
   "cell_type": "code",
   "execution_count": null,
   "metadata": {},
   "outputs": [],
   "source": [
    "Integrate[Normal[𝒲[s, r]], {r, -1, 1}] + O[β]//Simplify"
   ]
  },
  {
   "cell_type": "code",
   "execution_count": null,
   "metadata": {},
   "outputs": [],
   "source": [
    "Derivative[0,1,0][ξ][s_,0,0] = 0\n",
    "Derivative[0,1,0][η][s_,0,0] = 1"
   ]
  },
  {
   "cell_type": "code",
   "execution_count": null,
   "metadata": {},
   "outputs": [],
   "source": [
    "Integrate[Normal[𝒲[s, r]], {r, -1, 1}] + O[β]//Simplify"
   ]
  },
  {
   "cell_type": "code",
   "execution_count": null,
   "metadata": {},
   "outputs": [],
   "source": [
    "Integrate[Normal[𝒲[s, r]], {r, -1, 1}] + O[β]^2//Simplify"
   ]
  },
  {
   "cell_type": "code",
   "execution_count": null,
   "metadata": {},
   "outputs": [],
   "source": [
    "Integrate[𝒲[s, r], {r, -1, 1}] + O[β]^3//FullSimplify"
   ]
  },
  {
   "cell_type": "code",
   "execution_count": null,
   "metadata": {},
   "outputs": [],
   "source": [
    "Derivative[0,1][ṡ₍ₜ₎][s_,0] = 0\n",
    "Derivative[0,1,1][η][s_,0,0] = 0"
   ]
  },
  {
   "cell_type": "code",
   "execution_count": null,
   "metadata": {},
   "outputs": [],
   "source": [
    "Integrate[𝒲[s, r], {r, -1, 1}] + O[β]^3//FullSimplify"
   ]
  },
  {
   "cell_type": "code",
   "execution_count": null,
   "metadata": {},
   "outputs": [],
   "source": []
  },
  {
   "cell_type": "code",
   "execution_count": null,
   "metadata": {},
   "outputs": [],
   "source": []
  },
  {
   "cell_type": "code",
   "execution_count": null,
   "metadata": {},
   "outputs": [],
   "source": []
  },
  {
   "cell_type": "code",
   "execution_count": null,
   "metadata": {},
   "outputs": [],
   "source": [
    "((Integrate[Normal[𝒲[s, r]], {r, -1, 1}] + O[β]^3//Simplify//Normal)*(3(1-ν^2))/(2β^2)//FullSimplify)*(-1+ν^2)/(1-ν^2)*(-1)"
   ]
  },
  {
   "cell_type": "code",
   "execution_count": null,
   "metadata": {},
   "outputs": [],
   "source": [
    "Derivative[0,1,1][ξ][s_,0,0] = 0\n",
    "Derivative[0,1,1][η][s_,0,0] = 0"
   ]
  },
  {
   "cell_type": "code",
   "execution_count": null,
   "metadata": {},
   "outputs": [],
   "source": [
    "((Integrate[Normal[𝒲[s, r]], {r, -1, 1}] + O[β]^3//Simplify//Normal)*(3(1-ν^2))/(2β^2)//FullSimplify)*(-1+ν^2)/(1-ν^2)*(-1)/B[s]^2//FullSimplify"
   ]
  },
  {
   "cell_type": "code",
   "execution_count": null,
   "metadata": {},
   "outputs": [],
   "source": [
    "Derivative[1,1,0][ξ][s_,0,0] = 0\n",
    "Derivative[0,2,0][η][s_,0,0] = 0"
   ]
  },
  {
   "cell_type": "code",
   "execution_count": null,
   "metadata": {},
   "outputs": [],
   "source": [
    "Derivative[0,2,0][ξ][s_,0,0] = -Derivative[1,1,0][η][s,0,0]"
   ]
  },
  {
   "cell_type": "code",
   "execution_count": null,
   "metadata": {},
   "outputs": [],
   "source": [
    "Integrate[𝒲[s, r], {r, -1, 1}] + O[β]^5"
   ]
  },
  {
   "cell_type": "code",
   "execution_count": null,
   "metadata": {},
   "outputs": [],
   "source": [
    "Integrate[𝒲[s, r], {r, -1, 1}] + O[β]^5//Simplify"
   ]
  },
  {
   "cell_type": "code",
   "execution_count": null,
   "metadata": {},
   "outputs": [],
   "source": []
  },
  {
   "cell_type": "code",
   "execution_count": null,
   "metadata": {},
   "outputs": [],
   "source": []
  },
  {
   "cell_type": "code",
   "execution_count": null,
   "metadata": {},
   "outputs": [],
   "source": []
  },
  {
   "cell_type": "code",
   "execution_count": null,
   "metadata": {},
   "outputs": [],
   "source": []
  },
  {
   "cell_type": "code",
   "execution_count": null,
   "metadata": {},
   "outputs": [],
   "source": []
  },
  {
   "cell_type": "code",
   "execution_count": null,
   "metadata": {},
   "outputs": [],
   "source": [
    " ξ[u¹, u², β]𝒆₁₍ₜ₎[u¹, β] + η"
   ]
  },
  {
   "cell_type": "code",
   "execution_count": null,
   "metadata": {},
   "outputs": [],
   "source": []
  },
  {
   "cell_type": "code",
   "execution_count": null,
   "metadata": {},
   "outputs": [],
   "source": []
  },
  {
   "cell_type": "code",
   "execution_count": null,
   "metadata": {},
   "outputs": [],
   "source": [
    "ṡ₍ₜ₎[s_, 0] = 1"
   ]
  },
  {
   "cell_type": "code",
   "execution_count": null,
   "metadata": {},
   "outputs": [],
   "source": [
    "Derivative[]ṡ₍ₜ₎[t, β]"
   ]
  },
  {
   "cell_type": "code",
   "execution_count": null,
   "metadata": {},
   "outputs": [],
   "source": []
  },
  {
   "cell_type": "code",
   "execution_count": null,
   "metadata": {},
   "outputs": [],
   "source": []
  },
  {
   "cell_type": "code",
   "execution_count": null,
   "metadata": {},
   "outputs": [],
   "source": []
  },
  {
   "cell_type": "code",
   "execution_count": null,
   "metadata": {},
   "outputs": [],
   "source": [
    "Integrate[Normal[𝒲2[s, r]], {r, -1, 1}] + O[β]//Simplify"
   ]
  },
  {
   "cell_type": "code",
   "execution_count": null,
   "metadata": {},
   "outputs": [],
   "source": []
  },
  {
   "cell_type": "code",
   "execution_count": null,
   "metadata": {},
   "outputs": [],
   "source": []
  },
  {
   "cell_type": "code",
   "execution_count": null,
   "metadata": {},
   "outputs": [],
   "source": [
    "𝒑₍ₜ₎[u¹_, u²_, β_] = 𝒄[u¹, β] + ξ[u¹, u², β]𝒆₁₍ₜ₎[u¹, β] + η[u¹, u², β]𝒆₂₍ₜ₎[u¹, β];"
   ]
  },
  {
   "cell_type": "code",
   "execution_count": null,
   "metadata": {},
   "outputs": [],
   "source": [
    "𝒑₍ₜ₎[u¹, u², β]"
   ]
  },
  {
   "cell_type": "code",
   "execution_count": null,
   "metadata": {},
   "outputs": [],
   "source": [
    "D[𝒑₍ₜ₎[u¹, 0, β], u¹]"
   ]
  },
  {
   "cell_type": "code",
   "execution_count": null,
   "metadata": {},
   "outputs": [],
   "source": [
    "D[𝒑₍ₜ₎[u¹, 0, β], {u¹,2}]"
   ]
  },
  {
   "cell_type": "code",
   "execution_count": null,
   "metadata": {},
   "outputs": [],
   "source": []
  },
  {
   "cell_type": "code",
   "execution_count": null,
   "metadata": {},
   "outputs": [],
   "source": [
    "i = 4;\n",
    "D[𝒑₍ₜ₎[0, u², β], {u², i}]\n",
    "D[𝒑₍ₜ₎[u¹, u², β], {u², i}] /. {u¹ -> 0}"
   ]
  },
  {
   "cell_type": "code",
   "execution_count": null,
   "metadata": {},
   "outputs": [],
   "source": [
    "i = 2;\n",
    "D[𝒑₍ₜ₎[u¹, 0, β], {u¹, i}]\n",
    "D[𝒑₍ₜ₎[u¹, u², β], {u¹, i}] /. {u² -> 0}"
   ]
  },
  {
   "cell_type": "code",
   "execution_count": null,
   "metadata": {},
   "outputs": [],
   "source": [
    "Derivative[i_,0,0][ξ][u¹_, 0, β_] = 0;\n",
    "Derivative[i_,0,0][η][u¹_, 0, β_] = 0;"
   ]
  },
  {
   "cell_type": "code",
   "execution_count": null,
   "metadata": {},
   "outputs": [],
   "source": [
    "ξ[u¹, u², β]𝒆₁₍ₜ₎[u¹, β] + η[u¹"
   ]
  },
  {
   "cell_type": "code",
   "execution_count": null,
   "metadata": {},
   "outputs": [],
   "source": []
  },
  {
   "cell_type": "code",
   "execution_count": null,
   "metadata": {},
   "outputs": [],
   "source": []
  },
  {
   "cell_type": "code",
   "execution_count": null,
   "metadata": {},
   "outputs": [],
   "source": []
  },
  {
   "cell_type": "code",
   "execution_count": null,
   "metadata": {},
   "outputs": [],
   "source": []
  },
  {
   "cell_type": "code",
   "execution_count": null,
   "metadata": {},
   "outputs": [],
   "source": []
  },
  {
   "cell_type": "code",
   "execution_count": null,
   "metadata": {},
   "outputs": [],
   "source": []
  },
  {
   "cell_type": "code",
   "execution_count": null,
   "metadata": {},
   "outputs": [],
   "source": []
  },
  {
   "cell_type": "code",
   "execution_count": null,
   "metadata": {},
   "outputs": [],
   "source": [
    "Integrate[𝒲[s, r], {r, -1, 1}]"
   ]
  },
  {
   "cell_type": "code",
   "execution_count": null,
   "metadata": {},
   "outputs": [],
   "source": [
    "Integrate[𝒲[s, r], {r, -1, 1}]"
   ]
  },
  {
   "cell_type": "code",
   "execution_count": null,
   "metadata": {},
   "outputs": [],
   "source": []
  }
 ],
 "metadata": {
  "kernelspec": {
   "display_name": "Wolfram Language 12",
   "language": "Wolfram Language",
   "name": "wolframlanguage12"
  },
  "language_info": {
   "codemirror_mode": "mathematica",
   "file_extension": ".m",
   "mimetype": "application/vnd.wolfram.m",
   "name": "Wolfram Language",
   "pygments_lexer": "mathematica",
   "version": "12.0"
  }
 },
 "nbformat": 4,
 "nbformat_minor": 2
}
