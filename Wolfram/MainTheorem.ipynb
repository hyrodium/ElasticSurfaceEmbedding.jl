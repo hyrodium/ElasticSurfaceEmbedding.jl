{
 "cells": [
  {
   "cell_type": "markdown",
   "metadata": {},
   "source": [
    "## Riemannian metric"
   ]
  },
  {
   "cell_type": "code",
   "execution_count": 1,
   "metadata": {},
   "outputs": [
    {
     "data": {
      "text/html": [
       "<style>\n",
       "\t\t\t\t\t\t\t\t\t\t\t\t\t.grid-container {\n",
       "\t\t\t\t\t\t\t\t\t\t\t\t\t\tdisplay: inline-grid;\n",
       "\t\t\t\t\t\t\t\t\t\t\t\t\t\tgrid-template-columns: auto;\n",
       "\t\t\t\t\t\t\t\t\t\t\t\t\t}\n",
       "\t\t\t\t\t\t\t\t\t\t\t\t</style>\n",
       "\n",
       "\t\t\t\t\t\t\t\t\t\t\t\t<div><div class=\"grid-container\"><div class=\"grid-item\"><img alt=\"Output\" src=\"data:image/png;base64,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\"></div><div class=\"grid-item\"><img alt=\"Output\" src=\"data:image/png;base64,iVBORw0KGgoAAAANSUhEUgAAAooAAAApCAIAAAA9AZ+yAAAAhXpUWHRSYXcgcHJvZmlsZSB0eXBlIGV4aWYAAHjaVYvBDcMwDAP/mqIjyLJM2uMYiQNkg45fuu0n9yApgbT1vi97felp2dgxABc5csRU6P6juNciDXn+X9MfZGWgoRhTluEkhnJXkqKFN+LCAahYcIbnIV8gNQN3o86928QyPusLVffpbh/5eCey76LuBgAAAAlwSFlzAAALEwAACxMBAJqcGAAAADx0RVh0U29mdHdhcmUAQ3JlYXRlZCB3aXRoIHRoZSBXb2xmcmFtIExhbmd1YWdlIDogd3d3LndvbGZyYW0uY29tXKKmhQAAACF0RVh0Q3JlYXRpb24gVGltZQAyMDIwOjA0OjMwIDIwOjAyOjI04TNPfwAAE7FJREFUeJztnXs8VOkfx49RylhpUmbKS5giNElRsZK0comEKCKFV0U3Um0qrEtbWpeUbStmS7dVimSVjZcS20q1KbmElFwK2dzXuszM74/z2tn5mXHmzMyZS+N5/3XOc57zPZ/nfL+eZ55zHt8jw2AwIAAAAAAAAJIETtwCvgDi4uKWL1++aNGikJAQcWsBAAAAwJgADM9c6OnpweFwDx48KCkpyc3NffbsmbgVAQAAAED6GSduAZKOoqLinj17IAiSkZExNjZuaWkRtyIAAAAASD9g9owWGo326NGjJUuWiFsIAAAAAKQfqRqevb294ZkuBEFdXV1aWlpnz55Ff7qTk1NcXNxoR6Ojox0cHKZNmyaoSgAAAAAAuCFVwzMrmzdvXrJkiZ+fH7z78OFDIyMjZWVlU1PT58+f82rt4sWLpaWloaGhmGgbGhqKiooyNjaWlZVtbW3FxCZAlAAPAgAAYSOdw/MPP/xQW1ublJQE7zY0NDg7O8fExHz69OnAgQNWVlYdHR3orWVlZSUnJ1++fBmHw+Z2MRgMFRWV9evX0+l0TAwCRAzwIAAAEDYy0vR/z97e3pMnT16zZo2dnd3z58/nzJkDl4eEhHR0dJw+fRredXV1NTMz271794jTnZycKBRKfX19Tk7O1KlTo6KiXF1dGxoa5syZQ6FQ5OXlGQzGggULTp06hYnarq6uyZMnt7S0EIlETAwCRAzwIAAAEB7StnL7w4cPbm5udDq9ra2NOTxXV1dbWVlVVlb6+/tfvXrVwMCgurqa4+lXrlxJSkqiUql37txxc3MzMDDQ0tLq7+8XYQsAAAAAAJC6h9tpaWmurq6HDx8+dOgQs7Cvr09eXr67u7u2tra3txePx/f29nI8fefOnStXrpwwYYKzs7OJicnt27dFJRwAAAAAgP+QtuHZ0NAwLi4uICCgqqoqJycHLpwxY0ZbW5uxsfGHDx90dHRaW1tVVVW5mpo+ffqnT5+ErBcgROh0+pEjR8zNzefPn79hw4Z//vlH3IokCJALTzL5UvxCpVJVVFTErYIHJFnwli1bKBSKiYmJiYnJrVu3mOXSNjybmZnJyckpKiru37//8OHD8Jt1Q0PDgoICZp2CggJDQ0OupiorK7W1tYUnFSBscDjc4sWLCwoKXr58SafTU1NTxa1IUgC58CQTifVLWloa6y68QIf1v0zLy8vLy8tFrgst7IIliq6urtTU1OLi4uLiYicnJ2a5tA3PTHbu3Nnc3Hzz5k0Igjw9PUtKStLT02k0GpVKbW1tXbNmDcezMjMzX79+PTg4GBsb29bW5uLiIlrVAIyxsrKSkZGh0+mDg4M6OjriliMpwLnwZGRkcDgcyIUnOUimXz5+/Mi6gphOp/v7+x87dmxwcJBZSKFQ8vLyxKGOOxwFSxTd3d3Kysrs5VI7PCsoKAQHB4eGhtJoNEVFxby8vPj4eBKJlJqamp+fP24c5zVxq1ev3rFjB5FIzMrKysvLU1JSEoa2bdu2EQgEdXV1CIK0tbUJBAJP6VMAPBEUFKSpqWlnZ2diYoKVTUw8+Pnz519++QUrSfwBcuFJJhLll5SUFAcHB+ZuQkKCtbU1+5NFDQ2Nqqoq4cng+19mRhMsOfT39wcHB9va2lpbW7e1tf13gAEASDX9/f2lpaU2Nja5ubni1vJ/nDlzprOzU7wajhw5Eh4eLl4NAHYkyi9hYWHM7YqKCktLSxqNxmAwZs+ezVqtt7f3xIkTwpNBpVJbWlp4PQtBsOTQ09MDb8THx+/atYtZLhGzZ+RsmgBeGS256cWLFxcsWMCstm7dOjc3N6yMixeEEJo4caKBgcG+fftSUlJEK4oLzc3NWD2e4c8p2ObC40kYJqEoAsQS7SLwC0+MHz+euV1YWAhBkLW19cqVK5ubm1euXMk8pKCg0NfXJzwZzs7O169fR6jAsRNAEMwT586do1Ao06ZN27BhA9esVryOaF999RW8YWZm9u7dO2Y5DoKgwcHByMjIJUuW4HC4v/76i3flSPz444/a2tpEItHV1bW9vR1b42ONvr6+xsZGnk4ZkdyUSUJCwqtXr6hUqiB6sM2cihAqr1+/5kNeU1MTM3NcUVER/CxaQqirq1NTU0NZuaqqatWqVcrKymQyOSgoCLkTROkUTHLhnThxgkwmk8lkCwsLriuDsA1FTDoWQfQLKdoxz1HIypUrV+zs7OTl5UeMc42NjYGBgVpaWrq6uuxnycjIMLf9/Pzy/kVVVZX1ffPw8PDEiRM5Xre1tXX37t3R0dGsb9NHuwNXr16Njo4+d+7cCCMEAoGPBLoIgtFDpVLDwsISExOfPn3KYDAsLS0ZLC/jObZuNNhb9/Hjx8zMTHj75s2brG80cBAE0el0IpG4bt06BtYZxK5fv37mzJnc3Fw495azszO29sca58+fV1RURF9/RHJTJo8ePYqIiEhPT2f+auMDbDOnIodKVlYWH/8WpaysXFVVtWzZMn19/fLy8uDgYF4tCI/s7OwVK1agqdnS0mJubr5+/frGxsZnz57NmzdPVlZ2tMoondLQ0LB+/fqBgQFra2uOGfTQ8Ntvv8XGxhYVFb19+3bjxo3I019sQxGTjkUQ/UKKdkz8gsDEiRMdHBymTp06opxGo+nq6lpaWnI8C4fDoRka/vjjDzMzM46H+vv79fX1g4ODSSQSXILgQQ8Pj+DgYNZJJJMJEyb09PRwVYItNBrt+++/j4uLs7Cw0NDQuHjx4vv37+/cucOswN46BNhbp6CgkJeXZ2lpaWpq2tbWtn///v9qMx9zw79f2tvbMXykbmpqmpaWBm8PDQ2RSKSXL1+yV3N0dAwJCfH09FRWVp4zZw7zFAAr7e3tKF9Hbd68OTAw8MGDB3g8/vXr18zylJQUAwODlpaWGTNmXLhwgT8Zoxk/fPjw9u3bmbsuLi4nT55EbxY5VBoaGhISEhBO/+JCyN/fn06no6kZEBAQFBSEXEdITkHm/PnzLi4u8HZfX5+SkhL8hg+NMAFDEWXHIjz9Qo12wYmIiJg5cyYej4cgCI/Hk8lk1qMGBgbXrl1jPyszM1NHR4e9vKKiIicnh+tFExMTRzv07t275ORk1hKud+DAgQPsdjIyMgoLC0e7ipA6gbq6OgiCmK+HGQyGl5fX3r17mbvsreOqhGPr2MHm+cnDhw99fHzg7Tdv3oSFhcGT9+rqajgUnJycxo0bR6FQELJpenl5NTc3Hz161MPDo7a2FhNhYmFgYODevXuYmz116pS7uzvKyqzJTVnLh4eH3d3dP3/+jPyQHLkJHI3Dvq6srDQ3N29qahotcyp/oaKmplZXVzc8PIygWZAQEpLLEKDT6azPDBEoLS01MjL69ttvFy1aZGVlNdrTOUGcwh+Ojo6vXr0KDw9vbW1NTEzcsmULx+exgoSi4B0LgmcF0S/UaEcDQrtSU1PT09NLSkpaWlocHBwiIiLgAYZv9PT0mpubkes0NjZSKBT0Nvm7A7q6ui9fvkSoIIxO4P3795MnT2Z9uqOmplZfX49sDZMRDZvh2dzcfObMmXQ6PSkpKT8/Pzw8fNu2bdC/2TRbWlrevHlDo9HGSDbNoaGh0tJSzM3W1tai/98AjslNIQgqLy/v7u7+9ddfY2NjP3/+PNrpyE0QJHMq36GybNmyhw8fIjRZkBASkssQYKB+kdTQ0BAREbFs2bL79+8HBASsXbuWY28rYDpbPlBSUnJ1dc3Ly9PT00tISNi7dy/HaoKEouAdC4JnBdEv7GjnCkK7Xrx4YWFhQSKRFBUV7e3tnz59ypNljvj6+iJXUFNTW758OXqD/N0BEon08eNHhArC6ARkZEZ+OIrBYHBdGYDJiIbqkxjZ2dmPHz9mLYmMjGTVR6PR6uvrHR0dw8LCjIyMmOVwNs3AwMDAwEAIgvjOpslVAIwo0+C5urrOnz+fv3M56kQ2SKfTJ02axFqCfE/g5KYDAwMJCQk5OTm2trZw+aRJk27cuKGpqWlsbHz8+PHjx4/zoZ+jcdjXnp6eHz58gCAoJSWFo6/5DpW5c+fm5eV98803aBRinpCV19DiGh4jps4I3iSRSIcOHbK3t4cgyM7OzsLCIj8/f9asWSMMCuIUjnD9o/Py8po9e/ajR4/+/vvvCxcuLFy4sKSkhH29myChiG3HMgJB9As72gXBxsbG19fXzc1NSUkpJSWFOX2XKPi7A5MmTerq6kJ5Caw6AXV19a6urp6eHua6n4aGBp7WmfKtBNXwbG9vD/cOo1FWVjZ9+vS4uLijR48uXLiQdZAoKChYuHAhBEGdnZ0VFRX6+vpcL1dZWTli+TtXATBHjhzhWkeo3L1798mTJ4ODg0+ePIGXMoWFhbH/jOBDZ19f34jhGfmewMlN5eTk4OSmNjY28HhAJpM1NTUhCIqMjFyxYkVgYOD06dN5bQJH44aGhjk5OUFBQXCdgoKC/1vj8C98h4qSklJ3dzfK28UeQqMhPJchM+ISCN7U19cvLS1dvXo1vMtgMDgm1RHEKRxBDjA6nX79+vWmpiYIgvB4/I4dOzIzM3NycrZu3YpGGIQiFCHBOhZkzwqoX9jRjgDXiNXU1CSRSCdPnuzs7Ny0aRPXia9Y4O8O0Gi00TJKsYNVJ6Curk4mk2/duuXl5QVB0MDAwN27dy9fvoxSBk9KRsJ8Cy3I0rAzZ87Aid8qKiqio6OZ5UVFRaqqqpWVlf39/T4+Ph4eHhxPd3R0XLp0aVVV1cDAQExMDJFIFHu6BkHo6ek5duwY5mb9/PxQ1oTXs8Dbvb29Kioq8NoEeD0Os5qdnR3r8hZWEJowmvHu7m4VFZWbN28ODw8nJydraGgMDQ2xn853qLx48SIpKWm0JgsYQkJyGQKsyQeQqampUVFRKS4uZjAY+fn5U6dObWpqGlFHQKfwh7GxcVhYGGywurqaSCSWlJSgFIYyFAXsWBiInhVEv7CjnSsI7YqMjNy2bRuCo3ldGiY47IunuN4BjounPn36hLA8VnidwM8//6yiolJYWNjY2Oju7m5kZMS6rpPj0jBkJTwsDfP19SUQCGQyGYIgMplMIBCSk5PRD/CpqalPnz6F15Tr6enp6ent37+/rKwMgqClS5fGxMS4uLiQyWQ6nY5gVjTZNMcgrMlNRxyKjIykUqlv377FxDiazKmChMrjx4+//vprBDFfVgihnwRoaWnduHFj165dJBLp4MGDmZmZyI8B+Utnywfp6el1dXV6enq6uroeHh6JiYmLFy9GKWzEIY6hiEnHIiT9wo52QXBxcblw4QIejycQCKqqqjY2NvAHLS5fvkwgEAgEwqtXr3x8fAgEgqenJ3zK3LlzCQSCh4dHTU0NXEfY37fg7w40NTUhP1UWUifg4+MD/+iBf1Pm5uZyXdeJjRL0Py4A4oVKpZaWlopbhdjYuXOnuCVgycGDB8UtASCduLu7MyfHvb29x48f19DQEK8k9vklVzjOLy9duoTtf6BhAlatY0ciknoC0ODl5ZWRkSFuFeLh+fPnrDkgpQAKhSLJH+ADfLkUFRVNmTKFwWBAENTd3V1TUzNavpEvjpqaGj09PXGrEB1geP5iGD9+vLa2dkNDg7iFiIHs7Gx4XYbUYG1t/eDBA3GrAEghqampUVFRampq2traVlZWs2bN+umnn8QrSV5evqysjKe0l/CywRHQ6XQM385gBVat4wA/k3mpAM6fp6qqSiKR/P39+/r6RHn1yspKW1vbKVOmaGpq7tmzp7e3V5RXB/BNamoqBEEFBQXMknv37hkYGMycOXPevHkZGRnoTX333XfY6wMApJS3b9/ynevwC2Xszp4DAgJsbW2rq6tfvHhRXV0dEREhskvzlEUZIDm8e/cuPDycNTlMR0eHk5NTfHz8+/fv09LS4DxBKK1pa2tzzT0EAABgsrKyXFxcxK1CpIzd4TkjI2PTpk0KCgpEItHPz+/3338X2aWjo6M3bty4adMmPB4/ZcoUb2/v0b70ApAc4CSUUVFRcnJyzMLOzk4FBQULCwsIgnR0dCgUCnJWI1bWrl0LXj8DAChRVVUV5BM+XyJjd3hmpaysjOOX1IQEyizKAIkiLCxMR0fH1dWVNfW3pqammZmZm5tbeXl5UVGRrKysoaEhSoMTJkxAk2wHAABAEDTWps4Qyqxh0k1dXd25c+dEOXuGsyjHxsaGhoYWFhauXbu2tLSUPU0jQHK4f/9+enr6n3/+yX7I19f30KFDq1atam1tzcnJQfmhCwAAAEBmrM+eGxsbHRwcEhIS0H9tQnBIJFJMTIy9vb2ioiIzi7LIrg7glfb2dh8fnytXrrA/W0tOTj516tSTJ0/q6+tv377t7e2dlZUlFpEAAEDKGNPDc21t7fLly0NDQzds2CDK68JZlJm7jFGyKAMkhLS0tK6uLisrKzihUk1Njb29PfzpoWvXrnl7e8vJyeFwOBsbm61bt167dk3cegEAgDQwdofnsrKyFStWHDt2zM3NTcSX3rdv3+nTp+HPAd2/f7+4uNja2lrEGgDo2b59ewcL2tra2dnZ8Id7Fy9efOnSJfgrOl1dXbm5uXCWfwAAABCQkV+yHDsQicSOjg48Ht/X1weXpKenOzg4iObqhYWFe/fubWxsVFdXj4+PNzU1Fc11AYKjq6t79uxZc3NzCIKGhobCw8PT09NlZGRkZWXXrVsXEhLC9VuwAAAAwJWxOzwDAAAAACCxgJ/5AAAAAABIHGB4BgAAAABA4vgfiEEtpM2K0DcAAAAASUVORK5CYII=\"></div></div></div>"
      ],
      "text/plain": [
       "                               3                    4    (4)\n",
       "                      2   2   b  (-KK + 4 K0 κ0)   b  g11   [0]       5\n",
       "1 - 2 b κ0 + (-K0 + κ0 ) b  + ------------------ + ------------ + O[b]\n",
       "                                      3                 24\n",
       "            2       3                  4       2                    2      (4)\n",
       "           b  K0   b  (-KK + K0 κ0)   b  (-6 K0  - 8 KK κ0 + 8 K0 κ0  + g11   [0])\n",
       "1 - b κ0 - ----- + ---------------- + -------------------------------------------- + \n",
       "             2            6                                48\n",
       " \n",
       "        5\n",
       ">   O[b]"
      ]
     },
     "execution_count": 6,
     "metadata": {
      "text/html": [],
      "text/plain": []
     },
     "output_type": "execute_result"
    }
   ],
   "source": [
    "(*Riemann metric*)\n",
    "g11[0] = 1;\n",
    "g11'[0] = -2 \\[Kappa]0;\n",
    "g11''[0] = 2 (\\[Kappa]0^2 - K0);\n",
    "g11'''[0] = 2 (4 \\[Kappa]0 K0 - KK);\n",
    "g11[b] + O[b]^5\n",
    "Simplify[Sqrt[g11[b] + O[b]^5]]"
   ]
  },
  {
   "cell_type": "code",
   "execution_count": 8,
   "metadata": {},
   "outputs": [],
   "source": [
    "h[0] = 0;\n",
    "h'[0] = h1[B];\n",
    "h''[0] = h2[B];\n",
    "h'''[0] = h3[B];\n",
    "h''''[0] = h4[B];\n",
    "h'''''[0] = h5[B];\n",
    "E11[b_] = 1/2 ((S[B] (1 - \\[Kappa]t[B] h[b])^2)/g11[b] - 1);\n",
    "E22[b_] = 1/2 ((h'[b])^2 - 1);\n",
    "w[b_] = 1/2 (E11[b])^2*Sqrt[g11[b]];\n",
    "Cof11 = CoefficientList[E11[b] + O[b]^5, b];\n",
    "Cof22 = CoefficientList[E22[b] + O[b]^5, b];"
   ]
  },
  {
   "cell_type": "code",
   "execution_count": 19,
   "metadata": {},
   "outputs": [],
   "source": [
    "For[i = 1, i <= 5, i++,\n",
    " Symbol[\"h\" <> ToString[i]][B] =\n",
    "  Simplify[\n",
    "   Solve[-\\[Nu] Cof11[[i]] == Cof22[[i]], \n",
    "       Symbol[\"h\" <> ToString[i]][B]][[-1]][[1]][[2]]]\n",
    " ]\n",
    "W\\[CapitalGamma][i_] := \n",
    " Simplify[Integrate[Normal[w[b] + O[b]^i], {b, -B, B}] + O[B]^(i + 1)]"
   ]
  },
  {
   "cell_type": "code",
   "execution_count": 21,
   "metadata": {},
   "outputs": [
    {
     "data": {
      "text/html": [
       "<div><img alt=\"Output\" src=\"data:image/png;base64,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\"></div>"
      ],
      "text/plain": [
       "             2\n",
       "B (-1 + S[0])        2\n",
       "-------------- + O[B]\n",
       "      4"
      ]
     },
     "execution_count": 21,
     "metadata": {
      "text/html": [],
      "text/plain": []
     },
     "output_type": "execute_result"
    }
   ],
   "source": [
    "W\\[CapitalGamma][1]"
   ]
  },
  {
   "cell_type": "code",
   "execution_count": 22,
   "metadata": {},
   "outputs": [
    {
     "data": {
      "text/html": [
       "<div><img alt=\"Output\" src=\"data:image/png;base64,iVBORw0KGgoAAAANSUhEUgAAACgAAAAUCAIAAABwJOjsAAAAhXpUWHRSYXcgcHJvZmlsZSB0eXBlIGV4aWYAAHjaVYvBDcMwDAP/mqIjyLJM2uMYiQNkg45fuu0n9yApgbT1vi97felp2dgxABc5csRU6P6juNciDXn+X9MfZGWgoRhTluEkhnJXkqKFN+LCAahYcIbnIV8gNQN3o86928QyPusLVffpbh/5eCey76LuBgAAAAlwSFlzAAALEwAACxMBAJqcGAAAADx0RVh0U29mdHdhcmUAQ3JlYXRlZCB3aXRoIHRoZSBXb2xmcmFtIExhbmd1YWdlIDogd3d3LndvbGZyYW0uY29tXKKmhQAAACF0RVh0Q3JlYXRpb24gVGltZQAyMDIwOjA0OjMwIDIwOjAyOjM1jy9OqAAAAoNJREFUSInFlT1o6lAUx28SaQnoINalYIK6iFDchBZEXPyoVAU3dazd2ootCK51cKsgftW1IgUHN6U6RJycRMFVbevQUpEWqY1pSN4QyetTNHWo7z+d/O/J/Z1w7zmBWJYF/0PwbwMYholEIkajUafTeTwekiQ3BIZhWK/XEwTRarUYhsnn85wv+m0wAMBsNgMAGIahKEqj0cwK2gAYABAMBpVKpd1u39/fn1nsRvT5+dlsNq1W6/39PefMwIlEQqvVyuVyr9f79va2epfj42MIghAEkUgkBwcHtVrth/hqterxeLgYBgBkMpmrq6tkMtloNCiK4o6E18vLy9nZWTQafX5+5s3z83OapjudztHRkcPhoGma83O5XDQazWQyfOZgMLi5ueHier2O4/hs4evrC8OwfD7PFUKSpFQqLZVKfJm9Xi+bzc59cSAQ4OLxeAxB0Ovr6/eEUCjEx5PJJBAIGAyGvb09t9v9/v7O+aJut/v09OR0Ork6tre3bTYbQRBWq1Xwynx8fMRiMZPJtLOzsywHRdHr6+tFX/Tw8CCTyVAU5S2FQtHv91cj4/F4KpWaTqe7u7t3d3eCJS4KhiCI/XdqsiwLwwJtdnp6SpLkeDzOZrMul4sgiLXBOI6PRqPJZMJbj4+Pf6/ASonF4sPDQ5/Px8+jNcAqlQrDsGKxyD2TJFkul00m08+3mE6nW1tb64JFCIKEw+GLiwsMw3Acv7y81Gg0cx21TBRFVSqV29vbQqGwNhgAcHJyQtO03+8fDodms7lcLgu+Fo/H0+k0giBqtTqRSFgslnXBwiNzsY8F9b2Pl2lDP4lFCYNRFG2323Mjc5m4kalUKgUz55t4Y/oDgp5rMeEzMQkAAAAASUVORK5CYII=\"></div>"
      ],
      "text/plain": [
       "    3\n",
       "O[B]"
      ]
     },
     "execution_count": 23,
     "metadata": {
      "text/html": [],
      "text/plain": []
     },
     "output_type": "execute_result"
    }
   ],
   "source": [
    "S[0] = 1;\n",
    "W\\[CapitalGamma][2]"
   ]
  },
  {
   "cell_type": "code",
   "execution_count": 24,
   "metadata": {},
   "outputs": [
    {
     "data": {
      "text/html": [
       "<div><img alt=\"Output\" src=\"data:image/png;base64,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\"></div>"
      ],
      "text/plain": [
       "             2        2\n",
       " (κ0 - κt[0])    S'[0]    3       4\n",
       "(------------- + ------) B  + O[B]\n",
       "       3           4"
      ]
     },
     "execution_count": 25,
     "metadata": {
      "text/html": [],
      "text/plain": []
     },
     "output_type": "execute_result"
    }
   ],
   "source": [
    "S[0] = 1;\n",
    "W\\[CapitalGamma][3]"
   ]
  },
  {
   "cell_type": "code",
   "execution_count": 26,
   "metadata": {},
   "outputs": [
    {
     "data": {
      "text/html": [
       "<div><img alt=\"Output\" src=\"data:image/png;base64,iVBORw0KGgoAAAANSUhEUgAAACgAAAAUCAIAAABwJOjsAAAAhXpUWHRSYXcgcHJvZmlsZSB0eXBlIGV4aWYAAHjaVYvBDcMwDAP/mqIjyLJM2uMYiQNkg45fuu0n9yApgbT1vi97felp2dgxABc5csRU6P6juNciDXn+X9MfZGWgoRhTluEkhnJXkqKFN+LCAahYcIbnIV8gNQN3o86928QyPusLVffpbh/5eCey76LuBgAAAAlwSFlzAAALEwAACxMBAJqcGAAAADx0RVh0U29mdHdhcmUAQ3JlYXRlZCB3aXRoIHRoZSBXb2xmcmFtIExhbmd1YWdlIDogd3d3LndvbGZyYW0uY29tXKKmhQAAACF0RVh0Q3JlYXRpb24gVGltZQAyMDIwOjA0OjMwIDIwOjAyOjQzKQ19WgAAAnRJREFUSInFVc+LOWEcfmdMpKQ2clBmYi/KOstKksIqyx/gsmUclB9Fqb3uxUlb8itHNCnFbZWL3Fy3XLEclkjNyjaYzB5mm2SXWYev73N6eubzmed9n5nP+0IMw4D/AfgCHjiO39zcGI1Go9FYr9dZEbmAMUmSBEHo9fp98RI7/vj4kMlkByJ0gW9ssVgwDJvNZrvdrlQqKRQKAABg/j2WyyVLUqlUKBRi+XfU2WxWp9MpFAqfz0eS5Okd4DgOwzCCIFKp1GQydTqd0/USiYQlZrN5MBiwHAYAFAqFp6enbDbb7XY3m43dbt9vm06n4XA4mUxOJhNOjEQiNE33ej23231/f0/TNKtXKpVkMlkoFLjK9/f3RqPB8lqtZjAYvh9st1sURQmCYBOgKOrq6url5YULajAYFIvF/ej8fn80GuVihCBoNpvtFyQSCY6TJBkMBm022+3t7cPDA0VRrI70+/3xeOzxeNh1iESiu7u7drvtdDpPBwgAWK1Wz8/PVqtVLpcfq5FKpZlM5qeOvL29yWQysVjMSSqVajgcnrZMp9O5XG69XiuVymq1yrvEn4Ah6HCiGIaBYZ75DoVCFEUtl8tisej1etvt9tnGGIYtFovPz09OGo1GGIb9pVkikbhcLp/PRxDE2cYajQZFUe7Hoyiq2Wxarda/v2K9XguFwnONEYFA8Pj4GIvFUBTFMCwej2u12oOJOobNZtNqtcrlcq1WO9sYABAIBGiaxnF8Pp/b7fZms8nblk6n8/m8QCC4vr7OZDIOh+NcY/4j8+cc82J/jo/hErfTr+A3FovFr6+vB0fmMbBHplqt5q28xLX4K74A7koW+ZvcEicAAAAASUVORK5CYII=\"></div>"
      ],
      "text/plain": [
       "    5\n",
       "O[B]"
      ]
     },
     "execution_count": 29,
     "metadata": {
      "text/html": [],
      "text/plain": []
     },
     "output_type": "execute_result"
    }
   ],
   "source": [
    "S[0] = 1;\n",
    "S'[0] = 0;\n",
    "\\[Kappa]t[0] = \\[Kappa]0;\n",
    "W\\[CapitalGamma][4]"
   ]
  },
  {
   "cell_type": "code",
   "execution_count": 30,
   "metadata": {},
   "outputs": [
    {
     "data": {
      "text/html": [
       "<div><img alt=\"Output\" src=\"data:image/png;base64,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\"></div>"
      ],
      "text/plain": [
       " 5       2            2                           2\n",
       "B  (12 K0  + 80 κt'[0]  + 20 K0 S''[0] + 15 S''[0] )       6\n",
       "---------------------------------------------------- + O[B]\n",
       "                        240"
      ]
     },
     "execution_count": 33,
     "metadata": {
      "text/html": [],
      "text/plain": []
     },
     "output_type": "execute_result"
    }
   ],
   "source": [
    "S[0] = 1;\n",
    "S'[0] = 0;\n",
    "\\[Kappa]t[0] = \\[Kappa]0;\n",
    "W\\[CapitalGamma][5]"
   ]
  },
  {
   "cell_type": "code",
   "execution_count": 34,
   "metadata": {},
   "outputs": [
    {
     "data": {
      "text/html": [
       "<div><pre style=\"&#102;&#111;&#110;&#116;&#45;&#102;&#97;&#109;&#105;&#108;&#121;&#58;&#32;&#34;&#67;&#111;&#117;&#114;&#105;&#101;&#114;&#32;&#78;&#101;&#119;&#34;&#44;&#67;&#111;&#117;&#114;&#105;&#101;&#114;&#44;&#109;&#111;&#110;&#111;&#115;&#112;&#97;&#99;&#101;&#59;\">&#48;</pre></div>"
      ],
      "text/plain": [
       "0"
      ]
     },
     "execution_count": 34,
     "metadata": {
      "text/html": [],
      "text/plain": []
     },
     "output_type": "execute_result"
    }
   ],
   "source": [
    "Simplify[1/\n",
    "   240 (12 K0^2 + 80 Derivative[1][\\[Kappa]t][0]^2 + \n",
    "     20 K0 (S^\\[Prime]\\[Prime])[0] + \n",
    "     15 (S^\\[Prime]\\[Prime])[0]^2) - (1/\n",
    "     3 Derivative[1][\\[Kappa]t][0]^2 + \n",
    "    1/16 ((S^\\[Prime]\\[Prime])[0] + 2/3 K0)^2 + 1/45 K0^2)]"
   ]
  },
  {
   "cell_type": "code",
   "execution_count": 35,
   "metadata": {},
   "outputs": [
    {
     "data": {
      "text/html": [
       "<div><img alt=\"Output\" src=\"data:image/png;base64,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\"></div>"
      ],
      "text/plain": [
       " 5   2\n",
       "B  K0        6\n",
       "------ + O[B]\n",
       "  45"
      ]
     },
     "execution_count": 40,
     "metadata": {
      "text/html": [],
      "text/plain": []
     },
     "output_type": "execute_result"
    }
   ],
   "source": [
    "S[0] = 1;\n",
    "S'[0] = 0;\n",
    "S''[0] = -2/3 K0;\n",
    "\\[Kappa]t[0] = \\[Kappa]0;\n",
    "\\[Kappa]t'[0] = 0;\n",
    "W\\[CapitalGamma][5]"
   ]
  },
  {
   "cell_type": "code",
   "execution_count": null,
   "metadata": {},
   "outputs": [],
   "source": []
  }
 ],
 "metadata": {
  "kernelspec": {
   "display_name": "Wolfram Language 12",
   "language": "Wolfram Language",
   "name": "wolframlanguage12"
  },
  "language_info": {
   "codemirror_mode": "mathematica",
   "file_extension": ".m",
   "mimetype": "application/vnd.wolfram.m",
   "name": "Wolfram Language",
   "pygments_lexer": "mathematica",
   "version": "12.0"
  }
 },
 "nbformat": 4,
 "nbformat_minor": 2
}
