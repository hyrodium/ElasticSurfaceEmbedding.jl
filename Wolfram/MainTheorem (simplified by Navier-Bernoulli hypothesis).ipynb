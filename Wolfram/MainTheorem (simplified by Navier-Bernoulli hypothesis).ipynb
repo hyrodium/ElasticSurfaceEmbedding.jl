{
 "cells": [
  {
   "cell_type": "markdown",
   "metadata": {},
   "source": [
    "# Main Theorem of Elastic Surface Embedding\n",
    "Simplified by Navier-Bernoulli hypothesis\n",
    "\n",
    "## Riemannian metric of reference state"
   ]
  },
  {
   "cell_type": "code",
   "execution_count": null,
   "metadata": {},
   "outputs": [],
   "source": [
    "g₍₀₎₁₁[0] = 1;\n",
    "g₍₀₎₁₁'[0] = -2 𝜅₍₀₎;\n",
    "g₍₀₎₁₁''[0] = 2 (𝜅₍₀₎^2 - 𝐾₍₀₎);s\n",
    "g₍₀₎₁₁[b] + O[b]^3\n",
    "Simplify[Sqrt[g₍₀₎₁₁[b] + O[b]^3]]"
   ]
  },
  {
   "cell_type": "markdown",
   "metadata": {},
   "source": [
    "## Coefficient"
   ]
  },
  {
   "cell_type": "code",
   "execution_count": null,
   "metadata": {},
   "outputs": [],
   "source": [
    "𝜂[0] = 0;\n",
    "𝜂'[0] = 𝜂1[B];\n",
    "𝜂''[0] = 𝜂2[B];\n",
    "𝜂'''[0] = 𝜂3[B];\n",
    "𝜂''''[0] = 𝜂4[B];\n",
    "E⁽⁰⁾₁₁[b_] = (1/2)*((S[B] (1 - 𝜅₍ₜ₎[B] 𝜂[b])^2)/g₍₀₎₁₁[b] - 1);\n",
    "E⁽⁰⁾₂₂[b_] = (1/2)*((𝜂'[b])^2 - 1);\n",
    "𝒲[b_] = (1/2)*(E⁽⁰⁾₁₁[b])^2*Sqrt[g₍₀₎₁₁[b]];\n",
    "C1 = CoefficientList[E⁽⁰⁾₁₁[b] + O[b]^5, b]; (* Note that O[b]^5 is fake for computation. *)\n",
    "C2 = CoefficientList[E⁽⁰⁾₂₂[b] + O[b]^5, b]; (* In correctly, it should be O[b]^3. *)"
   ]
  },
  {
   "cell_type": "code",
   "execution_count": null,
   "metadata": {},
   "outputs": [],
   "source": [
    "(* Reduce parameters by Poisson's effect *)\n",
    "For[i = 1, i <= 4, i++,\n",
    "    Symbol[\"𝜂\" <> ToString[i]][B] = Simplify[Solve[-ν C1[[i]] == C2[[i]], Symbol[\"𝜂\" <> ToString[i]][B]][[-1]][[1]][[2]]]\n",
    "]\n",
    "\n",
    "(* Strain energy with given order i *)\n",
    "W[i_] := Simplify[Integrate[Normal[𝒲[b] + O[b]^i], {b, -B, B}] + O[B]^(i + 1)]"
   ]
  },
  {
   "cell_type": "markdown",
   "metadata": {},
   "source": [
    "## Minimization of strain energy"
   ]
  },
  {
   "cell_type": "code",
   "execution_count": null,
   "metadata": {},
   "outputs": [],
   "source": [
    "W[1]"
   ]
  },
  {
   "cell_type": "code",
   "execution_count": null,
   "metadata": {
    "scrolled": true
   },
   "outputs": [],
   "source": [
    "S[0] = 1;\n",
    "W[2]"
   ]
  },
  {
   "cell_type": "code",
   "execution_count": null,
   "metadata": {},
   "outputs": [],
   "source": [
    "S[0] = 1;\n",
    "W[3]"
   ]
  },
  {
   "cell_type": "code",
   "execution_count": null,
   "metadata": {},
   "outputs": [],
   "source": [
    "S[0] = 1;\n",
    "S'[0] = 0;\n",
    "𝜅₍ₜ₎[0] = 𝜅₍₀₎;\n",
    "W[4]"
   ]
  },
  {
   "cell_type": "code",
   "execution_count": null,
   "metadata": {},
   "outputs": [],
   "source": [
    "S[0] = 1;\n",
    "S'[0] = 0;\n",
    "𝜅₍ₜ₎[0] = 𝜅₍₀₎;\n",
    "W[5]"
   ]
  },
  {
   "cell_type": "code",
   "execution_count": null,
   "metadata": {},
   "outputs": [],
   "source": [
    "S[0] = 1;\n",
    "S'[0] = 0;\n",
    "S''[0] = -2/3 𝐾₍₀₎;\n",
    "𝜅₍ₜ₎[0] = 𝜅₍₀₎;\n",
    "𝜅₍ₜ₎'[0] = 0;\n",
    "W[5]"
   ]
  }
 ],
 "metadata": {
  "kernelspec": {
   "display_name": "Wolfram Language 12",
   "language": "Wolfram Language",
   "name": "wolframlanguage12"
  },
  "language_info": {
   "codemirror_mode": "mathematica",
   "file_extension": ".m",
   "mimetype": "application/vnd.wolfram.m",
   "name": "Wolfram Language",
   "pygments_lexer": "mathematica",
   "version": "12.0"
  }
 },
 "nbformat": 4,
 "nbformat_minor": 2
}
