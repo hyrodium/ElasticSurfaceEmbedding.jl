{
 "cells": [
  {
   "cell_type": "markdown",
   "metadata": {},
   "source": [
    "## Riemannian metric"
   ]
  },
  {
   "cell_type": "code",
   "execution_count": null,
   "metadata": {},
   "outputs": [],
   "source": [
    "g₁₁[0] = 1;\n",
    "g₁₁'[0] = -2 κ₀;\n",
    "g₁₁''[0] = 2 (κ₀^2 - K0);\n",
    "(* g₁₁'''[0] = 2 (4 κ₀ K0 - KK); *)\n",
    "g₁₁[b] + O[b]^4\n",
    "Simplify[Sqrt[g₁₁[b] + O[b]^4]]"
   ]
  },
  {
   "cell_type": "markdown",
   "metadata": {},
   "source": [
    "## Coefficient"
   ]
  },
  {
   "cell_type": "code",
   "execution_count": null,
   "metadata": {},
   "outputs": [],
   "source": [
    "h[0] = 0;\n",
    "h'[0] = h1[B];\n",
    "h''[0] = h2[B];\n",
    "h'''[0] = h3[B];\n",
    "h''''[0] = h4[B];\n",
    "(* h'''''[0] = h5[B]; *)\n",
    "E₁₁[b_] = 1/2 ((S[B] (1 - κₜ[B] h[b])^2)/g₁₁[b] - 1);\n",
    "E₂₂[b_] = 1/2 ((h'[b])^2 - 1);\n",
    "w[b_] = 1/2 (E₁₁[b])^2*Sqrt[g₁₁[b]];\n",
    "Cof11 = CoefficientList[E₁₁[b] + O[b]^5, b];\n",
    "Cof22 = CoefficientList[E₂₂[b] + O[b]^5, b];"
   ]
  },
  {
   "cell_type": "code",
   "execution_count": null,
   "metadata": {},
   "outputs": [],
   "source": [
    "For[i = 1, i <= 4, i++,\n",
    "    Symbol[\"h\" <> ToString[i]][B] = Simplify[Solve[-ν Cof11[[i]] == Cof22[[i]], Symbol[\"h\" <> ToString[i]][B]][[-1]][[1]][[2]]]\n",
    "]\n",
    "W[i_] := Simplify[Integrate[Normal[w[b] + O[b]^i], {b, -B, B}] + O[B]^(i + 1)]"
   ]
  },
  {
   "cell_type": "code",
   "execution_count": null,
   "metadata": {},
   "outputs": [],
   "source": [
    "W[1]"
   ]
  },
  {
   "cell_type": "code",
   "execution_count": null,
   "metadata": {
    "scrolled": true
   },
   "outputs": [],
   "source": [
    "S[0] = 1;\n",
    "W[2]"
   ]
  },
  {
   "cell_type": "code",
   "execution_count": null,
   "metadata": {},
   "outputs": [],
   "source": [
    "S[0] = 1;\n",
    "W[3]"
   ]
  },
  {
   "cell_type": "code",
   "execution_count": null,
   "metadata": {},
   "outputs": [],
   "source": [
    "S[0] = 1;\n",
    "S'[0] = 0;\n",
    "κₜ[0] = κ₀;\n",
    "W[4]"
   ]
  },
  {
   "cell_type": "code",
   "execution_count": null,
   "metadata": {},
   "outputs": [],
   "source": [
    "S[0] = 1;\n",
    "S'[0] = 0;\n",
    "κₜ[0] = κ₀;\n",
    "W[5]"
   ]
  },
  {
   "cell_type": "code",
   "execution_count": null,
   "metadata": {},
   "outputs": [],
   "source": [
    "S[0] = 1;\n",
    "S'[0] = 0;\n",
    "S''[0] = -2/3 K0;\n",
    "κₜ[0] = κ₀;\n",
    "κₜ'[0] = 0;\n",
    "W[5]"
   ]
  },
  {
   "cell_type": "code",
   "execution_count": null,
   "metadata": {},
   "outputs": [],
   "source": []
  }
 ],
 "metadata": {
  "kernelspec": {
   "display_name": "Wolfram Language 12",
   "language": "Wolfram Language",
   "name": "wolframlanguage12"
  },
  "language_info": {
   "codemirror_mode": "mathematica",
   "file_extension": ".m",
   "mimetype": "application/vnd.wolfram.m",
   "name": "Wolfram Language",
   "pygments_lexer": "mathematica",
   "version": "12.0"
  }
 },
 "nbformat": 4,
 "nbformat_minor": 2
}
