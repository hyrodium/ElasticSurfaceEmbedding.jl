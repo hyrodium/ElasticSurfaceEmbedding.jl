{
 "cells": [
  {
   "cell_type": "code",
   "execution_count": 6,
   "metadata": {},
   "outputs": [
    {
     "data": {
      "text/plain": [
       "Plots.GRBackend()"
      ]
     },
     "execution_count": 6,
     "metadata": {},
     "output_type": "execute_result"
    }
   ],
   "source": [
    "push!(LOAD_PATH, \".\")\n",
    "using BenchmarkTools\n",
    "using Plots\n",
    "using IntervalSets\n",
    "gr()"
   ]
  },
  {
   "cell_type": "code",
   "execution_count": 7,
   "metadata": {},
   "outputs": [
    {
     "data": {
      "text/plain": [
       "BSplineCoefficient (generic function with 1 method)"
      ]
     },
     "execution_count": 7,
     "metadata": {},
     "output_type": "execute_result"
    }
   ],
   "source": [
    "struct knots\n",
    "    vec :: Array{Float64,1}\n",
    "    function knots(vec)\n",
    "        new(sort(vec))\n",
    "    end\n",
    "end\n",
    "\n",
    "Base.:+(k₁::knots, k₂::knots) = knots(sort([k₁.vec...,k₂.vec...]))\n",
    "Base.:*(p₊::Int, k::knots) = if (p₊==0)\n",
    "    knots([])\n",
    "elseif (p₊>0)\n",
    "    sum(k for _ ∈ 1:p₊)\n",
    "else\n",
    "    error(\"p₊ must be non-negative\")\n",
    "end\n",
    "    \n",
    "Base.getindex(k::knots, i::Int) = k.vec[i]\n",
    "Base.getindex(k::knots, v::AbstractArray{Int64,1}) = knots(k.vec[v])\n",
    "Base.length(k::knots) = length(k.vec)\n",
    "Base.firstindex(k) = 1\n",
    "Base.lastindex(k) = length(k)\n",
    "Base.unique(k::knots) = knots(unique(k.vec))\n",
    "\n",
    "function Base.:⊆(k::knots, k′::knots)\n",
    "    K′=copy(k′.vec)\n",
    "    for kᵢ ∈ k.vec\n",
    "        i=findfirst(x->x==kᵢ,K′)\n",
    "        if(i isa Nothing)\n",
    "            return false\n",
    "        end\n",
    "        deleteat!(K′,i)\n",
    "    end\n",
    "    return true\n",
    "end\n",
    "\n",
    "function BSplineBasis(p::Int64,k::knots,t)::Array{Float64,1}\n",
    "    n=length(k)-p-1\n",
    "    if(p==0)\n",
    "        return [k[i]≤t<k[i+1]||(k[i]≠k[i+1]==k[end]==t) for i ∈ 1:n]\n",
    "    else\n",
    "        K=[ifelse(k[i+p]==k[i],0,(t-k[i])/(k[i+p]-k[i])) for i ∈ 1:n+1]\n",
    "        B=BSplineBasis(p-1,k,t)\n",
    "        return [K[i]*B[i]+(1-K[i+1])*B[i+1] for i ∈ 1:n]\n",
    "    end\n",
    "end\n",
    "\n",
    "function BSplineBasis(i::Int64,p::Int64,k::knots,t)::Float64\n",
    "    return BSplineBasis(p,k[i:i+p+1],t)[1]\n",
    "end\n",
    "\n",
    "function BSplineBasis′(p::Int64,k::knots,t)::Array{Float64,1}\n",
    "    n=length(k)-p-1\n",
    "    if(p==0)\n",
    "        return [0.0 for _ ∈ 1:n]\n",
    "    else\n",
    "        K=[ifelse(k[i+p]==k[i],0,p/(k[i+p]-k[i])) for i ∈ 1:n+1]\n",
    "        B=BSplineBasis(p-1,k,t)\n",
    "        return [K[i]*B[i]-K[i+1]*B[i+1] for i ∈ 1:n]\n",
    "    end\n",
    "end\n",
    "\n",
    "function BSplineBasis′(i::Int64,p::Int64,k::knots,t)::Float64\n",
    "    return BSplineBasis′(p,k[i:i+p+1],t)[1]\n",
    "end\n",
    "\n",
    "function BSplineSupport(i::Int64, p::Int64 ,k::knots)::ClosedInterval\n",
    "    return k[i]..k[i+p+1]\n",
    "end\n",
    "\n",
    "function BSplineCoefficient(k::knots, p::Int, k′::knots, p′::Int)::Array{Float64,2}\n",
    "    p₊=p′-p\n",
    "    if(k+p₊*unique(k) ⊆ k′)\n",
    "        if(p == 0 && p' ≥ 0)\n",
    "            n=length(k)-1\n",
    "            n′=length(k′)-p₊-1\n",
    "            A⁰=Float64[BSplineSupport(j,p₊,k′) ⊆ BSplineSupport(i,0,k) for i ∈ 1:n, j ∈ 1:n′]\n",
    "            return A⁰\n",
    "        else\n",
    "            Aᵖ⁻¹=BSplineCoefficient(k, p-1, k′, p′-1)\n",
    "            n=length(k)-p-1\n",
    "            n′=length(k′)-p′-1\n",
    "            K′=[k′[i+p′]-k′[i] for i ∈ 1:n′+1]\n",
    "            K=[1/(k[i+p]-k[i]) for i ∈ 1:n+1]\n",
    "            LS=(p/p′)*[K′[j]*(K[i]*Aᵖ⁻¹[i,j]-K[i+1]*Aᵖ⁻¹[i+1,j]) for i ∈ 1:n, j ∈ 1:n′+1]\n",
    "            Aᵖ₊, Aᵖ₋=zeros(n,n′), zeros(n,n′)\n",
    "            Aᵖ₊[:,1]=LS[:,1]\n",
    "            Aᵖ₋[:,n′]=-LS[:,n′+1]\n",
    "            for j ∈ 2:n′\n",
    "                Aᵖ₊[:,j]+=Aᵖ₊[:,j-1]+LS[:,j]\n",
    "                Aᵖ₋[:,(n′-j+2)-1]+=Aᵖ₋[:,(n′-j+2)]-LS[:,(n′-j+2)]\n",
    "            end\n",
    "            return (Aᵖ₊+Aᵖ₋).*Float64[BSplineSupport(j,p′,k′) ⊆ BSplineSupport(i,p,k) for i ∈ 1:n, j ∈ 1:n′]/2\n",
    "        end\n",
    "    else\n",
    "        error(\"P[p,k] ⊄ P[p′,k′]\")\n",
    "    end\n",
    "end\n",
    "\n"
   ]
  },
  {
   "cell_type": "code",
   "execution_count": 9,
   "metadata": {},
   "outputs": [
    {
     "data": {
      "text/plain": [
       "knots([3.4641581656859843, 3.4641581656859843, 3.4641581656859843, 3.4641581656859843, 3.4641581656859843, 3.4641581656859843, 3.4641581656859843, 3.4641581656859843, 3.4641581656859843, 3.4641581656859843  …  11.549142053934085, 11.549142053934085, 11.549142053934085, 11.549142053934085, 11.549142053934085, 11.549142053934085, 11.549142053934085, 11.549142053934085, 11.549142053934085, 11.549142053934085])"
      ]
     },
     "execution_count": 9,
     "metadata": {},
     "output_type": "execute_result"
    }
   ],
   "source": [
    "p=4\n",
    "p′=17\n",
    "p₊=p′-p\n",
    "k=knots((9*rand(20)).+3)\n",
    "k₊=knots(((k[end]-k[1])*rand(13)).+k[1])\n",
    "k′=k+p₊*unique(k)+k₊"
   ]
  },
  {
   "cell_type": "code",
   "execution_count": 18,
   "metadata": {},
   "outputs": [
    {
     "data": {
      "text/plain": [
       "BenchmarkTools.Trial: \n",
       "  memory estimate:  2.88 KiB\n",
       "  allocs estimate:  36\n",
       "  --------------\n",
       "  minimum time:     2.025 μs (0.00% GC)\n",
       "  median time:      2.141 μs (0.00% GC)\n",
       "  mean time:        2.443 μs (7.08% GC)\n",
       "  maximum time:     366.406 μs (98.66% GC)\n",
       "  --------------\n",
       "  samples:          10000\n",
       "  evals/sample:     9"
      ]
     },
     "execution_count": 18,
     "metadata": {},
     "output_type": "execute_result"
    }
   ],
   "source": [
    "@benchmark BSplineBasis(p,k,6.3)"
   ]
  },
  {
   "cell_type": "code",
   "execution_count": null,
   "metadata": {},
   "outputs": [],
   "source": []
  },
  {
   "cell_type": "code",
   "execution_count": 4,
   "metadata": {},
   "outputs": [
    {
     "data": {
      "text/plain": [
       "15×275 Array{Float64,2}:\n",
       "  1.3273e-6   6.63648e-6   1.99094e-5  …   0.0          0.0       \n",
       " -0.0        -0.0         -0.0             0.0          0.0       \n",
       "  0.0         0.0          0.0            -0.0         -0.0       \n",
       "  0.0         0.0          0.0            -0.0         -0.0       \n",
       "  0.0         0.0          0.0            -0.0         -0.0       \n",
       "  0.0         0.0          0.0         …  -0.0         -0.0       \n",
       " -0.0        -0.0         -0.0             0.0          0.0       \n",
       "  0.0         0.0          0.0            -0.0         -0.0       \n",
       " -0.0        -0.0         -0.0             0.0          0.0       \n",
       " -0.0        -0.0         -0.0             0.0          0.0       \n",
       " -0.0        -0.0         -0.0         …   0.0          0.0       \n",
       "  0.0         0.0          0.0            -0.0         -0.0       \n",
       " -0.0        -0.0         -0.0             0.0          0.0       \n",
       "  0.0         0.0          0.0            -0.0         -0.0       \n",
       "  0.0         0.0          0.0             3.05892e-8   6.11784e-9"
      ]
     },
     "execution_count": 4,
     "metadata": {},
     "output_type": "execute_result"
    }
   ],
   "source": [
    "A=BSplineCoefficient(k,p, k′,p′)"
   ]
  },
  {
   "cell_type": "code",
   "execution_count": 5,
   "metadata": {},
   "outputs": [
    {
     "data": {
      "text/plain": [
       "15-element Array{Float64,1}:\n",
       " 5.757812193918081e-6 \n",
       " 0.20118578872851872  \n",
       " 0.5644028620147034   \n",
       " 0.23085933737782743  \n",
       " 0.0035462540667566115\n",
       " 0.0                  \n",
       " 0.0                  \n",
       " 0.0                  \n",
       " 0.0                  \n",
       " 0.0                  \n",
       " 0.0                  \n",
       " 0.0                  \n",
       " 0.0                  \n",
       " 0.0                  \n",
       " 0.0                  "
      ]
     },
     "execution_count": 5,
     "metadata": {},
     "output_type": "execute_result"
    }
   ],
   "source": [
    "t=6\n",
    "BSplineBasis(p,k,t)"
   ]
  },
  {
   "cell_type": "code",
   "execution_count": 6,
   "metadata": {},
   "outputs": [
    {
     "data": {
      "text/plain": [
       "15-element Array{Float64,1}:\n",
       " 5.7578121939510535e-6\n",
       " 0.20118578872851894  \n",
       " 0.564402862014703    \n",
       " 0.23085933737782752  \n",
       " 0.0035462540667566644\n",
       " 0.0                  \n",
       " 0.0                  \n",
       " 0.0                  \n",
       " 0.0                  \n",
       " 0.0                  \n",
       " 0.0                  \n",
       " 0.0                  \n",
       " 0.0                  \n",
       " 0.0                  \n",
       " 0.0                  "
      ]
     },
     "execution_count": 6,
     "metadata": {},
     "output_type": "execute_result"
    }
   ],
   "source": [
    "A*BSplineBasis(p′,k′,t)"
   ]
  },
  {
   "cell_type": "code",
   "execution_count": 50,
   "metadata": {},
   "outputs": [
    {
     "data": {
      "text/plain": [
       "BenchmarkTools.Trial: \n",
       "  memory estimate:  13.27 KiB\n",
       "  allocs estimate:  28\n",
       "  --------------\n",
       "  minimum time:     3.494 μs (0.00% GC)\n",
       "  median time:      3.832 μs (0.00% GC)\n",
       "  mean time:        4.615 μs (9.37% GC)\n",
       "  maximum time:     227.898 μs (97.08% GC)\n",
       "  --------------\n",
       "  samples:          10000\n",
       "  evals/sample:     8"
      ]
     },
     "execution_count": 50,
     "metadata": {},
     "output_type": "execute_result"
    }
   ],
   "source": [
    "@benchmark Bspline′(3,k,5)"
   ]
  },
  {
   "cell_type": "code",
   "execution_count": 51,
   "metadata": {},
   "outputs": [
    {
     "data": {
      "text/plain": [
       "BenchmarkTools.Trial: \n",
       "  memory estimate:  4.89 KiB\n",
       "  allocs estimate:  199\n",
       "  --------------\n",
       "  minimum time:     20.679 μs (0.00% GC)\n",
       "  median time:      21.881 μs (0.00% GC)\n",
       "  mean time:        22.826 μs (0.73% GC)\n",
       "  maximum time:     1.692 ms (98.51% GC)\n",
       "  --------------\n",
       "  samples:          10000\n",
       "  evals/sample:     1"
      ]
     },
     "execution_count": 51,
     "metadata": {},
     "output_type": "execute_result"
    }
   ],
   "source": [
    "@benchmark [Ḃs(i,3,k,5) for i ∈ 1:length(k)-3-1]"
   ]
  },
  {
   "cell_type": "code",
   "execution_count": null,
   "metadata": {},
   "outputs": [],
   "source": []
  },
  {
   "cell_type": "code",
   "execution_count": null,
   "metadata": {},
   "outputs": [],
   "source": []
  },
  {
   "cell_type": "code",
   "execution_count": null,
   "metadata": {},
   "outputs": [],
   "source": []
  },
  {
   "cell_type": "code",
   "execution_count": null,
   "metadata": {},
   "outputs": [],
   "source": [
    "Bspline′(3,k,5)-[Ḃs(i,3,k,5)"
   ]
  },
  {
   "cell_type": "code",
   "execution_count": null,
   "metadata": {},
   "outputs": [],
   "source": []
  },
  {
   "cell_type": "code",
   "execution_count": 60,
   "metadata": {},
   "outputs": [
    {
     "data": {
      "text/plain": [
       "BenchmarkTools.Trial: \n",
       "  memory estimate:  2.50 KiB\n",
       "  allocs estimate:  3\n",
       "  --------------\n",
       "  minimum time:     24.546 μs (0.00% GC)\n",
       "  median time:      24.967 μs (0.00% GC)\n",
       "  mean time:        25.492 μs (0.00% GC)\n",
       "  maximum time:     64.751 μs (0.00% GC)\n",
       "  --------------\n",
       "  samples:          10000\n",
       "  evals/sample:     1"
      ]
     },
     "execution_count": 60,
     "metadata": {},
     "output_type": "execute_result"
    }
   ],
   "source": [
    "@benchmark [Bs(i,3,k,3.8) for i ∈ 1:length(k)-4]"
   ]
  },
  {
   "cell_type": "code",
   "execution_count": 61,
   "metadata": {},
   "outputs": [
    {
     "data": {
      "text/plain": [
       "BenchmarkTools.Trial: \n",
       "  memory estimate:  18.27 KiB\n",
       "  allocs estimate:  22\n",
       "  --------------\n",
       "  minimum time:     4.228 μs (0.00% GC)\n",
       "  median time:      4.903 μs (0.00% GC)\n",
       "  mean time:        6.247 μs (16.91% GC)\n",
       "  maximum time:     449.644 μs (96.95% GC)\n",
       "  --------------\n",
       "  samples:          10000\n",
       "  evals/sample:     7"
      ]
     },
     "execution_count": 61,
     "metadata": {},
     "output_type": "execute_result"
    }
   ],
   "source": [
    "@benchmark Bspline(3,k,3.8)"
   ]
  },
  {
   "cell_type": "code",
   "execution_count": 68,
   "metadata": {},
   "outputs": [
    {
     "data": {
      "text/plain": [
       "BenchmarkTools.Trial: \n",
       "  memory estimate:  18.27 KiB\n",
       "  allocs estimate:  22\n",
       "  --------------\n",
       "  minimum time:     4.914 μs (0.00% GC)\n",
       "  median time:      5.524 μs (0.00% GC)\n",
       "  mean time:        6.689 μs (15.28% GC)\n",
       "  maximum time:     501.482 μs (96.57% GC)\n",
       "  --------------\n",
       "  samples:          10000\n",
       "  evals/sample:     6"
      ]
     },
     "execution_count": 68,
     "metadata": {},
     "output_type": "execute_result"
    }
   ],
   "source": [
    "@benchmark Bspline2(3,k,3.8)"
   ]
  },
  {
   "cell_type": "code",
   "execution_count": 67,
   "metadata": {},
   "outputs": [
    {
     "data": {
      "text/plain": [
       "BenchmarkTools.Trial: \n",
       "  memory estimate:  18.33 KiB\n",
       "  allocs estimate:  24\n",
       "  --------------\n",
       "  minimum time:     4.812 μs (0.00% GC)\n",
       "  median time:      5.428 μs (0.00% GC)\n",
       "  mean time:        6.585 μs (14.72% GC)\n",
       "  maximum time:     456.199 μs (96.45% GC)\n",
       "  --------------\n",
       "  samples:          10000\n",
       "  evals/sample:     6"
      ]
     },
     "execution_count": 67,
     "metadata": {},
     "output_type": "execute_result"
    }
   ],
   "source": [
    "@benchmark Bspline3(3,k,3.8)"
   ]
  },
  {
   "cell_type": "code",
   "execution_count": null,
   "metadata": {},
   "outputs": [],
   "source": []
  },
  {
   "cell_type": "code",
   "execution_count": null,
   "metadata": {},
   "outputs": [],
   "source": []
  },
  {
   "cell_type": "code",
   "execution_count": 33,
   "metadata": {},
   "outputs": [
    {
     "data": {
      "text/plain": [
       "4.3137973137973145"
      ]
     },
     "execution_count": 33,
     "metadata": {},
     "output_type": "execute_result"
    }
   ],
   "source": [
    "24.731/5.733"
   ]
  },
  {
   "cell_type": "code",
   "execution_count": null,
   "metadata": {},
   "outputs": [],
   "source": []
  },
  {
   "cell_type": "code",
   "execution_count": null,
   "metadata": {},
   "outputs": [],
   "source": []
  },
  {
   "cell_type": "code",
   "execution_count": 36,
   "metadata": {},
   "outputs": [
    {
     "data": {
      "text/plain": [
       "BenchmarkTools.Trial: \n",
       "  memory estimate:  18.27 KiB\n",
       "  allocs estimate:  22\n",
       "  --------------\n",
       "  minimum time:     4.951 μs (0.00% GC)\n",
       "  median time:      5.732 μs (0.00% GC)\n",
       "  mean time:        6.754 μs (13.98% GC)\n",
       "  maximum time:     415.472 μs (97.15% GC)\n",
       "  --------------\n",
       "  samples:          10000\n",
       "  evals/sample:     6"
      ]
     },
     "execution_count": 36,
     "metadata": {},
     "output_type": "execute_result"
    }
   ],
   "source": [
    "@benchmark Bspline2(3,k,4)"
   ]
  },
  {
   "cell_type": "code",
   "execution_count": null,
   "metadata": {},
   "outputs": [],
   "source": []
  },
  {
   "cell_type": "code",
   "execution_count": null,
   "metadata": {},
   "outputs": [],
   "source": []
  },
  {
   "cell_type": "code",
   "execution_count": 41,
   "metadata": {},
   "outputs": [
    {
     "data": {
      "text/plain": [
       "replace (generic function with 9 methods)"
      ]
     },
     "execution_count": 41,
     "metadata": {},
     "output_type": "execute_result"
    }
   ],
   "source": [
    "replace(1,3)"
   ]
  },
  {
   "cell_type": "code",
   "execution_count": 40,
   "metadata": {},
   "outputs": [
    {
     "name": "stdout",
     "output_type": "stream",
     "text": [
      "search: \u001b[0m\u001b[1mi\u001b[22m\u001b[0m\u001b[1ms\u001b[22m\u001b[0m\u001b[1mn\u001b[22m\u001b[0m\u001b[1ma\u001b[22m\u001b[0m\u001b[1mn\u001b[22m \u001b[0m\u001b[1mi\u001b[22m\u001b[0m\u001b[1ms\u001b[22mi\u001b[0m\u001b[1mn\u001b[22mv\u001b[0m\u001b[1ma\u001b[22mria\u001b[0m\u001b[1mn\u001b[22mt \u001b[0m\u001b[1mi\u001b[22m\u001b[0m\u001b[1ms\u001b[22mi\u001b[0m\u001b[1mn\u001b[22mter\u001b[0m\u001b[1ma\u001b[22mctive \u001b[0m\u001b[1mi\u001b[22m\u001b[0m\u001b[1ms\u001b[22msub\u001b[0m\u001b[1mn\u001b[22morm\u001b[0m\u001b[1ma\u001b[22ml d\u001b[0m\u001b[1mi\u001b[22m\u001b[0m\u001b[1ms\u001b[22mti\u001b[0m\u001b[1mn\u001b[22mguish\u001b[0m\u001b[1ma\u001b[22mble_colors\n",
      "\n"
     ]
    },
    {
     "data": {
      "text/latex": [
       "\\begin{verbatim}\n",
       "isnan(f) -> Bool\n",
       "\\end{verbatim}\n",
       "Test whether a floating point number is not a number (NaN).\n",
       "\n"
      ],
      "text/markdown": [
       "```\n",
       "isnan(f) -> Bool\n",
       "```\n",
       "\n",
       "Test whether a floating point number is not a number (NaN).\n"
      ],
      "text/plain": [
       "\u001b[36m  isnan(f) -> Bool\u001b[39m\n",
       "\n",
       "  Test whether a floating point number is not a number (NaN)."
      ]
     },
     "execution_count": 40,
     "metadata": {},
     "output_type": "execute_result"
    }
   ],
   "source": [
    "?isnan"
   ]
  },
  {
   "cell_type": "code",
   "execution_count": null,
   "metadata": {},
   "outputs": [],
   "source": []
  },
  {
   "cell_type": "code",
   "execution_count": 21,
   "metadata": {},
   "outputs": [
    {
     "data": {
      "text/plain": [
       "5-element Array{Float64,1}:\n",
       " 0.88696523210706   \n",
       " 0.8617377950737883 \n",
       " 0.8030712506175677 \n",
       " 0.8009584203347702 \n",
       " 0.17219100978394208"
      ]
     },
     "execution_count": 21,
     "metadata": {},
     "output_type": "execute_result"
    }
   ],
   "source": [
    "a=rand(3)\n",
    "b=rand(4)\n",
    "c=rand(5)"
   ]
  },
  {
   "cell_type": "code",
   "execution_count": null,
   "metadata": {},
   "outputs": [],
   "source": [
    "∧"
   ]
  },
  {
   "cell_type": "code",
   "execution_count": null,
   "metadata": {},
   "outputs": [],
   "source": []
  },
  {
   "cell_type": "code",
   "execution_count": 54,
   "metadata": {},
   "outputs": [
    {
     "data": {
      "text/plain": [
       "⊗ (generic function with 1 method)"
      ]
     },
     "execution_count": 54,
     "metadata": {},
     "output_type": "execute_result"
    }
   ],
   "source": [
    "function ⊗(X,Y)\n",
    "    m=size(X)\n",
    "    n=size(Y)\n",
    "    reshape(reshape(X,length(X))*reshape(Y,length(Y))', m...,n...)\n",
    "end"
   ]
  },
  {
   "cell_type": "code",
   "execution_count": 55,
   "metadata": {},
   "outputs": [
    {
     "data": {
      "text/plain": [
       "2×4×3 Array{Int64,3}:\n",
       "[:, :, 1] =\n",
       " 1  0  0  0\n",
       " 0  0  0  0\n",
       "\n",
       "[:, :, 2] =\n",
       " 0  0  0  0\n",
       " 0  0  0  0\n",
       "\n",
       "[:, :, 3] =\n",
       " 0  0  0  0\n",
       " 0  0  0  0"
      ]
     },
     "execution_count": 55,
     "metadata": {},
     "output_type": "execute_result"
    }
   ],
   "source": [
    "[1,0] ⊗ [1,0,0,0] ⊗ [1,0,0]"
   ]
  },
  {
   "cell_type": "code",
   "execution_count": null,
   "metadata": {},
   "outputs": [],
   "source": []
  },
  {
   "cell_type": "code",
   "execution_count": null,
   "metadata": {},
   "outputs": [],
   "source": []
  },
  {
   "cell_type": "code",
   "execution_count": 29,
   "metadata": {},
   "outputs": [],
   "source": [
    "abc=reshape(reshape(a*b',3*4)*c',3,4,5);"
   ]
  },
  {
   "cell_type": "code",
   "execution_count": 31,
   "metadata": {},
   "outputs": [
    {
     "data": {
      "text/plain": [
       "0.4551482051732934"
      ]
     },
     "execution_count": 31,
     "metadata": {},
     "output_type": "execute_result"
    }
   ],
   "source": [
    "abc[2,1,3]"
   ]
  },
  {
   "cell_type": "code",
   "execution_count": 32,
   "metadata": {},
   "outputs": [
    {
     "data": {
      "text/plain": [
       "0.4551482051732934"
      ]
     },
     "execution_count": 32,
     "metadata": {},
     "output_type": "execute_result"
    }
   ],
   "source": [
    "a[2]*b[1]*c[3]"
   ]
  },
  {
   "cell_type": "code",
   "execution_count": null,
   "metadata": {},
   "outputs": [],
   "source": []
  },
  {
   "cell_type": "code",
   "execution_count": null,
   "metadata": {},
   "outputs": [],
   "source": []
  },
  {
   "cell_type": "code",
   "execution_count": 29,
   "metadata": {},
   "outputs": [
    {
     "data": {
      "text/plain": [
       "4.955516014234876"
      ]
     },
     "execution_count": 29,
     "metadata": {},
     "output_type": "execute_result"
    }
   ],
   "source": [
    "8.355/1.686"
   ]
  },
  {
   "cell_type": "code",
   "execution_count": null,
   "metadata": {},
   "outputs": [],
   "source": []
  },
  {
   "cell_type": "code",
   "execution_count": 32,
   "metadata": {},
   "outputs": [
    {
     "data": {
      "text/plain": [
       "296-element Array{Float64,1}:\n",
       " 0.0                 \n",
       " 0.0                 \n",
       " 0.0                 \n",
       " 0.010679021664528285\n",
       " 0.13088567669325832 \n",
       " 0.5347286551039898  \n",
       " 0.32370664653822356 \n",
       " 0.0                 \n",
       " 0.0                 \n",
       " 0.0                 \n",
       " 0.0                 \n",
       " 0.0                 \n",
       " 0.0                 \n",
       " ⋮                   \n",
       " 0.0                 \n",
       " 0.0                 \n",
       " 0.0                 \n",
       " 0.0                 \n",
       " 0.0                 \n",
       " 0.0                 \n",
       " 0.0                 \n",
       " 0.0                 \n",
       " 0.0                 \n",
       " 0.0                 \n",
       " 0.0                 \n",
       " 0.0                 "
      ]
     },
     "execution_count": 32,
     "metadata": {},
     "output_type": "execute_result"
    }
   ],
   "source": [
    "Bspline(3,k,4)"
   ]
  },
  {
   "cell_type": "code",
   "execution_count": null,
   "metadata": {},
   "outputs": [],
   "source": []
  },
  {
   "cell_type": "code",
   "execution_count": 33,
   "metadata": {},
   "outputs": [
    {
     "data": {
      "text/plain": [
       "BenchmarkTools.Trial: \n",
       "  memory estimate:  18.27 KiB\n",
       "  allocs estimate:  22\n",
       "  --------------\n",
       "  minimum time:     4.174 μs (0.00% GC)\n",
       "  median time:      5.007 μs (0.00% GC)\n",
       "  mean time:        6.071 μs (15.34% GC)\n",
       "  maximum time:     394.913 μs (97.96% GC)\n",
       "  --------------\n",
       "  samples:          10000\n",
       "  evals/sample:     7"
      ]
     },
     "execution_count": 33,
     "metadata": {},
     "output_type": "execute_result"
    }
   ],
   "source": [
    "@benchmark Bspline(3,k,4)"
   ]
  },
  {
   "cell_type": "code",
   "execution_count": 35,
   "metadata": {},
   "outputs": [
    {
     "data": {
      "text/plain": [
       "BenchmarkTools.Trial: \n",
       "  memory estimate:  18.27 KiB\n",
       "  allocs estimate:  22\n",
       "  --------------\n",
       "  minimum time:     5.023 μs (0.00% GC)\n",
       "  median time:      5.706 μs (0.00% GC)\n",
       "  mean time:        6.790 μs (13.96% GC)\n",
       "  maximum time:     521.471 μs (97.92% GC)\n",
       "  --------------\n",
       "  samples:          10000\n",
       "  evals/sample:     6"
      ]
     },
     "execution_count": 35,
     "metadata": {},
     "output_type": "execute_result"
    }
   ],
   "source": [
    "@benchmark Bspline2(3,k,4)"
   ]
  },
  {
   "cell_type": "code",
   "execution_count": null,
   "metadata": {},
   "outputs": [],
   "source": []
  },
  {
   "cell_type": "code",
   "execution_count": 149,
   "metadata": {},
   "outputs": [
    {
     "data": {
      "text/plain": [
       "BenchmarkTools.Trial: \n",
       "  memory estimate:  512 bytes\n",
       "  allocs estimate:  3\n",
       "  --------------\n",
       "  minimum time:     4.483 μs (0.00% GC)\n",
       "  median time:      4.713 μs (0.00% GC)\n",
       "  mean time:        4.983 μs (0.00% GC)\n",
       "  maximum time:     30.169 μs (0.00% GC)\n",
       "  --------------\n",
       "  samples:          10000\n",
       "  evals/sample:     7"
      ]
     },
     "execution_count": 149,
     "metadata": {},
     "output_type": "execute_result"
    }
   ],
   "source": [
    "@benchmark [Bs(i,3,k,6) for i ∈ 1:length(k)-4]"
   ]
  },
  {
   "cell_type": "code",
   "execution_count": null,
   "metadata": {},
   "outputs": [],
   "source": []
  },
  {
   "cell_type": "code",
   "execution_count": 131,
   "metadata": {},
   "outputs": [
    {
     "data": {
      "text/plain": [
       "0.0"
      ]
     },
     "execution_count": 131,
     "metadata": {},
     "output_type": "execute_result"
    }
   ],
   "source": [
    "Bs(3,3,k,11)"
   ]
  },
  {
   "cell_type": "code",
   "execution_count": 127,
   "metadata": {},
   "outputs": [
    {
     "data": {
      "text/plain": [
       "BenchmarkTools.Trial: \n",
       "  memory estimate:  0 bytes\n",
       "  allocs estimate:  0\n",
       "  --------------\n",
       "  minimum time:     15.618 s (0.00% GC)\n",
       "  median time:      15.618 s (0.00% GC)\n",
       "  mean time:        15.618 s (0.00% GC)\n",
       "  maximum time:     15.618 s (0.00% GC)\n",
       "  --------------\n",
       "  samples:          1\n",
       "  evals/sample:     1"
      ]
     },
     "execution_count": 127,
     "metadata": {},
     "output_type": "execute_result"
    }
   ],
   "source": [
    "@benchmark Bs(3,3,k,11)"
   ]
  },
  {
   "cell_type": "code",
   "execution_count": 128,
   "metadata": {},
   "outputs": [
    {
     "data": {
      "text/plain": [
       "BenchmarkTools.Trial: \n",
       "  memory estimate:  17.41 KiB\n",
       "  allocs estimate:  187\n",
       "  --------------\n",
       "  minimum time:     4.411 μs (0.00% GC)\n",
       "  median time:      4.971 μs (0.00% GC)\n",
       "  mean time:        6.515 μs (18.95% GC)\n",
       "  maximum time:     601.284 μs (98.18% GC)\n",
       "  --------------\n",
       "  samples:          10000\n",
       "  evals/sample:     7"
      ]
     },
     "execution_count": 128,
     "metadata": {},
     "output_type": "execute_result"
    }
   ],
   "source": [
    "@benchmark Bspline(3,30,k,11)"
   ]
  },
  {
   "cell_type": "code",
   "execution_count": 130,
   "metadata": {},
   "outputs": [
    {
     "data": {
      "text/plain": [
       "0.21767468873898255"
      ]
     },
     "execution_count": 130,
     "metadata": {},
     "output_type": "execute_result"
    }
   ],
   "source": [
    "Bspline(3,30,k,11)"
   ]
  },
  {
   "cell_type": "code",
   "execution_count": null,
   "metadata": {},
   "outputs": [],
   "source": []
  },
  {
   "cell_type": "code",
   "execution_count": null,
   "metadata": {},
   "outputs": [],
   "source": []
  },
  {
   "cell_type": "code",
   "execution_count": null,
   "metadata": {},
   "outputs": [],
   "source": []
  },
  {
   "cell_type": "code",
   "execution_count": null,
   "metadata": {},
   "outputs": [],
   "source": []
  },
  {
   "cell_type": "code",
   "execution_count": 76,
   "metadata": {},
   "outputs": [
    {
     "data": {
      "text/plain": [
       "46-element Array{Float64,1}:\n",
       " 0.0                 \n",
       " 0.2672670770378333  \n",
       " 0.5360725708325609  \n",
       " 0.1897151173333329  \n",
       " 0.006945234796272792\n",
       " 0.0                 \n",
       " 0.0                 \n",
       " 0.0                 \n",
       " 0.0                 \n",
       " 0.0                 \n",
       " 0.0                 \n",
       " 0.0                 \n",
       " 0.0                 \n",
       " ⋮                   \n",
       " 0.0                 \n",
       " 0.0                 \n",
       " 0.0                 \n",
       " 0.0                 \n",
       " 0.0                 \n",
       " 0.0                 \n",
       " 0.0                 \n",
       " 0.0                 \n",
       " 0.0                 \n",
       " 0.0                 \n",
       " 0.0                 \n",
       " 0.0                 "
      ]
     },
     "execution_count": 76,
     "metadata": {},
     "output_type": "execute_result"
    }
   ],
   "source": [
    "[Bs(i,3,k₂,5) for i ∈ 1:length(k₂)-4]"
   ]
  },
  {
   "cell_type": "code",
   "execution_count": null,
   "metadata": {},
   "outputs": [],
   "source": []
  },
  {
   "cell_type": "code",
   "execution_count": null,
   "metadata": {},
   "outputs": [],
   "source": []
  },
  {
   "cell_type": "code",
   "execution_count": 8,
   "metadata": {},
   "outputs": [],
   "source": [
    "using BenchmarkTools"
   ]
  },
  {
   "cell_type": "code",
   "execution_count": 9,
   "metadata": {},
   "outputs": [
    {
     "data": {
      "text/plain": [
       "BenchmarkTools.Trial: \n",
       "  memory estimate:  0 bytes\n",
       "  allocs estimate:  0\n",
       "  --------------\n",
       "  minimum time:     93.504 ns (0.00% GC)\n",
       "  median time:      95.189 ns (0.00% GC)\n",
       "  mean time:        100.478 ns (0.00% GC)\n",
       "  maximum time:     220.149 ns (0.00% GC)\n",
       "  --------------\n",
       "  samples:          10000\n",
       "  evals/sample:     952"
      ]
     },
     "execution_count": 9,
     "metadata": {},
     "output_type": "execute_result"
    }
   ],
   "source": [
    "@benchmark Bs(10,3,k₁,10)"
   ]
  },
  {
   "cell_type": "code",
   "execution_count": 10,
   "metadata": {},
   "outputs": [
    {
     "data": {
      "text/plain": [
       "BenchmarkTools.Trial: \n",
       "  memory estimate:  0 bytes\n",
       "  allocs estimate:  0\n",
       "  --------------\n",
       "  minimum time:     438.141 ns (0.00% GC)\n",
       "  median time:      459.293 ns (0.00% GC)\n",
       "  mean time:        476.640 ns (0.00% GC)\n",
       "  maximum time:     1.335 μs (0.00% GC)\n",
       "  --------------\n",
       "  samples:          10000\n",
       "  evals/sample:     198"
      ]
     },
     "execution_count": 10,
     "metadata": {},
     "output_type": "execute_result"
    }
   ],
   "source": [
    "@benchmark Bs(10,5,k₂,10)"
   ]
  },
  {
   "cell_type": "code",
   "execution_count": 11,
   "metadata": {},
   "outputs": [
    {
     "data": {
      "text/plain": [
       "BenchmarkTools.Trial: \n",
       "  memory estimate:  0 bytes\n",
       "  allocs estimate:  0\n",
       "  --------------\n",
       "  minimum time:     1.820 μs (0.00% GC)\n",
       "  median time:      1.849 μs (0.00% GC)\n",
       "  mean time:        1.889 μs (0.00% GC)\n",
       "  maximum time:     9.743 μs (0.00% GC)\n",
       "  --------------\n",
       "  samples:          10000\n",
       "  evals/sample:     10"
      ]
     },
     "execution_count": 11,
     "metadata": {},
     "output_type": "execute_result"
    }
   ],
   "source": [
    "@benchmark Bs(10,7,k₂,10)"
   ]
  },
  {
   "cell_type": "code",
   "execution_count": 12,
   "metadata": {},
   "outputs": [
    {
     "data": {
      "text/plain": [
       "BenchmarkTools.Trial: \n",
       "  memory estimate:  0 bytes\n",
       "  allocs estimate:  0\n",
       "  --------------\n",
       "  minimum time:     13.791 s (0.00% GC)\n",
       "  median time:      13.791 s (0.00% GC)\n",
       "  mean time:        13.791 s (0.00% GC)\n",
       "  maximum time:     13.791 s (0.00% GC)\n",
       "  --------------\n",
       "  samples:          1\n",
       "  evals/sample:     1"
      ]
     },
     "execution_count": 12,
     "metadata": {},
     "output_type": "execute_result"
    }
   ],
   "source": [
    "@benchmark Bs(10,30,k₂,10)"
   ]
  },
  {
   "cell_type": "code",
   "execution_count": null,
   "metadata": {},
   "outputs": [],
   "source": []
  },
  {
   "cell_type": "code",
   "execution_count": null,
   "metadata": {},
   "outputs": [],
   "source": []
  },
  {
   "cell_type": "code",
   "execution_count": null,
   "metadata": {},
   "outputs": [],
   "source": []
  },
  {
   "cell_type": "code",
   "execution_count": null,
   "metadata": {},
   "outputs": [],
   "source": []
  },
  {
   "cell_type": "code",
   "execution_count": null,
   "metadata": {},
   "outputs": [],
   "source": []
  },
  {
   "cell_type": "code",
   "execution_count": 630,
   "metadata": {},
   "outputs": [
    {
     "data": {
      "text/plain": [
       "1.6589766381685647e-6"
      ]
     },
     "execution_count": 630,
     "metadata": {},
     "output_type": "execute_result"
    }
   ],
   "source": [
    "norm(Bcoeff(k,p,k′,p′)-Bcoeff2(k,p,k′,p′))"
   ]
  },
  {
   "cell_type": "code",
   "execution_count": 631,
   "metadata": {},
   "outputs": [
    {
     "data": {
      "text/plain": [
       "1.6589766381685647e-6"
      ]
     },
     "execution_count": 631,
     "metadata": {},
     "output_type": "execute_result"
    }
   ],
   "source": [
    "norm(Bcoeff(k,p,k′,p′)-Bcoeff3(k,p,k′,p′))"
   ]
  },
  {
   "cell_type": "code",
   "execution_count": null,
   "metadata": {},
   "outputs": [],
   "source": []
  },
  {
   "cell_type": "code",
   "execution_count": null,
   "metadata": {},
   "outputs": [],
   "source": []
  },
  {
   "cell_type": "code",
   "execution_count": 616,
   "metadata": {},
   "outputs": [
    {
     "data": {
      "text/plain": [
       "BsCoef (generic function with 1 method)"
      ]
     },
     "execution_count": 616,
     "metadata": {},
     "output_type": "execute_result"
    }
   ],
   "source": []
  },
  {
   "cell_type": "code",
   "execution_count": 622,
   "metadata": {},
   "outputs": [
    {
     "data": {
      "text/plain": [
       "16×36 Array{Float64,2}:\n",
       "  0.0317713     0.251025      0.594924     …  0.0       0.0  0.0     \n",
       "  2.19006e-16  -6.93575e-14   2.70936e-12     0.0       0.0  0.0     \n",
       "  1.42314e-17   1.52304e-15  -6.04162e-14     0.0       0.0  0.0     \n",
       " -1.21495e-19  -4.10709e-17   1.61653e-15     0.0       0.0  0.0     \n",
       "  1.27868e-26  -2.0945e-24    8.15201e-23     0.0       0.0  0.0     \n",
       " -1.47897e-27   2.42258e-25  -9.42893e-24  …  0.0       0.0  0.0     \n",
       " -2.58515e-27   4.23451e-25  -1.64812e-23     0.0       0.0  0.0     \n",
       "  0.0           0.0           0.0             0.0       0.0  0.0     \n",
       "  0.0           0.0           0.0             0.0       0.0  0.0     \n",
       "  0.0           0.0           0.0             0.0       0.0  0.0     \n",
       " -1.14804e-42   1.8805e-40   -7.31912e-39  …  0.0       0.0  0.0     \n",
       "  2.8701e-43   -4.70125e-41   1.82978e-39     0.0       0.0  0.0     \n",
       "  0.0           0.0           0.0             0.0       0.0  0.0     \n",
       "  2.93898e-40  -4.81408e-38   1.87369e-36     0.0       0.0  0.0     \n",
       "  0.0           0.0           0.0             0.674567  0.0  0.0     \n",
       "  0.0           0.0           0.0          …  0.325433  1.0  0.032257"
      ]
     },
     "execution_count": 622,
     "metadata": {},
     "output_type": "execute_result"
    }
   ],
   "source": [
    "vcat([BsCoef(t->Bs(i,p,k,t),p′,k′) for i ∈ 1:length(k)-p-1]'...)"
   ]
  },
  {
   "cell_type": "code",
   "execution_count": 623,
   "metadata": {},
   "outputs": [
    {
     "data": {
      "text/plain": [
       "16×36 Transpose{Float64,Array{Float64,2}}:\n",
       "  0.0317713     0.251025      0.594924     …  0.0       0.0  0.0     \n",
       "  2.19006e-16  -6.93575e-14   2.70936e-12     0.0       0.0  0.0     \n",
       "  1.42314e-17   1.52304e-15  -6.04162e-14     0.0       0.0  0.0     \n",
       " -1.21495e-19  -4.10709e-17   1.61653e-15     0.0       0.0  0.0     \n",
       "  1.27868e-26  -2.0945e-24    8.15201e-23     0.0       0.0  0.0     \n",
       " -1.47897e-27   2.42258e-25  -9.42893e-24  …  0.0       0.0  0.0     \n",
       " -2.58515e-27   4.23451e-25  -1.64812e-23     0.0       0.0  0.0     \n",
       "  0.0           0.0           0.0             0.0       0.0  0.0     \n",
       "  0.0           0.0           0.0             0.0       0.0  0.0     \n",
       "  0.0           0.0           0.0             0.0       0.0  0.0     \n",
       " -1.14804e-42   1.8805e-40   -7.31912e-39  …  0.0       0.0  0.0     \n",
       "  2.8701e-43   -4.70125e-41   1.82978e-39     0.0       0.0  0.0     \n",
       "  0.0           0.0           0.0             0.0       0.0  0.0     \n",
       "  2.93898e-40  -4.81408e-38   1.87369e-36     0.0       0.0  0.0     \n",
       "  0.0           0.0           0.0             0.674567  0.0  0.0     \n",
       "  0.0           0.0           0.0          …  0.325433  1.0  0.032257"
      ]
     },
     "execution_count": 623,
     "metadata": {},
     "output_type": "execute_result"
    }
   ],
   "source": [
    "Bcoeff2(k,p,k′,p′)"
   ]
  },
  {
   "cell_type": "code",
   "execution_count": null,
   "metadata": {},
   "outputs": [],
   "source": []
  },
  {
   "cell_type": "code",
   "execution_count": null,
   "metadata": {},
   "outputs": [],
   "source": []
  },
  {
   "cell_type": "code",
   "execution_count": 679,
   "metadata": {},
   "outputs": [],
   "source": []
  },
  {
   "cell_type": "code",
   "execution_count": null,
   "metadata": {},
   "outputs": [],
   "source": []
  },
  {
   "cell_type": "code",
   "execution_count": 684,
   "metadata": {},
   "outputs": [
    {
     "data": {
      "text/plain": [
       "knot([1.0, 1.0, 1.0, 2.0, 2.0, 2.0])"
      ]
     },
     "execution_count": 684,
     "metadata": {},
     "output_type": "execute_result"
    }
   ],
   "source": [
    "3knot([1,2])"
   ]
  },
  {
   "cell_type": "code",
   "execution_count": null,
   "metadata": {},
   "outputs": [],
   "source": []
  },
  {
   "cell_type": "code",
   "execution_count": 675,
   "metadata": {},
   "outputs": [
    {
     "data": {
      "text/plain": [
       "* (generic function with 407 methods)"
      ]
     },
     "execution_count": 675,
     "metadata": {},
     "output_type": "execute_result"
    }
   ],
   "source": []
  },
  {
   "cell_type": "code",
   "execution_count": 706,
   "metadata": {},
   "outputs": [
    {
     "data": {
      "text/plain": [
       "issubset (generic function with 10 methods)"
      ]
     },
     "execution_count": 706,
     "metadata": {},
     "output_type": "execute_result"
    }
   ],
   "source": []
  },
  {
   "cell_type": "code",
   "execution_count": 711,
   "metadata": {},
   "outputs": [
    {
     "data": {
      "text/plain": [
       "false"
      ]
     },
     "execution_count": 711,
     "metadata": {},
     "output_type": "execute_result"
    }
   ],
   "source": [
    "knot([2,3,3,5]) ⊆ knot([1,2,3,5])"
   ]
  },
  {
   "cell_type": "code",
   "execution_count": 712,
   "metadata": {},
   "outputs": [
    {
     "data": {
      "text/plain": [
       "true"
      ]
     },
     "execution_count": 712,
     "metadata": {},
     "output_type": "execute_result"
    }
   ],
   "source": [
    "knot([2,3,5]) ⊆ knot([1,2,3,5])"
   ]
  },
  {
   "cell_type": "code",
   "execution_count": 691,
   "metadata": {},
   "outputs": [],
   "source": [
    "\n"
   ]
  },
  {
   "cell_type": "code",
   "execution_count": null,
   "metadata": {},
   "outputs": [],
   "source": []
  },
  {
   "cell_type": "code",
   "execution_count": null,
   "metadata": {},
   "outputs": [],
   "source": []
  },
  {
   "cell_type": "code",
   "execution_count": null,
   "metadata": {},
   "outputs": [],
   "source": [
    "findall(x->x==2, A)"
   ]
  },
  {
   "cell_type": "code",
   "execution_count": null,
   "metadata": {},
   "outputs": [],
   "source": []
  },
  {
   "cell_type": "code",
   "execution_count": null,
   "metadata": {},
   "outputs": [],
   "source": [
    "BSp"
   ]
  },
  {
   "cell_type": "code",
   "execution_count": 424,
   "metadata": {},
   "outputs": [
    {
     "data": {
      "image/svg+xml": [
       "<?xml version=\"1.0\" encoding=\"utf-8\"?>\n",
       "<svg xmlns=\"http://www.w3.org/2000/svg\" xmlns:xlink=\"http://www.w3.org/1999/xlink\" width=\"600\" height=\"400\" viewBox=\"0 0 2400 1600\">\n",
       "<defs>\n",
       "  <clipPath id=\"clip0300\">\n",
       "    <rect x=\"0\" y=\"0\" width=\"2400\" height=\"1600\"/>\n",
       "  </clipPath>\n",
       "</defs>\n",
       "<path clip-path=\"url(#clip0300)\" d=\"\n",
       "M0 1600 L2400 1600 L2400 0 L0 0  Z\n",
       "  \" fill=\"#ffffff\" fill-rule=\"evenodd\" fill-opacity=\"1\"/>\n",
       "<defs>\n",
       "  <clipPath id=\"clip0301\">\n",
       "    <rect x=\"480\" y=\"0\" width=\"1681\" height=\"1600\"/>\n",
       "  </clipPath>\n",
       "</defs>\n",
       "<path clip-path=\"url(#clip0300)\" d=\"\n",
       "M153.898 1487.47 L2352.76 1487.47 L2352.76 47.2441 L153.898 47.2441  Z\n",
       "  \" fill=\"#ffffff\" fill-rule=\"evenodd\" fill-opacity=\"1\"/>\n",
       "<defs>\n",
       "  <clipPath id=\"clip0302\">\n",
       "    <rect x=\"153\" y=\"47\" width=\"2200\" height=\"1441\"/>\n",
       "  </clipPath>\n",
       "</defs>\n",
       "<polyline clip-path=\"url(#clip0302)\" style=\"stroke:#000000; stroke-width:2; stroke-opacity:0.1; fill:none\" points=\"\n",
       "  216.13,1487.47 216.13,47.2441 \n",
       "  \"/>\n",
       "<polyline clip-path=\"url(#clip0302)\" style=\"stroke:#000000; stroke-width:2; stroke-opacity:0.1; fill:none\" points=\"\n",
       "  907.595,1487.47 907.595,47.2441 \n",
       "  \"/>\n",
       "<polyline clip-path=\"url(#clip0302)\" style=\"stroke:#000000; stroke-width:2; stroke-opacity:0.1; fill:none\" points=\"\n",
       "  1599.06,1487.47 1599.06,47.2441 \n",
       "  \"/>\n",
       "<polyline clip-path=\"url(#clip0302)\" style=\"stroke:#000000; stroke-width:2; stroke-opacity:0.1; fill:none\" points=\"\n",
       "  2290.52,1487.47 2290.52,47.2441 \n",
       "  \"/>\n",
       "<polyline clip-path=\"url(#clip0302)\" style=\"stroke:#000000; stroke-width:2; stroke-opacity:0.1; fill:none\" points=\"\n",
       "  153.898,1446.71 2352.76,1446.71 \n",
       "  \"/>\n",
       "<polyline clip-path=\"url(#clip0302)\" style=\"stroke:#000000; stroke-width:2; stroke-opacity:0.1; fill:none\" points=\"\n",
       "  153.898,1084.36 2352.76,1084.36 \n",
       "  \"/>\n",
       "<polyline clip-path=\"url(#clip0302)\" style=\"stroke:#000000; stroke-width:2; stroke-opacity:0.1; fill:none\" points=\"\n",
       "  153.898,722.016 2352.76,722.016 \n",
       "  \"/>\n",
       "<polyline clip-path=\"url(#clip0302)\" style=\"stroke:#000000; stroke-width:2; stroke-opacity:0.1; fill:none\" points=\"\n",
       "  153.898,359.668 2352.76,359.668 \n",
       "  \"/>\n",
       "<polyline clip-path=\"url(#clip0300)\" style=\"stroke:#000000; stroke-width:4; stroke-opacity:1; fill:none\" points=\"\n",
       "  153.898,1487.47 2352.76,1487.47 \n",
       "  \"/>\n",
       "<polyline clip-path=\"url(#clip0300)\" style=\"stroke:#000000; stroke-width:4; stroke-opacity:1; fill:none\" points=\"\n",
       "  153.898,1487.47 153.898,47.2441 \n",
       "  \"/>\n",
       "<polyline clip-path=\"url(#clip0300)\" style=\"stroke:#000000; stroke-width:4; stroke-opacity:1; fill:none\" points=\"\n",
       "  216.13,1487.47 216.13,1470.19 \n",
       "  \"/>\n",
       "<polyline clip-path=\"url(#clip0300)\" style=\"stroke:#000000; stroke-width:4; stroke-opacity:1; fill:none\" points=\"\n",
       "  907.595,1487.47 907.595,1470.19 \n",
       "  \"/>\n",
       "<polyline clip-path=\"url(#clip0300)\" style=\"stroke:#000000; stroke-width:4; stroke-opacity:1; fill:none\" points=\"\n",
       "  1599.06,1487.47 1599.06,1470.19 \n",
       "  \"/>\n",
       "<polyline clip-path=\"url(#clip0300)\" style=\"stroke:#000000; stroke-width:4; stroke-opacity:1; fill:none\" points=\"\n",
       "  2290.52,1487.47 2290.52,1470.19 \n",
       "  \"/>\n",
       "<polyline clip-path=\"url(#clip0300)\" style=\"stroke:#000000; stroke-width:4; stroke-opacity:1; fill:none\" points=\"\n",
       "  153.898,1446.71 180.284,1446.71 \n",
       "  \"/>\n",
       "<polyline clip-path=\"url(#clip0300)\" style=\"stroke:#000000; stroke-width:4; stroke-opacity:1; fill:none\" points=\"\n",
       "  153.898,1084.36 180.284,1084.36 \n",
       "  \"/>\n",
       "<polyline clip-path=\"url(#clip0300)\" style=\"stroke:#000000; stroke-width:4; stroke-opacity:1; fill:none\" points=\"\n",
       "  153.898,722.016 180.284,722.016 \n",
       "  \"/>\n",
       "<polyline clip-path=\"url(#clip0300)\" style=\"stroke:#000000; stroke-width:4; stroke-opacity:1; fill:none\" points=\"\n",
       "  153.898,359.668 180.284,359.668 \n",
       "  \"/>\n",
       "<g clip-path=\"url(#clip0300)\">\n",
       "<text style=\"fill:#000000; fill-opacity:1; font-family:Arial,Helvetica Neue,Helvetica,sans-serif; font-size:48px; text-anchor:middle;\" transform=\"rotate(0, 216.13, 1541.47)\" x=\"216.13\" y=\"1541.47\">2</text>\n",
       "</g>\n",
       "<g clip-path=\"url(#clip0300)\">\n",
       "<text style=\"fill:#000000; fill-opacity:1; font-family:Arial,Helvetica Neue,Helvetica,sans-serif; font-size:48px; text-anchor:middle;\" transform=\"rotate(0, 907.595, 1541.47)\" x=\"907.595\" y=\"1541.47\">3</text>\n",
       "</g>\n",
       "<g clip-path=\"url(#clip0300)\">\n",
       "<text style=\"fill:#000000; fill-opacity:1; font-family:Arial,Helvetica Neue,Helvetica,sans-serif; font-size:48px; text-anchor:middle;\" transform=\"rotate(0, 1599.06, 1541.47)\" x=\"1599.06\" y=\"1541.47\">4</text>\n",
       "</g>\n",
       "<g clip-path=\"url(#clip0300)\">\n",
       "<text style=\"fill:#000000; fill-opacity:1; font-family:Arial,Helvetica Neue,Helvetica,sans-serif; font-size:48px; text-anchor:middle;\" transform=\"rotate(0, 2290.52, 1541.47)\" x=\"2290.52\" y=\"1541.47\">5</text>\n",
       "</g>\n",
       "<g clip-path=\"url(#clip0300)\">\n",
       "<text style=\"fill:#000000; fill-opacity:1; font-family:Arial,Helvetica Neue,Helvetica,sans-serif; font-size:48px; text-anchor:end;\" transform=\"rotate(0, 129.898, 1464.21)\" x=\"129.898\" y=\"1464.21\">0.0</text>\n",
       "</g>\n",
       "<g clip-path=\"url(#clip0300)\">\n",
       "<text style=\"fill:#000000; fill-opacity:1; font-family:Arial,Helvetica Neue,Helvetica,sans-serif; font-size:48px; text-anchor:end;\" transform=\"rotate(0, 129.898, 1101.86)\" x=\"129.898\" y=\"1101.86\">0.2</text>\n",
       "</g>\n",
       "<g clip-path=\"url(#clip0300)\">\n",
       "<text style=\"fill:#000000; fill-opacity:1; font-family:Arial,Helvetica Neue,Helvetica,sans-serif; font-size:48px; text-anchor:end;\" transform=\"rotate(0, 129.898, 739.516)\" x=\"129.898\" y=\"739.516\">0.4</text>\n",
       "</g>\n",
       "<g clip-path=\"url(#clip0300)\">\n",
       "<text style=\"fill:#000000; fill-opacity:1; font-family:Arial,Helvetica Neue,Helvetica,sans-serif; font-size:48px; text-anchor:end;\" transform=\"rotate(0, 129.898, 377.168)\" x=\"129.898\" y=\"377.168\">0.6</text>\n",
       "</g>\n",
       "<polyline clip-path=\"url(#clip0302)\" style=\"stroke:#009af9; stroke-width:4; stroke-opacity:1; fill:none\" points=\"\n",
       "  216.13,1446.71 221.194,1446.66 226.259,1446.52 231.323,1446.28 236.388,1445.94 283.217,1438.19 330.046,1422.13 376.875,1397.76 423.704,1365.08 479.988,1314.81 \n",
       "  536.273,1252.53 583.861,1190.51 631.449,1119.91 683.142,1033.49 734.836,936.949 782.493,838.975 830.15,732.394 881.244,608.57 932.337,478.332 961.935,409.65 \n",
       "  991.534,347.607 1021.13,292.203 1050.73,243.438 1077.03,205.674 1103.34,173.153 1129.64,145.875 1155.94,123.841 1179.01,108.834 1202.08,97.859 1225.14,90.9162 \n",
       "  1248.21,88.0053 1273.36,89.4262 1298.5,95.6398 1323.65,106.646 1348.8,122.446 1374.1,143.174 1399.39,168.753 1424.69,199.182 1449.99,234.461 1477.96,279.111 \n",
       "  1505.93,329.691 1533.9,386.198 1561.87,448.635 1615.09,582.363 1668.32,713.219 1723.66,837.895 1779,950.966 1825.58,1037.15 1872.17,1115.11 1929.05,1199.15 \n",
       "  1985.92,1270.92 2039.39,1327.22 2092.85,1372.68 2135.68,1401.29 2178.51,1422.94 2221.33,1437.64 2264.16,1445.4 2270.75,1445.97 2277.34,1446.38 2283.93,1446.63 \n",
       "  2290.52,1446.71 \n",
       "  \"/>\n",
       "<path clip-path=\"url(#clip0300)\" d=\"\n",
       "M1989.93 251.724 L2280.76 251.724 L2280.76 130.764 L1989.93 130.764  Z\n",
       "  \" fill=\"#ffffff\" fill-rule=\"evenodd\" fill-opacity=\"1\"/>\n",
       "<polyline clip-path=\"url(#clip0300)\" style=\"stroke:#000000; stroke-width:4; stroke-opacity:1; fill:none\" points=\"\n",
       "  1989.93,251.724 2280.76,251.724 2280.76,130.764 1989.93,130.764 1989.93,251.724 \n",
       "  \"/>\n",
       "<polyline clip-path=\"url(#clip0300)\" style=\"stroke:#009af9; stroke-width:4; stroke-opacity:1; fill:none\" points=\"\n",
       "  2013.93,191.244 2157.93,191.244 \n",
       "  \"/>\n",
       "<g clip-path=\"url(#clip0300)\">\n",
       "<text style=\"fill:#000000; fill-opacity:1; font-family:Arial,Helvetica Neue,Helvetica,sans-serif; font-size:48px; text-anchor:start;\" transform=\"rotate(0, 2181.93, 208.744)\" x=\"2181.93\" y=\"208.744\">y1</text>\n",
       "</g>\n",
       "</svg>\n"
      ]
     },
     "execution_count": 424,
     "metadata": {},
     "output_type": "execute_result"
    }
   ],
   "source": [
    "p=2\n",
    "f=[t->BSplineBasis(i,p,k,t) for i ∈ 1:length(k)-p-1]\n",
    "plot(f, k[1], k[end])"
   ]
  },
  {
   "cell_type": "code",
   "execution_count": 235,
   "metadata": {},
   "outputs": [
    {
     "data": {
      "image/svg+xml": [
       "<?xml version=\"1.0\" encoding=\"utf-8\"?>\n",
       "<svg xmlns=\"http://www.w3.org/2000/svg\" xmlns:xlink=\"http://www.w3.org/1999/xlink\" width=\"600\" height=\"400\" viewBox=\"0 0 2400 1600\">\n",
       "<defs>\n",
       "  <clipPath id=\"clip7900\">\n",
       "    <rect x=\"0\" y=\"0\" width=\"2400\" height=\"1600\"/>\n",
       "  </clipPath>\n",
       "</defs>\n",
       "<path clip-path=\"url(#clip7900)\" d=\"\n",
       "M0 1600 L2400 1600 L2400 0 L0 0  Z\n",
       "  \" fill=\"#ffffff\" fill-rule=\"evenodd\" fill-opacity=\"1\"/>\n",
       "<defs>\n",
       "  <clipPath id=\"clip7901\">\n",
       "    <rect x=\"480\" y=\"0\" width=\"1681\" height=\"1600\"/>\n",
       "  </clipPath>\n",
       "</defs>\n",
       "<path clip-path=\"url(#clip7900)\" d=\"\n",
       "M153.898 1487.47 L2352.76 1487.47 L2352.76 47.2441 L153.898 47.2441  Z\n",
       "  \" fill=\"#ffffff\" fill-rule=\"evenodd\" fill-opacity=\"1\"/>\n",
       "<defs>\n",
       "  <clipPath id=\"clip7902\">\n",
       "    <rect x=\"153\" y=\"47\" width=\"2200\" height=\"1441\"/>\n",
       "  </clipPath>\n",
       "</defs>\n",
       "<polyline clip-path=\"url(#clip7902)\" style=\"stroke:#000000; stroke-width:2; stroke-opacity:0.1; fill:none\" points=\"\n",
       "  515.044,1487.47 515.044,47.2441 \n",
       "  \"/>\n",
       "<polyline clip-path=\"url(#clip7902)\" style=\"stroke:#000000; stroke-width:2; stroke-opacity:0.1; fill:none\" points=\"\n",
       "  1060.56,1487.47 1060.56,47.2441 \n",
       "  \"/>\n",
       "<polyline clip-path=\"url(#clip7902)\" style=\"stroke:#000000; stroke-width:2; stroke-opacity:0.1; fill:none\" points=\"\n",
       "  1606.07,1487.47 1606.07,47.2441 \n",
       "  \"/>\n",
       "<polyline clip-path=\"url(#clip7902)\" style=\"stroke:#000000; stroke-width:2; stroke-opacity:0.1; fill:none\" points=\"\n",
       "  2151.59,1487.47 2151.59,47.2441 \n",
       "  \"/>\n",
       "<polyline clip-path=\"url(#clip7902)\" style=\"stroke:#000000; stroke-width:2; stroke-opacity:0.1; fill:none\" points=\"\n",
       "  153.898,1446.71 2352.76,1446.71 \n",
       "  \"/>\n",
       "<polyline clip-path=\"url(#clip7902)\" style=\"stroke:#000000; stroke-width:2; stroke-opacity:0.1; fill:none\" points=\"\n",
       "  153.898,1165.65 2352.76,1165.65 \n",
       "  \"/>\n",
       "<polyline clip-path=\"url(#clip7902)\" style=\"stroke:#000000; stroke-width:2; stroke-opacity:0.1; fill:none\" points=\"\n",
       "  153.898,884.595 2352.76,884.595 \n",
       "  \"/>\n",
       "<polyline clip-path=\"url(#clip7902)\" style=\"stroke:#000000; stroke-width:2; stroke-opacity:0.1; fill:none\" points=\"\n",
       "  153.898,603.535 2352.76,603.535 \n",
       "  \"/>\n",
       "<polyline clip-path=\"url(#clip7902)\" style=\"stroke:#000000; stroke-width:2; stroke-opacity:0.1; fill:none\" points=\"\n",
       "  153.898,322.476 2352.76,322.476 \n",
       "  \"/>\n",
       "<polyline clip-path=\"url(#clip7900)\" style=\"stroke:#000000; stroke-width:4; stroke-opacity:1; fill:none\" points=\"\n",
       "  153.898,1487.47 2352.76,1487.47 \n",
       "  \"/>\n",
       "<polyline clip-path=\"url(#clip7900)\" style=\"stroke:#000000; stroke-width:4; stroke-opacity:1; fill:none\" points=\"\n",
       "  153.898,1487.47 153.898,47.2441 \n",
       "  \"/>\n",
       "<polyline clip-path=\"url(#clip7900)\" style=\"stroke:#000000; stroke-width:4; stroke-opacity:1; fill:none\" points=\"\n",
       "  515.044,1487.47 515.044,1470.19 \n",
       "  \"/>\n",
       "<polyline clip-path=\"url(#clip7900)\" style=\"stroke:#000000; stroke-width:4; stroke-opacity:1; fill:none\" points=\"\n",
       "  1060.56,1487.47 1060.56,1470.19 \n",
       "  \"/>\n",
       "<polyline clip-path=\"url(#clip7900)\" style=\"stroke:#000000; stroke-width:4; stroke-opacity:1; fill:none\" points=\"\n",
       "  1606.07,1487.47 1606.07,1470.19 \n",
       "  \"/>\n",
       "<polyline clip-path=\"url(#clip7900)\" style=\"stroke:#000000; stroke-width:4; stroke-opacity:1; fill:none\" points=\"\n",
       "  2151.59,1487.47 2151.59,1470.19 \n",
       "  \"/>\n",
       "<polyline clip-path=\"url(#clip7900)\" style=\"stroke:#000000; stroke-width:4; stroke-opacity:1; fill:none\" points=\"\n",
       "  153.898,1446.71 180.284,1446.71 \n",
       "  \"/>\n",
       "<polyline clip-path=\"url(#clip7900)\" style=\"stroke:#000000; stroke-width:4; stroke-opacity:1; fill:none\" points=\"\n",
       "  153.898,1165.65 180.284,1165.65 \n",
       "  \"/>\n",
       "<polyline clip-path=\"url(#clip7900)\" style=\"stroke:#000000; stroke-width:4; stroke-opacity:1; fill:none\" points=\"\n",
       "  153.898,884.595 180.284,884.595 \n",
       "  \"/>\n",
       "<polyline clip-path=\"url(#clip7900)\" style=\"stroke:#000000; stroke-width:4; stroke-opacity:1; fill:none\" points=\"\n",
       "  153.898,603.535 180.284,603.535 \n",
       "  \"/>\n",
       "<polyline clip-path=\"url(#clip7900)\" style=\"stroke:#000000; stroke-width:4; stroke-opacity:1; fill:none\" points=\"\n",
       "  153.898,322.476 180.284,322.476 \n",
       "  \"/>\n",
       "<g clip-path=\"url(#clip7900)\">\n",
       "<text style=\"fill:#000000; fill-opacity:1; font-family:Arial,Helvetica Neue,Helvetica,sans-serif; font-size:48px; text-anchor:middle;\" transform=\"rotate(0, 515.044, 1541.47)\" x=\"515.044\" y=\"1541.47\">1</text>\n",
       "</g>\n",
       "<g clip-path=\"url(#clip7900)\">\n",
       "<text style=\"fill:#000000; fill-opacity:1; font-family:Arial,Helvetica Neue,Helvetica,sans-serif; font-size:48px; text-anchor:middle;\" transform=\"rotate(0, 1060.56, 1541.47)\" x=\"1060.56\" y=\"1541.47\">2</text>\n",
       "</g>\n",
       "<g clip-path=\"url(#clip7900)\">\n",
       "<text style=\"fill:#000000; fill-opacity:1; font-family:Arial,Helvetica Neue,Helvetica,sans-serif; font-size:48px; text-anchor:middle;\" transform=\"rotate(0, 1606.07, 1541.47)\" x=\"1606.07\" y=\"1541.47\">3</text>\n",
       "</g>\n",
       "<g clip-path=\"url(#clip7900)\">\n",
       "<text style=\"fill:#000000; fill-opacity:1; font-family:Arial,Helvetica Neue,Helvetica,sans-serif; font-size:48px; text-anchor:middle;\" transform=\"rotate(0, 2151.59, 1541.47)\" x=\"2151.59\" y=\"1541.47\">4</text>\n",
       "</g>\n",
       "<g clip-path=\"url(#clip7900)\">\n",
       "<text style=\"fill:#000000; fill-opacity:1; font-family:Arial,Helvetica Neue,Helvetica,sans-serif; font-size:48px; text-anchor:end;\" transform=\"rotate(0, 129.898, 1464.21)\" x=\"129.898\" y=\"1464.21\">0.0</text>\n",
       "</g>\n",
       "<g clip-path=\"url(#clip7900)\">\n",
       "<text style=\"fill:#000000; fill-opacity:1; font-family:Arial,Helvetica Neue,Helvetica,sans-serif; font-size:48px; text-anchor:end;\" transform=\"rotate(0, 129.898, 1183.15)\" x=\"129.898\" y=\"1183.15\">0.2</text>\n",
       "</g>\n",
       "<g clip-path=\"url(#clip7900)\">\n",
       "<text style=\"fill:#000000; fill-opacity:1; font-family:Arial,Helvetica Neue,Helvetica,sans-serif; font-size:48px; text-anchor:end;\" transform=\"rotate(0, 129.898, 902.095)\" x=\"129.898\" y=\"902.095\">0.4</text>\n",
       "</g>\n",
       "<g clip-path=\"url(#clip7900)\">\n",
       "<text style=\"fill:#000000; fill-opacity:1; font-family:Arial,Helvetica Neue,Helvetica,sans-serif; font-size:48px; text-anchor:end;\" transform=\"rotate(0, 129.898, 621.035)\" x=\"129.898\" y=\"621.035\">0.6</text>\n",
       "</g>\n",
       "<g clip-path=\"url(#clip7900)\">\n",
       "<text style=\"fill:#000000; fill-opacity:1; font-family:Arial,Helvetica Neue,Helvetica,sans-serif; font-size:48px; text-anchor:end;\" transform=\"rotate(0, 129.898, 339.976)\" x=\"129.898\" y=\"339.976\">0.8</text>\n",
       "</g>\n",
       "<polyline clip-path=\"url(#clip7902)\" style=\"stroke:#009af9; stroke-width:4; stroke-opacity:1; fill:none\" points=\"\n",
       "  216.13,1446.71 221.194,1446.22 226.259,1444.75 231.323,1442.3 236.388,1438.87 248.095,1427.18 259.802,1410.26 271.51,1388.09 283.217,1360.68 294.924,1328.04 \n",
       "  306.631,1290.15 318.339,1247.03 330.046,1198.66 341.753,1145.06 353.46,1086.21 365.168,1022.91 376.875,962.477 388.582,906.726 400.289,855.656 411.997,809.268 \n",
       "  423.704,767.56 437.775,723.626 451.846,686.455 465.917,656.046 479.988,632.4 494.06,615.516 508.131,605.395 522.202,602.036 536.273,605.441 548.17,613.595 \n",
       "  560.067,626.583 571.964,644.405 583.861,667.062 595.758,694.553 607.655,726.878 619.552,764.038 631.449,806.031 644.372,857.126 657.296,913.925 670.219,976.429 \n",
       "  683.142,1044.64 696.066,1118.55 708.989,1198.17 721.913,1283.49 734.836,1365.09 740.793,1393.58 746.75,1415.98 752.708,1432.28 758.665,1442.5 770.579,1446.71 \n",
       "  782.493,1446.71 806.322,1446.71 830.15,1446.71 881.244,1446.71 932.337,1446.71 991.534,1446.71 1050.73,1446.71 1155.94,1446.71 1248.21,1446.71 1348.8,1446.71 \n",
       "  1449.99,1446.71 1561.87,1446.71 1668.32,1446.71 1779,1446.71 1872.17,1446.71 1985.92,1446.71 2092.85,1446.71 2264.16,1446.71 2290.52,1446.71 \n",
       "  \"/>\n",
       "<polyline clip-path=\"url(#clip7902)\" style=\"stroke:#e26f46; stroke-width:4; stroke-opacity:1; fill:none\" points=\"\n",
       "  216.13,1446.71 221.194,1446.71 226.259,1446.71 231.323,1446.71 236.388,1446.71 283.217,1446.71 330.046,1446.71 353.46,1446.71 376.875,1444.17 400.289,1431.68 \n",
       "  423.704,1408.76 437.775,1389.97 451.846,1367.41 465.917,1341.09 479.988,1311 508.131,1239.53 536.273,1152.99 560.067,1068.07 583.861,972.384 607.655,865.929 \n",
       "  631.449,748.705 657.296,609.166 683.142,456.921 696.066,376.033 708.989,291.969 721.913,204.728 734.836,126.955 740.793,104.848 746.75,91.8649 752.708,88.0053 \n",
       "  758.665,93.2694 770.579,128.021 782.493,168.562 806.322,247.745 830.15,324.397 881.244,480.22 932.337,624.402 991.534,776.895 1050.73,913.763 1103.34,1022.28 \n",
       "  1155.94,1118.46 1202.08,1192.64 1248.21,1257.34 1298.5,1317.06 1348.8,1365.5 1399.39,1402.85 1449.99,1428.79 1561.87,1446.71 1668.32,1446.71 1779,1446.71 \n",
       "  1872.17,1446.71 1985.92,1446.71 2092.85,1446.71 2264.16,1446.71 2290.52,1446.71 \n",
       "  \"/>\n",
       "<polyline clip-path=\"url(#clip7902)\" style=\"stroke:#3da44d; stroke-width:4; stroke-opacity:1; fill:none\" points=\"\n",
       "  216.13,1446.71 236.388,1446.71 423.704,1446.71 536.273,1446.71 631.449,1446.71 657.296,1446.71 683.142,1446.71 696.066,1446.71 708.989,1446.71 721.913,1446.71 \n",
       "  734.836,1442.8 740.793,1436.42 746.75,1427 752.708,1414.55 758.665,1399.08 770.579,1360.14 782.493,1319.96 806.322,1242.67 830.15,1169.47 855.697,1095.55 \n",
       "  881.244,1026.34 906.79,961.849 932.337,902.065 961.935,838.69 991.534,781.641 1021.13,730.916 1050.73,686.515 1077.03,652.365 1103.34,623.21 1129.64,599.049 \n",
       "  1155.94,579.884 1179.01,567.188 1202.08,558.332 1225.14,553.318 1248.21,552.145 1273.36,555.242 1298.5,562.905 1323.65,575.134 1348.8,591.928 1374.1,613.429 \n",
       "  1399.39,639.549 1412.04,654.342 1424.69,670.29 1437.34,687.393 1449.99,705.651 1477.96,750.124 1505.93,800.246 1533.9,856.014 1561.87,914.676 1615.09,1018.13 \n",
       "  1668.32,1110.42 1695.99,1153.98 1723.66,1194.52 1751.33,1232.04 1779,1266.54 1825.58,1317.8 1872.17,1360.5 1900.61,1382.36 1929.05,1401.03 1957.48,1416.51 \n",
       "  1985.92,1428.79 2039.39,1443.26 2092.85,1446.71 2178.51,1446.71 2264.16,1446.71 2277.34,1446.71 2290.52,1446.71 \n",
       "  \"/>\n",
       "<polyline clip-path=\"url(#clip7902)\" style=\"stroke:#c271d2; stroke-width:4; stroke-opacity:1; fill:none\" points=\"\n",
       "  216.13,1446.71 236.388,1446.71 423.704,1446.71 536.273,1446.71 631.449,1446.71 734.836,1446.71 830.15,1440.98 881.244,1428.28 932.337,1408.38 991.534,1376.31 \n",
       "  1050.73,1334.57 1103.34,1289.35 1155.94,1236.5 1202.08,1183.87 1248.21,1125.36 1298.5,1054.88 1348.8,977.411 1399.39,892.44 1449.99,800.403 1505.93,690.42 \n",
       "  1561.87,575.345 1588.48,529.464 1615.09,491.806 1641.7,462.369 1668.32,441.154 1695.99,427.815 1723.66,423.364 1751.33,427.803 1779,441.13 1802.29,459.239 \n",
       "  1825.58,483.648 1848.88,514.354 1872.17,551.36 1900.61,605.079 1929.05,668.187 1957.48,740.683 1985.92,822.568 2012.65,908.103 2039.39,1001.93 2066.12,1104.06 \n",
       "  2092.85,1211.64 2103.56,1250.52 2114.26,1285.88 2124.97,1317.74 2135.68,1346.08 2146.39,1370.91 2157.09,1392.23 2167.8,1410.04 2178.51,1424.33 2199.92,1442.38 \n",
       "  2221.33,1446.71 2242.75,1446.71 2264.16,1446.71 2270.75,1446.71 2277.34,1446.71 2283.93,1446.71 2290.52,1446.71 \n",
       "  \"/>\n",
       "<polyline clip-path=\"url(#clip7902)\" style=\"stroke:#ac8d18; stroke-width:4; stroke-opacity:1; fill:none\" points=\"\n",
       "  216.13,1446.71 236.388,1446.71 423.704,1446.71 536.273,1446.71 631.449,1446.71 734.836,1446.71 830.15,1446.71 932.337,1446.71 1050.73,1446.71 1155.94,1446.71 \n",
       "  1248.21,1446.71 1348.8,1446.71 1449.99,1446.71 1505.93,1446.71 1561.87,1444.82 1588.48,1437.58 1615.09,1424.9 1641.7,1406.8 1668.32,1383.27 1695.99,1353.05 \n",
       "  1723.66,1316.96 1751.33,1275 1779,1227.17 1802.29,1182.36 1825.58,1133.39 1848.88,1080.27 1872.17,1022.98 1900.61,947.403 1929.05,865.627 1957.48,777.653 \n",
       "  1985.92,683.481 2012.65,589.304 2039.39,489.65 2052.75,437.768 2066.12,384.518 2079.48,329.898 2092.85,283.178 2098.2,270.883 2103.56,262.306 2108.91,257.448 \n",
       "  2114.26,256.308 2124.97,265.183 2135.68,288.933 2146.39,327.557 2157.09,381.054 2167.8,449.426 2178.51,532.672 2189.21,630.791 2199.92,743.785 2210.63,871.652 \n",
       "  2221.33,1011.09 2226.69,1075.89 2232.04,1135.48 2237.39,1189.85 2242.75,1239.01 2248.1,1282.94 2253.45,1321.67 2258.81,1355.18 2264.16,1383.47 2267.46,1398.29 \n",
       "  2270.75,1411.14 2274.05,1422.01 2277.34,1430.9 2280.64,1437.82 2283.93,1442.76 2287.23,1445.73 2290.52,1446.71 \n",
       "  \"/>\n",
       "<path clip-path=\"url(#clip7900)\" d=\"\n",
       "M1989.93 493.644 L2280.76 493.644 L2280.76 130.764 L1989.93 130.764  Z\n",
       "  \" fill=\"#ffffff\" fill-rule=\"evenodd\" fill-opacity=\"1\"/>\n",
       "<polyline clip-path=\"url(#clip7900)\" style=\"stroke:#000000; stroke-width:4; stroke-opacity:1; fill:none\" points=\"\n",
       "  1989.93,493.644 2280.76,493.644 2280.76,130.764 1989.93,130.764 1989.93,493.644 \n",
       "  \"/>\n",
       "<polyline clip-path=\"url(#clip7900)\" style=\"stroke:#009af9; stroke-width:4; stroke-opacity:1; fill:none\" points=\"\n",
       "  2013.93,191.244 2157.93,191.244 \n",
       "  \"/>\n",
       "<g clip-path=\"url(#clip7900)\">\n",
       "<text style=\"fill:#000000; fill-opacity:1; font-family:Arial,Helvetica Neue,Helvetica,sans-serif; font-size:48px; text-anchor:start;\" transform=\"rotate(0, 2181.93, 208.744)\" x=\"2181.93\" y=\"208.744\">y1</text>\n",
       "</g>\n",
       "<polyline clip-path=\"url(#clip7900)\" style=\"stroke:#e26f46; stroke-width:4; stroke-opacity:1; fill:none\" points=\"\n",
       "  2013.93,251.724 2157.93,251.724 \n",
       "  \"/>\n",
       "<g clip-path=\"url(#clip7900)\">\n",
       "<text style=\"fill:#000000; fill-opacity:1; font-family:Arial,Helvetica Neue,Helvetica,sans-serif; font-size:48px; text-anchor:start;\" transform=\"rotate(0, 2181.93, 269.224)\" x=\"2181.93\" y=\"269.224\">y2</text>\n",
       "</g>\n",
       "<polyline clip-path=\"url(#clip7900)\" style=\"stroke:#3da44d; stroke-width:4; stroke-opacity:1; fill:none\" points=\"\n",
       "  2013.93,312.204 2157.93,312.204 \n",
       "  \"/>\n",
       "<g clip-path=\"url(#clip7900)\">\n",
       "<text style=\"fill:#000000; fill-opacity:1; font-family:Arial,Helvetica Neue,Helvetica,sans-serif; font-size:48px; text-anchor:start;\" transform=\"rotate(0, 2181.93, 329.704)\" x=\"2181.93\" y=\"329.704\">y3</text>\n",
       "</g>\n",
       "<polyline clip-path=\"url(#clip7900)\" style=\"stroke:#c271d2; stroke-width:4; stroke-opacity:1; fill:none\" points=\"\n",
       "  2013.93,372.684 2157.93,372.684 \n",
       "  \"/>\n",
       "<g clip-path=\"url(#clip7900)\">\n",
       "<text style=\"fill:#000000; fill-opacity:1; font-family:Arial,Helvetica Neue,Helvetica,sans-serif; font-size:48px; text-anchor:start;\" transform=\"rotate(0, 2181.93, 390.184)\" x=\"2181.93\" y=\"390.184\">y4</text>\n",
       "</g>\n",
       "<polyline clip-path=\"url(#clip7900)\" style=\"stroke:#ac8d18; stroke-width:4; stroke-opacity:1; fill:none\" points=\"\n",
       "  2013.93,433.164 2157.93,433.164 \n",
       "  \"/>\n",
       "<g clip-path=\"url(#clip7900)\">\n",
       "<text style=\"fill:#000000; fill-opacity:1; font-family:Arial,Helvetica Neue,Helvetica,sans-serif; font-size:48px; text-anchor:start;\" transform=\"rotate(0, 2181.93, 450.664)\" x=\"2181.93\" y=\"450.664\">y5</text>\n",
       "</g>\n",
       "</svg>\n"
      ]
     },
     "execution_count": 235,
     "metadata": {},
     "output_type": "execute_result"
    }
   ],
   "source": [
    "n=length(k̄)-p-1\n",
    "f=[t->0+\n",
    "    Aᵖᵢⱼ[i,1]*(t-k̄[1])/(k̄[1+p]-k̄[1])*Bs(1,p-1,k̄,t)+\n",
    "    sum((\n",
    "            (Aᵖᵢⱼ[i,j]*(t-k̄[j])/(k̄[j+p]-k̄[j])+Aᵖᵢⱼ[i,j-1]*(k̄[j-1+p+1]-t)/(k̄[j-1+p+1]-k̄[j]))*Bs(j,p-1,k̄,t)\n",
    "            ) for j ∈ 2:n)+\n",
    "    Aᵖᵢⱼ[i,n]*(k̄[n+p+1]-t)/(k̄[n+p+1]-k̄[n+1])*Bs(n+1,p-1,k̄,t)\n",
    "    for i ∈ 1:length(k)-p-1]\n",
    "plot(f, k[1], k[end])"
   ]
  }
 ],
 "metadata": {
  "@webio": {
   "lastCommId": null,
   "lastKernelId": null
  },
  "kernelspec": {
   "display_name": "Julia 1.3.1",
   "language": "julia",
   "name": "julia-1.3"
  },
  "language_info": {
   "file_extension": ".jl",
   "mimetype": "application/julia",
   "name": "julia",
   "version": "1.3.1"
  }
 },
 "nbformat": 4,
 "nbformat_minor": 2
}
