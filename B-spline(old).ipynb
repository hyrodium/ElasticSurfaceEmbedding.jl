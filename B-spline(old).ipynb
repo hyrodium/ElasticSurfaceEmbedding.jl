{
 "cells": [
  {
   "cell_type": "code",
   "execution_count": 1,
   "metadata": {},
   "outputs": [
    {
     "name": "stderr",
     "output_type": "stream",
     "text": [
      "┌ Info: Precompiling BenchmarkTools [6e4b80f9-dd63-53aa-95a3-0cdb28fa8baf]\n",
      "└ @ Base loading.jl:1242\n",
      "┌ Info: Precompiling Plots [91a5bcdd-55d7-5caf-9e0b-520d859cae80]\n",
      "└ @ Base loading.jl:1242\n",
      "┌ Info: Precompiling Bspline [top-level]\n",
      "└ @ Base loading.jl:1242\n"
     ]
    },
    {
     "data": {
      "text/plain": [
       "Plots.GRBackend()"
      ]
     },
     "execution_count": 1,
     "metadata": {},
     "output_type": "execute_result"
    }
   ],
   "source": [
    "push!(LOAD_PATH, \".\")\n",
    "using BenchmarkTools\n",
    "using Plots\n",
    "using IntervalSets\n",
    "using Bspline\n",
    "gr()"
   ]
  },
  {
   "cell_type": "code",
   "execution_count": 34,
   "metadata": {},
   "outputs": [
    {
     "data": {
      "text/plain": [
       "2-element Array{Float64,1}:\n",
       " 0.39999999999999997\n",
       " 0.8999999999999999 "
      ]
     },
     "execution_count": 34,
     "metadata": {},
     "output_type": "execute_result"
    }
   ],
   "source": [
    "k₁=k₂=[-0.1,0,1,1.1]\n",
    "p₁=p₂=1\n",
    "p=[p₁,p₂]\n",
    "k=[k₁,k₂]\n",
    "\n",
    "a=[ifelse(i==1, 2*I₁, 3*I₂) for I₁ ∈ 0:1,  I₂ ∈ 0:1, i ∈ 1:2]\n",
    "M=Bs2mfd(p,k,a)\n",
    "\n",
    "t=[0.2,0.3]\n",
    "BsMapping(M,t)"
   ]
  },
  {
   "cell_type": "code",
   "execution_count": 44,
   "metadata": {},
   "outputs": [
    {
     "data": {
      "text/plain": [
       "Bs2mfd([3, 3], Array{Float64,1}[[-0.1, -0.1, -0.1, 0.0, 0.0, 0.0, 0.00015698682041787038, 0.0010670344744154736, 0.004953149588153405, 0.005117341668650521  …  0.9749593062152662, 0.9790048442833474, 0.9904991577965885, 0.9947070121266832, 1.0, 1.0, 1.0, 1.1, 1.1, 1.1], [-0.1, -0.1, -0.1, 0.0, 0.0, 0.0, 0.00216311454690854, 0.010857719734895133, 0.02290648716321919, 0.02538386486479638  …  0.9920132274382727, 0.9934374411705964, 0.9966079289387708, 0.9987901261423058, 1.0, 1.0, 1.0, 1.1, 1.1, 1.1]], [-5.585668662791811e-18 -1.1171337325583639e-17 … -1.1171337325583855e-17 -5.585668662791809e-18; 6.423393487604799e-17 1.2846786975209618e-16 … 1.2846786975209865e-16 6.423393487604797e-17; … ; 0.4444444444444363 0.8888888888888739 … 0.8888888888888911 0.44444444444443615; 0.2222222222222223 0.4444444444444452 … 0.4444444444444538 0.2222222222222222]\n",
       "\n",
       "[-8.379063361694201e-18 9.649359368542578e-17 … 0.6666666666667191 0.33333333333335263; -1.675812672318766e-17 1.9298718736853978e-16 … 1.3333333333174664 0.6666666666587193; … ; -1.6758126723387123e-17 1.929871873708368e-16 … 1.3333333333333366 0.6666666666666544; -8.379063361693716e-18 9.649359368542018e-17 … 0.6666666666666805 0.3333333333333333])"
      ]
     },
     "execution_count": 44,
     "metadata": {},
     "output_type": "execute_result"
    }
   ],
   "source": [
    "M′=href(pref(M,[2,2]),[[0.1,0.2,0.23,0.41,0.89],[0.1,0.2,0.23,0.34,0.41,0.89]])\n",
    "M′=href(pref(M,[2,2]),[rand(300),rand(300)])"
   ]
  },
  {
   "cell_type": "code",
   "execution_count": 45,
   "metadata": {},
   "outputs": [
    {
     "data": {
      "text/plain": [
       "BenchmarkTools.Trial: \n",
       "  memory estimate:  26.06 MiB\n",
       "  allocs estimate:  284597\n",
       "  --------------\n",
       "  minimum time:     25.201 ms (12.64% GC)\n",
       "  median time:      25.691 ms (12.41% GC)\n",
       "  mean time:        26.633 ms (14.31% GC)\n",
       "  maximum time:     38.406 ms (10.06% GC)\n",
       "  --------------\n",
       "  samples:          188\n",
       "  evals/sample:     1"
      ]
     },
     "execution_count": 45,
     "metadata": {},
     "output_type": "execute_result"
    }
   ],
   "source": [
    "t=rand(2)\n",
    "@benchmark BsMapping(M′,t)"
   ]
  },
  {
   "cell_type": "code",
   "execution_count": null,
   "metadata": {},
   "outputs": [],
   "source": []
  },
  {
   "cell_type": "code",
   "execution_count": null,
   "metadata": {},
   "outputs": [],
   "source": [
    "function BsMapping(B2::Bs2mfd,u)\n",
    "    p₁,p₂=p=B2.p\n",
    "    k₁,k₂=k=B2.k\n",
    "    a=B2.a\n",
    "    n₁,n₂=n=length.(k)-p.-1\n",
    "    return sum(Bs(I₁,p₁,k₁,u[1])*Bs(I₂,p₂,k₂,u[2])*a[I₁,I₂,:] for I₁ ∈ 1:n₁, I₂ ∈ 1:n₂)\n",
    "end"
   ]
  },
  {
   "cell_type": "code",
   "execution_count": 40,
   "metadata": {},
   "outputs": [
    {
     "data": {
      "text/plain": [
       "17.949425795053003"
      ]
     },
     "execution_count": 40,
     "metadata": {},
     "output_type": "execute_result"
    }
   ],
   "source": [
    "3.251 / 181.120*1000"
   ]
  },
  {
   "cell_type": "code",
   "execution_count": 46,
   "metadata": {},
   "outputs": [
    {
     "data": {
      "text/plain": [
       "24.4115490375802"
      ]
     },
     "execution_count": 46,
     "metadata": {},
     "output_type": "execute_result"
    }
   ],
   "source": [
    "1.091\\26.633"
   ]
  },
  {
   "cell_type": "code",
   "execution_count": null,
   "metadata": {},
   "outputs": [],
   "source": [
    "\\/\\/\\/"
   ]
  }
 ],
 "metadata": {
  "kernelspec": {
   "display_name": "Julia 1.2.0",
   "language": "julia",
   "name": "julia-1.2"
  },
  "language_info": {
   "file_extension": ".jl",
   "mimetype": "application/julia",
   "name": "julia",
   "version": "1.2.0"
  }
 },
 "nbformat": 4,
 "nbformat_minor": 2
}
