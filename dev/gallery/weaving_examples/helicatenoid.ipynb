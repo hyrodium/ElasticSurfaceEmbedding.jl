{
 "cells": [
  {
   "cell_type": "markdown",
   "source": [
    "Weaving a transformable curved surface from catenoid to helicoid."
   ],
   "metadata": {}
  },
  {
   "cell_type": "markdown",
   "source": [
    "![](../assets/helicatenoid.jpg)"
   ],
   "metadata": {}
  },
  {
   "cell_type": "markdown",
   "source": [
    "## Load packages"
   ],
   "metadata": {}
  },
  {
   "outputs": [],
   "cell_type": "code",
   "source": [
    "using IntervalSets\n",
    "using BasicBSpline\n",
    "using StaticArrays\n",
    "using ElasticSurfaceEmbedding"
   ],
   "metadata": {},
   "execution_count": 1
  },
  {
   "cell_type": "markdown",
   "source": [
    "## Define the shape of the surface (non-periodic direction)"
   ],
   "metadata": {}
  },
  {
   "outputs": [
    {
     "output_type": "execute_result",
     "data": {
      "text/plain": "Da (generic function with 1 method)"
     },
     "metadata": {},
     "execution_count": 2
    }
   ],
   "cell_type": "code",
   "source": [
    "ElasticSurfaceEmbedding.𝒑₍₀₎(u¹,u²) = SVector(cos(u²)*cosh(u¹),sin(u²)*cosh(u¹),u¹)\n",
    "n=9\n",
    "Da(n) = (-π/2..π/2,-π/(4n)..π/(4n))"
   ],
   "metadata": {},
   "execution_count": 2
  },
  {
   "cell_type": "markdown",
   "source": [
    "## Compute the shape of the embeddings"
   ],
   "metadata": {}
  },
  {
   "outputs": [
    {
     "name": "stdout",
     "output_type": "stream",
     "text": [
      "┌ Info: Strain - domain: [-1.5707963267948966, 1.5707963267948966]×[-0.08726646259971647, 0.08726646259971647]\n",
      "└ Predicted: (min: -0.0025384784982225715, max: 0.0012692392491112856)\n"
     ]
    },
    {
     "output_type": "execute_result",
     "data": {
      "text/plain": "1: Initial state - domain: [-1.5707963267948966, 1.5707963267948966]×[-0.08726646259971647, 0.08726646259971647]\n└─2: Newton onestep - residual norm: 3.6154e-02, Δa norm: 5.8360e-02, computation time: 58ms\n  └─3: Newton onestep - residual norm: 2.6140e-03, Δa norm: 3.5857e-02, computation time: 58ms\n    └─4: Newton onestep - residual norm: 1.5013e-04, Δa norm: 2.1307e-04, computation time: 58ms\n      └─5: Newton onestep - residual norm: 7.6163e-08, Δa norm: 1.5768e-07, computation time: 58ms\n        └─6: Newton onestep - residual norm: 6.0944e-14, Δa norm: 1.1495e-13, computation time: 58ms\n          └─7: Refinement - p₊:(0, 1), k₊:(Bool[], [0])\n            └─8: Newton onestep - residual norm: 2.4472e-03, Δa norm: 6.3782e-04, computation time: 200ms\n              └─9: 📌 Newton onestep - residual norm: 3.1109e-06, Δa norm: 1.5813e-06, computation time: 201ms\n"
     },
     "metadata": {},
     "execution_count": 3
    }
   ],
   "cell_type": "code",
   "source": [
    "show_strain(Da(n))\n",
    "\n",
    "steptree = initial_state(Da(n), n₁=33)\n",
    "newton_onestep!(steptree, fixingmethod=:fix3points)\n",
    "newton_onestep!(steptree)\n",
    "newton_onestep!(steptree)\n",
    "newton_onestep!(steptree)\n",
    "newton_onestep!(steptree)\n",
    "refinement!(steptree, p₊=(0,1), k₊=(EmptyKnotVector(), KnotVector([0])))\n",
    "newton_onestep!(steptree)\n",
    "newton_onestep!(steptree)\n",
    "pin!(steptree)"
   ],
   "metadata": {},
   "execution_count": 3
  },
  {
   "cell_type": "markdown",
   "source": [
    "## Export the shape in SVG format"
   ],
   "metadata": {}
  },
  {
   "outputs": [
    {
     "output_type": "execute_result",
     "data": {
      "text/plain": "1-element Vector{String}:\n \"helicatenoid-a/pinned/pinned-9.svg\""
     },
     "metadata": {},
     "execution_count": 4
    }
   ],
   "cell_type": "code",
   "source": [
    "export_pinned_steps(\"helicatenoid-a\", steptree, unitlength=(40,\"mm\"), mesh=(18,1))"
   ],
   "metadata": {},
   "execution_count": 4
  },
  {
   "cell_type": "markdown",
   "source": [
    "![](helicatenoid-a/pinned/pinned-9.svg)"
   ],
   "metadata": {}
  },
  {
   "cell_type": "markdown",
   "source": [
    "## Define the shape of the surface (periodic direction)"
   ],
   "metadata": {}
  },
  {
   "outputs": [
    {
     "name": "stdout",
     "output_type": "stream",
     "text": [
      "┌ Info: Strain - domain: [-3.141592653589793, 3.141592653589793]×[0.0, 0.17453292519943295]\n",
      "└ Predicted: (min: -0.0025192446028988627, max: 0.0012596223014494311)\n",
      "┌ Info: Strain - domain: [-3.141592653589793, 3.141592653589793]×[0.17453292519943295, 0.3490658503988659]\n",
      "└ Predicted: (min: -0.0023721456374501803, max: 0.0011860728187250893)\n",
      "┌ Info: Strain - domain: [-3.141592653589793, 3.141592653589793]×[0.3490658503988659, 0.5235987755982988]\n",
      "└ Predicted: (min: -0.0021105110486750235, max: 0.0010552555243375109)\n",
      "┌ Info: Strain - domain: [-3.141592653589793, 3.141592653589793]×[0.5235987755982988, 0.6981317007977318]\n",
      "└ Predicted: (min: -0.0017852175622718365, max: 0.0008926087811359181)\n",
      "┌ Info: Strain - domain: [-3.141592653589793, 3.141592653589793]×[0.6981317007977318, 0.8726646259971648]\n",
      "└ Predicted: (min: -0.0014467651124962513, max: 0.0007233825562481255)\n",
      "┌ Info: Strain - domain: [-3.141592653589793, 3.141592653589793]×[0.8726646259971648, 1.0471975511965976]\n",
      "└ Predicted: (min: -0.0011324094230442416, max: 0.0005662047115221195)\n",
      "┌ Info: Strain - domain: [-3.141592653589793, 3.141592653589793]×[1.0471975511965976, 1.2217304763960306]\n",
      "└ Predicted: (min: -0.0008625146964147976, max: 0.000431257348207397)\n",
      "┌ Info: Strain - domain: [-3.141592653589793, 3.141592653589793]×[1.2217304763960306, 1.3962634015954636]\n",
      "└ Predicted: (min: -0.0006434206242097736, max: 0.00032171031210488546)\n",
      "┌ Info: Strain - domain: [-3.141592653589793, 3.141592653589793]×[1.3962634015954636, 1.5707963267948966]\n",
      "└ Predicted: (min: -0.0004725795731298401, max: 0.0002362897865649191)\n"
     ]
    }
   ],
   "cell_type": "code",
   "source": [
    "ElasticSurfaceEmbedding.𝒑₍₀₎(u¹,u²) = SVector(cos(u¹)*cosh(u²),sin(u¹)*cosh(u²),u²)\n",
    "Db(i,n) = (-π..π,(i-1)*π/(2n)..(i)*π/(2n))\n",
    "\n",
    "# Check the maximum strain\n",
    "for i in 1:9\n",
    "    show_strain(Db(i,n))\n",
    "end\n",
    "\n",
    "# Numerical computing\n",
    "steptree = StepTree()\n",
    "for i in 1:9\n",
    "    initial_state!(steptree, Db(i,n), n₁=33)\n",
    "    newton_onestep!(steptree, fixingmethod=:fix3points)\n",
    "    newton_onestep!(steptree)\n",
    "    newton_onestep!(steptree)\n",
    "    newton_onestep!(steptree)\n",
    "    newton_onestep!(steptree)\n",
    "    refinement!(steptree, p₊=(0,1), k₊=(EmptyKnotVector(),KnotVector([(i-1/2)*π/(2n)])))\n",
    "    newton_onestep!(steptree)\n",
    "    newton_onestep!(steptree)\n",
    "    pin!(steptree)\n",
    "end"
   ],
   "metadata": {},
   "execution_count": 5
  },
  {
   "cell_type": "markdown",
   "source": [
    "## Export the shapes in SVG format"
   ],
   "metadata": {}
  },
  {
   "outputs": [
    {
     "output_type": "execute_result",
     "data": {
      "text/plain": "9-element Vector{String}:\n \"helicatenoid-b/pinned/pinned-9.svg\"\n \"helicatenoid-b/pinned/pinned-18.svg\"\n \"helicatenoid-b/pinned/pinned-27.svg\"\n \"helicatenoid-b/pinned/pinned-36.svg\"\n \"helicatenoid-b/pinned/pinned-45.svg\"\n \"helicatenoid-b/pinned/pinned-54.svg\"\n \"helicatenoid-b/pinned/pinned-63.svg\"\n \"helicatenoid-b/pinned/pinned-72.svg\"\n \"helicatenoid-b/pinned/pinned-81.svg\""
     },
     "metadata": {},
     "execution_count": 6
    }
   ],
   "cell_type": "code",
   "source": [
    "export_pinned_steps(\"helicatenoid-b\", steptree, unitlength=(40,\"mm\"), mesh=(36,1))"
   ],
   "metadata": {},
   "execution_count": 6
  },
  {
   "cell_type": "markdown",
   "source": [
    "![](helicatenoid-b/pinned/pinned-9.svg) ![](helicatenoid-b/pinned/pinned-18.svg) ![](helicatenoid-b/pinned/pinned-27.svg)\n",
    "![](helicatenoid-b/pinned/pinned-36.svg) ![](helicatenoid-b/pinned/pinned-45.svg) ![](helicatenoid-b/pinned/pinned-54.svg)\n",
    "![](helicatenoid-b/pinned/pinned-63.svg) ![](helicatenoid-b/pinned/pinned-72.svg) ![](helicatenoid-b/pinned/pinned-81.svg)"
   ],
   "metadata": {}
  },
  {
   "cell_type": "markdown",
   "source": [
    "---\n",
    "\n",
    "*This notebook was generated using [Literate.jl](https://github.com/fredrikekre/Literate.jl).*"
   ],
   "metadata": {}
  }
 ],
 "nbformat_minor": 3,
 "metadata": {
  "language_info": {
   "file_extension": ".jl",
   "mimetype": "application/julia",
   "name": "julia",
   "version": "1.9.1"
  },
  "kernelspec": {
   "name": "julia-1.9",
   "display_name": "Julia 1.9.1",
   "language": "julia"
  }
 },
 "nbformat": 4
}
